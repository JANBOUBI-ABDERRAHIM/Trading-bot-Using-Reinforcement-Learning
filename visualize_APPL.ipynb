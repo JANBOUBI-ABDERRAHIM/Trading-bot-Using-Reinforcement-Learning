{
 "cells": [
  {
   "cell_type": "code",
   "execution_count": null,
   "metadata": {},
   "outputs": [],
   "source": [
    "# from train import main"
   ]
  },
  {
   "cell_type": "code",
   "execution_count": null,
   "metadata": {},
   "outputs": [],
   "source": [
    "# train_stock = \"data/AAPL_Train.csv\"\n",
    "# val_stock = \"data/AAPL_Test.csv\"\n",
    "# strategy = \"dqn\"\n",
    "# window_size = 10\n",
    "# batch_size = 32\n",
    "# ep_count = 50\n",
    "# model_name = \"model_dqn_AAPL_epidodes_50\"\n",
    "# pretrained = False\n",
    "# debug = False"
   ]
  },
  {
   "cell_type": "code",
   "execution_count": null,
   "metadata": {},
   "outputs": [],
   "source": [
    "# main(train_stock, val_stock, window_size, batch_size,\n",
    "#         ep_count, strategy=strategy, model_name=model_name, \n",
    "#         pretrained=pretrained, debug=debug)"
   ]
  },
  {
   "cell_type": "markdown",
   "metadata": {},
   "source": [
    "# Visualization: Trading Session"
   ]
  },
  {
   "cell_type": "code",
   "execution_count": 5,
   "metadata": {},
   "outputs": [],
   "source": [
    "import pandas as pd\n",
    "import numpy as np\n",
    "\n",
    "import altair as alt\n",
    "import seaborn as sns"
   ]
  },
  {
   "cell_type": "markdown",
   "metadata": {},
   "source": [
    "### 1. Define parameters and Load model"
   ]
  },
  {
   "cell_type": "code",
   "execution_count": 31,
   "metadata": {},
   "outputs": [],
   "source": [
    "from trading_bot.agent import Agent\n",
    "\n",
    "model_name = 'model_dqn_AAPL_epidodes_50_30'\n",
    "# 50 ep = +$225.55\n",
    "# 30 ep = +$442.50\n",
    "# 20 ep = +$363.56\n",
    "# 10 ep = -$32.76\n",
    "test_stock = 'data/AAPL_Test.csv'\n",
    "window_size = 10\n",
    "debug = True\n",
    "\n",
    "agent = Agent(window_size, pretrained=True, model_name=model_name)"
   ]
  },
  {
   "cell_type": "markdown",
   "metadata": {},
   "source": [
    "### 2. Load test data"
   ]
  },
  {
   "cell_type": "code",
   "execution_count": 32,
   "metadata": {},
   "outputs": [
    {
     "data": {
      "text/html": [
       "<div>\n",
       "<style scoped>\n",
       "    .dataframe tbody tr th:only-of-type {\n",
       "        vertical-align: middle;\n",
       "    }\n",
       "\n",
       "    .dataframe tbody tr th {\n",
       "        vertical-align: top;\n",
       "    }\n",
       "\n",
       "    .dataframe thead th {\n",
       "        text-align: right;\n",
       "    }\n",
       "</style>\n",
       "<table border=\"1\" class=\"dataframe\">\n",
       "  <thead>\n",
       "    <tr style=\"text-align: right;\">\n",
       "      <th></th>\n",
       "      <th>date</th>\n",
       "      <th>actual</th>\n",
       "    </tr>\n",
       "  </thead>\n",
       "  <tbody>\n",
       "    <tr>\n",
       "      <th>0</th>\n",
       "      <td>2022-01-03</td>\n",
       "      <td>180.959732</td>\n",
       "    </tr>\n",
       "    <tr>\n",
       "      <th>1</th>\n",
       "      <td>2022-01-04</td>\n",
       "      <td>178.663086</td>\n",
       "    </tr>\n",
       "    <tr>\n",
       "      <th>2</th>\n",
       "      <td>2022-01-05</td>\n",
       "      <td>173.910660</td>\n",
       "    </tr>\n",
       "    <tr>\n",
       "      <th>3</th>\n",
       "      <td>2022-01-06</td>\n",
       "      <td>171.007507</td>\n",
       "    </tr>\n",
       "    <tr>\n",
       "      <th>4</th>\n",
       "      <td>2022-01-07</td>\n",
       "      <td>171.176544</td>\n",
       "    </tr>\n",
       "  </tbody>\n",
       "</table>\n",
       "</div>"
      ],
      "text/plain": [
       "        date      actual\n",
       "0 2022-01-03  180.959732\n",
       "1 2022-01-04  178.663086\n",
       "2 2022-01-05  173.910660\n",
       "3 2022-01-06  171.007507\n",
       "4 2022-01-07  171.176544"
      ]
     },
     "execution_count": 32,
     "metadata": {},
     "output_type": "execute_result"
    }
   ],
   "source": [
    "# read csv into dataframe\n",
    "df = pd.read_csv(test_stock)\n",
    "# filter out the desired features\n",
    "df = df[['Date', 'Adj Close']]\n",
    "# rename feature column names\n",
    "df = df.rename(columns={'Adj Close': 'actual', 'Date': 'date'})\n",
    "# convert dates from object to DateTime type\n",
    "dates = df['date']\n",
    "dates = pd.to_datetime(dates, infer_datetime_format=True)\n",
    "df['date'] = dates\n",
    "\n",
    "df.head()"
   ]
  },
  {
   "cell_type": "markdown",
   "metadata": {},
   "source": [
    "### 3. Running Eval"
   ]
  },
  {
   "cell_type": "code",
   "execution_count": 33,
   "metadata": {},
   "outputs": [
    {
     "name": "stderr",
     "output_type": "stream",
     "text": [
      "\u001b[32m2023-01-16 16:34:49\u001b[0m \u001b[35mDESKTOP-6JVVUQ4\u001b[0m \u001b[34mroot[10436]\u001b[0m \u001b[1;30mDEBUG\u001b[0m \u001b[32mswitching to TensorFlow for CPU\u001b[0m\n",
      "\u001b[32m2023-01-16 16:34:49\u001b[0m \u001b[35mDESKTOP-6JVVUQ4\u001b[0m \u001b[34mroot[10436]\u001b[0m \u001b[1;30mDEBUG\u001b[0m \u001b[32mBuy at: $180.96\u001b[0m\n"
     ]
    },
    {
     "name": "stdout",
     "output_type": "stream",
     "text": [
      "1/1 [==============================] - 0s 83ms/step\n"
     ]
    },
    {
     "name": "stderr",
     "output_type": "stream",
     "text": [
      "\u001b[32m2023-01-16 16:34:49\u001b[0m \u001b[35mDESKTOP-6JVVUQ4\u001b[0m \u001b[34mroot[10436]\u001b[0m \u001b[1;30mDEBUG\u001b[0m \u001b[32mSell at: $178.66 | Position: -$2.30\u001b[0m\n"
     ]
    },
    {
     "name": "stdout",
     "output_type": "stream",
     "text": [
      "1/1 [==============================] - 0s 26ms/step\n",
      "1/1 [==============================] - 0s 20ms/step\n",
      "1/1 [==============================] - 0s 22ms/step\n",
      "1/1 [==============================] - 0s 19ms/step\n",
      "1/1 [==============================] - 0s 25ms/step\n",
      "1/1 [==============================] - 0s 19ms/step\n",
      "1/1 [==============================] - 0s 27ms/step\n",
      "1/1 [==============================] - 0s 27ms/step\n",
      "1/1 [==============================] - 0s 27ms/step\n",
      "1/1 [==============================] - 0s 24ms/step\n"
     ]
    },
    {
     "name": "stderr",
     "output_type": "stream",
     "text": [
      "\u001b[32m2023-01-16 16:34:50\u001b[0m \u001b[35mDESKTOP-6JVVUQ4\u001b[0m \u001b[34mroot[10436]\u001b[0m \u001b[1;30mDEBUG\u001b[0m \u001b[32mBuy at: $165.27\u001b[0m\n"
     ]
    },
    {
     "name": "stdout",
     "output_type": "stream",
     "text": [
      "1/1 [==============================] - 0s 24ms/step\n"
     ]
    },
    {
     "name": "stderr",
     "output_type": "stream",
     "text": [
      "\u001b[32m2023-01-16 16:34:50\u001b[0m \u001b[35mDESKTOP-6JVVUQ4\u001b[0m \u001b[34mroot[10436]\u001b[0m \u001b[1;30mDEBUG\u001b[0m \u001b[32mSell at: $163.56 | Position: -$1.71\u001b[0m\n"
     ]
    },
    {
     "name": "stdout",
     "output_type": "stream",
     "text": [
      "1/1 [==============================] - 0s 25ms/step\n",
      "1/1 [==============================] - 0s 26ms/step\n",
      "1/1 [==============================] - 0s 22ms/step\n"
     ]
    },
    {
     "name": "stderr",
     "output_type": "stream",
     "text": [
      "\u001b[32m2023-01-16 16:34:50\u001b[0m \u001b[35mDESKTOP-6JVVUQ4\u001b[0m \u001b[34mroot[10436]\u001b[0m \u001b[1;30mDEBUG\u001b[0m \u001b[32mBuy at: $158.86\u001b[0m\n"
     ]
    },
    {
     "name": "stdout",
     "output_type": "stream",
     "text": [
      "1/1 [==============================] - 0s 20ms/step\n"
     ]
    },
    {
     "name": "stderr",
     "output_type": "stream",
     "text": [
      "\u001b[32m2023-01-16 16:34:50\u001b[0m \u001b[35mDESKTOP-6JVVUQ4\u001b[0m \u001b[34mroot[10436]\u001b[0m \u001b[1;30mDEBUG\u001b[0m \u001b[32mBuy at: $158.77\u001b[0m\n"
     ]
    },
    {
     "name": "stdout",
     "output_type": "stream",
     "text": [
      "1/1 [==============================] - 0s 25ms/step\n"
     ]
    },
    {
     "name": "stderr",
     "output_type": "stream",
     "text": [
      "\u001b[32m2023-01-16 16:34:50\u001b[0m \u001b[35mDESKTOP-6JVVUQ4\u001b[0m \u001b[34mroot[10436]\u001b[0m \u001b[1;30mDEBUG\u001b[0m \u001b[32mSell at: $158.30 | Position: -$0.56\u001b[0m\n"
     ]
    },
    {
     "name": "stdout",
     "output_type": "stream",
     "text": [
      "1/1 [==============================] - 0s 25ms/step\n"
     ]
    },
    {
     "name": "stderr",
     "output_type": "stream",
     "text": [
      "\u001b[32m2023-01-16 16:34:50\u001b[0m \u001b[35mDESKTOP-6JVVUQ4\u001b[0m \u001b[34mroot[10436]\u001b[0m \u001b[1;30mDEBUG\u001b[0m \u001b[32mSell at: $169.35 | Position: +$10.58\u001b[0m\n"
     ]
    },
    {
     "name": "stdout",
     "output_type": "stream",
     "text": [
      "1/1 [==============================] - 0s 26ms/step\n",
      "1/1 [==============================] - 0s 25ms/step\n",
      "1/1 [==============================] - 0s 18ms/step\n",
      "1/1 [==============================] - 0s 18ms/step\n",
      "1/1 [==============================] - 0s 20ms/step\n",
      "1/1 [==============================] - 0s 16ms/step\n",
      "1/1 [==============================] - 0s 18ms/step\n",
      "1/1 [==============================] - 0s 20ms/step\n",
      "1/1 [==============================] - 0s 23ms/step\n"
     ]
    },
    {
     "name": "stderr",
     "output_type": "stream",
     "text": [
      "\u001b[32m2023-01-16 16:34:51\u001b[0m \u001b[35mDESKTOP-6JVVUQ4\u001b[0m \u001b[34mroot[10436]\u001b[0m \u001b[1;30mDEBUG\u001b[0m \u001b[32mBuy at: $171.34\u001b[0m\n"
     ]
    },
    {
     "name": "stdout",
     "output_type": "stream",
     "text": [
      "1/1 [==============================] - 0s 25ms/step\n"
     ]
    },
    {
     "name": "stderr",
     "output_type": "stream",
     "text": [
      "\u001b[32m2023-01-16 16:34:51\u001b[0m \u001b[35mDESKTOP-6JVVUQ4\u001b[0m \u001b[34mroot[10436]\u001b[0m \u001b[1;30mDEBUG\u001b[0m \u001b[32mSell at: $167.88 | Position: -$3.46\u001b[0m\n"
     ]
    },
    {
     "name": "stdout",
     "output_type": "stream",
     "text": [
      "1/1 [==============================] - 0s 24ms/step\n",
      "1/1 [==============================] - 0s 26ms/step\n",
      "1/1 [==============================] - 0s 25ms/step\n",
      "1/1 [==============================] - 0s 26ms/step\n"
     ]
    },
    {
     "name": "stderr",
     "output_type": "stream",
     "text": [
      "\u001b[32m2023-01-16 16:34:51\u001b[0m \u001b[35mDESKTOP-6JVVUQ4\u001b[0m \u001b[34mroot[10436]\u001b[0m \u001b[1;30mDEBUG\u001b[0m \u001b[32mBuy at: $168.12\u001b[0m\n"
     ]
    },
    {
     "name": "stdout",
     "output_type": "stream",
     "text": [
      "1/1 [==============================] - 0s 25ms/step\n",
      "1/1 [==============================] - 0s 25ms/step\n"
     ]
    },
    {
     "name": "stderr",
     "output_type": "stream",
     "text": [
      "\u001b[32m2023-01-16 16:34:51\u001b[0m \u001b[35mDESKTOP-6JVVUQ4\u001b[0m \u001b[34mroot[10436]\u001b[0m \u001b[1;30mDEBUG\u001b[0m \u001b[32mBuy at: $163.58\u001b[0m\n"
     ]
    },
    {
     "name": "stdout",
     "output_type": "stream",
     "text": [
      "1/1 [==============================] - 0s 23ms/step\n"
     ]
    },
    {
     "name": "stderr",
     "output_type": "stream",
     "text": [
      "\u001b[32m2023-01-16 16:34:51\u001b[0m \u001b[35mDESKTOP-6JVVUQ4\u001b[0m \u001b[34mroot[10436]\u001b[0m \u001b[1;30mDEBUG\u001b[0m \u001b[32mBuy at: $159.35\u001b[0m\n"
     ]
    },
    {
     "name": "stdout",
     "output_type": "stream",
     "text": [
      "1/1 [==============================] - 0s 24ms/step\n",
      "1/1 [==============================] - 0s 26ms/step\n"
     ]
    },
    {
     "name": "stderr",
     "output_type": "stream",
     "text": [
      "\u001b[32m2023-01-16 16:34:52\u001b[0m \u001b[35mDESKTOP-6JVVUQ4\u001b[0m \u001b[34mroot[10436]\u001b[0m \u001b[1;30mDEBUG\u001b[0m \u001b[32mBuy at: $164.11\u001b[0m\n"
     ]
    },
    {
     "name": "stdout",
     "output_type": "stream",
     "text": [
      "1/1 [==============================] - 0s 25ms/step\n"
     ]
    },
    {
     "name": "stderr",
     "output_type": "stream",
     "text": [
      "\u001b[32m2023-01-16 16:34:52\u001b[0m \u001b[35mDESKTOP-6JVVUQ4\u001b[0m \u001b[34mroot[10436]\u001b[0m \u001b[1;30mDEBUG\u001b[0m \u001b[32mBuy at: $164.38\u001b[0m\n"
     ]
    },
    {
     "name": "stdout",
     "output_type": "stream",
     "text": [
      "1/1 [==============================] - 0s 26ms/step\n"
     ]
    },
    {
     "name": "stderr",
     "output_type": "stream",
     "text": [
      "\u001b[32m2023-01-16 16:34:52\u001b[0m \u001b[35mDESKTOP-6JVVUQ4\u001b[0m \u001b[34mroot[10436]\u001b[0m \u001b[1;30mDEBUG\u001b[0m \u001b[32mBuy at: $162.47\u001b[0m\n"
     ]
    },
    {
     "name": "stdout",
     "output_type": "stream",
     "text": [
      "1/1 [==============================] - 0s 25ms/step\n",
      "1/1 [==============================] - 0s 21ms/step\n",
      "1/1 [==============================] - 0s 23ms/step\n",
      "1/1 [==============================] - 0s 26ms/step\n"
     ]
    },
    {
     "name": "stderr",
     "output_type": "stream",
     "text": [
      "\u001b[32m2023-01-16 16:34:52\u001b[0m \u001b[35mDESKTOP-6JVVUQ4\u001b[0m \u001b[34mroot[10436]\u001b[0m \u001b[1;30mDEBUG\u001b[0m \u001b[32mSell at: $158.58 | Position: -$9.54\u001b[0m\n"
     ]
    },
    {
     "name": "stdout",
     "output_type": "stream",
     "text": [
      "1/1 [==============================] - 0s 25ms/step\n",
      "1/1 [==============================] - 0s 20ms/step\n"
     ]
    },
    {
     "name": "stderr",
     "output_type": "stream",
     "text": [
      "\u001b[32m2023-01-16 16:34:52\u001b[0m \u001b[35mDESKTOP-6JVVUQ4\u001b[0m \u001b[34mroot[10436]\u001b[0m \u001b[1;30mDEBUG\u001b[0m \u001b[32mSell at: $162.22 | Position: -$1.36\u001b[0m\n"
     ]
    },
    {
     "name": "stdout",
     "output_type": "stream",
     "text": [
      "1/1 [==============================] - 0s 21ms/step\n"
     ]
    },
    {
     "name": "stderr",
     "output_type": "stream",
     "text": [
      "\u001b[32m2023-01-16 16:34:52\u001b[0m \u001b[35mDESKTOP-6JVVUQ4\u001b[0m \u001b[34mroot[10436]\u001b[0m \u001b[1;30mDEBUG\u001b[0m \u001b[32mBuy at: $157.81\u001b[0m\n"
     ]
    },
    {
     "name": "stdout",
     "output_type": "stream",
     "text": [
      "1/1 [==============================] - 0s 27ms/step\n",
      "1/1 [==============================] - 0s 25ms/step\n",
      "1/1 [==============================] - 0s 27ms/step\n"
     ]
    },
    {
     "name": "stderr",
     "output_type": "stream",
     "text": [
      "\u001b[32m2023-01-16 16:34:52\u001b[0m \u001b[35mDESKTOP-6JVVUQ4\u001b[0m \u001b[34mroot[10436]\u001b[0m \u001b[1;30mDEBUG\u001b[0m \u001b[32mBuy at: $154.39\u001b[0m\n"
     ]
    },
    {
     "name": "stdout",
     "output_type": "stream",
     "text": [
      "1/1 [==============================] - 0s 22ms/step\n",
      "1/1 [==============================] - 0s 25ms/step\n"
     ]
    },
    {
     "name": "stderr",
     "output_type": "stream",
     "text": [
      "\u001b[32m2023-01-16 16:34:53\u001b[0m \u001b[35mDESKTOP-6JVVUQ4\u001b[0m \u001b[34mroot[10436]\u001b[0m \u001b[1;30mDEBUG\u001b[0m \u001b[32mBuy at: $159.90\u001b[0m\n"
     ]
    },
    {
     "name": "stdout",
     "output_type": "stream",
     "text": [
      "1/1 [==============================] - 0s 21ms/step\n"
     ]
    },
    {
     "name": "stderr",
     "output_type": "stream",
     "text": [
      "\u001b[32m2023-01-16 16:34:53\u001b[0m \u001b[35mDESKTOP-6JVVUQ4\u001b[0m \u001b[34mroot[10436]\u001b[0m \u001b[1;30mDEBUG\u001b[0m \u001b[32mSell at: $163.24 | Position: +$3.89\u001b[0m\n"
     ]
    },
    {
     "name": "stdout",
     "output_type": "stream",
     "text": [
      "1/1 [==============================] - 0s 25ms/step\n"
     ]
    },
    {
     "name": "stderr",
     "output_type": "stream",
     "text": [
      "\u001b[32m2023-01-16 16:34:53\u001b[0m \u001b[35mDESKTOP-6JVVUQ4\u001b[0m \u001b[34mroot[10436]\u001b[0m \u001b[1;30mDEBUG\u001b[0m \u001b[32mSell at: $164.64 | Position: +$0.53\u001b[0m\n"
     ]
    },
    {
     "name": "stdout",
     "output_type": "stream",
     "text": [
      "1/1 [==============================] - 0s 16ms/step\n"
     ]
    },
    {
     "name": "stderr",
     "output_type": "stream",
     "text": [
      "\u001b[32m2023-01-16 16:34:53\u001b[0m \u001b[35mDESKTOP-6JVVUQ4\u001b[0m \u001b[34mroot[10436]\u001b[0m \u001b[1;30mDEBUG\u001b[0m \u001b[32mSell at: $168.06 | Position: +$3.68\u001b[0m\n"
     ]
    },
    {
     "name": "stdout",
     "output_type": "stream",
     "text": [
      "1/1 [==============================] - 0s 26ms/step\n"
     ]
    },
    {
     "name": "stderr",
     "output_type": "stream",
     "text": [
      "\u001b[32m2023-01-16 16:34:53\u001b[0m \u001b[35mDESKTOP-6JVVUQ4\u001b[0m \u001b[34mroot[10436]\u001b[0m \u001b[1;30mDEBUG\u001b[0m \u001b[32mSell at: $169.44 | Position: +$6.98\u001b[0m\n"
     ]
    },
    {
     "name": "stdout",
     "output_type": "stream",
     "text": [
      "1/1 [==============================] - 0s 18ms/step\n"
     ]
    },
    {
     "name": "stderr",
     "output_type": "stream",
     "text": [
      "\u001b[32m2023-01-16 16:34:53\u001b[0m \u001b[35mDESKTOP-6JVVUQ4\u001b[0m \u001b[34mroot[10436]\u001b[0m \u001b[1;30mDEBUG\u001b[0m \u001b[32mSell at: $173.29 | Position: +$15.48\u001b[0m\n"
     ]
    },
    {
     "name": "stdout",
     "output_type": "stream",
     "text": [
      "1/1 [==============================] - 0s 26ms/step\n"
     ]
    },
    {
     "name": "stderr",
     "output_type": "stream",
     "text": [
      "\u001b[32m2023-01-16 16:34:53\u001b[0m \u001b[35mDESKTOP-6JVVUQ4\u001b[0m \u001b[34mroot[10436]\u001b[0m \u001b[1;30mDEBUG\u001b[0m \u001b[32mSell at: $173.93 | Position: +$19.54\u001b[0m\n"
     ]
    },
    {
     "name": "stdout",
     "output_type": "stream",
     "text": [
      "1/1 [==============================] - 0s 18ms/step\n"
     ]
    },
    {
     "name": "stderr",
     "output_type": "stream",
     "text": [
      "\u001b[32m2023-01-16 16:34:53\u001b[0m \u001b[35mDESKTOP-6JVVUQ4\u001b[0m \u001b[34mroot[10436]\u001b[0m \u001b[1;30mDEBUG\u001b[0m \u001b[32mSell at: $174.81 | Position: +$14.91\u001b[0m\n"
     ]
    },
    {
     "name": "stdout",
     "output_type": "stream",
     "text": [
      "1/1 [==============================] - 0s 19ms/step\n",
      "1/1 [==============================] - 0s 22ms/step\n",
      "1/1 [==============================] - 0s 21ms/step\n",
      "1/1 [==============================] - 0s 25ms/step\n",
      "1/1 [==============================] - 0s 23ms/step\n",
      "1/1 [==============================] - 0s 18ms/step\n",
      "1/1 [==============================] - 0s 20ms/step\n",
      "1/1 [==============================] - 0s 21ms/step\n",
      "1/1 [==============================] - 0s 23ms/step\n"
     ]
    },
    {
     "name": "stderr",
     "output_type": "stream",
     "text": [
      "\u001b[32m2023-01-16 16:34:54\u001b[0m \u001b[35mDESKTOP-6JVVUQ4\u001b[0m \u001b[34mroot[10436]\u001b[0m \u001b[1;30mDEBUG\u001b[0m \u001b[32mBuy at: $169.32\u001b[0m\n"
     ]
    },
    {
     "name": "stdout",
     "output_type": "stream",
     "text": [
      "1/1 [==============================] - 0s 24ms/step\n"
     ]
    },
    {
     "name": "stderr",
     "output_type": "stream",
     "text": [
      "\u001b[32m2023-01-16 16:34:54\u001b[0m \u001b[35mDESKTOP-6JVVUQ4\u001b[0m \u001b[34mroot[10436]\u001b[0m \u001b[1;30mDEBUG\u001b[0m \u001b[32mBuy at: $165.00\u001b[0m\n"
     ]
    },
    {
     "name": "stdout",
     "output_type": "stream",
     "text": [
      "1/1 [==============================] - 0s 23ms/step\n"
     ]
    },
    {
     "name": "stderr",
     "output_type": "stream",
     "text": [
      "\u001b[32m2023-01-16 16:34:54\u001b[0m \u001b[35mDESKTOP-6JVVUQ4\u001b[0m \u001b[34mroot[10436]\u001b[0m \u001b[1;30mDEBUG\u001b[0m \u001b[32mBuy at: $166.90\u001b[0m\n"
     ]
    },
    {
     "name": "stdout",
     "output_type": "stream",
     "text": [
      "1/1 [==============================] - 0s 23ms/step\n"
     ]
    },
    {
     "name": "stderr",
     "output_type": "stream",
     "text": [
      "\u001b[32m2023-01-16 16:34:54\u001b[0m \u001b[35mDESKTOP-6JVVUQ4\u001b[0m \u001b[34mroot[10436]\u001b[0m \u001b[1;30mDEBUG\u001b[0m \u001b[32mBuy at: $169.63\u001b[0m\n"
     ]
    },
    {
     "name": "stdout",
     "output_type": "stream",
     "text": [
      "1/1 [==============================] - 0s 25ms/step\n"
     ]
    },
    {
     "name": "stderr",
     "output_type": "stream",
     "text": [
      "\u001b[32m2023-01-16 16:34:54\u001b[0m \u001b[35mDESKTOP-6JVVUQ4\u001b[0m \u001b[34mroot[10436]\u001b[0m \u001b[1;30mDEBUG\u001b[0m \u001b[32mBuy at: $164.55\u001b[0m\n"
     ]
    },
    {
     "name": "stdout",
     "output_type": "stream",
     "text": [
      "1/1 [==============================] - 0s 25ms/step\n"
     ]
    },
    {
     "name": "stderr",
     "output_type": "stream",
     "text": [
      "\u001b[32m2023-01-16 16:34:54\u001b[0m \u001b[35mDESKTOP-6JVVUQ4\u001b[0m \u001b[34mroot[10436]\u001b[0m \u001b[1;30mDEBUG\u001b[0m \u001b[32mBuy at: $164.33\u001b[0m\n"
     ]
    },
    {
     "name": "stdout",
     "output_type": "stream",
     "text": [
      "1/1 [==============================] - 0s 24ms/step\n"
     ]
    },
    {
     "name": "stderr",
     "output_type": "stream",
     "text": [
      "\u001b[32m2023-01-16 16:34:54\u001b[0m \u001b[35mDESKTOP-6JVVUQ4\u001b[0m \u001b[34mroot[10436]\u001b[0m \u001b[1;30mDEBUG\u001b[0m \u001b[32mBuy at: $166.65\u001b[0m\n"
     ]
    },
    {
     "name": "stdout",
     "output_type": "stream",
     "text": [
      "1/1 [==============================] - 0s 15ms/step\n"
     ]
    },
    {
     "name": "stderr",
     "output_type": "stream",
     "text": [
      "\u001b[32m2023-01-16 16:34:54\u001b[0m \u001b[35mDESKTOP-6JVVUQ4\u001b[0m \u001b[34mroot[10436]\u001b[0m \u001b[1;30mDEBUG\u001b[0m \u001b[32mBuy at: $166.48\u001b[0m\n"
     ]
    },
    {
     "name": "stdout",
     "output_type": "stream",
     "text": [
      "1/1 [==============================] - 0s 26ms/step\n"
     ]
    },
    {
     "name": "stderr",
     "output_type": "stream",
     "text": [
      "\u001b[32m2023-01-16 16:34:54\u001b[0m \u001b[35mDESKTOP-6JVVUQ4\u001b[0m \u001b[34mroot[10436]\u001b[0m \u001b[1;30mDEBUG\u001b[0m \u001b[32mBuy at: $165.67\u001b[0m\n"
     ]
    },
    {
     "name": "stdout",
     "output_type": "stream",
     "text": [
      "1/1 [==============================] - 0s 25ms/step\n",
      "1/1 [==============================] - 0s 19ms/step\n",
      "1/1 [==============================] - 0s 20ms/step\n"
     ]
    },
    {
     "name": "stderr",
     "output_type": "stream",
     "text": [
      "\u001b[32m2023-01-16 16:34:54\u001b[0m \u001b[35mDESKTOP-6JVVUQ4\u001b[0m \u001b[34mroot[10436]\u001b[0m \u001b[1;30mDEBUG\u001b[0m \u001b[32mBuy at: $156.09\u001b[0m\n"
     ]
    },
    {
     "name": "stdout",
     "output_type": "stream",
     "text": [
      "1/1 [==============================] - 0s 21ms/step\n"
     ]
    },
    {
     "name": "stderr",
     "output_type": "stream",
     "text": [
      "\u001b[32m2023-01-16 16:34:54\u001b[0m \u001b[35mDESKTOP-6JVVUQ4\u001b[0m \u001b[34mroot[10436]\u001b[0m \u001b[1;30mDEBUG\u001b[0m \u001b[32mBuy at: $155.86\u001b[0m\n"
     ]
    },
    {
     "name": "stdout",
     "output_type": "stream",
     "text": [
      "1/1 [==============================] - 0s 25ms/step\n"
     ]
    },
    {
     "name": "stderr",
     "output_type": "stream",
     "text": [
      "\u001b[32m2023-01-16 16:34:55\u001b[0m \u001b[35mDESKTOP-6JVVUQ4\u001b[0m \u001b[34mroot[10436]\u001b[0m \u001b[1;30mDEBUG\u001b[0m \u001b[32mBuy at: $162.90\u001b[0m\n"
     ]
    },
    {
     "name": "stdout",
     "output_type": "stream",
     "text": [
      "1/1 [==============================] - 0s 22ms/step\n"
     ]
    },
    {
     "name": "stderr",
     "output_type": "stream",
     "text": [
      "\u001b[32m2023-01-16 16:34:55\u001b[0m \u001b[35mDESKTOP-6JVVUQ4\u001b[0m \u001b[34mroot[10436]\u001b[0m \u001b[1;30mDEBUG\u001b[0m \u001b[32mBuy at: $156.94\u001b[0m\n"
     ]
    },
    {
     "name": "stdout",
     "output_type": "stream",
     "text": [
      "1/1 [==============================] - 0s 25ms/step\n"
     ]
    },
    {
     "name": "stderr",
     "output_type": "stream",
     "text": [
      "\u001b[32m2023-01-16 16:34:55\u001b[0m \u001b[35mDESKTOP-6JVVUQ4\u001b[0m \u001b[34mroot[10436]\u001b[0m \u001b[1;30mDEBUG\u001b[0m \u001b[32mBuy at: $157.25\u001b[0m\n"
     ]
    },
    {
     "name": "stdout",
     "output_type": "stream",
     "text": [
      "1/1 [==============================] - 0s 26ms/step\n",
      "1/1 [==============================] - 0s 25ms/step\n",
      "1/1 [==============================] - 0s 25ms/step\n"
     ]
    },
    {
     "name": "stderr",
     "output_type": "stream",
     "text": [
      "\u001b[32m2023-01-16 16:34:55\u001b[0m \u001b[35mDESKTOP-6JVVUQ4\u001b[0m \u001b[34mroot[10436]\u001b[0m \u001b[1;30mDEBUG\u001b[0m \u001b[32mBuy at: $156.06\u001b[0m\n"
     ]
    },
    {
     "name": "stdout",
     "output_type": "stream",
     "text": [
      "1/1 [==============================] - 0s 25ms/step\n"
     ]
    },
    {
     "name": "stderr",
     "output_type": "stream",
     "text": [
      "\u001b[32m2023-01-16 16:34:55\u001b[0m \u001b[35mDESKTOP-6JVVUQ4\u001b[0m \u001b[34mroot[10436]\u001b[0m \u001b[1;30mDEBUG\u001b[0m \u001b[32mBuy at: $156.80\u001b[0m\n"
     ]
    },
    {
     "name": "stdout",
     "output_type": "stream",
     "text": [
      "1/1 [==============================] - 0s 25ms/step\n",
      "1/1 [==============================] - 0s 26ms/step\n"
     ]
    },
    {
     "name": "stderr",
     "output_type": "stream",
     "text": [
      "\u001b[32m2023-01-16 16:34:55\u001b[0m \u001b[35mDESKTOP-6JVVUQ4\u001b[0m \u001b[34mroot[10436]\u001b[0m \u001b[1;30mDEBUG\u001b[0m \u001b[32mBuy at: $154.04\u001b[0m\n"
     ]
    },
    {
     "name": "stdout",
     "output_type": "stream",
     "text": [
      "1/1 [==============================] - 0s 25ms/step\n"
     ]
    },
    {
     "name": "stderr",
     "output_type": "stream",
     "text": [
      "\u001b[32m2023-01-16 16:34:55\u001b[0m \u001b[35mDESKTOP-6JVVUQ4\u001b[0m \u001b[34mroot[10436]\u001b[0m \u001b[1;30mDEBUG\u001b[0m \u001b[32mBuy at: $146.05\u001b[0m\n"
     ]
    },
    {
     "name": "stdout",
     "output_type": "stream",
     "text": [
      "1/1 [==============================] - 0s 21ms/step\n"
     ]
    },
    {
     "name": "stderr",
     "output_type": "stream",
     "text": [
      "\u001b[32m2023-01-16 16:34:55\u001b[0m \u001b[35mDESKTOP-6JVVUQ4\u001b[0m \u001b[34mroot[10436]\u001b[0m \u001b[1;30mDEBUG\u001b[0m \u001b[32mBuy at: $142.13\u001b[0m\n"
     ]
    },
    {
     "name": "stdout",
     "output_type": "stream",
     "text": [
      "1/1 [==============================] - 0s 25ms/step\n"
     ]
    },
    {
     "name": "stderr",
     "output_type": "stream",
     "text": [
      "\u001b[32m2023-01-16 16:34:55\u001b[0m \u001b[35mDESKTOP-6JVVUQ4\u001b[0m \u001b[34mroot[10436]\u001b[0m \u001b[1;30mDEBUG\u001b[0m \u001b[32mSell at: $146.66 | Position: -$22.66\u001b[0m\n"
     ]
    },
    {
     "name": "stdout",
     "output_type": "stream",
     "text": [
      "1/1 [==============================] - 0s 26ms/step\n"
     ]
    },
    {
     "name": "stderr",
     "output_type": "stream",
     "text": [
      "\u001b[32m2023-01-16 16:34:55\u001b[0m \u001b[35mDESKTOP-6JVVUQ4\u001b[0m \u001b[34mroot[10436]\u001b[0m \u001b[1;30mDEBUG\u001b[0m \u001b[32mBuy at: $145.10\u001b[0m\n"
     ]
    },
    {
     "name": "stdout",
     "output_type": "stream",
     "text": [
      "1/1 [==============================] - 0s 26ms/step\n"
     ]
    },
    {
     "name": "stderr",
     "output_type": "stream",
     "text": [
      "\u001b[32m2023-01-16 16:34:55\u001b[0m \u001b[35mDESKTOP-6JVVUQ4\u001b[0m \u001b[34mroot[10436]\u001b[0m \u001b[1;30mDEBUG\u001b[0m \u001b[32mBuy at: $148.79\u001b[0m\n"
     ]
    },
    {
     "name": "stdout",
     "output_type": "stream",
     "text": [
      "1/1 [==============================] - 0s 25ms/step\n"
     ]
    },
    {
     "name": "stderr",
     "output_type": "stream",
     "text": [
      "\u001b[32m2023-01-16 16:34:55\u001b[0m \u001b[35mDESKTOP-6JVVUQ4\u001b[0m \u001b[34mroot[10436]\u001b[0m \u001b[1;30mDEBUG\u001b[0m \u001b[32mBuy at: $140.39\u001b[0m\n"
     ]
    },
    {
     "name": "stdout",
     "output_type": "stream",
     "text": [
      "1/1 [==============================] - 0s 26ms/step\n"
     ]
    },
    {
     "name": "stderr",
     "output_type": "stream",
     "text": [
      "\u001b[32m2023-01-16 16:34:56\u001b[0m \u001b[35mDESKTOP-6JVVUQ4\u001b[0m \u001b[34mroot[10436]\u001b[0m \u001b[1;30mDEBUG\u001b[0m \u001b[32mBuy at: $136.93\u001b[0m\n"
     ]
    },
    {
     "name": "stdout",
     "output_type": "stream",
     "text": [
      "1/1 [==============================] - 0s 25ms/step\n"
     ]
    },
    {
     "name": "stderr",
     "output_type": "stream",
     "text": [
      "\u001b[32m2023-01-16 16:34:56\u001b[0m \u001b[35mDESKTOP-6JVVUQ4\u001b[0m \u001b[34mroot[10436]\u001b[0m \u001b[1;30mDEBUG\u001b[0m \u001b[32mBuy at: $137.17\u001b[0m\n"
     ]
    },
    {
     "name": "stdout",
     "output_type": "stream",
     "text": [
      "1/1 [==============================] - 0s 26ms/step\n",
      "1/1 [==============================] - 0s 27ms/step\n"
     ]
    },
    {
     "name": "stderr",
     "output_type": "stream",
     "text": [
      "\u001b[32m2023-01-16 16:34:56\u001b[0m \u001b[35mDESKTOP-6JVVUQ4\u001b[0m \u001b[34mroot[10436]\u001b[0m \u001b[1;30mDEBUG\u001b[0m \u001b[32mBuy at: $139.93\u001b[0m\n"
     ]
    },
    {
     "name": "stdout",
     "output_type": "stream",
     "text": [
      "1/1 [==============================] - 0s 26ms/step\n"
     ]
    },
    {
     "name": "stderr",
     "output_type": "stream",
     "text": [
      "\u001b[32m2023-01-16 16:34:56\u001b[0m \u001b[35mDESKTOP-6JVVUQ4\u001b[0m \u001b[34mroot[10436]\u001b[0m \u001b[1;30mDEBUG\u001b[0m \u001b[32mBuy at: $140.09\u001b[0m\n"
     ]
    },
    {
     "name": "stdout",
     "output_type": "stream",
     "text": [
      "1/1 [==============================] - 0s 25ms/step\n"
     ]
    },
    {
     "name": "stderr",
     "output_type": "stream",
     "text": [
      "\u001b[32m2023-01-16 16:34:56\u001b[0m \u001b[35mDESKTOP-6JVVUQ4\u001b[0m \u001b[34mroot[10436]\u001b[0m \u001b[1;30mDEBUG\u001b[0m \u001b[32mBuy at: $143.34\u001b[0m\n"
     ]
    },
    {
     "name": "stdout",
     "output_type": "stream",
     "text": [
      "1/1 [==============================] - 0s 24ms/step\n"
     ]
    },
    {
     "name": "stderr",
     "output_type": "stream",
     "text": [
      "\u001b[32m2023-01-16 16:34:56\u001b[0m \u001b[35mDESKTOP-6JVVUQ4\u001b[0m \u001b[34mroot[10436]\u001b[0m \u001b[1;30mDEBUG\u001b[0m \u001b[32mBuy at: $149.18\u001b[0m\n"
     ]
    },
    {
     "name": "stdout",
     "output_type": "stream",
     "text": [
      "1/1 [==============================] - 0s 25ms/step\n"
     ]
    },
    {
     "name": "stderr",
     "output_type": "stream",
     "text": [
      "\u001b[32m2023-01-16 16:34:56\u001b[0m \u001b[35mDESKTOP-6JVVUQ4\u001b[0m \u001b[34mroot[10436]\u001b[0m \u001b[1;30mDEBUG\u001b[0m \u001b[32mBuy at: $148.39\u001b[0m\n"
     ]
    },
    {
     "name": "stdout",
     "output_type": "stream",
     "text": [
      "1/1 [==============================] - 0s 25ms/step\n"
     ]
    },
    {
     "name": "stderr",
     "output_type": "stream",
     "text": [
      "\u001b[32m2023-01-16 16:34:56\u001b[0m \u001b[35mDESKTOP-6JVVUQ4\u001b[0m \u001b[34mroot[10436]\u001b[0m \u001b[1;30mDEBUG\u001b[0m \u001b[32mBuy at: $148.26\u001b[0m\n"
     ]
    },
    {
     "name": "stdout",
     "output_type": "stream",
     "text": [
      "1/1 [==============================] - 0s 24ms/step\n",
      "1/1 [==============================] - 0s 25ms/step\n"
     ]
    },
    {
     "name": "stderr",
     "output_type": "stream",
     "text": [
      "\u001b[32m2023-01-16 16:34:56\u001b[0m \u001b[35mDESKTOP-6JVVUQ4\u001b[0m \u001b[34mroot[10436]\u001b[0m \u001b[1;30mDEBUG\u001b[0m \u001b[32mBuy at: $144.94\u001b[0m\n"
     ]
    },
    {
     "name": "stdout",
     "output_type": "stream",
     "text": [
      "1/1 [==============================] - 0s 26ms/step\n"
     ]
    },
    {
     "name": "stderr",
     "output_type": "stream",
     "text": [
      "\u001b[32m2023-01-16 16:34:56\u001b[0m \u001b[35mDESKTOP-6JVVUQ4\u001b[0m \u001b[34mroot[10436]\u001b[0m \u001b[1;30mDEBUG\u001b[0m \u001b[32mBuy at: $145.70\u001b[0m\n"
     ]
    },
    {
     "name": "stdout",
     "output_type": "stream",
     "text": [
      "1/1 [==============================] - 0s 25ms/step\n"
     ]
    },
    {
     "name": "stderr",
     "output_type": "stream",
     "text": [
      "\u001b[32m2023-01-16 16:34:56\u001b[0m \u001b[35mDESKTOP-6JVVUQ4\u001b[0m \u001b[34mroot[10436]\u001b[0m \u001b[1;30mDEBUG\u001b[0m \u001b[32mBuy at: $148.26\u001b[0m\n"
     ]
    },
    {
     "name": "stdout",
     "output_type": "stream",
     "text": [
      "1/1 [==============================] - 0s 25ms/step\n"
     ]
    },
    {
     "name": "stderr",
     "output_type": "stream",
     "text": [
      "\u001b[32m2023-01-16 16:34:56\u001b[0m \u001b[35mDESKTOP-6JVVUQ4\u001b[0m \u001b[34mroot[10436]\u001b[0m \u001b[1;30mDEBUG\u001b[0m \u001b[32mBuy at: $147.51\u001b[0m\n"
     ]
    },
    {
     "name": "stdout",
     "output_type": "stream",
     "text": [
      "1/1 [==============================] - 0s 25ms/step\n",
      "1/1 [==============================] - 0s 26ms/step\n"
     ]
    },
    {
     "name": "stderr",
     "output_type": "stream",
     "text": [
      "\u001b[32m2023-01-16 16:34:57\u001b[0m \u001b[35mDESKTOP-6JVVUQ4\u001b[0m \u001b[34mroot[10436]\u001b[0m \u001b[1;30mDEBUG\u001b[0m \u001b[32mBuy at: $136.71\u001b[0m\n"
     ]
    },
    {
     "name": "stdout",
     "output_type": "stream",
     "text": [
      "1/1 [==============================] - 0s 26ms/step\n",
      "1/1 [==============================] - 0s 25ms/step\n"
     ]
    },
    {
     "name": "stderr",
     "output_type": "stream",
     "text": [
      "\u001b[32m2023-01-16 16:34:57\u001b[0m \u001b[35mDESKTOP-6JVVUQ4\u001b[0m \u001b[34mroot[10436]\u001b[0m \u001b[1;30mDEBUG\u001b[0m \u001b[32mBuy at: $132.36\u001b[0m\n"
     ]
    },
    {
     "name": "stdout",
     "output_type": "stream",
     "text": [
      "1/1 [==============================] - 0s 27ms/step\n"
     ]
    },
    {
     "name": "stderr",
     "output_type": "stream",
     "text": [
      "\u001b[32m2023-01-16 16:34:57\u001b[0m \u001b[35mDESKTOP-6JVVUQ4\u001b[0m \u001b[34mroot[10436]\u001b[0m \u001b[1;30mDEBUG\u001b[0m \u001b[32mBuy at: $135.02\u001b[0m\n"
     ]
    },
    {
     "name": "stdout",
     "output_type": "stream",
     "text": [
      "1/1 [==============================] - 0s 23ms/step\n"
     ]
    },
    {
     "name": "stderr",
     "output_type": "stream",
     "text": [
      "\u001b[32m2023-01-16 16:34:57\u001b[0m \u001b[35mDESKTOP-6JVVUQ4\u001b[0m \u001b[34mroot[10436]\u001b[0m \u001b[1;30mDEBUG\u001b[0m \u001b[32mBuy at: $129.66\u001b[0m\n"
     ]
    },
    {
     "name": "stdout",
     "output_type": "stream",
     "text": [
      "1/1 [==============================] - 0s 22ms/step\n"
     ]
    },
    {
     "name": "stderr",
     "output_type": "stream",
     "text": [
      "\u001b[32m2023-01-16 16:34:57\u001b[0m \u001b[35mDESKTOP-6JVVUQ4\u001b[0m \u001b[34mroot[10436]\u001b[0m \u001b[1;30mDEBUG\u001b[0m \u001b[32mBuy at: $131.16\u001b[0m\n"
     ]
    },
    {
     "name": "stdout",
     "output_type": "stream",
     "text": [
      "1/1 [==============================] - 0s 23ms/step\n"
     ]
    },
    {
     "name": "stderr",
     "output_type": "stream",
     "text": [
      "\u001b[32m2023-01-16 16:34:57\u001b[0m \u001b[35mDESKTOP-6JVVUQ4\u001b[0m \u001b[34mroot[10436]\u001b[0m \u001b[1;30mDEBUG\u001b[0m \u001b[32mBuy at: $135.46\u001b[0m\n"
     ]
    },
    {
     "name": "stdout",
     "output_type": "stream",
     "text": [
      "1/1 [==============================] - 0s 23ms/step\n"
     ]
    },
    {
     "name": "stderr",
     "output_type": "stream",
     "text": [
      "\u001b[32m2023-01-16 16:34:57\u001b[0m \u001b[35mDESKTOP-6JVVUQ4\u001b[0m \u001b[34mroot[10436]\u001b[0m \u001b[1;30mDEBUG\u001b[0m \u001b[32mBuy at: $134.94\u001b[0m\n"
     ]
    },
    {
     "name": "stdout",
     "output_type": "stream",
     "text": [
      "1/1 [==============================] - 0s 26ms/step\n",
      "1/1 [==============================] - 0s 19ms/step\n"
     ]
    },
    {
     "name": "stderr",
     "output_type": "stream",
     "text": [
      "\u001b[32m2023-01-16 16:34:57\u001b[0m \u001b[35mDESKTOP-6JVVUQ4\u001b[0m \u001b[34mroot[10436]\u001b[0m \u001b[1;30mDEBUG\u001b[0m \u001b[32mSell at: $141.23 | Position: -$23.77\u001b[0m\n"
     ]
    },
    {
     "name": "stdout",
     "output_type": "stream",
     "text": [
      "1/1 [==============================] - 0s 25ms/step\n"
     ]
    },
    {
     "name": "stderr",
     "output_type": "stream",
     "text": [
      "\u001b[32m2023-01-16 16:34:57\u001b[0m \u001b[35mDESKTOP-6JVVUQ4\u001b[0m \u001b[34mroot[10436]\u001b[0m \u001b[1;30mDEBUG\u001b[0m \u001b[32mBuy at: $141.23\u001b[0m\n"
     ]
    },
    {
     "name": "stdout",
     "output_type": "stream",
     "text": [
      "1/1 [==============================] - 0s 26ms/step\n",
      "1/1 [==============================] - 0s 18ms/step\n"
     ]
    },
    {
     "name": "stderr",
     "output_type": "stream",
     "text": [
      "\u001b[32m2023-01-16 16:34:57\u001b[0m \u001b[35mDESKTOP-6JVVUQ4\u001b[0m \u001b[34mroot[10436]\u001b[0m \u001b[1;30mDEBUG\u001b[0m \u001b[32mBuy at: $138.81\u001b[0m\n"
     ]
    },
    {
     "name": "stdout",
     "output_type": "stream",
     "text": [
      "1/1 [==============================] - 0s 26ms/step\n",
      "1/1 [==============================] - 0s 25ms/step\n"
     ]
    },
    {
     "name": "stderr",
     "output_type": "stream",
     "text": [
      "\u001b[32m2023-01-16 16:34:57\u001b[0m \u001b[35mDESKTOP-6JVVUQ4\u001b[0m \u001b[34mroot[10436]\u001b[0m \u001b[1;30mDEBUG\u001b[0m \u001b[32mBuy at: $138.51\u001b[0m\n"
     ]
    },
    {
     "name": "stdout",
     "output_type": "stream",
     "text": [
      "1/1 [==============================] - 0s 25ms/step\n"
     ]
    },
    {
     "name": "stderr",
     "output_type": "stream",
     "text": [
      "\u001b[32m2023-01-16 16:34:58\u001b[0m \u001b[35mDESKTOP-6JVVUQ4\u001b[0m \u001b[34mroot[10436]\u001b[0m \u001b[1;30mDEBUG\u001b[0m \u001b[32mBuy at: $141.13\u001b[0m\n"
     ]
    },
    {
     "name": "stdout",
     "output_type": "stream",
     "text": [
      "1/1 [==============================] - 0s 26ms/step\n"
     ]
    },
    {
     "name": "stderr",
     "output_type": "stream",
     "text": [
      "\u001b[32m2023-01-16 16:34:58\u001b[0m \u001b[35mDESKTOP-6JVVUQ4\u001b[0m \u001b[34mroot[10436]\u001b[0m \u001b[1;30mDEBUG\u001b[0m \u001b[32mBuy at: $142.49\u001b[0m\n"
     ]
    },
    {
     "name": "stdout",
     "output_type": "stream",
     "text": [
      "1/1 [==============================] - 0s 25ms/step\n"
     ]
    },
    {
     "name": "stderr",
     "output_type": "stream",
     "text": [
      "\u001b[32m2023-01-16 16:34:58\u001b[0m \u001b[35mDESKTOP-6JVVUQ4\u001b[0m \u001b[34mroot[10436]\u001b[0m \u001b[1;30mDEBUG\u001b[0m \u001b[32mBuy at: $145.90\u001b[0m\n"
     ]
    },
    {
     "name": "stdout",
     "output_type": "stream",
     "text": [
      "1/1 [==============================] - 0s 25ms/step\n"
     ]
    },
    {
     "name": "stderr",
     "output_type": "stream",
     "text": [
      "\u001b[32m2023-01-16 16:34:58\u001b[0m \u001b[35mDESKTOP-6JVVUQ4\u001b[0m \u001b[34mroot[10436]\u001b[0m \u001b[1;30mDEBUG\u001b[0m \u001b[32mBuy at: $146.59\u001b[0m\n"
     ]
    },
    {
     "name": "stdout",
     "output_type": "stream",
     "text": [
      "1/1 [==============================] - 0s 25ms/step\n",
      "1/1 [==============================] - 0s 27ms/step\n"
     ]
    },
    {
     "name": "stderr",
     "output_type": "stream",
     "text": [
      "\u001b[32m2023-01-16 16:34:58\u001b[0m \u001b[35mDESKTOP-6JVVUQ4\u001b[0m \u001b[34mroot[10436]\u001b[0m \u001b[1;30mDEBUG\u001b[0m \u001b[32mSell at: $145.42 | Position: -$21.49\u001b[0m\n"
     ]
    },
    {
     "name": "stdout",
     "output_type": "stream",
     "text": [
      "1/1 [==============================] - 0s 26ms/step\n",
      "1/1 [==============================] - 0s 26ms/step\n"
     ]
    },
    {
     "name": "stderr",
     "output_type": "stream",
     "text": [
      "\u001b[32m2023-01-16 16:34:58\u001b[0m \u001b[35mDESKTOP-6JVVUQ4\u001b[0m \u001b[34mroot[10436]\u001b[0m \u001b[1;30mDEBUG\u001b[0m \u001b[32mBuy at: $148.02\u001b[0m\n"
     ]
    },
    {
     "name": "stdout",
     "output_type": "stream",
     "text": [
      "1/1 [==============================] - 0s 18ms/step\n"
     ]
    },
    {
     "name": "stderr",
     "output_type": "stream",
     "text": [
      "\u001b[32m2023-01-16 16:34:58\u001b[0m \u001b[35mDESKTOP-6JVVUQ4\u001b[0m \u001b[34mroot[10436]\u001b[0m \u001b[1;30mDEBUG\u001b[0m \u001b[32mSell at: $149.71 | Position: -$19.92\u001b[0m\n"
     ]
    },
    {
     "name": "stdout",
     "output_type": "stream",
     "text": [
      "1/1 [==============================] - 0s 25ms/step\n",
      "1/1 [==============================] - 0s 17ms/step\n",
      "1/1 [==============================] - 0s 18ms/step\n",
      "1/1 [==============================] - 0s 20ms/step\n"
     ]
    },
    {
     "name": "stderr",
     "output_type": "stream",
     "text": [
      "\u001b[32m2023-01-16 16:34:58\u001b[0m \u001b[35mDESKTOP-6JVVUQ4\u001b[0m \u001b[34mroot[10436]\u001b[0m \u001b[1;30mDEBUG\u001b[0m \u001b[32mSell at: $154.88 | Position: -$9.67\u001b[0m\n"
     ]
    },
    {
     "name": "stdout",
     "output_type": "stream",
     "text": [
      "1/1 [==============================] - 0s 25ms/step\n"
     ]
    },
    {
     "name": "stderr",
     "output_type": "stream",
     "text": [
      "\u001b[32m2023-01-16 16:34:58\u001b[0m \u001b[35mDESKTOP-6JVVUQ4\u001b[0m \u001b[34mroot[10436]\u001b[0m \u001b[1;30mDEBUG\u001b[0m \u001b[32mSell at: $153.62 | Position: -$10.71\u001b[0m\n"
     ]
    },
    {
     "name": "stdout",
     "output_type": "stream",
     "text": [
      "1/1 [==============================] - 0s 21ms/step\n"
     ]
    },
    {
     "name": "stderr",
     "output_type": "stream",
     "text": [
      "\u001b[32m2023-01-16 16:34:58\u001b[0m \u001b[35mDESKTOP-6JVVUQ4\u001b[0m \u001b[34mroot[10436]\u001b[0m \u001b[1;30mDEBUG\u001b[0m \u001b[32mSell at: $152.48 | Position: -$14.16\u001b[0m\n"
     ]
    },
    {
     "name": "stdout",
     "output_type": "stream",
     "text": [
      "1/1 [==============================] - 0s 26ms/step\n",
      "1/1 [==============================] - 0s 22ms/step\n"
     ]
    },
    {
     "name": "stderr",
     "output_type": "stream",
     "text": [
      "\u001b[32m2023-01-16 16:34:59\u001b[0m \u001b[35mDESKTOP-6JVVUQ4\u001b[0m \u001b[34mroot[10436]\u001b[0m \u001b[1;30mDEBUG\u001b[0m \u001b[32mSell at: $156.31 | Position: -$10.16\u001b[0m\n"
     ]
    },
    {
     "name": "stdout",
     "output_type": "stream",
     "text": [
      "1/1 [==============================] - 0s 14ms/step\n"
     ]
    },
    {
     "name": "stderr",
     "output_type": "stream",
     "text": [
      "\u001b[32m2023-01-16 16:34:59\u001b[0m \u001b[35mDESKTOP-6JVVUQ4\u001b[0m \u001b[34mroot[10436]\u001b[0m \u001b[1;30mDEBUG\u001b[0m \u001b[32mSell at: $156.87 | Position: -$8.80\u001b[0m\n"
     ]
    },
    {
     "name": "stdout",
     "output_type": "stream",
     "text": [
      "1/1 [==============================] - 0s 26ms/step\n"
     ]
    },
    {
     "name": "stderr",
     "output_type": "stream",
     "text": [
      "\u001b[32m2023-01-16 16:34:59\u001b[0m \u001b[35mDESKTOP-6JVVUQ4\u001b[0m \u001b[34mroot[10436]\u001b[0m \u001b[1;30mDEBUG\u001b[0m \u001b[32mSell at: $162.02 | Position: +$5.92\u001b[0m\n"
     ]
    },
    {
     "name": "stdout",
     "output_type": "stream",
     "text": [
      "1/1 [==============================] - 0s 26ms/step\n"
     ]
    },
    {
     "name": "stderr",
     "output_type": "stream",
     "text": [
      "\u001b[32m2023-01-16 16:34:59\u001b[0m \u001b[35mDESKTOP-6JVVUQ4\u001b[0m \u001b[34mroot[10436]\u001b[0m \u001b[1;30mDEBUG\u001b[0m \u001b[32mSell at: $161.02 | Position: +$5.15\u001b[0m\n"
     ]
    },
    {
     "name": "stdout",
     "output_type": "stream",
     "text": [
      "1/1 [==============================] - 0s 27ms/step\n"
     ]
    },
    {
     "name": "stderr",
     "output_type": "stream",
     "text": [
      "\u001b[32m2023-01-16 16:34:59\u001b[0m \u001b[35mDESKTOP-6JVVUQ4\u001b[0m \u001b[34mroot[10436]\u001b[0m \u001b[1;30mDEBUG\u001b[0m \u001b[32mSell at: $159.52 | Position: -$3.38\u001b[0m\n"
     ]
    },
    {
     "name": "stdout",
     "output_type": "stream",
     "text": [
      "1/1 [==============================] - 0s 21ms/step\n"
     ]
    },
    {
     "name": "stderr",
     "output_type": "stream",
     "text": [
      "\u001b[32m2023-01-16 16:34:59\u001b[0m \u001b[35mDESKTOP-6JVVUQ4\u001b[0m \u001b[34mroot[10436]\u001b[0m \u001b[1;30mDEBUG\u001b[0m \u001b[32mSell at: $165.62 | Position: +$8.68\u001b[0m\n"
     ]
    },
    {
     "name": "stdout",
     "output_type": "stream",
     "text": [
      "1/1 [==============================] - 0s 21ms/step\n"
     ]
    },
    {
     "name": "stderr",
     "output_type": "stream",
     "text": [
      "\u001b[32m2023-01-16 16:34:59\u001b[0m \u001b[35mDESKTOP-6JVVUQ4\u001b[0m \u001b[34mroot[10436]\u001b[0m \u001b[1;30mDEBUG\u001b[0m \u001b[32mSell at: $165.31 | Position: +$8.06\u001b[0m\n"
     ]
    },
    {
     "name": "stdout",
     "output_type": "stream",
     "text": [
      "1/1 [==============================] - 0s 22ms/step\n"
     ]
    },
    {
     "name": "stderr",
     "output_type": "stream",
     "text": [
      "\u001b[32m2023-01-16 16:34:59\u001b[0m \u001b[35mDESKTOP-6JVVUQ4\u001b[0m \u001b[34mroot[10436]\u001b[0m \u001b[1;30mDEBUG\u001b[0m \u001b[32mSell at: $165.08 | Position: +$9.01\u001b[0m\n"
     ]
    },
    {
     "name": "stdout",
     "output_type": "stream",
     "text": [
      "1/1 [==============================] - 0s 21ms/step\n"
     ]
    },
    {
     "name": "stderr",
     "output_type": "stream",
     "text": [
      "\u001b[32m2023-01-16 16:34:59\u001b[0m \u001b[35mDESKTOP-6JVVUQ4\u001b[0m \u001b[34mroot[10436]\u001b[0m \u001b[1;30mDEBUG\u001b[0m \u001b[32mSell at: $164.60 | Position: +$7.80\u001b[0m\n"
     ]
    },
    {
     "name": "stdout",
     "output_type": "stream",
     "text": [
      "1/1 [==============================] - 0s 23ms/step\n"
     ]
    },
    {
     "name": "stderr",
     "output_type": "stream",
     "text": [
      "\u001b[32m2023-01-16 16:34:59\u001b[0m \u001b[35mDESKTOP-6JVVUQ4\u001b[0m \u001b[34mroot[10436]\u001b[0m \u001b[1;30mDEBUG\u001b[0m \u001b[32mSell at: $164.65 | Position: +$10.61\u001b[0m\n"
     ]
    },
    {
     "name": "stdout",
     "output_type": "stream",
     "text": [
      "1/1 [==============================] - 0s 22ms/step\n"
     ]
    },
    {
     "name": "stderr",
     "output_type": "stream",
     "text": [
      "\u001b[32m2023-01-16 16:34:59\u001b[0m \u001b[35mDESKTOP-6JVVUQ4\u001b[0m \u001b[34mroot[10436]\u001b[0m \u001b[1;30mDEBUG\u001b[0m \u001b[32mSell at: $168.96 | Position: +$22.91\u001b[0m\n"
     ]
    },
    {
     "name": "stdout",
     "output_type": "stream",
     "text": [
      "1/1 [==============================] - 0s 15ms/step\n"
     ]
    },
    {
     "name": "stderr",
     "output_type": "stream",
     "text": [
      "\u001b[32m2023-01-16 16:34:59\u001b[0m \u001b[35mDESKTOP-6JVVUQ4\u001b[0m \u001b[34mroot[10436]\u001b[0m \u001b[1;30mDEBUG\u001b[0m \u001b[32mSell at: $168.21 | Position: +$26.08\u001b[0m\n"
     ]
    },
    {
     "name": "stdout",
     "output_type": "stream",
     "text": [
      "1/1 [==============================] - 0s 25ms/step\n"
     ]
    },
    {
     "name": "stderr",
     "output_type": "stream",
     "text": [
      "\u001b[32m2023-01-16 16:34:59\u001b[0m \u001b[35mDESKTOP-6JVVUQ4\u001b[0m \u001b[34mroot[10436]\u001b[0m \u001b[1;30mDEBUG\u001b[0m \u001b[32mSell at: $171.81 | Position: +$26.72\u001b[0m\n"
     ]
    },
    {
     "name": "stdout",
     "output_type": "stream",
     "text": [
      "1/1 [==============================] - 0s 26ms/step\n"
     ]
    },
    {
     "name": "stderr",
     "output_type": "stream",
     "text": [
      "\u001b[32m2023-01-16 16:35:00\u001b[0m \u001b[35mDESKTOP-6JVVUQ4\u001b[0m \u001b[34mroot[10436]\u001b[0m \u001b[1;30mDEBUG\u001b[0m \u001b[32mSell at: $172.90 | Position: +$24.12\u001b[0m\n"
     ]
    },
    {
     "name": "stdout",
     "output_type": "stream",
     "text": [
      "1/1 [==============================] - 0s 27ms/step\n"
     ]
    },
    {
     "name": "stderr",
     "output_type": "stream",
     "text": [
      "\u001b[32m2023-01-16 16:35:00\u001b[0m \u001b[35mDESKTOP-6JVVUQ4\u001b[0m \u001b[34mroot[10436]\u001b[0m \u001b[1;30mDEBUG\u001b[0m \u001b[32mSell at: $172.74 | Position: +$32.35\u001b[0m\n"
     ]
    },
    {
     "name": "stdout",
     "output_type": "stream",
     "text": [
      "1/1 [==============================] - 0s 23ms/step\n"
     ]
    },
    {
     "name": "stderr",
     "output_type": "stream",
     "text": [
      "\u001b[32m2023-01-16 16:35:00\u001b[0m \u001b[35mDESKTOP-6JVVUQ4\u001b[0m \u001b[34mroot[10436]\u001b[0m \u001b[1;30mDEBUG\u001b[0m \u001b[32mSell at: $174.26 | Position: +$37.33\u001b[0m\n"
     ]
    },
    {
     "name": "stdout",
     "output_type": "stream",
     "text": [
      "1/1 [==============================] - 0s 27ms/step\n"
     ]
    },
    {
     "name": "stderr",
     "output_type": "stream",
     "text": [
      "\u001b[32m2023-01-16 16:35:00\u001b[0m \u001b[35mDESKTOP-6JVVUQ4\u001b[0m \u001b[34mroot[10436]\u001b[0m \u001b[1;30mDEBUG\u001b[0m \u001b[32mSell at: $173.86 | Position: +$36.69\u001b[0m\n"
     ]
    },
    {
     "name": "stdout",
     "output_type": "stream",
     "text": [
      "1/1 [==============================] - 0s 16ms/step\n"
     ]
    },
    {
     "name": "stderr",
     "output_type": "stream",
     "text": [
      "\u001b[32m2023-01-16 16:35:00\u001b[0m \u001b[35mDESKTOP-6JVVUQ4\u001b[0m \u001b[34mroot[10436]\u001b[0m \u001b[1;30mDEBUG\u001b[0m \u001b[32mSell at: $171.24 | Position: +$31.30\u001b[0m\n"
     ]
    },
    {
     "name": "stdout",
     "output_type": "stream",
     "text": [
      "1/1 [==============================] - 0s 25ms/step\n"
     ]
    },
    {
     "name": "stderr",
     "output_type": "stream",
     "text": [
      "\u001b[32m2023-01-16 16:35:00\u001b[0m \u001b[35mDESKTOP-6JVVUQ4\u001b[0m \u001b[34mroot[10436]\u001b[0m \u001b[1;30mDEBUG\u001b[0m \u001b[32mSell at: $167.29 | Position: +$27.20\u001b[0m\n"
     ]
    },
    {
     "name": "stdout",
     "output_type": "stream",
     "text": [
      "1/1 [==============================] - 0s 25ms/step\n"
     ]
    },
    {
     "name": "stderr",
     "output_type": "stream",
     "text": [
      "\u001b[32m2023-01-16 16:35:00\u001b[0m \u001b[35mDESKTOP-6JVVUQ4\u001b[0m \u001b[34mroot[10436]\u001b[0m \u001b[1;30mDEBUG\u001b[0m \u001b[32mSell at: $166.95 | Position: +$23.61\u001b[0m\n"
     ]
    },
    {
     "name": "stdout",
     "output_type": "stream",
     "text": [
      "1/1 [==============================] - 0s 26ms/step\n"
     ]
    },
    {
     "name": "stderr",
     "output_type": "stream",
     "text": [
      "\u001b[32m2023-01-16 16:35:00\u001b[0m \u001b[35mDESKTOP-6JVVUQ4\u001b[0m \u001b[34mroot[10436]\u001b[0m \u001b[1;30mDEBUG\u001b[0m \u001b[32mSell at: $167.25 | Position: +$18.07\u001b[0m\n"
     ]
    },
    {
     "name": "stdout",
     "output_type": "stream",
     "text": [
      "1/1 [==============================] - 0s 25ms/step\n"
     ]
    },
    {
     "name": "stderr",
     "output_type": "stream",
     "text": [
      "\u001b[32m2023-01-16 16:35:00\u001b[0m \u001b[35mDESKTOP-6JVVUQ4\u001b[0m \u001b[34mroot[10436]\u001b[0m \u001b[1;30mDEBUG\u001b[0m \u001b[32mSell at: $169.75 | Position: +$21.36\u001b[0m\n"
     ]
    },
    {
     "name": "stdout",
     "output_type": "stream",
     "text": [
      "1/1 [==============================] - 0s 25ms/step\n"
     ]
    },
    {
     "name": "stderr",
     "output_type": "stream",
     "text": [
      "\u001b[32m2023-01-16 16:35:00\u001b[0m \u001b[35mDESKTOP-6JVVUQ4\u001b[0m \u001b[34mroot[10436]\u001b[0m \u001b[1;30mDEBUG\u001b[0m \u001b[32mSell at: $163.35 | Position: +$15.09\u001b[0m\n"
     ]
    },
    {
     "name": "stdout",
     "output_type": "stream",
     "text": [
      "1/1 [==============================] - 0s 25ms/step\n",
      "1/1 [==============================] - 0s 26ms/step\n"
     ]
    },
    {
     "name": "stderr",
     "output_type": "stream",
     "text": [
      "\u001b[32m2023-01-16 16:35:00\u001b[0m \u001b[35mDESKTOP-6JVVUQ4\u001b[0m \u001b[34mroot[10436]\u001b[0m \u001b[1;30mDEBUG\u001b[0m \u001b[32mBuy at: $158.65\u001b[0m\n"
     ]
    },
    {
     "name": "stdout",
     "output_type": "stream",
     "text": [
      "1/1 [==============================] - 0s 26ms/step\n"
     ]
    },
    {
     "name": "stderr",
     "output_type": "stream",
     "text": [
      "\u001b[32m2023-01-16 16:35:00\u001b[0m \u001b[35mDESKTOP-6JVVUQ4\u001b[0m \u001b[34mroot[10436]\u001b[0m \u001b[1;30mDEBUG\u001b[0m \u001b[32mBuy at: $156.96\u001b[0m\n"
     ]
    },
    {
     "name": "stdout",
     "output_type": "stream",
     "text": [
      "1/1 [==============================] - 0s 23ms/step\n",
      "1/1 [==============================] - 0s 26ms/step\n"
     ]
    },
    {
     "name": "stderr",
     "output_type": "stream",
     "text": [
      "\u001b[32m2023-01-16 16:35:00\u001b[0m \u001b[35mDESKTOP-6JVVUQ4\u001b[0m \u001b[34mroot[10436]\u001b[0m \u001b[1;30mDEBUG\u001b[0m \u001b[32mBuy at: $155.55\u001b[0m\n"
     ]
    },
    {
     "name": "stdout",
     "output_type": "stream",
     "text": [
      "1/1 [==============================] - 0s 24ms/step\n"
     ]
    },
    {
     "name": "stderr",
     "output_type": "stream",
     "text": [
      "\u001b[32m2023-01-16 16:35:01\u001b[0m \u001b[35mDESKTOP-6JVVUQ4\u001b[0m \u001b[34mroot[10436]\u001b[0m \u001b[1;30mDEBUG\u001b[0m \u001b[32mBuy at: $154.27\u001b[0m\n"
     ]
    },
    {
     "name": "stdout",
     "output_type": "stream",
     "text": [
      "1/1 [==============================] - 0s 27ms/step\n"
     ]
    },
    {
     "name": "stderr",
     "output_type": "stream",
     "text": [
      "\u001b[32m2023-01-16 16:35:01\u001b[0m \u001b[35mDESKTOP-6JVVUQ4\u001b[0m \u001b[34mroot[10436]\u001b[0m \u001b[1;30mDEBUG\u001b[0m \u001b[32mBuy at: $155.70\u001b[0m\n"
     ]
    },
    {
     "name": "stdout",
     "output_type": "stream",
     "text": [
      "1/1 [==============================] - 0s 21ms/step\n"
     ]
    },
    {
     "name": "stderr",
     "output_type": "stream",
     "text": [
      "\u001b[32m2023-01-16 16:35:01\u001b[0m \u001b[35mDESKTOP-6JVVUQ4\u001b[0m \u001b[34mroot[10436]\u001b[0m \u001b[1;30mDEBUG\u001b[0m \u001b[32mBuy at: $154.20\u001b[0m\n"
     ]
    },
    {
     "name": "stdout",
     "output_type": "stream",
     "text": [
      "1/1 [==============================] - 0s 13ms/step\n"
     ]
    },
    {
     "name": "stderr",
     "output_type": "stream",
     "text": [
      "\u001b[32m2023-01-16 16:35:01\u001b[0m \u001b[35mDESKTOP-6JVVUQ4\u001b[0m \u001b[34mroot[10436]\u001b[0m \u001b[1;30mDEBUG\u001b[0m \u001b[32mSell at: $157.11 | Position: +$12.17\u001b[0m\n"
     ]
    },
    {
     "name": "stdout",
     "output_type": "stream",
     "text": [
      "1/1 [==============================] - 0s 26ms/step\n"
     ]
    },
    {
     "name": "stderr",
     "output_type": "stream",
     "text": [
      "\u001b[32m2023-01-16 16:35:01\u001b[0m \u001b[35mDESKTOP-6JVVUQ4\u001b[0m \u001b[34mroot[10436]\u001b[0m \u001b[1;30mDEBUG\u001b[0m \u001b[32mBuy at: $163.16\u001b[0m\n"
     ]
    },
    {
     "name": "stdout",
     "output_type": "stream",
     "text": [
      "1/1 [==============================] - 0s 26ms/step\n",
      "1/1 [==============================] - 0s 26ms/step\n"
     ]
    },
    {
     "name": "stderr",
     "output_type": "stream",
     "text": [
      "\u001b[32m2023-01-16 16:35:01\u001b[0m \u001b[35mDESKTOP-6JVVUQ4\u001b[0m \u001b[34mroot[10436]\u001b[0m \u001b[1;30mDEBUG\u001b[0m \u001b[32mSell at: $155.05 | Position: +$9.36\u001b[0m\n"
     ]
    },
    {
     "name": "stdout",
     "output_type": "stream",
     "text": [
      "1/1 [==============================] - 0s 26ms/step\n"
     ]
    },
    {
     "name": "stderr",
     "output_type": "stream",
     "text": [
      "\u001b[32m2023-01-16 16:35:01\u001b[0m \u001b[35mDESKTOP-6JVVUQ4\u001b[0m \u001b[34mroot[10436]\u001b[0m \u001b[1;30mDEBUG\u001b[0m \u001b[32mBuy at: $152.12\u001b[0m\n"
     ]
    },
    {
     "name": "stdout",
     "output_type": "stream",
     "text": [
      "1/1 [==============================] - 0s 25ms/step\n"
     ]
    },
    {
     "name": "stderr",
     "output_type": "stream",
     "text": [
      "\u001b[32m2023-01-16 16:35:01\u001b[0m \u001b[35mDESKTOP-6JVVUQ4\u001b[0m \u001b[34mroot[10436]\u001b[0m \u001b[1;30mDEBUG\u001b[0m \u001b[32mBuy at: $150.45\u001b[0m\n"
     ]
    },
    {
     "name": "stdout",
     "output_type": "stream",
     "text": [
      "1/1 [==============================] - 0s 26ms/step\n"
     ]
    },
    {
     "name": "stderr",
     "output_type": "stream",
     "text": [
      "\u001b[32m2023-01-16 16:35:01\u001b[0m \u001b[35mDESKTOP-6JVVUQ4\u001b[0m \u001b[34mroot[10436]\u001b[0m \u001b[1;30mDEBUG\u001b[0m \u001b[32mSell at: $154.22 | Position: +$5.97\u001b[0m\n"
     ]
    },
    {
     "name": "stdout",
     "output_type": "stream",
     "text": [
      "1/1 [==============================] - 0s 25ms/step\n"
     ]
    },
    {
     "name": "stderr",
     "output_type": "stream",
     "text": [
      "\u001b[32m2023-01-16 16:35:01\u001b[0m \u001b[35mDESKTOP-6JVVUQ4\u001b[0m \u001b[34mroot[10436]\u001b[0m \u001b[1;30mDEBUG\u001b[0m \u001b[32mSell at: $156.64 | Position: +$9.13\u001b[0m\n"
     ]
    },
    {
     "name": "stdout",
     "output_type": "stream",
     "text": [
      "1/1 [==============================] - 0s 26ms/step\n",
      "1/1 [==============================] - 0s 15ms/step\n"
     ]
    },
    {
     "name": "stderr",
     "output_type": "stream",
     "text": [
      "\u001b[32m2023-01-16 16:35:01\u001b[0m \u001b[35mDESKTOP-6JVVUQ4\u001b[0m \u001b[34mroot[10436]\u001b[0m \u001b[1;30mDEBUG\u001b[0m \u001b[32mBuy at: $152.49\u001b[0m\n"
     ]
    },
    {
     "name": "stdout",
     "output_type": "stream",
     "text": [
      "1/1 [==============================] - 0s 25ms/step\n"
     ]
    },
    {
     "name": "stderr",
     "output_type": "stream",
     "text": [
      "\u001b[32m2023-01-16 16:35:01\u001b[0m \u001b[35mDESKTOP-6JVVUQ4\u001b[0m \u001b[34mroot[10436]\u001b[0m \u001b[1;30mDEBUG\u001b[0m \u001b[32mBuy at: $150.18\u001b[0m\n"
     ]
    },
    {
     "name": "stdout",
     "output_type": "stream",
     "text": [
      "1/1 [==============================] - 0s 26ms/step\n"
     ]
    },
    {
     "name": "stderr",
     "output_type": "stream",
     "text": [
      "\u001b[32m2023-01-16 16:35:01\u001b[0m \u001b[35mDESKTOP-6JVVUQ4\u001b[0m \u001b[34mroot[10436]\u001b[0m \u001b[1;30mDEBUG\u001b[0m \u001b[32mBuy at: $150.52\u001b[0m\n"
     ]
    },
    {
     "name": "stdout",
     "output_type": "stream",
     "text": [
      "1/1 [==============================] - 0s 25ms/step\n"
     ]
    },
    {
     "name": "stderr",
     "output_type": "stream",
     "text": [
      "\u001b[32m2023-01-16 16:35:02\u001b[0m \u001b[35mDESKTOP-6JVVUQ4\u001b[0m \u001b[34mroot[10436]\u001b[0m \u001b[1;30mDEBUG\u001b[0m \u001b[32mBuy at: $151.51\u001b[0m\n"
     ]
    },
    {
     "name": "stdout",
     "output_type": "stream",
     "text": [
      "1/1 [==============================] - 0s 26ms/step\n"
     ]
    },
    {
     "name": "stderr",
     "output_type": "stream",
     "text": [
      "\u001b[32m2023-01-16 16:35:02\u001b[0m \u001b[35mDESKTOP-6JVVUQ4\u001b[0m \u001b[34mroot[10436]\u001b[0m \u001b[1;30mDEBUG\u001b[0m \u001b[32mSell at: $149.59 | Position: +$12.88\u001b[0m\n"
     ]
    },
    {
     "name": "stdout",
     "output_type": "stream",
     "text": [
      "1/1 [==============================] - 0s 25ms/step\n"
     ]
    },
    {
     "name": "stderr",
     "output_type": "stream",
     "text": [
      "\u001b[32m2023-01-16 16:35:02\u001b[0m \u001b[35mDESKTOP-6JVVUQ4\u001b[0m \u001b[34mroot[10436]\u001b[0m \u001b[1;30mDEBUG\u001b[0m \u001b[32mBuy at: $142.24\u001b[0m\n"
     ]
    },
    {
     "name": "stdout",
     "output_type": "stream",
     "text": [
      "1/1 [==============================] - 0s 25ms/step\n"
     ]
    },
    {
     "name": "stderr",
     "output_type": "stream",
     "text": [
      "\u001b[32m2023-01-16 16:35:02\u001b[0m \u001b[35mDESKTOP-6JVVUQ4\u001b[0m \u001b[34mroot[10436]\u001b[0m \u001b[1;30mDEBUG\u001b[0m \u001b[32mBuy at: $137.97\u001b[0m\n"
     ]
    },
    {
     "name": "stdout",
     "output_type": "stream",
     "text": [
      "1/1 [==============================] - 0s 26ms/step\n",
      "1/1 [==============================] - 0s 26ms/step\n",
      "1/1 [==============================] - 0s 26ms/step\n"
     ]
    },
    {
     "name": "stderr",
     "output_type": "stream",
     "text": [
      "\u001b[32m2023-01-16 16:35:02\u001b[0m \u001b[35mDESKTOP-6JVVUQ4\u001b[0m \u001b[34mroot[10436]\u001b[0m \u001b[1;30mDEBUG\u001b[0m \u001b[32mBuy at: $146.16\u001b[0m\n"
     ]
    },
    {
     "name": "stdout",
     "output_type": "stream",
     "text": [
      "1/1 [==============================] - 0s 25ms/step\n"
     ]
    },
    {
     "name": "stderr",
     "output_type": "stream",
     "text": [
      "\u001b[32m2023-01-16 16:35:02\u001b[0m \u001b[35mDESKTOP-6JVVUQ4\u001b[0m \u001b[34mroot[10436]\u001b[0m \u001b[1;30mDEBUG\u001b[0m \u001b[32mBuy at: $145.19\u001b[0m\n"
     ]
    },
    {
     "name": "stdout",
     "output_type": "stream",
     "text": [
      "1/1 [==============================] - 0s 19ms/step\n",
      "1/1 [==============================] - 0s 22ms/step\n",
      "1/1 [==============================] - 0s 25ms/step\n",
      "1/1 [==============================] - 0s 25ms/step\n"
     ]
    },
    {
     "name": "stderr",
     "output_type": "stream",
     "text": [
      "\u001b[32m2023-01-16 16:35:02\u001b[0m \u001b[35mDESKTOP-6JVVUQ4\u001b[0m \u001b[34mroot[10436]\u001b[0m \u001b[1;30mDEBUG\u001b[0m \u001b[32mBuy at: $138.11\u001b[0m\n"
     ]
    },
    {
     "name": "stdout",
     "output_type": "stream",
     "text": [
      "1/1 [==============================] - 0s 25ms/step\n"
     ]
    },
    {
     "name": "stderr",
     "output_type": "stream",
     "text": [
      "\u001b[32m2023-01-16 16:35:02\u001b[0m \u001b[35mDESKTOP-6JVVUQ4\u001b[0m \u001b[34mroot[10436]\u001b[0m \u001b[1;30mDEBUG\u001b[0m \u001b[32mSell at: $142.75 | Position: +$10.40\u001b[0m\n"
     ]
    },
    {
     "name": "stdout",
     "output_type": "stream",
     "text": [
      "1/1 [==============================] - 0s 25ms/step\n"
     ]
    },
    {
     "name": "stderr",
     "output_type": "stream",
     "text": [
      "\u001b[32m2023-01-16 16:35:02\u001b[0m \u001b[35mDESKTOP-6JVVUQ4\u001b[0m \u001b[34mroot[10436]\u001b[0m \u001b[1;30mDEBUG\u001b[0m \u001b[32mBuy at: $138.15\u001b[0m\n"
     ]
    },
    {
     "name": "stdout",
     "output_type": "stream",
     "text": [
      "1/1 [==============================] - 0s 26ms/step\n"
     ]
    },
    {
     "name": "stderr",
     "output_type": "stream",
     "text": [
      "\u001b[32m2023-01-16 16:35:02\u001b[0m \u001b[35mDESKTOP-6JVVUQ4\u001b[0m \u001b[34mroot[10436]\u001b[0m \u001b[1;30mDEBUG\u001b[0m \u001b[32mBuy at: $142.17\u001b[0m\n"
     ]
    },
    {
     "name": "stdout",
     "output_type": "stream",
     "text": [
      "1/1 [==============================] - 0s 25ms/step\n"
     ]
    },
    {
     "name": "stderr",
     "output_type": "stream",
     "text": [
      "\u001b[32m2023-01-16 16:35:03\u001b[0m \u001b[35mDESKTOP-6JVVUQ4\u001b[0m \u001b[34mroot[10436]\u001b[0m \u001b[1;30mDEBUG\u001b[0m \u001b[32mBuy at: $143.51\u001b[0m\n"
     ]
    },
    {
     "name": "stdout",
     "output_type": "stream",
     "text": [
      "1/1 [==============================] - 0s 26ms/step\n",
      "1/1 [==============================] - 0s 23ms/step\n"
     ]
    },
    {
     "name": "stderr",
     "output_type": "stream",
     "text": [
      "\u001b[32m2023-01-16 16:35:03\u001b[0m \u001b[35mDESKTOP-6JVVUQ4\u001b[0m \u001b[34mroot[10436]\u001b[0m \u001b[1;30mDEBUG\u001b[0m \u001b[32mSell at: $143.15 | Position: +$8.13\u001b[0m\n"
     ]
    },
    {
     "name": "stdout",
     "output_type": "stream",
     "text": [
      "1/1 [==============================] - 0s 24ms/step\n"
     ]
    },
    {
     "name": "stderr",
     "output_type": "stream",
     "text": [
      "\u001b[32m2023-01-16 16:35:03\u001b[0m \u001b[35mDESKTOP-6JVVUQ4\u001b[0m \u001b[34mroot[10436]\u001b[0m \u001b[1;30mDEBUG\u001b[0m \u001b[32mBuy at: $147.03\u001b[0m\n"
     ]
    },
    {
     "name": "stdout",
     "output_type": "stream",
     "text": [
      "1/1 [==============================] - 0s 25ms/step\n",
      "1/1 [==============================] - 0s 25ms/step\n"
     ]
    },
    {
     "name": "stderr",
     "output_type": "stream",
     "text": [
      "\u001b[32m2023-01-16 16:35:03\u001b[0m \u001b[35mDESKTOP-6JVVUQ4\u001b[0m \u001b[34mroot[10436]\u001b[0m \u001b[1;30mDEBUG\u001b[0m \u001b[32mSell at: $152.09 | Position: +$22.42\u001b[0m\n"
     ]
    },
    {
     "name": "stdout",
     "output_type": "stream",
     "text": [
      "1/1 [==============================] - 0s 18ms/step\n"
     ]
    },
    {
     "name": "stderr",
     "output_type": "stream",
     "text": [
      "\u001b[32m2023-01-16 16:35:03\u001b[0m \u001b[35mDESKTOP-6JVVUQ4\u001b[0m \u001b[34mroot[10436]\u001b[0m \u001b[1;30mDEBUG\u001b[0m \u001b[32mBuy at: $149.10\u001b[0m\n"
     ]
    },
    {
     "name": "stdout",
     "output_type": "stream",
     "text": [
      "1/1 [==============================] - 0s 25ms/step\n"
     ]
    },
    {
     "name": "stderr",
     "output_type": "stream",
     "text": [
      "\u001b[32m2023-01-16 16:35:03\u001b[0m \u001b[35mDESKTOP-6JVVUQ4\u001b[0m \u001b[34mroot[10436]\u001b[0m \u001b[1;30mDEBUG\u001b[0m \u001b[32mSell at: $144.56 | Position: +$13.40\u001b[0m\n"
     ]
    },
    {
     "name": "stdout",
     "output_type": "stream",
     "text": [
      "1/1 [==============================] - 0s 26ms/step\n"
     ]
    },
    {
     "name": "stderr",
     "output_type": "stream",
     "text": [
      "\u001b[32m2023-01-16 16:35:03\u001b[0m \u001b[35mDESKTOP-6JVVUQ4\u001b[0m \u001b[34mroot[10436]\u001b[0m \u001b[1;30mDEBUG\u001b[0m \u001b[32mSell at: $155.48 | Position: +$20.03\u001b[0m\n"
     ]
    },
    {
     "name": "stdout",
     "output_type": "stream",
     "text": [
      "1/1 [==============================] - 0s 25ms/step\n"
     ]
    },
    {
     "name": "stderr",
     "output_type": "stream",
     "text": [
      "\u001b[32m2023-01-16 16:35:03\u001b[0m \u001b[35mDESKTOP-6JVVUQ4\u001b[0m \u001b[34mroot[10436]\u001b[0m \u001b[1;30mDEBUG\u001b[0m \u001b[32mSell at: $153.09 | Position: +$18.15\u001b[0m\n"
     ]
    },
    {
     "name": "stdout",
     "output_type": "stream",
     "text": [
      "1/1 [==============================] - 0s 26ms/step\n"
     ]
    },
    {
     "name": "stderr",
     "output_type": "stream",
     "text": [
      "\u001b[32m2023-01-16 16:35:03\u001b[0m \u001b[35mDESKTOP-6JVVUQ4\u001b[0m \u001b[34mroot[10436]\u001b[0m \u001b[1;30mDEBUG\u001b[0m \u001b[32mBuy at: $150.40\u001b[0m\n"
     ]
    },
    {
     "name": "stdout",
     "output_type": "stream",
     "text": [
      "1/1 [==============================] - 0s 26ms/step\n",
      "1/1 [==============================] - 0s 25ms/step\n",
      "1/1 [==============================] - 0s 26ms/step\n",
      "1/1 [==============================] - 0s 25ms/step\n",
      "1/1 [==============================] - 0s 18ms/step\n",
      "1/1 [==============================] - 0s 18ms/step\n"
     ]
    },
    {
     "name": "stderr",
     "output_type": "stream",
     "text": [
      "\u001b[32m2023-01-16 16:35:04\u001b[0m \u001b[35mDESKTOP-6JVVUQ4\u001b[0m \u001b[34mroot[10436]\u001b[0m \u001b[1;30mDEBUG\u001b[0m \u001b[32mBuy at: $134.87\u001b[0m\n"
     ]
    },
    {
     "name": "stdout",
     "output_type": "stream",
     "text": [
      "1/1 [==============================] - 0s 18ms/step\n"
     ]
    },
    {
     "name": "stderr",
     "output_type": "stream",
     "text": [
      "\u001b[32m2023-01-16 16:35:04\u001b[0m \u001b[35mDESKTOP-6JVVUQ4\u001b[0m \u001b[34mroot[10436]\u001b[0m \u001b[1;30mDEBUG\u001b[0m \u001b[32mSell at: $146.87 | Position: +$5.64\u001b[0m\n"
     ]
    },
    {
     "name": "stdout",
     "output_type": "stream",
     "text": [
      "1/1 [==============================] - 0s 19ms/step\n",
      "1/1 [==============================] - 0s 21ms/step\n"
     ]
    },
    {
     "name": "stderr",
     "output_type": "stream",
     "text": [
      "\u001b[32m2023-01-16 16:35:04\u001b[0m \u001b[35mDESKTOP-6JVVUQ4\u001b[0m \u001b[34mroot[10436]\u001b[0m \u001b[1;30mDEBUG\u001b[0m \u001b[32mSell at: $148.28 | Position: +$9.47\u001b[0m\n"
     ]
    },
    {
     "name": "stdout",
     "output_type": "stream",
     "text": [
      "1/1 [==============================] - 0s 21ms/step\n"
     ]
    },
    {
     "name": "stderr",
     "output_type": "stream",
     "text": [
      "\u001b[32m2023-01-16 16:35:04\u001b[0m \u001b[35mDESKTOP-6JVVUQ4\u001b[0m \u001b[34mroot[10436]\u001b[0m \u001b[1;30mDEBUG\u001b[0m \u001b[32mSell at: $150.04 | Position: +$11.53\u001b[0m\n"
     ]
    },
    {
     "name": "stdout",
     "output_type": "stream",
     "text": [
      "1/1 [==============================] - 0s 25ms/step\n"
     ]
    },
    {
     "name": "stderr",
     "output_type": "stream",
     "text": [
      "\u001b[32m2023-01-16 16:35:04\u001b[0m \u001b[35mDESKTOP-6JVVUQ4\u001b[0m \u001b[34mroot[10436]\u001b[0m \u001b[1;30mDEBUG\u001b[0m \u001b[32mSell at: $148.79 | Position: +$7.66\u001b[0m\n"
     ]
    },
    {
     "name": "stdout",
     "output_type": "stream",
     "text": [
      "1/1 [==============================] - 0s 15ms/step\n"
     ]
    },
    {
     "name": "stderr",
     "output_type": "stream",
     "text": [
      "\u001b[32m2023-01-16 16:35:04\u001b[0m \u001b[35mDESKTOP-6JVVUQ4\u001b[0m \u001b[34mroot[10436]\u001b[0m \u001b[1;30mDEBUG\u001b[0m \u001b[32mSell at: $150.72 | Position: +$8.23\u001b[0m\n"
     ]
    },
    {
     "name": "stdout",
     "output_type": "stream",
     "text": [
      "1/1 [==============================] - 0s 25ms/step\n"
     ]
    },
    {
     "name": "stderr",
     "output_type": "stream",
     "text": [
      "\u001b[32m2023-01-16 16:35:04\u001b[0m \u001b[35mDESKTOP-6JVVUQ4\u001b[0m \u001b[34mroot[10436]\u001b[0m \u001b[1;30mDEBUG\u001b[0m \u001b[32mSell at: $151.29 | Position: +$5.39\u001b[0m\n"
     ]
    },
    {
     "name": "stdout",
     "output_type": "stream",
     "text": [
      "1/1 [==============================] - 0s 26ms/step\n"
     ]
    },
    {
     "name": "stderr",
     "output_type": "stream",
     "text": [
      "\u001b[32m2023-01-16 16:35:04\u001b[0m \u001b[35mDESKTOP-6JVVUQ4\u001b[0m \u001b[34mroot[10436]\u001b[0m \u001b[1;30mDEBUG\u001b[0m \u001b[32mBuy at: $148.01\u001b[0m\n"
     ]
    },
    {
     "name": "stdout",
     "output_type": "stream",
     "text": [
      "1/1 [==============================] - 0s 25ms/step\n"
     ]
    },
    {
     "name": "stderr",
     "output_type": "stream",
     "text": [
      "\u001b[32m2023-01-16 16:35:04\u001b[0m \u001b[35mDESKTOP-6JVVUQ4\u001b[0m \u001b[34mroot[10436]\u001b[0m \u001b[1;30mDEBUG\u001b[0m \u001b[32mSell at: $150.18 | Position: +$3.59\u001b[0m\n"
     ]
    },
    {
     "name": "stdout",
     "output_type": "stream",
     "text": [
      "1/1 [==============================] - 0s 26ms/step\n"
     ]
    },
    {
     "name": "stderr",
     "output_type": "stream",
     "text": [
      "\u001b[32m2023-01-16 16:35:04\u001b[0m \u001b[35mDESKTOP-6JVVUQ4\u001b[0m \u001b[34mroot[10436]\u001b[0m \u001b[1;30mDEBUG\u001b[0m \u001b[32mBuy at: $151.07\u001b[0m\n"
     ]
    },
    {
     "name": "stdout",
     "output_type": "stream",
     "text": [
      "1/1 [==============================] - 0s 16ms/step\n"
     ]
    },
    {
     "name": "stderr",
     "output_type": "stream",
     "text": [
      "\u001b[32m2023-01-16 16:35:04\u001b[0m \u001b[35mDESKTOP-6JVVUQ4\u001b[0m \u001b[34mroot[10436]\u001b[0m \u001b[1;30mDEBUG\u001b[0m \u001b[32mSell at: $148.11 | Position: +$0.09\u001b[0m\n"
     ]
    },
    {
     "name": "stdout",
     "output_type": "stream",
     "text": [
      "1/1 [==============================] - 0s 24ms/step\n",
      "1/1 [==============================] - 0s 25ms/step\n",
      "1/1 [==============================] - 0s 22ms/step\n"
     ]
    },
    {
     "name": "stderr",
     "output_type": "stream",
     "text": [
      "\u001b[32m2023-01-16 16:35:05\u001b[0m \u001b[35mDESKTOP-6JVVUQ4\u001b[0m \u001b[34mroot[10436]\u001b[0m \u001b[1;30mDEBUG\u001b[0m \u001b[32mSell at: $148.03 | Position: -$10.62\u001b[0m\n"
     ]
    },
    {
     "name": "stdout",
     "output_type": "stream",
     "text": [
      "1/1 [==============================] - 0s 23ms/step\n"
     ]
    },
    {
     "name": "stderr",
     "output_type": "stream",
     "text": [
      "\u001b[32m2023-01-16 16:35:05\u001b[0m \u001b[35mDESKTOP-6JVVUQ4\u001b[0m \u001b[34mroot[10436]\u001b[0m \u001b[1;30mDEBUG\u001b[0m \u001b[32mBuy at: $148.31\u001b[0m\n"
     ]
    },
    {
     "name": "stdout",
     "output_type": "stream",
     "text": [
      "1/1 [==============================] - 0s 16ms/step\n"
     ]
    },
    {
     "name": "stderr",
     "output_type": "stream",
     "text": [
      "\u001b[32m2023-01-16 16:35:05\u001b[0m \u001b[35mDESKTOP-6JVVUQ4\u001b[0m \u001b[34mroot[10436]\u001b[0m \u001b[1;30mDEBUG\u001b[0m \u001b[32mBuy at: $147.81\u001b[0m\n"
     ]
    },
    {
     "name": "stdout",
     "output_type": "stream",
     "text": [
      "1/1 [==============================] - 0s 25ms/step\n"
     ]
    },
    {
     "name": "stderr",
     "output_type": "stream",
     "text": [
      "\u001b[32m2023-01-16 16:35:05\u001b[0m \u001b[35mDESKTOP-6JVVUQ4\u001b[0m \u001b[34mroot[10436]\u001b[0m \u001b[1;30mDEBUG\u001b[0m \u001b[32mBuy at: $146.63\u001b[0m\n"
     ]
    },
    {
     "name": "stdout",
     "output_type": "stream",
     "text": [
      "1/1 [==============================] - 0s 19ms/step\n",
      "1/1 [==============================] - 0s 20ms/step\n"
     ]
    },
    {
     "name": "stderr",
     "output_type": "stream",
     "text": [
      "\u001b[32m2023-01-16 16:35:05\u001b[0m \u001b[35mDESKTOP-6JVVUQ4\u001b[0m \u001b[34mroot[10436]\u001b[0m \u001b[1;30mDEBUG\u001b[0m \u001b[32mBuy at: $140.94\u001b[0m\n"
     ]
    },
    {
     "name": "stdout",
     "output_type": "stream",
     "text": [
      "1/1 [==============================] - 0s 21ms/step\n",
      "1/1 [==============================] - 0s 25ms/step\n"
     ]
    },
    {
     "name": "stderr",
     "output_type": "stream",
     "text": [
      "\u001b[32m2023-01-16 16:35:05\u001b[0m \u001b[35mDESKTOP-6JVVUQ4\u001b[0m \u001b[34mroot[10436]\u001b[0m \u001b[1;30mDEBUG\u001b[0m \u001b[32mSell at: $142.16 | Position: -$14.80\u001b[0m\n"
     ]
    },
    {
     "name": "stdout",
     "output_type": "stream",
     "text": [
      "1/1 [==============================] - 0s 24ms/step\n"
     ]
    },
    {
     "name": "stderr",
     "output_type": "stream",
     "text": [
      "\u001b[32m2023-01-16 16:35:05\u001b[0m \u001b[35mDESKTOP-6JVVUQ4\u001b[0m \u001b[34mroot[10436]\u001b[0m \u001b[1;30mDEBUG\u001b[0m \u001b[32mSell at: $144.49 | Position: -$11.06\u001b[0m\n"
     ]
    },
    {
     "name": "stdout",
     "output_type": "stream",
     "text": [
      "1/1 [==============================] - 0s 24ms/step\n"
     ]
    },
    {
     "name": "stderr",
     "output_type": "stream",
     "text": [
      "\u001b[32m2023-01-16 16:35:05\u001b[0m \u001b[35mDESKTOP-6JVVUQ4\u001b[0m \u001b[34mroot[10436]\u001b[0m \u001b[1;30mDEBUG\u001b[0m \u001b[32mBuy at: $145.47\u001b[0m\n"
     ]
    },
    {
     "name": "stdout",
     "output_type": "stream",
     "text": [
      "1/1 [==============================] - 0s 25ms/step\n",
      "1/1 [==============================] - 0s 26ms/step\n"
     ]
    },
    {
     "name": "stderr",
     "output_type": "stream",
     "text": [
      "\u001b[32m2023-01-16 16:35:05\u001b[0m \u001b[35mDESKTOP-6JVVUQ4\u001b[0m \u001b[34mroot[10436]\u001b[0m \u001b[1;30mDEBUG\u001b[0m \u001b[32mBuy at: $136.50\u001b[0m\n"
     ]
    },
    {
     "name": "stdout",
     "output_type": "stream",
     "text": [
      "1/1 [==============================] - 0s 20ms/step\n"
     ]
    },
    {
     "name": "stderr",
     "output_type": "stream",
     "text": [
      "\u001b[32m2023-01-16 16:35:05\u001b[0m \u001b[35mDESKTOP-6JVVUQ4\u001b[0m \u001b[34mroot[10436]\u001b[0m \u001b[1;30mDEBUG\u001b[0m \u001b[32mBuy at: $134.51\u001b[0m\n"
     ]
    },
    {
     "name": "stdout",
     "output_type": "stream",
     "text": [
      "1/1 [==============================] - 0s 25ms/step\n"
     ]
    },
    {
     "name": "stderr",
     "output_type": "stream",
     "text": [
      "\u001b[32m2023-01-16 16:35:05\u001b[0m \u001b[35mDESKTOP-6JVVUQ4\u001b[0m \u001b[34mroot[10436]\u001b[0m \u001b[1;30mDEBUG\u001b[0m \u001b[32mBuy at: $132.37\u001b[0m\n"
     ]
    },
    {
     "name": "stdout",
     "output_type": "stream",
     "text": [
      "1/1 [==============================] - 0s 18ms/step\n"
     ]
    },
    {
     "name": "stderr",
     "output_type": "stream",
     "text": [
      "\u001b[32m2023-01-16 16:35:05\u001b[0m \u001b[35mDESKTOP-6JVVUQ4\u001b[0m \u001b[34mroot[10436]\u001b[0m \u001b[1;30mDEBUG\u001b[0m \u001b[32mBuy at: $132.30\u001b[0m\n"
     ]
    },
    {
     "name": "stdout",
     "output_type": "stream",
     "text": [
      "1/1 [==============================] - 0s 26ms/step\n"
     ]
    },
    {
     "name": "stderr",
     "output_type": "stream",
     "text": [
      "\u001b[32m2023-01-16 16:35:06\u001b[0m \u001b[35mDESKTOP-6JVVUQ4\u001b[0m \u001b[34mroot[10436]\u001b[0m \u001b[1;30mDEBUG\u001b[0m \u001b[32mBuy at: $135.45\u001b[0m\n"
     ]
    },
    {
     "name": "stdout",
     "output_type": "stream",
     "text": [
      "1/1 [==============================] - 0s 18ms/step\n"
     ]
    },
    {
     "name": "stderr",
     "output_type": "stream",
     "text": [
      "\u001b[32m2023-01-16 16:35:06\u001b[0m \u001b[35mDESKTOP-6JVVUQ4\u001b[0m \u001b[34mroot[10436]\u001b[0m \u001b[1;30mDEBUG\u001b[0m \u001b[32mBuy at: $132.23\u001b[0m\n"
     ]
    },
    {
     "name": "stdout",
     "output_type": "stream",
     "text": [
      "1/1 [==============================] - 0s 25ms/step\n"
     ]
    },
    {
     "name": "stderr",
     "output_type": "stream",
     "text": [
      "\u001b[32m2023-01-16 16:35:06\u001b[0m \u001b[35mDESKTOP-6JVVUQ4\u001b[0m \u001b[34mroot[10436]\u001b[0m \u001b[1;30mDEBUG\u001b[0m \u001b[32mBuy at: $131.86\u001b[0m\n"
     ]
    },
    {
     "name": "stdout",
     "output_type": "stream",
     "text": [
      "1/1 [==============================] - 0s 20ms/step\n"
     ]
    },
    {
     "name": "stderr",
     "output_type": "stream",
     "text": [
      "\u001b[32m2023-01-16 16:35:06\u001b[0m \u001b[35mDESKTOP-6JVVUQ4\u001b[0m \u001b[34mroot[10436]\u001b[0m \u001b[1;30mDEBUG\u001b[0m \u001b[32mBuy at: $130.03\u001b[0m\n"
     ]
    },
    {
     "name": "stdout",
     "output_type": "stream",
     "text": [
      "1/1 [==============================] - 0s 19ms/step\n"
     ]
    },
    {
     "name": "stderr",
     "output_type": "stream",
     "text": [
      "\u001b[32m2023-01-16 16:35:06\u001b[0m \u001b[35mDESKTOP-6JVVUQ4\u001b[0m \u001b[34mroot[10436]\u001b[0m \u001b[1;30mDEBUG\u001b[0m \u001b[32mBuy at: $126.04\u001b[0m\n"
     ]
    },
    {
     "name": "stdout",
     "output_type": "stream",
     "text": [
      "1/1 [==============================] - 0s 36ms/step\n"
     ]
    },
    {
     "name": "stderr",
     "output_type": "stream",
     "text": [
      "\u001b[32m2023-01-16 16:35:06\u001b[0m \u001b[35mDESKTOP-6JVVUQ4\u001b[0m \u001b[34mroot[10436]\u001b[0m \u001b[1;30mDEBUG\u001b[0m \u001b[32mSell at: $129.61 | Position: -$24.66\u001b[0m\n"
     ]
    },
    {
     "name": "stdout",
     "output_type": "stream",
     "text": [
      "1/1 [==============================] - 0s 19ms/step\n",
      "1/1 [==============================] - 0s 19ms/step\n"
     ]
    },
    {
     "name": "stderr",
     "output_type": "stream",
     "text": [
      "\u001b[32m2023-01-16 16:35:06\u001b[0m \u001b[35mDESKTOP-6JVVUQ4\u001b[0m \u001b[34mroot[10436]\u001b[0m \u001b[1;30mDEBUG\u001b[0m \u001b[32mBuy at: $125.07\u001b[0m\n"
     ]
    },
    {
     "name": "stdout",
     "output_type": "stream",
     "text": [
      "1/1 [==============================] - 0s 21ms/step\n"
     ]
    },
    {
     "name": "stderr",
     "output_type": "stream",
     "text": [
      "\u001b[32m2023-01-16 16:35:06\u001b[0m \u001b[35mDESKTOP-6JVVUQ4\u001b[0m \u001b[34mroot[10436]\u001b[0m \u001b[1;30mDEBUG\u001b[0m \u001b[32mBuy at: $126.36\u001b[0m\n"
     ]
    },
    {
     "name": "stdout",
     "output_type": "stream",
     "text": [
      "1/1 [==============================] - 0s 21ms/step\n"
     ]
    },
    {
     "name": "stderr",
     "output_type": "stream",
     "text": [
      "\u001b[32m2023-01-16 16:35:06\u001b[0m \u001b[35mDESKTOP-6JVVUQ4\u001b[0m \u001b[34mroot[10436]\u001b[0m \u001b[1;30mDEBUG\u001b[0m \u001b[32mBuy at: $125.02\u001b[0m\n"
     ]
    },
    {
     "name": "stdout",
     "output_type": "stream",
     "text": [
      "1/1 [==============================] - 0s 22ms/step\n"
     ]
    },
    {
     "name": "stderr",
     "output_type": "stream",
     "text": [
      "\u001b[32m2023-01-16 16:35:06\u001b[0m \u001b[35mDESKTOP-6JVVUQ4\u001b[0m \u001b[34mroot[10436]\u001b[0m \u001b[1;30mDEBUG\u001b[0m \u001b[32mBuy at: $129.62\u001b[0m\n",
      "\u001b[32m2023-01-16 16:35:06\u001b[0m \u001b[35mDESKTOP-6JVVUQ4\u001b[0m \u001b[34mroot[10436]\u001b[0m \u001b[1;30mINFO\u001b[0m model_dqn_AAPL_epidodes_50_30: +$442.50\n",
      "\n"
     ]
    }
   ],
   "source": [
    "import logging\n",
    "import coloredlogs\n",
    "\n",
    "from trading_bot.utils import show_eval_result, switch_k_backend_device, get_stock_data\n",
    "from trading_bot.methods import evaluate_model\n",
    "\n",
    "coloredlogs.install(level='DEBUG')\n",
    "switch_k_backend_device()\n",
    "\n",
    "test_data = get_stock_data(test_stock)\n",
    "initial_offset = test_data[1] - test_data[0]\n",
    "\n",
    "test_result, history = evaluate_model(agent, test_data, window_size, debug)\n",
    "show_eval_result(model_name, test_result, initial_offset)"
   ]
  },
  {
   "cell_type": "markdown",
   "metadata": {},
   "source": [
    "### 4. Visualize"
   ]
  },
  {
   "cell_type": "code",
   "execution_count": 37,
   "metadata": {},
   "outputs": [],
   "source": [
    "def visualize(df, history, title=\"trading session\"):\n",
    "    # add history to dataframe\n",
    "    position = [history[0][0]] + [x[0] for x in history]\n",
    "    actions = ['HOLD'] + [x[1] for x in history]\n",
    "    df['position'] = position\n",
    "    df['action'] = actions\n",
    "    \n",
    "    # specify y-axis scale for stock prices\n",
    "    scale = alt.Scale(domain=(min(min(df['actual']), min(df['position'])) - 50, max(max(df['actual']), max(df['position'])) + 50), clamp=True)\n",
    "    \n",
    "    # plot a line chart for stock positions\n",
    "    actual = alt.Chart(df).mark_line(\n",
    "        color='green',\n",
    "        opacity=0.5\n",
    "    ).encode(\n",
    "        x='date:T',\n",
    "        y=alt.Y('position', axis=alt.Axis(format='$.2f', title='Price'), scale=scale)\n",
    "    ).interactive(\n",
    "        bind_y=False\n",
    "    )\n",
    "    \n",
    "    points = alt.Chart(df).mark_point(\n",
    "        filled=True\n",
    "    ).encode(\n",
    "        x=alt.X('date:T', axis=alt.Axis(title='Date')),\n",
    "        y=alt.Y('position', axis=alt.Axis(format='$.2f', title='Price'), scale=scale),\n",
    "        color='action'\n",
    "    ).interactive(bind_y=False)\n",
    "\n",
    "    # merge the two charts\n",
    "    chart = alt.layer(actual, points, title=title).properties(height=300, width=1000)\n",
    "    \n",
    "    return chart"
   ]
  },
  {
   "cell_type": "code",
   "execution_count": 38,
   "metadata": {},
   "outputs": [
    {
     "data": {
      "text/html": [
       "\n",
       "<div id=\"altair-viz-00e5e4696a4c47fc9b668896a1c1670c\"></div>\n",
       "<script type=\"text/javascript\">\n",
       "  var VEGA_DEBUG = (typeof VEGA_DEBUG == \"undefined\") ? {} : VEGA_DEBUG;\n",
       "  (function(spec, embedOpt){\n",
       "    let outputDiv = document.currentScript.previousElementSibling;\n",
       "    if (outputDiv.id !== \"altair-viz-00e5e4696a4c47fc9b668896a1c1670c\") {\n",
       "      outputDiv = document.getElementById(\"altair-viz-00e5e4696a4c47fc9b668896a1c1670c\");\n",
       "    }\n",
       "    const paths = {\n",
       "      \"vega\": \"https://cdn.jsdelivr.net/npm//vega@5?noext\",\n",
       "      \"vega-lib\": \"https://cdn.jsdelivr.net/npm//vega-lib?noext\",\n",
       "      \"vega-lite\": \"https://cdn.jsdelivr.net/npm//vega-lite@4.17.0?noext\",\n",
       "      \"vega-embed\": \"https://cdn.jsdelivr.net/npm//vega-embed@6?noext\",\n",
       "    };\n",
       "\n",
       "    function maybeLoadScript(lib, version) {\n",
       "      var key = `${lib.replace(\"-\", \"\")}_version`;\n",
       "      return (VEGA_DEBUG[key] == version) ?\n",
       "        Promise.resolve(paths[lib]) :\n",
       "        new Promise(function(resolve, reject) {\n",
       "          var s = document.createElement('script');\n",
       "          document.getElementsByTagName(\"head\")[0].appendChild(s);\n",
       "          s.async = true;\n",
       "          s.onload = () => {\n",
       "            VEGA_DEBUG[key] = version;\n",
       "            return resolve(paths[lib]);\n",
       "          };\n",
       "          s.onerror = () => reject(`Error loading script: ${paths[lib]}`);\n",
       "          s.src = paths[lib];\n",
       "        });\n",
       "    }\n",
       "\n",
       "    function showError(err) {\n",
       "      outputDiv.innerHTML = `<div class=\"error\" style=\"color:red;\">${err}</div>`;\n",
       "      throw err;\n",
       "    }\n",
       "\n",
       "    function displayChart(vegaEmbed) {\n",
       "      vegaEmbed(outputDiv, spec, embedOpt)\n",
       "        .catch(err => showError(`Javascript Error: ${err.message}<br>This usually means there's a typo in your chart specification. See the javascript console for the full traceback.`));\n",
       "    }\n",
       "\n",
       "    if(typeof define === \"function\" && define.amd) {\n",
       "      requirejs.config({paths});\n",
       "      require([\"vega-embed\"], displayChart, err => showError(`Error loading script: ${err.message}`));\n",
       "    } else {\n",
       "      maybeLoadScript(\"vega\", \"5\")\n",
       "        .then(() => maybeLoadScript(\"vega-lite\", \"4.17.0\"))\n",
       "        .then(() => maybeLoadScript(\"vega-embed\", \"6\"))\n",
       "        .catch(showError)\n",
       "        .then(() => displayChart(vegaEmbed));\n",
       "    }\n",
       "  })({\"config\": {\"view\": {\"continuousWidth\": 400, \"continuousHeight\": 300}}, \"layer\": [{\"mark\": {\"type\": \"line\", \"color\": \"green\", \"opacity\": 0.5}, \"encoding\": {\"x\": {\"field\": \"date\", \"type\": \"temporal\"}, \"y\": {\"axis\": {\"format\": \"$.2f\", \"title\": \"Price\"}, \"field\": \"position\", \"scale\": {\"clamp\": true, \"domain\": [75.019997, 230.959732]}, \"type\": \"quantitative\"}}, \"selection\": {\"selector013\": {\"type\": \"interval\", \"bind\": \"scales\", \"encodings\": [\"x\"]}}}, {\"mark\": {\"type\": \"point\", \"filled\": true}, \"encoding\": {\"color\": {\"field\": \"action\", \"type\": \"nominal\"}, \"x\": {\"axis\": {\"title\": \"Date\"}, \"field\": \"date\", \"type\": \"temporal\"}, \"y\": {\"axis\": {\"format\": \"$.2f\", \"title\": \"Price\"}, \"field\": \"position\", \"scale\": {\"clamp\": true, \"domain\": [75.019997, 230.959732]}, \"type\": \"quantitative\"}}, \"selection\": {\"selector014\": {\"type\": \"interval\", \"bind\": \"scales\", \"encodings\": [\"x\"]}}}], \"data\": {\"name\": \"data-624e3abef208da8d800e2b369d8b6eee\"}, \"height\": 300, \"title\": \"APPLE Stock +$442.50 (DQN 30 ep)\", \"width\": 1000, \"$schema\": \"https://vega.github.io/schema/vega-lite/v4.17.0.json\", \"datasets\": {\"data-624e3abef208da8d800e2b369d8b6eee\": [{\"date\": \"2022-01-03T00:00:00\", \"actual\": 180.959732, \"position\": 180.959732, \"action\": \"HOLD\"}, {\"date\": \"2022-01-04T00:00:00\", \"actual\": 178.663086, \"position\": 180.959732, \"action\": \"BUY\"}, {\"date\": \"2022-01-05T00:00:00\", \"actual\": 173.91066, \"position\": 178.663086, \"action\": \"SELL\"}, {\"date\": \"2022-01-06T00:00:00\", \"actual\": 171.007507, \"position\": 173.91066, \"action\": \"HOLD\"}, {\"date\": \"2022-01-07T00:00:00\", \"actual\": 171.176544, \"position\": 171.007507, \"action\": \"HOLD\"}, {\"date\": \"2022-01-10T00:00:00\", \"actual\": 171.196411, \"position\": 171.176544, \"action\": \"HOLD\"}, {\"date\": \"2022-01-11T00:00:00\", \"actual\": 174.069733, \"position\": 171.196411, \"action\": \"HOLD\"}, {\"date\": \"2022-01-12T00:00:00\", \"actual\": 174.517136, \"position\": 174.069733, \"action\": \"HOLD\"}, {\"date\": \"2022-01-13T00:00:00\", \"actual\": 171.196411, \"position\": 174.517136, \"action\": \"HOLD\"}, {\"date\": \"2022-01-14T00:00:00\", \"actual\": 172.07135, \"position\": 171.196411, \"action\": \"HOLD\"}, {\"date\": \"2022-01-18T00:00:00\", \"actual\": 168.820206, \"position\": 172.07135, \"action\": \"HOLD\"}, {\"date\": \"2022-01-19T00:00:00\", \"actual\": 165.270798, \"position\": 168.820206, \"action\": \"HOLD\"}, {\"date\": \"2022-01-20T00:00:00\", \"actual\": 163.56073, \"position\": 165.270798, \"action\": \"BUY\"}, {\"date\": \"2022-01-21T00:00:00\", \"actual\": 161.472839, \"position\": 163.56073, \"action\": \"SELL\"}, {\"date\": \"2022-01-24T00:00:00\", \"actual\": 160.687393, \"position\": 161.472839, \"action\": \"HOLD\"}, {\"date\": \"2022-01-25T00:00:00\", \"actual\": 158.858017, \"position\": 160.687393, \"action\": \"HOLD\"}, {\"date\": \"2022-01-26T00:00:00\", \"actual\": 158.768539, \"position\": 158.858017, \"action\": \"BUY\"}, {\"date\": \"2022-01-27T00:00:00\", \"actual\": 158.301254, \"position\": 158.768539, \"action\": \"BUY\"}, {\"date\": \"2022-01-28T00:00:00\", \"actual\": 169.347137, \"position\": 158.301254, \"action\": \"SELL\"}, {\"date\": \"2022-01-31T00:00:00\", \"actual\": 173.771454, \"position\": 169.347137, \"action\": \"SELL\"}, {\"date\": \"2022-02-01T00:00:00\", \"actual\": 173.602463, \"position\": 173.771454, \"action\": \"HOLD\"}, {\"date\": \"2022-02-02T00:00:00\", \"actual\": 174.825348, \"position\": 173.602463, \"action\": \"HOLD\"}, {\"date\": \"2022-02-03T00:00:00\", \"actual\": 171.902313, \"position\": 174.825348, \"action\": \"HOLD\"}, {\"date\": \"2022-02-04T00:00:00\", \"actual\": 171.613632, \"position\": 171.902313, \"action\": \"HOLD\"}, {\"date\": \"2022-02-07T00:00:00\", \"actual\": 170.886917, \"position\": 171.613632, \"action\": \"HOLD\"}, {\"date\": \"2022-02-08T00:00:00\", \"actual\": 174.042633, \"position\": 170.886917, \"action\": \"HOLD\"}, {\"date\": \"2022-02-09T00:00:00\", \"actual\": 175.486115, \"position\": 174.042633, \"action\": \"HOLD\"}, {\"date\": \"2022-02-10T00:00:00\", \"actual\": 171.344833, \"position\": 175.486115, \"action\": \"HOLD\"}, {\"date\": \"2022-02-11T00:00:00\", \"actual\": 167.880524, \"position\": 171.344833, \"action\": \"BUY\"}, {\"date\": \"2022-02-14T00:00:00\", \"actual\": 168.119431, \"position\": 167.880524, \"action\": \"SELL\"}, {\"date\": \"2022-02-15T00:00:00\", \"actual\": 172.011826, \"position\": 168.119431, \"action\": \"HOLD\"}, {\"date\": \"2022-02-16T00:00:00\", \"actual\": 171.772919, \"position\": 172.011826, \"action\": \"HOLD\"}, {\"date\": \"2022-02-17T00:00:00\", \"actual\": 168.119431, \"position\": 171.772919, \"action\": \"HOLD\"}, {\"date\": \"2022-02-18T00:00:00\", \"actual\": 166.546555, \"position\": 168.119431, \"action\": \"BUY\"}, {\"date\": \"2022-02-22T00:00:00\", \"actual\": 163.579971, \"position\": 166.546555, \"action\": \"HOLD\"}, {\"date\": \"2022-02-23T00:00:00\", \"actual\": 159.349121, \"position\": 163.579971, \"action\": \"BUY\"}, {\"date\": \"2022-02-24T00:00:00\", \"actual\": 162.007095, \"position\": 159.349121, \"action\": \"BUY\"}, {\"date\": \"2022-02-25T00:00:00\", \"actual\": 164.10759, \"position\": 162.007095, \"action\": \"HOLD\"}, {\"date\": \"2022-02-28T00:00:00\", \"actual\": 164.376373, \"position\": 164.10759, \"action\": \"BUY\"}, {\"date\": \"2022-03-01T00:00:00\", \"actual\": 162.465027, \"position\": 164.376373, \"action\": \"BUY\"}, {\"date\": \"2022-03-02T00:00:00\", \"actual\": 165.809891, \"position\": 162.465027, \"action\": \"BUY\"}, {\"date\": \"2022-03-03T00:00:00\", \"actual\": 165.481369, \"position\": 165.809891, \"action\": \"HOLD\"}, {\"date\": \"2022-03-04T00:00:00\", \"actual\": 162.43515, \"position\": 165.481369, \"action\": \"HOLD\"}, {\"date\": \"2022-03-07T00:00:00\", \"actual\": 158.582596, \"position\": 162.43515, \"action\": \"HOLD\"}, {\"date\": \"2022-03-08T00:00:00\", \"actual\": 156.730957, \"position\": 158.582596, \"action\": \"SELL\"}, {\"date\": \"2022-03-09T00:00:00\", \"actual\": 162.216156, \"position\": 156.730957, \"action\": \"HOLD\"}, {\"date\": \"2022-03-10T00:00:00\", \"actual\": 157.806107, \"position\": 162.216156, \"action\": \"SELL\"}, {\"date\": \"2022-03-11T00:00:00\", \"actual\": 154.033157, \"position\": 157.806107, \"action\": \"BUY\"}, {\"date\": \"2022-03-14T00:00:00\", \"actual\": 149.941666, \"position\": 154.033157, \"action\": \"HOLD\"}, {\"date\": \"2022-03-15T00:00:00\", \"actual\": 154.391525, \"position\": 149.941666, \"action\": \"HOLD\"}, {\"date\": \"2022-03-16T00:00:00\", \"actual\": 158.871277, \"position\": 154.391525, \"action\": \"BUY\"}, {\"date\": \"2022-03-17T00:00:00\", \"actual\": 159.896637, \"position\": 158.871277, \"action\": \"HOLD\"}, {\"date\": \"2022-03-18T00:00:00\", \"actual\": 163.241501, \"position\": 159.896637, \"action\": \"BUY\"}, {\"date\": \"2022-03-21T00:00:00\", \"actual\": 164.635208, \"position\": 163.241501, \"action\": \"SELL\"}, {\"date\": \"2022-03-22T00:00:00\", \"actual\": 168.059708, \"position\": 164.635208, \"action\": \"SELL\"}, {\"date\": \"2022-03-23T00:00:00\", \"actual\": 169.443466, \"position\": 168.059708, \"action\": \"SELL\"}, {\"date\": \"2022-03-24T00:00:00\", \"actual\": 173.286057, \"position\": 169.443466, \"action\": \"SELL\"}, {\"date\": \"2022-03-25T00:00:00\", \"actual\": 173.933136, \"position\": 173.286057, \"action\": \"SELL\"}, {\"date\": \"2022-03-28T00:00:00\", \"actual\": 174.809174, \"position\": 173.933136, \"action\": \"SELL\"}, {\"date\": \"2022-03-29T00:00:00\", \"actual\": 178.154037, \"position\": 174.809174, \"action\": \"SELL\"}, {\"date\": \"2022-03-30T00:00:00\", \"actual\": 176.969406, \"position\": 178.154037, \"action\": \"HOLD\"}, {\"date\": \"2022-03-31T00:00:00\", \"actual\": 173.823639, \"position\": 176.969406, \"action\": \"HOLD\"}, {\"date\": \"2022-04-01T00:00:00\", \"actual\": 173.524963, \"position\": 173.823639, \"action\": \"HOLD\"}, {\"date\": \"2022-04-04T00:00:00\", \"actual\": 177.636368, \"position\": 173.524963, \"action\": \"HOLD\"}, {\"date\": \"2022-04-05T00:00:00\", \"actual\": 174.271591, \"position\": 177.636368, \"action\": \"HOLD\"}, {\"date\": \"2022-04-06T00:00:00\", \"actual\": 171.056152, \"position\": 174.271591, \"action\": \"HOLD\"}, {\"date\": \"2022-04-07T00:00:00\", \"actual\": 171.364746, \"position\": 171.056152, \"action\": \"HOLD\"}, {\"date\": \"2022-04-08T00:00:00\", \"actual\": 169.323975, \"position\": 171.364746, \"action\": \"HOLD\"}, {\"date\": \"2022-04-11T00:00:00\", \"actual\": 165.003525, \"position\": 169.323975, \"action\": \"BUY\"}, {\"date\": \"2022-04-12T00:00:00\", \"actual\": 166.904938, \"position\": 165.003525, \"action\": \"BUY\"}, {\"date\": \"2022-04-13T00:00:00\", \"actual\": 169.632568, \"position\": 166.904938, \"action\": \"BUY\"}, {\"date\": \"2022-04-14T00:00:00\", \"actual\": 164.545593, \"position\": 169.632568, \"action\": \"BUY\"}, {\"date\": \"2022-04-18T00:00:00\", \"actual\": 164.326599, \"position\": 164.545593, \"action\": \"BUY\"}, {\"date\": \"2022-04-19T00:00:00\", \"actual\": 166.646103, \"position\": 164.326599, \"action\": \"BUY\"}, {\"date\": \"2022-04-20T00:00:00\", \"actual\": 166.476852, \"position\": 166.646103, \"action\": \"BUY\"}, {\"date\": \"2022-04-21T00:00:00\", \"actual\": 165.670517, \"position\": 166.476852, \"action\": \"BUY\"}, {\"date\": \"2022-04-22T00:00:00\", \"actual\": 161.061356, \"position\": 165.670517, \"action\": \"BUY\"}, {\"date\": \"2022-04-25T00:00:00\", \"actual\": 162.146454, \"position\": 161.061356, \"action\": \"HOLD\"}, {\"date\": \"2022-04-26T00:00:00\", \"actual\": 156.093842, \"position\": 162.146454, \"action\": \"HOLD\"}, {\"date\": \"2022-04-27T00:00:00\", \"actual\": 155.864883, \"position\": 156.093842, \"action\": \"BUY\"}, {\"date\": \"2022-04-28T00:00:00\", \"actual\": 162.90303, \"position\": 155.864883, \"action\": \"BUY\"}, {\"date\": \"2022-04-29T00:00:00\", \"actual\": 156.940002, \"position\": 162.90303, \"action\": \"BUY\"}, {\"date\": \"2022-05-02T00:00:00\", \"actual\": 157.248627, \"position\": 156.940002, \"action\": \"BUY\"}, {\"date\": \"2022-05-03T00:00:00\", \"actual\": 158.761765, \"position\": 157.248627, \"action\": \"BUY\"}, {\"date\": \"2022-05-04T00:00:00\", \"actual\": 165.272308, \"position\": 158.761765, \"action\": \"HOLD\"}, {\"date\": \"2022-05-05T00:00:00\", \"actual\": 156.06398, \"position\": 165.272308, \"action\": \"HOLD\"}, {\"date\": \"2022-05-06T00:00:00\", \"actual\": 156.801712, \"position\": 156.06398, \"action\": \"BUY\"}, {\"date\": \"2022-05-09T00:00:00\", \"actual\": 151.597595, \"position\": 156.801712, \"action\": \"BUY\"}, {\"date\": \"2022-05-10T00:00:00\", \"actual\": 154.040131, \"position\": 151.597595, \"action\": \"HOLD\"}, {\"date\": \"2022-05-11T00:00:00\", \"actual\": 146.054504, \"position\": 154.040131, \"action\": \"BUY\"}, {\"date\": \"2022-05-12T00:00:00\", \"actual\": 142.12648, \"position\": 146.054504, \"action\": \"BUY\"}, {\"date\": \"2022-05-13T00:00:00\", \"actual\": 146.662659, \"position\": 142.12648, \"action\": \"BUY\"}, {\"date\": \"2022-05-16T00:00:00\", \"actual\": 145.097427, \"position\": 146.662659, \"action\": \"SELL\"}, {\"date\": \"2022-05-17T00:00:00\", \"actual\": 148.786179, \"position\": 145.097427, \"action\": \"BUY\"}, {\"date\": \"2022-05-18T00:00:00\", \"actual\": 140.391785, \"position\": 148.786179, \"action\": \"BUY\"}, {\"date\": \"2022-05-19T00:00:00\", \"actual\": 136.932327, \"position\": 140.391785, \"action\": \"BUY\"}, {\"date\": \"2022-05-20T00:00:00\", \"actual\": 137.171585, \"position\": 136.932327, \"action\": \"BUY\"}, {\"date\": \"2022-05-23T00:00:00\", \"actual\": 142.674805, \"position\": 137.171585, \"action\": \"BUY\"}, {\"date\": \"2022-05-24T00:00:00\", \"actual\": 139.933167, \"position\": 142.674805, \"action\": \"HOLD\"}, {\"date\": \"2022-05-25T00:00:00\", \"actual\": 140.092697, \"position\": 139.933167, \"action\": \"BUY\"}, {\"date\": \"2022-05-26T00:00:00\", \"actual\": 143.342758, \"position\": 140.092697, \"action\": \"BUY\"}, {\"date\": \"2022-05-27T00:00:00\", \"actual\": 149.184952, \"position\": 143.342758, \"action\": \"BUY\"}, {\"date\": \"2022-05-31T00:00:00\", \"actual\": 148.38739, \"position\": 149.184952, \"action\": \"BUY\"}, {\"date\": \"2022-06-01T00:00:00\", \"actual\": 148.257782, \"position\": 148.38739, \"action\": \"BUY\"}, {\"date\": \"2022-06-02T00:00:00\", \"actual\": 150.750183, \"position\": 148.257782, \"action\": \"BUY\"}, {\"date\": \"2022-06-03T00:00:00\", \"actual\": 144.937912, \"position\": 150.750183, \"action\": \"HOLD\"}, {\"date\": \"2022-06-06T00:00:00\", \"actual\": 145.695602, \"position\": 144.937912, \"action\": \"BUY\"}, {\"date\": \"2022-06-07T00:00:00\", \"actual\": 148.257782, \"position\": 145.695602, \"action\": \"BUY\"}, {\"date\": \"2022-06-08T00:00:00\", \"actual\": 147.510071, \"position\": 148.257782, \"action\": \"BUY\"}, {\"date\": \"2022-06-09T00:00:00\", \"actual\": 142.206238, \"position\": 147.510071, \"action\": \"BUY\"}, {\"date\": \"2022-06-10T00:00:00\", \"actual\": 136.712997, \"position\": 142.206238, \"action\": \"HOLD\"}, {\"date\": \"2022-06-13T00:00:00\", \"actual\": 131.478958, \"position\": 136.712997, \"action\": \"BUY\"}, {\"date\": \"2022-06-14T00:00:00\", \"actual\": 132.356277, \"position\": 131.478958, \"action\": \"HOLD\"}, {\"date\": \"2022-06-15T00:00:00\", \"actual\": 135.018158, \"position\": 132.356277, \"action\": \"BUY\"}, {\"date\": \"2022-06-16T00:00:00\", \"actual\": 129.66449, \"position\": 135.018158, \"action\": \"BUY\"}, {\"date\": \"2022-06-17T00:00:00\", \"actual\": 131.159927, \"position\": 129.66449, \"action\": \"BUY\"}, {\"date\": \"2022-06-21T00:00:00\", \"actual\": 135.456833, \"position\": 131.159927, \"action\": \"BUY\"}, {\"date\": \"2022-06-22T00:00:00\", \"actual\": 134.938416, \"position\": 135.456833, \"action\": \"BUY\"}, {\"date\": \"2022-06-23T00:00:00\", \"actual\": 137.849533, \"position\": 134.938416, \"action\": \"BUY\"}, {\"date\": \"2022-06-24T00:00:00\", \"actual\": 141.229218, \"position\": 137.849533, \"action\": \"HOLD\"}, {\"date\": \"2022-06-27T00:00:00\", \"actual\": 141.229218, \"position\": 141.229218, \"action\": \"SELL\"}, {\"date\": \"2022-06-28T00:00:00\", \"actual\": 137.022064, \"position\": 141.229218, \"action\": \"BUY\"}, {\"date\": \"2022-06-29T00:00:00\", \"actual\": 138.80661, \"position\": 137.022064, \"action\": \"HOLD\"}, {\"date\": \"2022-06-30T00:00:00\", \"actual\": 136.304245, \"position\": 138.80661, \"action\": \"BUY\"}, {\"date\": \"2022-07-01T00:00:00\", \"actual\": 138.507507, \"position\": 136.304245, \"action\": \"HOLD\"}, {\"date\": \"2022-07-05T00:00:00\", \"actual\": 141.129517, \"position\": 138.507507, \"action\": \"BUY\"}, {\"date\": \"2022-07-06T00:00:00\", \"actual\": 142.485397, \"position\": 141.129517, \"action\": \"BUY\"}, {\"date\": \"2022-07-07T00:00:00\", \"actual\": 145.904968, \"position\": 142.485397, \"action\": \"BUY\"}, {\"date\": \"2022-07-08T00:00:00\", \"actual\": 146.59285, \"position\": 145.904968, \"action\": \"BUY\"}, {\"date\": \"2022-07-11T00:00:00\", \"actual\": 144.429443, \"position\": 146.59285, \"action\": \"BUY\"}, {\"date\": \"2022-07-12T00:00:00\", \"actual\": 145.416443, \"position\": 144.429443, \"action\": \"HOLD\"}, {\"date\": \"2022-07-13T00:00:00\", \"actual\": 145.047577, \"position\": 145.416443, \"action\": \"SELL\"}, {\"date\": \"2022-07-14T00:00:00\", \"actual\": 148.018509, \"position\": 145.047577, \"action\": \"HOLD\"}, {\"date\": \"2022-07-15T00:00:00\", \"actual\": 149.713348, \"position\": 148.018509, \"action\": \"BUY\"}, {\"date\": \"2022-07-18T00:00:00\", \"actual\": 146.622772, \"position\": 149.713348, \"action\": \"SELL\"}, {\"date\": \"2022-07-19T00:00:00\", \"actual\": 150.540817, \"position\": 146.622772, \"action\": \"HOLD\"}, {\"date\": \"2022-07-20T00:00:00\", \"actual\": 152.574615, \"position\": 150.540817, \"action\": \"HOLD\"}, {\"date\": \"2022-07-21T00:00:00\", \"actual\": 154.877594, \"position\": 152.574615, \"action\": \"HOLD\"}, {\"date\": \"2022-07-22T00:00:00\", \"actual\": 153.621414, \"position\": 154.877594, \"action\": \"SELL\"}, {\"date\": \"2022-07-25T00:00:00\", \"actual\": 152.484894, \"position\": 153.621414, \"action\": \"SELL\"}, {\"date\": \"2022-07-26T00:00:00\", \"actual\": 151.139008, \"position\": 152.484894, \"action\": \"SELL\"}, {\"date\": \"2022-07-27T00:00:00\", \"actual\": 156.313202, \"position\": 151.139008, \"action\": \"HOLD\"}, {\"date\": \"2022-07-28T00:00:00\", \"actual\": 156.871521, \"position\": 156.313202, \"action\": \"SELL\"}, {\"date\": \"2022-07-29T00:00:00\", \"actual\": 162.015808, \"position\": 156.871521, \"action\": \"SELL\"}, {\"date\": \"2022-08-01T00:00:00\", \"actual\": 161.01886, \"position\": 162.015808, \"action\": \"SELL\"}, {\"date\": \"2022-08-02T00:00:00\", \"actual\": 159.523407, \"position\": 161.01886, \"action\": \"SELL\"}, {\"date\": \"2022-08-03T00:00:00\", \"actual\": 165.624817, \"position\": 159.523407, \"action\": \"SELL\"}, {\"date\": \"2022-08-04T00:00:00\", \"actual\": 165.305786, \"position\": 165.624817, \"action\": \"SELL\"}, {\"date\": \"2022-08-05T00:00:00\", \"actual\": 165.076172, \"position\": 165.305786, \"action\": \"SELL\"}, {\"date\": \"2022-08-08T00:00:00\", \"actual\": 164.596954, \"position\": 165.076172, \"action\": \"SELL\"}, {\"date\": \"2022-08-09T00:00:00\", \"actual\": 164.646866, \"position\": 164.596954, \"action\": \"SELL\"}, {\"date\": \"2022-08-10T00:00:00\", \"actual\": 168.959732, \"position\": 164.646866, \"action\": \"SELL\"}, {\"date\": \"2022-08-11T00:00:00\", \"actual\": 168.210968, \"position\": 168.959732, \"action\": \"SELL\"}, {\"date\": \"2022-08-12T00:00:00\", \"actual\": 171.814987, \"position\": 168.210968, \"action\": \"SELL\"}, {\"date\": \"2022-08-15T00:00:00\", \"actual\": 172.903183, \"position\": 171.814987, \"action\": \"SELL\"}, {\"date\": \"2022-08-16T00:00:00\", \"actual\": 172.743439, \"position\": 172.903183, \"action\": \"SELL\"}, {\"date\": \"2022-08-17T00:00:00\", \"actual\": 174.260925, \"position\": 172.743439, \"action\": \"SELL\"}, {\"date\": \"2022-08-18T00:00:00\", \"actual\": 173.861588, \"position\": 174.260925, \"action\": \"SELL\"}, {\"date\": \"2022-08-19T00:00:00\", \"actual\": 171.235947, \"position\": 173.861588, \"action\": \"SELL\"}, {\"date\": \"2022-08-22T00:00:00\", \"actual\": 167.292496, \"position\": 171.235947, \"action\": \"SELL\"}, {\"date\": \"2022-08-23T00:00:00\", \"actual\": 166.953049, \"position\": 167.292496, \"action\": \"SELL\"}, {\"date\": \"2022-08-24T00:00:00\", \"actual\": 167.252548, \"position\": 166.953049, \"action\": \"SELL\"}, {\"date\": \"2022-08-25T00:00:00\", \"actual\": 169.748413, \"position\": 167.252548, \"action\": \"SELL\"}, {\"date\": \"2022-08-26T00:00:00\", \"actual\": 163.349014, \"position\": 169.748413, \"action\": \"SELL\"}, {\"date\": \"2022-08-29T00:00:00\", \"actual\": 161.112747, \"position\": 163.349014, \"action\": \"SELL\"}, {\"date\": \"2022-08-30T00:00:00\", \"actual\": 158.646835, \"position\": 161.112747, \"action\": \"HOLD\"}, {\"date\": \"2022-08-31T00:00:00\", \"actual\": 156.959625, \"position\": 158.646835, \"action\": \"BUY\"}, {\"date\": \"2022-09-01T00:00:00\", \"actual\": 157.69841, \"position\": 156.959625, \"action\": \"BUY\"}, {\"date\": \"2022-09-02T00:00:00\", \"actual\": 155.551956, \"position\": 157.69841, \"action\": \"HOLD\"}, {\"date\": \"2022-09-06T00:00:00\", \"actual\": 154.274078, \"position\": 155.551956, \"action\": \"BUY\"}, {\"date\": \"2022-09-07T00:00:00\", \"actual\": 155.701721, \"position\": 154.274078, \"action\": \"BUY\"}, {\"date\": \"2022-09-08T00:00:00\", \"actual\": 154.204208, \"position\": 155.701721, \"action\": \"BUY\"}, {\"date\": \"2022-09-09T00:00:00\", \"actual\": 157.109375, \"position\": 154.204208, \"action\": \"BUY\"}, {\"date\": \"2022-09-12T00:00:00\", \"actual\": 163.159332, \"position\": 157.109375, \"action\": \"SELL\"}, {\"date\": \"2022-09-13T00:00:00\", \"actual\": 153.58522, \"position\": 163.159332, \"action\": \"BUY\"}, {\"date\": \"2022-09-14T00:00:00\", \"actual\": 155.05278, \"position\": 153.58522, \"action\": \"HOLD\"}, {\"date\": \"2022-09-15T00:00:00\", \"actual\": 152.117645, \"position\": 155.05278, \"action\": \"SELL\"}, {\"date\": \"2022-09-16T00:00:00\", \"actual\": 150.450424, \"position\": 152.117645, \"action\": \"BUY\"}, {\"date\": \"2022-09-19T00:00:00\", \"actual\": 154.224152, \"position\": 150.450424, \"action\": \"BUY\"}, {\"date\": \"2022-09-20T00:00:00\", \"actual\": 156.640152, \"position\": 154.224152, \"action\": \"SELL\"}, {\"date\": \"2022-09-21T00:00:00\", \"actual\": 153.465424, \"position\": 156.640152, \"action\": \"SELL\"}, {\"date\": \"2022-09-22T00:00:00\", \"actual\": 152.487045, \"position\": 153.465424, \"action\": \"HOLD\"}, {\"date\": \"2022-09-23T00:00:00\", \"actual\": 150.180862, \"position\": 152.487045, \"action\": \"BUY\"}, {\"date\": \"2022-09-26T00:00:00\", \"actual\": 150.520309, \"position\": 150.180862, \"action\": \"BUY\"}, {\"date\": \"2022-09-27T00:00:00\", \"actual\": 151.508667, \"position\": 150.520309, \"action\": \"BUY\"}, {\"date\": \"2022-09-28T00:00:00\", \"actual\": 149.591843, \"position\": 151.508667, \"action\": \"BUY\"}, {\"date\": \"2022-09-29T00:00:00\", \"actual\": 142.244034, \"position\": 149.591843, \"action\": \"SELL\"}, {\"date\": \"2022-09-30T00:00:00\", \"actual\": 137.971115, \"position\": 142.244034, \"action\": \"BUY\"}, {\"date\": \"2022-10-03T00:00:00\", \"actual\": 142.214081, \"position\": 137.971115, \"action\": \"BUY\"}, {\"date\": \"2022-10-04T00:00:00\", \"actual\": 145.858047, \"position\": 142.214081, \"action\": \"HOLD\"}, {\"date\": \"2022-10-05T00:00:00\", \"actual\": 146.157532, \"position\": 145.858047, \"action\": \"HOLD\"}, {\"date\": \"2022-10-06T00:00:00\", \"actual\": 145.189148, \"position\": 146.157532, \"action\": \"BUY\"}, {\"date\": \"2022-10-07T00:00:00\", \"actual\": 139.857986, \"position\": 145.189148, \"action\": \"BUY\"}, {\"date\": \"2022-10-10T00:00:00\", \"actual\": 140.187439, \"position\": 139.857986, \"action\": \"HOLD\"}, {\"date\": \"2022-10-11T00:00:00\", \"actual\": 138.749832, \"position\": 140.187439, \"action\": \"HOLD\"}, {\"date\": \"2022-10-12T00:00:00\", \"actual\": 138.110886, \"position\": 138.749832, \"action\": \"HOLD\"}, {\"date\": \"2022-10-13T00:00:00\", \"actual\": 142.753204, \"position\": 138.110886, \"action\": \"BUY\"}, {\"date\": \"2022-10-14T00:00:00\", \"actual\": 138.150833, \"position\": 142.753204, \"action\": \"SELL\"}, {\"date\": \"2022-10-17T00:00:00\", \"actual\": 142.174164, \"position\": 138.150833, \"action\": \"BUY\"}, {\"date\": \"2022-10-18T00:00:00\", \"actual\": 143.511932, \"position\": 142.174164, \"action\": \"BUY\"}, {\"date\": \"2022-10-19T00:00:00\", \"actual\": 143.62175, \"position\": 143.511932, \"action\": \"BUY\"}, {\"date\": \"2022-10-20T00:00:00\", \"actual\": 143.152527, \"position\": 143.62175, \"action\": \"HOLD\"}, {\"date\": \"2022-10-21T00:00:00\", \"actual\": 147.026108, \"position\": 143.152527, \"action\": \"SELL\"}, {\"date\": \"2022-10-24T00:00:00\", \"actual\": 149.202484, \"position\": 147.026108, \"action\": \"BUY\"}, {\"date\": \"2022-10-25T00:00:00\", \"actual\": 152.087708, \"position\": 149.202484, \"action\": \"HOLD\"}, {\"date\": \"2022-10-26T00:00:00\", \"actual\": 149.102661, \"position\": 152.087708, \"action\": \"SELL\"}, {\"date\": \"2022-10-27T00:00:00\", \"actual\": 144.560196, \"position\": 149.102661, \"action\": \"BUY\"}, {\"date\": \"2022-10-28T00:00:00\", \"actual\": 155.482086, \"position\": 144.560196, \"action\": \"SELL\"}, {\"date\": \"2022-10-31T00:00:00\", \"actual\": 153.086044, \"position\": 155.482086, \"action\": \"SELL\"}, {\"date\": \"2022-11-01T00:00:00\", \"actual\": 150.400497, \"position\": 153.086044, \"action\": \"SELL\"}, {\"date\": \"2022-11-02T00:00:00\", \"actual\": 144.78981, \"position\": 150.400497, \"action\": \"BUY\"}, {\"date\": \"2022-11-03T00:00:00\", \"actual\": 138.650009, \"position\": 144.78981, \"action\": \"HOLD\"}, {\"date\": \"2022-11-04T00:00:00\", \"actual\": 138.380005, \"position\": 138.650009, \"action\": \"HOLD\"}, {\"date\": \"2022-11-07T00:00:00\", \"actual\": 138.919998, \"position\": 138.380005, \"action\": \"HOLD\"}, {\"date\": \"2022-11-08T00:00:00\", \"actual\": 139.5, \"position\": 138.919998, \"action\": \"HOLD\"}, {\"date\": \"2022-11-09T00:00:00\", \"actual\": 134.869995, \"position\": 139.5, \"action\": \"HOLD\"}, {\"date\": \"2022-11-10T00:00:00\", \"actual\": 146.869995, \"position\": 134.869995, \"action\": \"BUY\"}, {\"date\": \"2022-11-11T00:00:00\", \"actual\": 149.699997, \"position\": 146.869995, \"action\": \"SELL\"}, {\"date\": \"2022-11-14T00:00:00\", \"actual\": 148.279999, \"position\": 149.699997, \"action\": \"HOLD\"}, {\"date\": \"2022-11-15T00:00:00\", \"actual\": 150.039993, \"position\": 148.279999, \"action\": \"SELL\"}, {\"date\": \"2022-11-16T00:00:00\", \"actual\": 148.789993, \"position\": 150.039993, \"action\": \"SELL\"}, {\"date\": \"2022-11-17T00:00:00\", \"actual\": 150.720001, \"position\": 148.789993, \"action\": \"SELL\"}, {\"date\": \"2022-11-18T00:00:00\", \"actual\": 151.289993, \"position\": 150.720001, \"action\": \"SELL\"}, {\"date\": \"2022-11-21T00:00:00\", \"actual\": 148.009995, \"position\": 151.289993, \"action\": \"SELL\"}, {\"date\": \"2022-11-22T00:00:00\", \"actual\": 150.179993, \"position\": 148.009995, \"action\": \"BUY\"}, {\"date\": \"2022-11-23T00:00:00\", \"actual\": 151.070007, \"position\": 150.179993, \"action\": \"SELL\"}, {\"date\": \"2022-11-25T00:00:00\", \"actual\": 148.110001, \"position\": 151.070007, \"action\": \"BUY\"}, {\"date\": \"2022-11-28T00:00:00\", \"actual\": 144.220001, \"position\": 148.110001, \"action\": \"SELL\"}, {\"date\": \"2022-11-29T00:00:00\", \"actual\": 141.169998, \"position\": 144.220001, \"action\": \"HOLD\"}, {\"date\": \"2022-11-30T00:00:00\", \"actual\": 148.029999, \"position\": 141.169998, \"action\": \"HOLD\"}, {\"date\": \"2022-12-01T00:00:00\", \"actual\": 148.309998, \"position\": 148.029999, \"action\": \"SELL\"}, {\"date\": \"2022-12-02T00:00:00\", \"actual\": 147.809998, \"position\": 148.309998, \"action\": \"BUY\"}, {\"date\": \"2022-12-05T00:00:00\", \"actual\": 146.630005, \"position\": 147.809998, \"action\": \"BUY\"}, {\"date\": \"2022-12-06T00:00:00\", \"actual\": 142.910004, \"position\": 146.630005, \"action\": \"BUY\"}, {\"date\": \"2022-12-07T00:00:00\", \"actual\": 140.940002, \"position\": 142.910004, \"action\": \"HOLD\"}, {\"date\": \"2022-12-08T00:00:00\", \"actual\": 142.649994, \"position\": 140.940002, \"action\": \"BUY\"}, {\"date\": \"2022-12-09T00:00:00\", \"actual\": 142.160004, \"position\": 142.649994, \"action\": \"HOLD\"}, {\"date\": \"2022-12-12T00:00:00\", \"actual\": 144.490005, \"position\": 142.160004, \"action\": \"SELL\"}, {\"date\": \"2022-12-13T00:00:00\", \"actual\": 145.470001, \"position\": 144.490005, \"action\": \"SELL\"}, {\"date\": \"2022-12-14T00:00:00\", \"actual\": 143.210007, \"position\": 145.470001, \"action\": \"BUY\"}, {\"date\": \"2022-12-15T00:00:00\", \"actual\": 136.5, \"position\": 143.210007, \"action\": \"HOLD\"}, {\"date\": \"2022-12-16T00:00:00\", \"actual\": 134.509995, \"position\": 136.5, \"action\": \"BUY\"}, {\"date\": \"2022-12-19T00:00:00\", \"actual\": 132.369995, \"position\": 134.509995, \"action\": \"BUY\"}, {\"date\": \"2022-12-20T00:00:00\", \"actual\": 132.300003, \"position\": 132.369995, \"action\": \"BUY\"}, {\"date\": \"2022-12-21T00:00:00\", \"actual\": 135.449997, \"position\": 132.300003, \"action\": \"BUY\"}, {\"date\": \"2022-12-22T00:00:00\", \"actual\": 132.229996, \"position\": 135.449997, \"action\": \"BUY\"}, {\"date\": \"2022-12-23T00:00:00\", \"actual\": 131.860001, \"position\": 132.229996, \"action\": \"BUY\"}, {\"date\": \"2022-12-27T00:00:00\", \"actual\": 130.029999, \"position\": 131.860001, \"action\": \"BUY\"}, {\"date\": \"2022-12-28T00:00:00\", \"actual\": 126.040001, \"position\": 130.029999, \"action\": \"BUY\"}, {\"date\": \"2022-12-29T00:00:00\", \"actual\": 129.610001, \"position\": 126.040001, \"action\": \"BUY\"}, {\"date\": \"2022-12-30T00:00:00\", \"actual\": 129.929993, \"position\": 129.610001, \"action\": \"SELL\"}, {\"date\": \"2023-01-03T00:00:00\", \"actual\": 125.07, \"position\": 129.929993, \"action\": \"HOLD\"}, {\"date\": \"2023-01-04T00:00:00\", \"actual\": 126.360001, \"position\": 125.07, \"action\": \"BUY\"}, {\"date\": \"2023-01-05T00:00:00\", \"actual\": 125.019997, \"position\": 126.360001, \"action\": \"BUY\"}, {\"date\": \"2023-01-06T00:00:00\", \"actual\": 129.619995, \"position\": 125.019997, \"action\": \"BUY\"}, {\"date\": \"2023-01-09T00:00:00\", \"actual\": 130.149994, \"position\": 129.619995, \"action\": \"BUY\"}]}}, {\"mode\": \"vega-lite\"});\n",
       "</script>"
      ],
      "text/plain": [
       "alt.LayerChart(...)"
      ]
     },
     "execution_count": 38,
     "metadata": {},
     "output_type": "execute_result"
    }
   ],
   "source": [
    "chart = visualize(df, history, title='APPLE Stock +$442.50 (DQN 30 ep)')\n",
    "chart"
   ]
  }
 ],
 "metadata": {
  "kernelspec": {
   "display_name": "Python 3 (ipykernel)",
   "language": "python",
   "name": "python3"
  },
  "language_info": {
   "codemirror_mode": {
    "name": "ipython",
    "version": 3
   },
   "file_extension": ".py",
   "mimetype": "text/x-python",
   "name": "python",
   "nbconvert_exporter": "python",
   "pygments_lexer": "ipython3",
   "version": "3.9.7"
  },
  "vscode": {
   "interpreter": {
    "hash": "43b20931e0d61e1224db4161e737d8b7b6f4c38d78aea0329b1bc87e59d1d3af"
   }
  }
 },
 "nbformat": 4,
 "nbformat_minor": 4
}
