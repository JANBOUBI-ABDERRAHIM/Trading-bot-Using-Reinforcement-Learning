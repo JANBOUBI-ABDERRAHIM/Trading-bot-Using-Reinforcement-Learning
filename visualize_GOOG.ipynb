{
 "cells": [
  {
   "cell_type": "code",
   "execution_count": null,
   "metadata": {},
   "outputs": [],
   "source": [
    "# from train import main"
   ]
  },
  {
   "cell_type": "code",
   "execution_count": null,
   "metadata": {},
   "outputs": [],
   "source": [
    "# train_stock = \"data/GOOG_Train.csv\"\n",
    "# val_stock = \"data/GOOG_Test.csv\"\n",
    "# strategy = \"dqn\"\n",
    "# window_size = 10\n",
    "# batch_size = 32\n",
    "# ep_count = 50\n",
    "# model_name = \"model_dqn_GOOG_epidodes_50\"\n",
    "# pretrained = False\n",
    "# debug = False"
   ]
  },
  {
   "cell_type": "code",
   "execution_count": null,
   "metadata": {},
   "outputs": [],
   "source": [
    "# main(train_stock, val_stock, window_size, batch_size,\n",
    "#         ep_count, strategy=strategy, model_name=model_name, \n",
    "#         pretrained=pretrained, debug=debug)"
   ]
  },
  {
   "cell_type": "markdown",
   "metadata": {},
   "source": [
    "# Visualization: Trading Session"
   ]
  },
  {
   "cell_type": "code",
   "execution_count": 4,
   "metadata": {},
   "outputs": [],
   "source": [
    "import pandas as pd\n",
    "import numpy as np\n",
    "\n",
    "import altair as alt\n",
    "import seaborn as sns"
   ]
  },
  {
   "cell_type": "markdown",
   "metadata": {},
   "source": [
    "### 1. Define parameters and Load model"
   ]
  },
  {
   "cell_type": "code",
   "execution_count": 43,
   "metadata": {},
   "outputs": [],
   "source": [
    "from trading_bot.agent import Agent\n",
    "\n",
    "model_name = 'model_dqn_GOOG_epidodes_50_40'\n",
    "# 50 ep = +$7\n",
    "# 40 ep = +$109.63\n",
    "# 20 ep = +$68.34\n",
    "test_stock = 'data/GOOG_Test.csv'\n",
    "window_size = 10\n",
    "debug = True\n",
    "\n",
    "agent = Agent(window_size, pretrained=True, model_name=model_name)"
   ]
  },
  {
   "cell_type": "markdown",
   "metadata": {},
   "source": [
    "### 2. Load test data"
   ]
  },
  {
   "cell_type": "code",
   "execution_count": 44,
   "metadata": {},
   "outputs": [
    {
     "data": {
      "text/html": [
       "<div>\n",
       "<style scoped>\n",
       "    .dataframe tbody tr th:only-of-type {\n",
       "        vertical-align: middle;\n",
       "    }\n",
       "\n",
       "    .dataframe tbody tr th {\n",
       "        vertical-align: top;\n",
       "    }\n",
       "\n",
       "    .dataframe thead th {\n",
       "        text-align: right;\n",
       "    }\n",
       "</style>\n",
       "<table border=\"1\" class=\"dataframe\">\n",
       "  <thead>\n",
       "    <tr style=\"text-align: right;\">\n",
       "      <th></th>\n",
       "      <th>date</th>\n",
       "      <th>actual</th>\n",
       "    </tr>\n",
       "  </thead>\n",
       "  <tbody>\n",
       "    <tr>\n",
       "      <th>0</th>\n",
       "      <td>2022-01-10</td>\n",
       "      <td>138.574005</td>\n",
       "    </tr>\n",
       "    <tr>\n",
       "      <th>1</th>\n",
       "      <td>2022-01-11</td>\n",
       "      <td>140.017502</td>\n",
       "    </tr>\n",
       "    <tr>\n",
       "      <th>2</th>\n",
       "      <td>2022-01-12</td>\n",
       "      <td>141.647995</td>\n",
       "    </tr>\n",
       "    <tr>\n",
       "      <th>3</th>\n",
       "      <td>2022-01-13</td>\n",
       "      <td>139.130997</td>\n",
       "    </tr>\n",
       "    <tr>\n",
       "      <th>4</th>\n",
       "      <td>2022-01-14</td>\n",
       "      <td>139.786499</td>\n",
       "    </tr>\n",
       "  </tbody>\n",
       "</table>\n",
       "</div>"
      ],
      "text/plain": [
       "        date      actual\n",
       "0 2022-01-10  138.574005\n",
       "1 2022-01-11  140.017502\n",
       "2 2022-01-12  141.647995\n",
       "3 2022-01-13  139.130997\n",
       "4 2022-01-14  139.786499"
      ]
     },
     "execution_count": 44,
     "metadata": {},
     "output_type": "execute_result"
    }
   ],
   "source": [
    "# read csv into dataframe\n",
    "df = pd.read_csv(test_stock)\n",
    "# filter out the desired features\n",
    "df = df[['Date', 'Adj Close']]\n",
    "# rename feature column names\n",
    "df = df.rename(columns={'Adj Close': 'actual', 'Date': 'date'})\n",
    "# convert dates from object to DateTime type\n",
    "dates = df['date']\n",
    "dates = pd.to_datetime(dates, infer_datetime_format=True)\n",
    "df['date'] = dates\n",
    "\n",
    "df.head()"
   ]
  },
  {
   "cell_type": "markdown",
   "metadata": {},
   "source": [
    "### 3. Running Eval"
   ]
  },
  {
   "cell_type": "code",
   "execution_count": 45,
   "metadata": {},
   "outputs": [
    {
     "name": "stderr",
     "output_type": "stream",
     "text": [
      "\u001b[32m2023-01-16 16:31:37\u001b[0m \u001b[35mDESKTOP-6JVVUQ4\u001b[0m \u001b[34mroot[2348]\u001b[0m \u001b[1;30mDEBUG\u001b[0m \u001b[32mswitching to TensorFlow for CPU\u001b[0m\n",
      "\u001b[32m2023-01-16 16:31:37\u001b[0m \u001b[35mDESKTOP-6JVVUQ4\u001b[0m \u001b[34mroot[2348]\u001b[0m \u001b[1;30mDEBUG\u001b[0m \u001b[32mBuy at: $138.57\u001b[0m\n"
     ]
    },
    {
     "name": "stdout",
     "output_type": "stream",
     "text": [
      "1/1 [==============================] - 0s 82ms/step\n"
     ]
    },
    {
     "name": "stderr",
     "output_type": "stream",
     "text": [
      "\u001b[32m2023-01-16 16:31:37\u001b[0m \u001b[35mDESKTOP-6JVVUQ4\u001b[0m \u001b[34mroot[2348]\u001b[0m \u001b[1;30mDEBUG\u001b[0m \u001b[32mSell at: $140.02 | Position: +$1.44\u001b[0m\n"
     ]
    },
    {
     "name": "stdout",
     "output_type": "stream",
     "text": [
      "1/1 [==============================] - 0s 25ms/step\n",
      "1/1 [==============================] - 0s 25ms/step\n"
     ]
    },
    {
     "name": "stderr",
     "output_type": "stream",
     "text": [
      "\u001b[32m2023-01-16 16:31:37\u001b[0m \u001b[35mDESKTOP-6JVVUQ4\u001b[0m \u001b[34mroot[2348]\u001b[0m \u001b[1;30mDEBUG\u001b[0m \u001b[32mBuy at: $139.13\u001b[0m\n"
     ]
    },
    {
     "name": "stdout",
     "output_type": "stream",
     "text": [
      "1/1 [==============================] - 0s 20ms/step\n"
     ]
    },
    {
     "name": "stderr",
     "output_type": "stream",
     "text": [
      "\u001b[32m2023-01-16 16:31:38\u001b[0m \u001b[35mDESKTOP-6JVVUQ4\u001b[0m \u001b[34mroot[2348]\u001b[0m \u001b[1;30mDEBUG\u001b[0m \u001b[32mSell at: $139.79 | Position: +$0.66\u001b[0m\n"
     ]
    },
    {
     "name": "stdout",
     "output_type": "stream",
     "text": [
      "1/1 [==============================] - 0s 20ms/step\n"
     ]
    },
    {
     "name": "stderr",
     "output_type": "stream",
     "text": [
      "\u001b[32m2023-01-16 16:31:38\u001b[0m \u001b[35mDESKTOP-6JVVUQ4\u001b[0m \u001b[34mroot[2348]\u001b[0m \u001b[1;30mDEBUG\u001b[0m \u001b[32mBuy at: $136.29\u001b[0m\n"
     ]
    },
    {
     "name": "stdout",
     "output_type": "stream",
     "text": [
      "1/1 [==============================] - 0s 25ms/step\n"
     ]
    },
    {
     "name": "stderr",
     "output_type": "stream",
     "text": [
      "\u001b[32m2023-01-16 16:31:38\u001b[0m \u001b[35mDESKTOP-6JVVUQ4\u001b[0m \u001b[34mroot[2348]\u001b[0m \u001b[1;30mDEBUG\u001b[0m \u001b[32mBuy at: $135.65\u001b[0m\n"
     ]
    },
    {
     "name": "stdout",
     "output_type": "stream",
     "text": [
      "1/1 [==============================] - 0s 27ms/step\n"
     ]
    },
    {
     "name": "stderr",
     "output_type": "stream",
     "text": [
      "\u001b[32m2023-01-16 16:31:38\u001b[0m \u001b[35mDESKTOP-6JVVUQ4\u001b[0m \u001b[34mroot[2348]\u001b[0m \u001b[1;30mDEBUG\u001b[0m \u001b[32mBuy at: $133.51\u001b[0m\n"
     ]
    },
    {
     "name": "stdout",
     "output_type": "stream",
     "text": [
      "1/1 [==============================] - 0s 18ms/step\n"
     ]
    },
    {
     "name": "stderr",
     "output_type": "stream",
     "text": [
      "\u001b[32m2023-01-16 16:31:38\u001b[0m \u001b[35mDESKTOP-6JVVUQ4\u001b[0m \u001b[34mroot[2348]\u001b[0m \u001b[1;30mDEBUG\u001b[0m \u001b[32mBuy at: $130.09\u001b[0m\n"
     ]
    },
    {
     "name": "stdout",
     "output_type": "stream",
     "text": [
      "1/1 [==============================] - 0s 18ms/step\n",
      "1/1 [==============================] - 0s 19ms/step\n"
     ]
    },
    {
     "name": "stderr",
     "output_type": "stream",
     "text": [
      "\u001b[32m2023-01-16 16:31:38\u001b[0m \u001b[35mDESKTOP-6JVVUQ4\u001b[0m \u001b[34mroot[2348]\u001b[0m \u001b[1;30mDEBUG\u001b[0m \u001b[32mBuy at: $126.74\u001b[0m\n"
     ]
    },
    {
     "name": "stdout",
     "output_type": "stream",
     "text": [
      "1/1 [==============================] - 0s 16ms/step\n"
     ]
    },
    {
     "name": "stderr",
     "output_type": "stream",
     "text": [
      "\u001b[32m2023-01-16 16:31:38\u001b[0m \u001b[35mDESKTOP-6JVVUQ4\u001b[0m \u001b[34mroot[2348]\u001b[0m \u001b[1;30mDEBUG\u001b[0m \u001b[32mBuy at: $129.24\u001b[0m\n"
     ]
    },
    {
     "name": "stdout",
     "output_type": "stream",
     "text": [
      "1/1 [==============================] - 0s 25ms/step\n"
     ]
    },
    {
     "name": "stderr",
     "output_type": "stream",
     "text": [
      "\u001b[32m2023-01-16 16:31:38\u001b[0m \u001b[35mDESKTOP-6JVVUQ4\u001b[0m \u001b[34mroot[2348]\u001b[0m \u001b[1;30mDEBUG\u001b[0m \u001b[32mBuy at: $129.12\u001b[0m\n"
     ]
    },
    {
     "name": "stdout",
     "output_type": "stream",
     "text": [
      "1/1 [==============================] - 0s 25ms/step\n"
     ]
    },
    {
     "name": "stderr",
     "output_type": "stream",
     "text": [
      "\u001b[32m2023-01-16 16:31:38\u001b[0m \u001b[35mDESKTOP-6JVVUQ4\u001b[0m \u001b[34mroot[2348]\u001b[0m \u001b[1;30mDEBUG\u001b[0m \u001b[32mBuy at: $133.29\u001b[0m\n"
     ]
    },
    {
     "name": "stdout",
     "output_type": "stream",
     "text": [
      "1/1 [==============================] - 0s 25ms/step\n"
     ]
    },
    {
     "name": "stderr",
     "output_type": "stream",
     "text": [
      "\u001b[32m2023-01-16 16:31:38\u001b[0m \u001b[35mDESKTOP-6JVVUQ4\u001b[0m \u001b[34mroot[2348]\u001b[0m \u001b[1;30mDEBUG\u001b[0m \u001b[32mSell at: $135.70 | Position: -$0.59\u001b[0m\n"
     ]
    },
    {
     "name": "stdout",
     "output_type": "stream",
     "text": [
      "1/1 [==============================] - 0s 22ms/step\n"
     ]
    },
    {
     "name": "stderr",
     "output_type": "stream",
     "text": [
      "\u001b[32m2023-01-16 16:31:38\u001b[0m \u001b[35mDESKTOP-6JVVUQ4\u001b[0m \u001b[34mroot[2348]\u001b[0m \u001b[1;30mDEBUG\u001b[0m \u001b[32mSell at: $137.88 | Position: +$2.23\u001b[0m\n"
     ]
    },
    {
     "name": "stdout",
     "output_type": "stream",
     "text": [
      "1/1 [==============================] - 0s 19ms/step\n"
     ]
    },
    {
     "name": "stderr",
     "output_type": "stream",
     "text": [
      "\u001b[32m2023-01-16 16:31:38\u001b[0m \u001b[35mDESKTOP-6JVVUQ4\u001b[0m \u001b[34mroot[2348]\u001b[0m \u001b[1;30mDEBUG\u001b[0m \u001b[32mSell at: $148.04 | Position: +$14.53\u001b[0m\n"
     ]
    },
    {
     "name": "stdout",
     "output_type": "stream",
     "text": [
      "1/1 [==============================] - 0s 18ms/step\n"
     ]
    },
    {
     "name": "stderr",
     "output_type": "stream",
     "text": [
      "\u001b[32m2023-01-16 16:31:38\u001b[0m \u001b[35mDESKTOP-6JVVUQ4\u001b[0m \u001b[34mroot[2348]\u001b[0m \u001b[1;30mDEBUG\u001b[0m \u001b[32mSell at: $142.65 | Position: +$12.56\u001b[0m\n"
     ]
    },
    {
     "name": "stdout",
     "output_type": "stream",
     "text": [
      "1/1 [==============================] - 0s 17ms/step\n"
     ]
    },
    {
     "name": "stderr",
     "output_type": "stream",
     "text": [
      "\u001b[32m2023-01-16 16:31:38\u001b[0m \u001b[35mDESKTOP-6JVVUQ4\u001b[0m \u001b[34mroot[2348]\u001b[0m \u001b[1;30mDEBUG\u001b[0m \u001b[32mSell at: $143.02 | Position: +$16.28\u001b[0m\n"
     ]
    },
    {
     "name": "stdout",
     "output_type": "stream",
     "text": [
      "1/1 [==============================] - 0s 18ms/step\n"
     ]
    },
    {
     "name": "stderr",
     "output_type": "stream",
     "text": [
      "\u001b[32m2023-01-16 16:31:39\u001b[0m \u001b[35mDESKTOP-6JVVUQ4\u001b[0m \u001b[34mroot[2348]\u001b[0m \u001b[1;30mDEBUG\u001b[0m \u001b[32mBuy at: $138.94\u001b[0m\n"
     ]
    },
    {
     "name": "stdout",
     "output_type": "stream",
     "text": [
      "1/1 [==============================] - 0s 18ms/step\n"
     ]
    },
    {
     "name": "stderr",
     "output_type": "stream",
     "text": [
      "\u001b[32m2023-01-16 16:31:39\u001b[0m \u001b[35mDESKTOP-6JVVUQ4\u001b[0m \u001b[34mroot[2348]\u001b[0m \u001b[1;30mDEBUG\u001b[0m \u001b[32mSell at: $139.21 | Position: +$9.97\u001b[0m\n"
     ]
    },
    {
     "name": "stdout",
     "output_type": "stream",
     "text": [
      "1/1 [==============================] - 0s 10ms/step\n"
     ]
    },
    {
     "name": "stderr",
     "output_type": "stream",
     "text": [
      "\u001b[32m2023-01-16 16:31:39\u001b[0m \u001b[35mDESKTOP-6JVVUQ4\u001b[0m \u001b[34mroot[2348]\u001b[0m \u001b[1;30mDEBUG\u001b[0m \u001b[32mBuy at: $141.45\u001b[0m\n"
     ]
    },
    {
     "name": "stdout",
     "output_type": "stream",
     "text": [
      "1/1 [==============================] - 0s 26ms/step\n",
      "1/1 [==============================] - 0s 25ms/step\n",
      "1/1 [==============================] - 0s 25ms/step\n",
      "1/1 [==============================] - 0s 25ms/step\n"
     ]
    },
    {
     "name": "stderr",
     "output_type": "stream",
     "text": [
      "\u001b[32m2023-01-16 16:31:39\u001b[0m \u001b[35mDESKTOP-6JVVUQ4\u001b[0m \u001b[34mroot[2348]\u001b[0m \u001b[1;30mDEBUG\u001b[0m \u001b[32mBuy at: $136.43\u001b[0m\n"
     ]
    },
    {
     "name": "stdout",
     "output_type": "stream",
     "text": [
      "1/1 [==============================] - 0s 25ms/step\n"
     ]
    },
    {
     "name": "stderr",
     "output_type": "stream",
     "text": [
      "\u001b[32m2023-01-16 16:31:39\u001b[0m \u001b[35mDESKTOP-6JVVUQ4\u001b[0m \u001b[34mroot[2348]\u001b[0m \u001b[1;30mDEBUG\u001b[0m \u001b[32mBuy at: $137.49\u001b[0m\n"
     ]
    },
    {
     "name": "stdout",
     "output_type": "stream",
     "text": [
      "1/1 [==============================] - 0s 26ms/step\n",
      "1/1 [==============================] - 0s 25ms/step\n",
      "1/1 [==============================] - 0s 26ms/step\n"
     ]
    },
    {
     "name": "stderr",
     "output_type": "stream",
     "text": [
      "\u001b[32m2023-01-16 16:31:39\u001b[0m \u001b[35mDESKTOP-6JVVUQ4\u001b[0m \u001b[34mroot[2348]\u001b[0m \u001b[1;30mDEBUG\u001b[0m \u001b[32mBuy at: $129.40\u001b[0m\n"
     ]
    },
    {
     "name": "stdout",
     "output_type": "stream",
     "text": [
      "1/1 [==============================] - 0s 25ms/step\n"
     ]
    },
    {
     "name": "stderr",
     "output_type": "stream",
     "text": [
      "\u001b[32m2023-01-16 16:31:39\u001b[0m \u001b[35mDESKTOP-6JVVUQ4\u001b[0m \u001b[34mroot[2348]\u001b[0m \u001b[1;30mDEBUG\u001b[0m \u001b[32mBuy at: $127.58\u001b[0m\n"
     ]
    },
    {
     "name": "stdout",
     "output_type": "stream",
     "text": [
      "1/1 [==============================] - 0s 17ms/step\n"
     ]
    },
    {
     "name": "stderr",
     "output_type": "stream",
     "text": [
      "\u001b[32m2023-01-16 16:31:39\u001b[0m \u001b[35mDESKTOP-6JVVUQ4\u001b[0m \u001b[34mroot[2348]\u001b[0m \u001b[1;30mDEBUG\u001b[0m \u001b[32mBuy at: $132.67\u001b[0m\n"
     ]
    },
    {
     "name": "stdout",
     "output_type": "stream",
     "text": [
      "1/1 [==============================] - 0s 17ms/step\n"
     ]
    },
    {
     "name": "stderr",
     "output_type": "stream",
     "text": [
      "\u001b[32m2023-01-16 16:31:39\u001b[0m \u001b[35mDESKTOP-6JVVUQ4\u001b[0m \u001b[34mroot[2348]\u001b[0m \u001b[1;30mDEBUG\u001b[0m \u001b[32mBuy at: $134.52\u001b[0m\n"
     ]
    },
    {
     "name": "stdout",
     "output_type": "stream",
     "text": [
      "1/1 [==============================] - 0s 17ms/step\n"
     ]
    },
    {
     "name": "stderr",
     "output_type": "stream",
     "text": [
      "\u001b[32m2023-01-16 16:31:39\u001b[0m \u001b[35mDESKTOP-6JVVUQ4\u001b[0m \u001b[34mroot[2348]\u001b[0m \u001b[1;30mDEBUG\u001b[0m \u001b[32mBuy at: $134.89\u001b[0m\n"
     ]
    },
    {
     "name": "stdout",
     "output_type": "stream",
     "text": [
      "1/1 [==============================] - 0s 17ms/step\n"
     ]
    },
    {
     "name": "stderr",
     "output_type": "stream",
     "text": [
      "\u001b[32m2023-01-16 16:31:40\u001b[0m \u001b[35mDESKTOP-6JVVUQ4\u001b[0m \u001b[34mroot[2348]\u001b[0m \u001b[1;30mDEBUG\u001b[0m \u001b[32mBuy at: $134.17\u001b[0m\n"
     ]
    },
    {
     "name": "stdout",
     "output_type": "stream",
     "text": [
      "1/1 [==============================] - 0s 16ms/step\n"
     ]
    },
    {
     "name": "stderr",
     "output_type": "stream",
     "text": [
      "\u001b[32m2023-01-16 16:31:40\u001b[0m \u001b[35mDESKTOP-6JVVUQ4\u001b[0m \u001b[34mroot[2348]\u001b[0m \u001b[1;30mDEBUG\u001b[0m \u001b[32mSell at: $134.75 | Position: +$5.63\u001b[0m\n"
     ]
    },
    {
     "name": "stdout",
     "output_type": "stream",
     "text": [
      "1/1 [==============================] - 0s 26ms/step\n"
     ]
    },
    {
     "name": "stderr",
     "output_type": "stream",
     "text": [
      "\u001b[32m2023-01-16 16:31:40\u001b[0m \u001b[35mDESKTOP-6JVVUQ4\u001b[0m \u001b[34mroot[2348]\u001b[0m \u001b[1;30mDEBUG\u001b[0m \u001b[32mBuy at: $134.31\u001b[0m\n"
     ]
    },
    {
     "name": "stdout",
     "output_type": "stream",
     "text": [
      "1/1 [==============================] - 0s 18ms/step\n"
     ]
    },
    {
     "name": "stderr",
     "output_type": "stream",
     "text": [
      "\u001b[32m2023-01-16 16:31:40\u001b[0m \u001b[35mDESKTOP-6JVVUQ4\u001b[0m \u001b[34mroot[2348]\u001b[0m \u001b[1;30mDEBUG\u001b[0m \u001b[32mBuy at: $132.12\u001b[0m\n"
     ]
    },
    {
     "name": "stdout",
     "output_type": "stream",
     "text": [
      "1/1 [==============================] - 0s 26ms/step\n"
     ]
    },
    {
     "name": "stderr",
     "output_type": "stream",
     "text": [
      "\u001b[32m2023-01-16 16:31:40\u001b[0m \u001b[35mDESKTOP-6JVVUQ4\u001b[0m \u001b[34mroot[2348]\u001b[0m \u001b[1;30mDEBUG\u001b[0m \u001b[32mBuy at: $126.46\u001b[0m\n"
     ]
    },
    {
     "name": "stdout",
     "output_type": "stream",
     "text": [
      "1/1 [==============================] - 0s 18ms/step\n"
     ]
    },
    {
     "name": "stderr",
     "output_type": "stream",
     "text": [
      "\u001b[32m2023-01-16 16:31:40\u001b[0m \u001b[35mDESKTOP-6JVVUQ4\u001b[0m \u001b[34mroot[2348]\u001b[0m \u001b[1;30mDEBUG\u001b[0m \u001b[32mBuy at: $127.28\u001b[0m\n"
     ]
    },
    {
     "name": "stdout",
     "output_type": "stream",
     "text": [
      "1/1 [==============================] - 0s 25ms/step\n"
     ]
    },
    {
     "name": "stderr",
     "output_type": "stream",
     "text": [
      "\u001b[32m2023-01-16 16:31:40\u001b[0m \u001b[35mDESKTOP-6JVVUQ4\u001b[0m \u001b[34mroot[2348]\u001b[0m \u001b[1;30mDEBUG\u001b[0m \u001b[32mBuy at: $133.87\u001b[0m\n"
     ]
    },
    {
     "name": "stdout",
     "output_type": "stream",
     "text": [
      "1/1 [==============================] - 0s 26ms/step\n"
     ]
    },
    {
     "name": "stderr",
     "output_type": "stream",
     "text": [
      "\u001b[32m2023-01-16 16:31:40\u001b[0m \u001b[35mDESKTOP-6JVVUQ4\u001b[0m \u001b[34mroot[2348]\u001b[0m \u001b[1;30mDEBUG\u001b[0m \u001b[32mBuy at: $132.68\u001b[0m\n"
     ]
    },
    {
     "name": "stdout",
     "output_type": "stream",
     "text": [
      "1/1 [==============================] - 0s 26ms/step\n"
     ]
    },
    {
     "name": "stderr",
     "output_type": "stream",
     "text": [
      "\u001b[32m2023-01-16 16:31:40\u001b[0m \u001b[35mDESKTOP-6JVVUQ4\u001b[0m \u001b[34mroot[2348]\u001b[0m \u001b[1;30mDEBUG\u001b[0m \u001b[32mBuy at: $130.48\u001b[0m\n"
     ]
    },
    {
     "name": "stdout",
     "output_type": "stream",
     "text": [
      "1/1 [==============================] - 0s 25ms/step\n"
     ]
    },
    {
     "name": "stderr",
     "output_type": "stream",
     "text": [
      "\u001b[32m2023-01-16 16:31:40\u001b[0m \u001b[35mDESKTOP-6JVVUQ4\u001b[0m \u001b[34mroot[2348]\u001b[0m \u001b[1;30mDEBUG\u001b[0m \u001b[32mBuy at: $126.74\u001b[0m\n"
     ]
    },
    {
     "name": "stdout",
     "output_type": "stream",
     "text": [
      "1/1 [==============================] - 0s 26ms/step\n"
     ]
    },
    {
     "name": "stderr",
     "output_type": "stream",
     "text": [
      "\u001b[32m2023-01-16 16:31:40\u001b[0m \u001b[35mDESKTOP-6JVVUQ4\u001b[0m \u001b[34mroot[2348]\u001b[0m \u001b[1;30mDEBUG\u001b[0m \u001b[32mBuy at: $129.66\u001b[0m\n"
     ]
    },
    {
     "name": "stdout",
     "output_type": "stream",
     "text": [
      "1/1 [==============================] - 0s 26ms/step\n"
     ]
    },
    {
     "name": "stderr",
     "output_type": "stream",
     "text": [
      "\u001b[32m2023-01-16 16:31:40\u001b[0m \u001b[35mDESKTOP-6JVVUQ4\u001b[0m \u001b[34mroot[2348]\u001b[0m \u001b[1;30mDEBUG\u001b[0m \u001b[32mSell at: $133.69 | Position: +$0.40\u001b[0m\n"
     ]
    },
    {
     "name": "stdout",
     "output_type": "stream",
     "text": [
      "1/1 [==============================] - 0s 22ms/step\n"
     ]
    },
    {
     "name": "stderr",
     "output_type": "stream",
     "text": [
      "\u001b[32m2023-01-16 16:31:40\u001b[0m \u001b[35mDESKTOP-6JVVUQ4\u001b[0m \u001b[34mroot[2348]\u001b[0m \u001b[1;30mDEBUG\u001b[0m \u001b[32mBuy at: $134.60\u001b[0m\n"
     ]
    },
    {
     "name": "stdout",
     "output_type": "stream",
     "text": [
      "1/1 [==============================] - 0s 25ms/step\n"
     ]
    },
    {
     "name": "stderr",
     "output_type": "stream",
     "text": [
      "\u001b[32m2023-01-16 16:31:40\u001b[0m \u001b[35mDESKTOP-6JVVUQ4\u001b[0m \u001b[34mroot[2348]\u001b[0m \u001b[1;30mDEBUG\u001b[0m \u001b[32mSell at: $136.80 | Position: -$2.14\u001b[0m\n"
     ]
    },
    {
     "name": "stdout",
     "output_type": "stream",
     "text": [
      "1/1 [==============================] - 0s 25ms/step\n"
     ]
    },
    {
     "name": "stderr",
     "output_type": "stream",
     "text": [
      "\u001b[32m2023-01-16 16:31:41\u001b[0m \u001b[35mDESKTOP-6JVVUQ4\u001b[0m \u001b[34mroot[2348]\u001b[0m \u001b[1;30mDEBUG\u001b[0m \u001b[32mSell at: $136.48 | Position: -$4.97\u001b[0m\n"
     ]
    },
    {
     "name": "stdout",
     "output_type": "stream",
     "text": [
      "1/1 [==============================] - 0s 26ms/step\n"
     ]
    },
    {
     "name": "stderr",
     "output_type": "stream",
     "text": [
      "\u001b[32m2023-01-16 16:31:41\u001b[0m \u001b[35mDESKTOP-6JVVUQ4\u001b[0m \u001b[34mroot[2348]\u001b[0m \u001b[1;30mDEBUG\u001b[0m \u001b[32mSell at: $140.28 | Position: +$3.85\u001b[0m\n"
     ]
    },
    {
     "name": "stdout",
     "output_type": "stream",
     "text": [
      "1/1 [==============================] - 0s 25ms/step\n"
     ]
    },
    {
     "name": "stderr",
     "output_type": "stream",
     "text": [
      "\u001b[32m2023-01-16 16:31:41\u001b[0m \u001b[35mDESKTOP-6JVVUQ4\u001b[0m \u001b[34mroot[2348]\u001b[0m \u001b[1;30mDEBUG\u001b[0m \u001b[32mSell at: $138.50 | Position: +$1.02\u001b[0m\n"
     ]
    },
    {
     "name": "stdout",
     "output_type": "stream",
     "text": [
      "1/1 [==============================] - 0s 25ms/step\n"
     ]
    },
    {
     "name": "stderr",
     "output_type": "stream",
     "text": [
      "\u001b[32m2023-01-16 16:31:41\u001b[0m \u001b[35mDESKTOP-6JVVUQ4\u001b[0m \u001b[34mroot[2348]\u001b[0m \u001b[1;30mDEBUG\u001b[0m \u001b[32mSell at: $141.31 | Position: +$11.91\u001b[0m\n"
     ]
    },
    {
     "name": "stdout",
     "output_type": "stream",
     "text": [
      "1/1 [==============================] - 0s 26ms/step\n"
     ]
    },
    {
     "name": "stderr",
     "output_type": "stream",
     "text": [
      "\u001b[32m2023-01-16 16:31:41\u001b[0m \u001b[35mDESKTOP-6JVVUQ4\u001b[0m \u001b[34mroot[2348]\u001b[0m \u001b[1;30mDEBUG\u001b[0m \u001b[32mSell at: $141.52 | Position: +$13.94\u001b[0m\n"
     ]
    },
    {
     "name": "stdout",
     "output_type": "stream",
     "text": [
      "1/1 [==============================] - 0s 25ms/step\n"
     ]
    },
    {
     "name": "stderr",
     "output_type": "stream",
     "text": [
      "\u001b[32m2023-01-16 16:31:41\u001b[0m \u001b[35mDESKTOP-6JVVUQ4\u001b[0m \u001b[34mroot[2348]\u001b[0m \u001b[1;30mDEBUG\u001b[0m \u001b[32mSell at: $141.95 | Position: +$9.28\u001b[0m\n"
     ]
    },
    {
     "name": "stdout",
     "output_type": "stream",
     "text": [
      "1/1 [==============================] - 0s 26ms/step\n"
     ]
    },
    {
     "name": "stderr",
     "output_type": "stream",
     "text": [
      "\u001b[32m2023-01-16 16:31:41\u001b[0m \u001b[35mDESKTOP-6JVVUQ4\u001b[0m \u001b[34mroot[2348]\u001b[0m \u001b[1;30mDEBUG\u001b[0m \u001b[32mSell at: $143.25 | Position: +$8.73\u001b[0m\n"
     ]
    },
    {
     "name": "stdout",
     "output_type": "stream",
     "text": [
      "1/1 [==============================] - 0s 25ms/step\n"
     ]
    },
    {
     "name": "stderr",
     "output_type": "stream",
     "text": [
      "\u001b[32m2023-01-16 16:31:41\u001b[0m \u001b[35mDESKTOP-6JVVUQ4\u001b[0m \u001b[34mroot[2348]\u001b[0m \u001b[1;30mDEBUG\u001b[0m \u001b[32mSell at: $142.64 | Position: +$7.75\u001b[0m\n"
     ]
    },
    {
     "name": "stdout",
     "output_type": "stream",
     "text": [
      "1/1 [==============================] - 0s 25ms/step\n"
     ]
    },
    {
     "name": "stderr",
     "output_type": "stream",
     "text": [
      "\u001b[32m2023-01-16 16:31:41\u001b[0m \u001b[35mDESKTOP-6JVVUQ4\u001b[0m \u001b[34mroot[2348]\u001b[0m \u001b[1;30mDEBUG\u001b[0m \u001b[32mBuy at: $139.65\u001b[0m\n"
     ]
    },
    {
     "name": "stdout",
     "output_type": "stream",
     "text": [
      "1/1 [==============================] - 0s 25ms/step\n"
     ]
    },
    {
     "name": "stderr",
     "output_type": "stream",
     "text": [
      "\u001b[32m2023-01-16 16:31:41\u001b[0m \u001b[35mDESKTOP-6JVVUQ4\u001b[0m \u001b[34mroot[2348]\u001b[0m \u001b[1;30mDEBUG\u001b[0m \u001b[32mSell at: $140.70 | Position: +$6.53\u001b[0m\n"
     ]
    },
    {
     "name": "stdout",
     "output_type": "stream",
     "text": [
      "1/1 [==============================] - 0s 26ms/step\n"
     ]
    },
    {
     "name": "stderr",
     "output_type": "stream",
     "text": [
      "\u001b[32m2023-01-16 16:31:41\u001b[0m \u001b[35mDESKTOP-6JVVUQ4\u001b[0m \u001b[34mroot[2348]\u001b[0m \u001b[1;30mDEBUG\u001b[0m \u001b[32mSell at: $143.64 | Position: +$9.33\u001b[0m\n"
     ]
    },
    {
     "name": "stdout",
     "output_type": "stream",
     "text": [
      "1/1 [==============================] - 0s 26ms/step\n",
      "1/1 [==============================] - 0s 17ms/step\n",
      "1/1 [==============================] - 0s 19ms/step\n",
      "1/1 [==============================] - 0s 21ms/step\n",
      "1/1 [==============================] - 0s 23ms/step\n",
      "1/1 [==============================] - 0s 25ms/step\n",
      "1/1 [==============================] - 0s 25ms/step\n",
      "1/1 [==============================] - 0s 26ms/step\n",
      "1/1 [==============================] - 0s 25ms/step\n",
      "1/1 [==============================] - 0s 25ms/step\n",
      "1/1 [==============================] - 0s 26ms/step\n",
      "1/1 [==============================] - 0s 14ms/step\n",
      "1/1 [==============================] - 0s 17ms/step\n",
      "1/1 [==============================] - 0s 20ms/step\n",
      "1/1 [==============================] - 0s 23ms/step\n",
      "1/1 [==============================] - 0s 25ms/step\n",
      "1/1 [==============================] - 0s 25ms/step\n",
      "1/1 [==============================] - 0s 25ms/step\n",
      "1/1 [==============================] - 0s 25ms/step\n",
      "1/1 [==============================] - 0s 25ms/step\n",
      "1/1 [==============================] - 0s 19ms/step\n",
      "1/1 [==============================] - 0s 14ms/step\n",
      "1/1 [==============================] - 0s 24ms/step\n",
      "1/1 [==============================] - 0s 18ms/step\n",
      "1/1 [==============================] - 0s 22ms/step\n"
     ]
    },
    {
     "name": "stderr",
     "output_type": "stream",
     "text": [
      "\u001b[32m2023-01-16 16:31:43\u001b[0m \u001b[35mDESKTOP-6JVVUQ4\u001b[0m \u001b[34mroot[2348]\u001b[0m \u001b[1;30mDEBUG\u001b[0m \u001b[32mBuy at: $114.58\u001b[0m\n"
     ]
    },
    {
     "name": "stdout",
     "output_type": "stream",
     "text": [
      "1/1 [==============================] - 0s 23ms/step\n",
      "1/1 [==============================] - 0s 24ms/step\n",
      "1/1 [==============================] - 0s 24ms/step\n",
      "1/1 [==============================] - 0s 25ms/step\n",
      "1/1 [==============================] - 0s 25ms/step\n",
      "1/1 [==============================] - 0s 17ms/step\n",
      "1/1 [==============================] - 0s 11ms/step\n",
      "1/1 [==============================] - 0s 26ms/step\n",
      "1/1 [==============================] - 0s 25ms/step\n",
      "1/1 [==============================] - 0s 26ms/step\n",
      "1/1 [==============================] - 0s 25ms/step\n",
      "1/1 [==============================] - 0s 25ms/step\n",
      "1/1 [==============================] - 0s 25ms/step\n",
      "1/1 [==============================] - 0s 26ms/step\n",
      "1/1 [==============================] - 0s 26ms/step\n",
      "1/1 [==============================] - 0s 21ms/step\n",
      "1/1 [==============================] - 0s 26ms/step\n",
      "1/1 [==============================] - 0s 26ms/step\n",
      "1/1 [==============================] - 0s 25ms/step\n"
     ]
    },
    {
     "name": "stderr",
     "output_type": "stream",
     "text": [
      "\u001b[32m2023-01-16 16:31:44\u001b[0m \u001b[35mDESKTOP-6JVVUQ4\u001b[0m \u001b[34mroot[2348]\u001b[0m \u001b[1;30mDEBUG\u001b[0m \u001b[32mSell at: $117.23 | Position: -$14.89\u001b[0m\n"
     ]
    },
    {
     "name": "stdout",
     "output_type": "stream",
     "text": [
      "1/1 [==============================] - 0s 25ms/step\n",
      "1/1 [==============================] - 0s 25ms/step\n",
      "1/1 [==============================] - 0s 25ms/step\n",
      "1/1 [==============================] - 0s 17ms/step\n",
      "1/1 [==============================] - 0s 25ms/step\n",
      "1/1 [==============================] - 0s 21ms/step\n",
      "1/1 [==============================] - 0s 26ms/step\n",
      "1/1 [==============================] - 0s 25ms/step\n",
      "1/1 [==============================] - 0s 26ms/step\n",
      "1/1 [==============================] - 0s 25ms/step\n",
      "1/1 [==============================] - 0s 25ms/step\n",
      "1/1 [==============================] - 0s 25ms/step\n",
      "1/1 [==============================] - 0s 25ms/step\n",
      "1/1 [==============================] - 0s 25ms/step\n",
      "1/1 [==============================] - 0s 26ms/step\n",
      "1/1 [==============================] - 0s 26ms/step\n",
      "1/1 [==============================] - 0s 25ms/step\n",
      "1/1 [==============================] - 0s 25ms/step\n",
      "1/1 [==============================] - 0s 25ms/step\n",
      "1/1 [==============================] - 0s 25ms/step\n",
      "1/1 [==============================] - 0s 18ms/step\n",
      "1/1 [==============================] - 0s 25ms/step\n",
      "1/1 [==============================] - 0s 25ms/step\n",
      "1/1 [==============================] - 0s 25ms/step\n",
      "1/1 [==============================] - 0s 26ms/step\n",
      "1/1 [==============================] - 0s 25ms/step\n",
      "1/1 [==============================] - 0s 25ms/step\n",
      "1/1 [==============================] - 0s 25ms/step\n",
      "1/1 [==============================] - 0s 24ms/step\n",
      "1/1 [==============================] - 0s 25ms/step\n",
      "1/1 [==============================] - 0s 25ms/step\n",
      "1/1 [==============================] - 0s 18ms/step\n",
      "1/1 [==============================] - 0s 20ms/step\n",
      "1/1 [==============================] - 0s 25ms/step\n"
     ]
    },
    {
     "name": "stderr",
     "output_type": "stream",
     "text": [
      "\u001b[32m2023-01-16 16:31:46\u001b[0m \u001b[35mDESKTOP-6JVVUQ4\u001b[0m \u001b[34mroot[2348]\u001b[0m \u001b[1;30mDEBUG\u001b[0m \u001b[32mBuy at: $113.60\u001b[0m\n"
     ]
    },
    {
     "name": "stdout",
     "output_type": "stream",
     "text": [
      "1/1 [==============================] - 0s 25ms/step\n",
      "1/1 [==============================] - 0s 26ms/step\n",
      "1/1 [==============================] - 0s 25ms/step\n",
      "1/1 [==============================] - 0s 26ms/step\n",
      "1/1 [==============================] - 0s 26ms/step\n",
      "1/1 [==============================] - 0s 26ms/step\n",
      "1/1 [==============================] - 0s 11ms/step\n",
      "1/1 [==============================] - 0s 25ms/step\n",
      "1/1 [==============================] - 0s 25ms/step\n",
      "1/1 [==============================] - 0s 25ms/step\n"
     ]
    },
    {
     "name": "stderr",
     "output_type": "stream",
     "text": [
      "\u001b[32m2023-01-16 16:31:47\u001b[0m \u001b[35mDESKTOP-6JVVUQ4\u001b[0m \u001b[34mroot[2348]\u001b[0m \u001b[1;30mDEBUG\u001b[0m \u001b[32mBuy at: $120.65\u001b[0m\n"
     ]
    },
    {
     "name": "stdout",
     "output_type": "stream",
     "text": [
      "1/1 [==============================] - 0s 27ms/step\n",
      "1/1 [==============================] - 0s 25ms/step\n"
     ]
    },
    {
     "name": "stderr",
     "output_type": "stream",
     "text": [
      "\u001b[32m2023-01-16 16:31:47\u001b[0m \u001b[35mDESKTOP-6JVVUQ4\u001b[0m \u001b[34mroot[2348]\u001b[0m \u001b[1;30mDEBUG\u001b[0m \u001b[32mSell at: $122.65 | Position: -$3.81\u001b[0m\n"
     ]
    },
    {
     "name": "stdout",
     "output_type": "stream",
     "text": [
      "1/1 [==============================] - 0s 26ms/step\n",
      "1/1 [==============================] - 0s 25ms/step\n",
      "1/1 [==============================] - 0s 26ms/step\n",
      "1/1 [==============================] - 0s 26ms/step\n",
      "1/1 [==============================] - 0s 25ms/step\n",
      "1/1 [==============================] - 0s 25ms/step\n",
      "1/1 [==============================] - 0s 26ms/step\n",
      "1/1 [==============================] - 0s 26ms/step\n"
     ]
    },
    {
     "name": "stderr",
     "output_type": "stream",
     "text": [
      "\u001b[32m2023-01-16 16:31:48\u001b[0m \u001b[35mDESKTOP-6JVVUQ4\u001b[0m \u001b[34mroot[2348]\u001b[0m \u001b[1;30mDEBUG\u001b[0m \u001b[32mBuy at: $114.70\u001b[0m\n"
     ]
    },
    {
     "name": "stdout",
     "output_type": "stream",
     "text": [
      "1/1 [==============================] - 0s 25ms/step\n",
      "1/1 [==============================] - 0s 25ms/step\n",
      "1/1 [==============================] - 0s 25ms/step\n",
      "1/1 [==============================] - 0s 25ms/step\n",
      "1/1 [==============================] - 0s 26ms/step\n",
      "1/1 [==============================] - 0s 18ms/step\n",
      "1/1 [==============================] - 0s 25ms/step\n",
      "1/1 [==============================] - 0s 25ms/step\n",
      "1/1 [==============================] - 0s 26ms/step\n",
      "1/1 [==============================] - 0s 25ms/step\n",
      "1/1 [==============================] - 0s 24ms/step\n",
      "1/1 [==============================] - 0s 25ms/step\n",
      "1/1 [==============================] - 0s 25ms/step\n",
      "1/1 [==============================] - 0s 26ms/step\n",
      "1/1 [==============================] - 0s 26ms/step\n",
      "1/1 [==============================] - 0s 25ms/step\n",
      "1/1 [==============================] - 0s 26ms/step\n",
      "1/1 [==============================] - 0s 25ms/step\n",
      "1/1 [==============================] - 0s 26ms/step\n",
      "1/1 [==============================] - 0s 26ms/step\n",
      "1/1 [==============================] - 0s 26ms/step\n",
      "1/1 [==============================] - 0s 25ms/step\n",
      "1/1 [==============================] - 0s 25ms/step\n",
      "1/1 [==============================] - 0s 25ms/step\n",
      "1/1 [==============================] - 0s 25ms/step\n"
     ]
    },
    {
     "name": "stderr",
     "output_type": "stream",
     "text": [
      "\u001b[32m2023-01-16 16:31:49\u001b[0m \u001b[35mDESKTOP-6JVVUQ4\u001b[0m \u001b[34mroot[2348]\u001b[0m \u001b[1;30mDEBUG\u001b[0m \u001b[32mBuy at: $98.09\u001b[0m\n"
     ]
    },
    {
     "name": "stdout",
     "output_type": "stream",
     "text": [
      "1/1 [==============================] - 0s 26ms/step\n",
      "1/1 [==============================] - 0s 25ms/step\n",
      "1/1 [==============================] - 0s 25ms/step\n",
      "1/1 [==============================] - 0s 26ms/step\n",
      "1/1 [==============================] - 0s 18ms/step\n",
      "1/1 [==============================] - 0s 14ms/step\n",
      "1/1 [==============================] - 0s 25ms/step\n",
      "1/1 [==============================] - 0s 19ms/step\n",
      "1/1 [==============================] - 0s 22ms/step\n",
      "1/1 [==============================] - 0s 24ms/step\n",
      "1/1 [==============================] - 0s 26ms/step\n",
      "1/1 [==============================] - 0s 26ms/step\n",
      "1/1 [==============================] - 0s 26ms/step\n",
      "1/1 [==============================] - 0s 26ms/step\n",
      "1/1 [==============================] - 0s 26ms/step\n",
      "1/1 [==============================] - 0s 26ms/step\n",
      "1/1 [==============================] - 0s 25ms/step\n",
      "1/1 [==============================] - 0s 26ms/step\n",
      "1/1 [==============================] - 0s 25ms/step\n",
      "1/1 [==============================] - 0s 25ms/step\n",
      "1/1 [==============================] - 0s 25ms/step\n",
      "1/1 [==============================] - 0s 26ms/step\n",
      "1/1 [==============================] - 0s 26ms/step\n",
      "1/1 [==============================] - 0s 25ms/step\n",
      "1/1 [==============================] - 0s 26ms/step\n",
      "1/1 [==============================] - 0s 25ms/step\n",
      "1/1 [==============================] - 0s 26ms/step\n",
      "1/1 [==============================] - 0s 25ms/step\n",
      "1/1 [==============================] - 0s 25ms/step\n",
      "1/1 [==============================] - 0s 26ms/step\n",
      "1/1 [==============================] - 0s 26ms/step\n",
      "1/1 [==============================] - 0s 25ms/step\n",
      "1/1 [==============================] - 0s 25ms/step\n",
      "1/1 [==============================] - 0s 25ms/step\n",
      "1/1 [==============================] - 0s 25ms/step\n",
      "1/1 [==============================] - 0s 23ms/step\n",
      "1/1 [==============================] - 0s 25ms/step\n",
      "1/1 [==============================] - 0s 25ms/step\n",
      "1/1 [==============================] - 0s 26ms/step\n",
      "1/1 [==============================] - 0s 25ms/step\n",
      "1/1 [==============================] - 0s 26ms/step\n",
      "1/1 [==============================] - 0s 26ms/step\n",
      "1/1 [==============================] - 0s 26ms/step\n",
      "1/1 [==============================] - 0s 26ms/step\n",
      "1/1 [==============================] - 0s 25ms/step\n",
      "1/1 [==============================] - 0s 25ms/step\n",
      "1/1 [==============================] - 0s 25ms/step\n",
      "1/1 [==============================] - 0s 26ms/step\n",
      "1/1 [==============================] - 0s 26ms/step\n",
      "1/1 [==============================] - 0s 16ms/step\n",
      "1/1 [==============================] - 0s 26ms/step\n",
      "1/1 [==============================] - 0s 25ms/step\n",
      "1/1 [==============================] - 0s 25ms/step\n",
      "1/1 [==============================] - 0s 25ms/step\n",
      "1/1 [==============================] - 0s 26ms/step\n",
      "1/1 [==============================] - 0s 25ms/step\n",
      "1/1 [==============================] - 0s 26ms/step\n",
      "1/1 [==============================] - 0s 25ms/step\n",
      "1/1 [==============================] - 0s 26ms/step\n",
      "1/1 [==============================] - 0s 25ms/step\n",
      "1/1 [==============================] - 0s 25ms/step\n",
      "1/1 [==============================] - 0s 25ms/step\n",
      "1/1 [==============================] - 0s 25ms/step\n",
      "1/1 [==============================] - 0s 21ms/step\n",
      "1/1 [==============================] - 0s 25ms/step\n",
      "1/1 [==============================] - 0s 19ms/step\n",
      "1/1 [==============================] - 0s 25ms/step\n",
      "1/1 [==============================] - 0s 26ms/step\n"
     ]
    },
    {
     "name": "stderr",
     "output_type": "stream",
     "text": [
      "\u001b[32m2023-01-16 16:31:54\u001b[0m \u001b[35mDESKTOP-6JVVUQ4\u001b[0m \u001b[34mroot[2348]\u001b[0m \u001b[1;30mINFO\u001b[0m model_dqn_GOOG_epidodes_50_40: +$109.63\n",
      "\n"
     ]
    }
   ],
   "source": [
    "import logging\n",
    "import coloredlogs\n",
    "\n",
    "from trading_bot.utils import show_eval_result, switch_k_backend_device, get_stock_data\n",
    "from trading_bot.methods import evaluate_model\n",
    "\n",
    "coloredlogs.install(level='DEBUG')\n",
    "switch_k_backend_device()\n",
    "\n",
    "test_data = get_stock_data(test_stock)\n",
    "initial_offset = test_data[1] - test_data[0]\n",
    "\n",
    "test_result, history = evaluate_model(agent, test_data, window_size, debug)\n",
    "show_eval_result(model_name, test_result, initial_offset)"
   ]
  },
  {
   "cell_type": "markdown",
   "metadata": {},
   "source": [
    "### 4. Visualize"
   ]
  },
  {
   "cell_type": "code",
   "execution_count": 48,
   "metadata": {},
   "outputs": [],
   "source": [
    "def visualize(df, history, title=\"trading session\"):\n",
    "    # add history to dataframe\n",
    "    position = [history[0][0]] + [x[0] for x in history]\n",
    "    actions = ['HOLD'] + [x[1] for x in history]\n",
    "    df['position'] = position\n",
    "    df['action'] = actions\n",
    "    \n",
    "    # specify y-axis scale for stock prices\n",
    "    scale = alt.Scale(domain=(min(min(df['actual']), min(df['position'])) - 50, max(max(df['actual']), max(df['position'])) + 50), clamp=True)\n",
    "    \n",
    "    # plot a line chart for stock positions\n",
    "    actual = alt.Chart(df).mark_line(\n",
    "        color='green',\n",
    "        opacity=0.5\n",
    "    ).encode(\n",
    "        x='date:T',\n",
    "        y=alt.Y('position', axis=alt.Axis(format='$.2f', title='Price'), scale=scale)\n",
    "    ).interactive(\n",
    "        bind_y=False\n",
    "    )\n",
    "    \n",
    "    points = alt.Chart(df).mark_point(\n",
    "        filled=True\n",
    "    ).encode(\n",
    "        x=alt.X('date:T', axis=alt.Axis(title='Date')),\n",
    "        y=alt.Y('position', axis=alt.Axis(format='$.2f', title='Price'), scale=scale),\n",
    "        color='action'\n",
    "    ).interactive(bind_y=False)\n",
    "\n",
    "    # merge the two charts\n",
    "    chart = alt.layer(actual, points, title=title).properties(height=300, width=1000)\n",
    "    \n",
    "    return chart"
   ]
  },
  {
   "cell_type": "code",
   "execution_count": 49,
   "metadata": {},
   "outputs": [
    {
     "data": {
      "text/html": [
       "\n",
       "<div id=\"altair-viz-09631e930cfc43daae0a5196e69db382\"></div>\n",
       "<script type=\"text/javascript\">\n",
       "  var VEGA_DEBUG = (typeof VEGA_DEBUG == \"undefined\") ? {} : VEGA_DEBUG;\n",
       "  (function(spec, embedOpt){\n",
       "    let outputDiv = document.currentScript.previousElementSibling;\n",
       "    if (outputDiv.id !== \"altair-viz-09631e930cfc43daae0a5196e69db382\") {\n",
       "      outputDiv = document.getElementById(\"altair-viz-09631e930cfc43daae0a5196e69db382\");\n",
       "    }\n",
       "    const paths = {\n",
       "      \"vega\": \"https://cdn.jsdelivr.net/npm//vega@5?noext\",\n",
       "      \"vega-lib\": \"https://cdn.jsdelivr.net/npm//vega-lib?noext\",\n",
       "      \"vega-lite\": \"https://cdn.jsdelivr.net/npm//vega-lite@4.17.0?noext\",\n",
       "      \"vega-embed\": \"https://cdn.jsdelivr.net/npm//vega-embed@6?noext\",\n",
       "    };\n",
       "\n",
       "    function maybeLoadScript(lib, version) {\n",
       "      var key = `${lib.replace(\"-\", \"\")}_version`;\n",
       "      return (VEGA_DEBUG[key] == version) ?\n",
       "        Promise.resolve(paths[lib]) :\n",
       "        new Promise(function(resolve, reject) {\n",
       "          var s = document.createElement('script');\n",
       "          document.getElementsByTagName(\"head\")[0].appendChild(s);\n",
       "          s.async = true;\n",
       "          s.onload = () => {\n",
       "            VEGA_DEBUG[key] = version;\n",
       "            return resolve(paths[lib]);\n",
       "          };\n",
       "          s.onerror = () => reject(`Error loading script: ${paths[lib]}`);\n",
       "          s.src = paths[lib];\n",
       "        });\n",
       "    }\n",
       "\n",
       "    function showError(err) {\n",
       "      outputDiv.innerHTML = `<div class=\"error\" style=\"color:red;\">${err}</div>`;\n",
       "      throw err;\n",
       "    }\n",
       "\n",
       "    function displayChart(vegaEmbed) {\n",
       "      vegaEmbed(outputDiv, spec, embedOpt)\n",
       "        .catch(err => showError(`Javascript Error: ${err.message}<br>This usually means there's a typo in your chart specification. See the javascript console for the full traceback.`));\n",
       "    }\n",
       "\n",
       "    if(typeof define === \"function\" && define.amd) {\n",
       "      requirejs.config({paths});\n",
       "      require([\"vega-embed\"], displayChart, err => showError(`Error loading script: ${err.message}`));\n",
       "    } else {\n",
       "      maybeLoadScript(\"vega\", \"5\")\n",
       "        .then(() => maybeLoadScript(\"vega-lite\", \"4.17.0\"))\n",
       "        .then(() => maybeLoadScript(\"vega-embed\", \"6\"))\n",
       "        .catch(showError)\n",
       "        .then(() => displayChart(vegaEmbed));\n",
       "    }\n",
       "  })({\"config\": {\"view\": {\"continuousWidth\": 400, \"continuousHeight\": 300}}, \"layer\": [{\"mark\": {\"type\": \"line\", \"color\": \"green\", \"opacity\": 0.5}, \"encoding\": {\"x\": {\"field\": \"date\", \"type\": \"temporal\"}, \"y\": {\"axis\": {\"format\": \"$.2f\", \"title\": \"Price\"}, \"field\": \"position\", \"scale\": {\"clamp\": true, \"domain\": [33.489998, 198.036499]}, \"type\": \"quantitative\"}}, \"selection\": {\"selector013\": {\"type\": \"interval\", \"bind\": \"scales\", \"encodings\": [\"x\"]}}}, {\"mark\": {\"type\": \"point\", \"filled\": true}, \"encoding\": {\"color\": {\"field\": \"action\", \"type\": \"nominal\"}, \"x\": {\"axis\": {\"title\": \"Date\"}, \"field\": \"date\", \"type\": \"temporal\"}, \"y\": {\"axis\": {\"format\": \"$.2f\", \"title\": \"Price\"}, \"field\": \"position\", \"scale\": {\"clamp\": true, \"domain\": [33.489998, 198.036499]}, \"type\": \"quantitative\"}}, \"selection\": {\"selector014\": {\"type\": \"interval\", \"bind\": \"scales\", \"encodings\": [\"x\"]}}}], \"data\": {\"name\": \"data-038bf3b0ee12ff3c54a4d2f2e7b7f020\"}, \"height\": 300, \"title\": \"GOOGLE Stock +$109.63 (DQN 40 ep)\", \"width\": 1000, \"$schema\": \"https://vega.github.io/schema/vega-lite/v4.17.0.json\", \"datasets\": {\"data-038bf3b0ee12ff3c54a4d2f2e7b7f020\": [{\"date\": \"2022-01-10T00:00:00\", \"actual\": 138.574005, \"position\": 138.574005, \"action\": \"HOLD\"}, {\"date\": \"2022-01-11T00:00:00\", \"actual\": 140.017502, \"position\": 138.574005, \"action\": \"BUY\"}, {\"date\": \"2022-01-12T00:00:00\", \"actual\": 141.647995, \"position\": 140.017502, \"action\": \"SELL\"}, {\"date\": \"2022-01-13T00:00:00\", \"actual\": 139.130997, \"position\": 141.647995, \"action\": \"HOLD\"}, {\"date\": \"2022-01-14T00:00:00\", \"actual\": 139.786499, \"position\": 139.130997, \"action\": \"BUY\"}, {\"date\": \"2022-01-18T00:00:00\", \"actual\": 136.290497, \"position\": 139.786499, \"action\": \"SELL\"}, {\"date\": \"2022-01-19T00:00:00\", \"actual\": 135.651993, \"position\": 136.290497, \"action\": \"BUY\"}, {\"date\": \"2022-01-20T00:00:00\", \"actual\": 133.5065, \"position\": 135.651993, \"action\": \"BUY\"}, {\"date\": \"2022-01-21T00:00:00\", \"actual\": 130.091995, \"position\": 133.5065, \"action\": \"BUY\"}, {\"date\": \"2022-01-24T00:00:00\", \"actual\": 130.371994, \"position\": 130.091995, \"action\": \"BUY\"}, {\"date\": \"2022-01-25T00:00:00\", \"actual\": 126.735497, \"position\": 130.371994, \"action\": \"HOLD\"}, {\"date\": \"2022-01-26T00:00:00\", \"actual\": 129.240005, \"position\": 126.735497, \"action\": \"BUY\"}, {\"date\": \"2022-01-27T00:00:00\", \"actual\": 129.121002, \"position\": 129.240005, \"action\": \"BUY\"}, {\"date\": \"2022-01-28T00:00:00\", \"actual\": 133.289505, \"position\": 129.121002, \"action\": \"BUY\"}, {\"date\": \"2022-01-31T00:00:00\", \"actual\": 135.698502, \"position\": 133.289505, \"action\": \"BUY\"}, {\"date\": \"2022-02-01T00:00:00\", \"actual\": 137.878494, \"position\": 135.698502, \"action\": \"SELL\"}, {\"date\": \"2022-02-02T00:00:00\", \"actual\": 148.036499, \"position\": 137.878494, \"action\": \"SELL\"}, {\"date\": \"2022-02-03T00:00:00\", \"actual\": 142.650497, \"position\": 148.036499, \"action\": \"SELL\"}, {\"date\": \"2022-02-04T00:00:00\", \"actual\": 143.016006, \"position\": 142.650497, \"action\": \"SELL\"}, {\"date\": \"2022-02-07T00:00:00\", \"actual\": 138.938004, \"position\": 143.016006, \"action\": \"SELL\"}, {\"date\": \"2022-02-08T00:00:00\", \"actual\": 139.212997, \"position\": 138.938004, \"action\": \"BUY\"}, {\"date\": \"2022-02-09T00:00:00\", \"actual\": 141.453003, \"position\": 139.212997, \"action\": \"SELL\"}, {\"date\": \"2022-02-10T00:00:00\", \"actual\": 138.602493, \"position\": 141.453003, \"action\": \"BUY\"}, {\"date\": \"2022-02-11T00:00:00\", \"actual\": 134.130005, \"position\": 138.602493, \"action\": \"HOLD\"}, {\"date\": \"2022-02-14T00:00:00\", \"actual\": 135.300003, \"position\": 134.130005, \"action\": \"HOLD\"}, {\"date\": \"2022-02-15T00:00:00\", \"actual\": 136.425507, \"position\": 135.300003, \"action\": \"HOLD\"}, {\"date\": \"2022-02-16T00:00:00\", \"actual\": 137.487503, \"position\": 136.425507, \"action\": \"BUY\"}, {\"date\": \"2022-02-17T00:00:00\", \"actual\": 132.308502, \"position\": 137.487503, \"action\": \"BUY\"}, {\"date\": \"2022-02-18T00:00:00\", \"actual\": 130.467499, \"position\": 132.308502, \"action\": \"HOLD\"}, {\"date\": \"2022-02-22T00:00:00\", \"actual\": 129.402496, \"position\": 130.467499, \"action\": \"HOLD\"}, {\"date\": \"2022-02-23T00:00:00\", \"actual\": 127.584999, \"position\": 129.402496, \"action\": \"BUY\"}, {\"date\": \"2022-02-24T00:00:00\", \"actual\": 132.673492, \"position\": 127.584999, \"action\": \"BUY\"}, {\"date\": \"2022-02-25T00:00:00\", \"actual\": 134.519501, \"position\": 132.673492, \"action\": \"BUY\"}, {\"date\": \"2022-02-28T00:00:00\", \"actual\": 134.891006, \"position\": 134.519501, \"action\": \"BUY\"}, {\"date\": \"2022-03-01T00:00:00\", \"actual\": 134.167999, \"position\": 134.891006, \"action\": \"BUY\"}, {\"date\": \"2022-03-02T00:00:00\", \"actual\": 134.751495, \"position\": 134.167999, \"action\": \"BUY\"}, {\"date\": \"2022-03-03T00:00:00\", \"actual\": 134.307999, \"position\": 134.751495, \"action\": \"SELL\"}, {\"date\": \"2022-03-04T00:00:00\", \"actual\": 132.121994, \"position\": 134.307999, \"action\": \"BUY\"}, {\"date\": \"2022-03-07T00:00:00\", \"actual\": 126.4645, \"position\": 132.121994, \"action\": \"BUY\"}, {\"date\": \"2022-03-08T00:00:00\", \"actual\": 127.278503, \"position\": 126.4645, \"action\": \"BUY\"}, {\"date\": \"2022-03-09T00:00:00\", \"actual\": 133.865997, \"position\": 127.278503, \"action\": \"BUY\"}, {\"date\": \"2022-03-10T00:00:00\", \"actual\": 132.682007, \"position\": 133.865997, \"action\": \"BUY\"}, {\"date\": \"2022-03-11T00:00:00\", \"actual\": 130.475494, \"position\": 132.682007, \"action\": \"BUY\"}, {\"date\": \"2022-03-14T00:00:00\", \"actual\": 126.740997, \"position\": 130.475494, \"action\": \"BUY\"}, {\"date\": \"2022-03-15T00:00:00\", \"actual\": 129.660507, \"position\": 126.740997, \"action\": \"BUY\"}, {\"date\": \"2022-03-16T00:00:00\", \"actual\": 133.690506, \"position\": 129.660507, \"action\": \"BUY\"}, {\"date\": \"2022-03-17T00:00:00\", \"actual\": 134.600494, \"position\": 133.690506, \"action\": \"SELL\"}, {\"date\": \"2022-03-18T00:00:00\", \"actual\": 136.801498, \"position\": 134.600494, \"action\": \"BUY\"}, {\"date\": \"2022-03-21T00:00:00\", \"actual\": 136.4785, \"position\": 136.801498, \"action\": \"SELL\"}, {\"date\": \"2022-03-22T00:00:00\", \"actual\": 140.277496, \"position\": 136.4785, \"action\": \"SELL\"}, {\"date\": \"2022-03-23T00:00:00\", \"actual\": 138.503494, \"position\": 140.277496, \"action\": \"SELL\"}, {\"date\": \"2022-03-24T00:00:00\", \"actual\": 141.311996, \"position\": 138.503494, \"action\": \"SELL\"}, {\"date\": \"2022-03-25T00:00:00\", \"actual\": 141.5215, \"position\": 141.311996, \"action\": \"SELL\"}, {\"date\": \"2022-03-28T00:00:00\", \"actual\": 141.949997, \"position\": 141.5215, \"action\": \"SELL\"}, {\"date\": \"2022-03-29T00:00:00\", \"actual\": 143.25, \"position\": 141.949997, \"action\": \"SELL\"}, {\"date\": \"2022-03-30T00:00:00\", \"actual\": 142.644501, \"position\": 143.25, \"action\": \"SELL\"}, {\"date\": \"2022-03-31T00:00:00\", \"actual\": 139.649506, \"position\": 142.644501, \"action\": \"SELL\"}, {\"date\": \"2022-04-01T00:00:00\", \"actual\": 140.699997, \"position\": 139.649506, \"action\": \"BUY\"}, {\"date\": \"2022-04-04T00:00:00\", \"actual\": 143.642502, \"position\": 140.699997, \"action\": \"SELL\"}, {\"date\": \"2022-04-05T00:00:00\", \"actual\": 141.063004, \"position\": 143.642502, \"action\": \"SELL\"}, {\"date\": \"2022-04-06T00:00:00\", \"actual\": 137.175995, \"position\": 141.063004, \"action\": \"HOLD\"}, {\"date\": \"2022-04-07T00:00:00\", \"actual\": 136.464996, \"position\": 137.175995, \"action\": \"HOLD\"}, {\"date\": \"2022-04-08T00:00:00\", \"actual\": 134.010498, \"position\": 136.464996, \"action\": \"HOLD\"}, {\"date\": \"2022-04-11T00:00:00\", \"actual\": 129.796494, \"position\": 134.010498, \"action\": \"HOLD\"}, {\"date\": \"2022-04-12T00:00:00\", \"actual\": 128.374496, \"position\": 129.796494, \"action\": \"HOLD\"}, {\"date\": \"2022-04-13T00:00:00\", \"actual\": 130.285995, \"position\": 128.374496, \"action\": \"HOLD\"}, {\"date\": \"2022-04-14T00:00:00\", \"actual\": 127.252998, \"position\": 130.285995, \"action\": \"HOLD\"}, {\"date\": \"2022-04-18T00:00:00\", \"actual\": 127.960999, \"position\": 127.252998, \"action\": \"HOLD\"}, {\"date\": \"2022-04-19T00:00:00\", \"actual\": 130.531006, \"position\": 127.960999, \"action\": \"HOLD\"}, {\"date\": \"2022-04-20T00:00:00\", \"actual\": 128.245499, \"position\": 130.531006, \"action\": \"HOLD\"}, {\"date\": \"2022-04-21T00:00:00\", \"actual\": 124.9375, \"position\": 128.245499, \"action\": \"HOLD\"}, {\"date\": \"2022-04-22T00:00:00\", \"actual\": 119.613998, \"position\": 124.9375, \"action\": \"HOLD\"}, {\"date\": \"2022-04-25T00:00:00\", \"actual\": 123.25, \"position\": 119.613998, \"action\": \"HOLD\"}, {\"date\": \"2022-04-26T00:00:00\", \"actual\": 119.505997, \"position\": 123.25, \"action\": \"HOLD\"}, {\"date\": \"2022-04-27T00:00:00\", \"actual\": 115.0205, \"position\": 119.505997, \"action\": \"HOLD\"}, {\"date\": \"2022-04-28T00:00:00\", \"actual\": 119.411499, \"position\": 115.0205, \"action\": \"HOLD\"}, {\"date\": \"2022-04-29T00:00:00\", \"actual\": 114.966499, \"position\": 119.411499, \"action\": \"HOLD\"}, {\"date\": \"2022-05-02T00:00:00\", \"actual\": 117.156998, \"position\": 114.966499, \"action\": \"HOLD\"}, {\"date\": \"2022-05-03T00:00:00\", \"actual\": 118.129501, \"position\": 117.156998, \"action\": \"HOLD\"}, {\"date\": \"2022-05-04T00:00:00\", \"actual\": 122.574997, \"position\": 118.129501, \"action\": \"HOLD\"}, {\"date\": \"2022-05-05T00:00:00\", \"actual\": 116.746498, \"position\": 122.574997, \"action\": \"HOLD\"}, {\"date\": \"2022-05-06T00:00:00\", \"actual\": 115.660004, \"position\": 116.746498, \"action\": \"HOLD\"}, {\"date\": \"2022-05-09T00:00:00\", \"actual\": 113.084, \"position\": 115.660004, \"action\": \"HOLD\"}, {\"date\": \"2022-05-10T00:00:00\", \"actual\": 114.584503, \"position\": 113.084, \"action\": \"HOLD\"}, {\"date\": \"2022-05-11T00:00:00\", \"actual\": 113.960999, \"position\": 114.584503, \"action\": \"BUY\"}, {\"date\": \"2022-05-12T00:00:00\", \"actual\": 113.161003, \"position\": 113.960999, \"action\": \"HOLD\"}, {\"date\": \"2022-05-13T00:00:00\", \"actual\": 116.515503, \"position\": 113.161003, \"action\": \"HOLD\"}, {\"date\": \"2022-05-16T00:00:00\", \"actual\": 114.792503, \"position\": 116.515503, \"action\": \"HOLD\"}, {\"date\": \"2022-05-17T00:00:00\", \"actual\": 116.7015, \"position\": 114.792503, \"action\": \"HOLD\"}, {\"date\": \"2022-05-18T00:00:00\", \"actual\": 112.401001, \"position\": 116.7015, \"action\": \"HOLD\"}, {\"date\": \"2022-05-19T00:00:00\", \"actual\": 110.745499, \"position\": 112.401001, \"action\": \"HOLD\"}, {\"date\": \"2022-05-20T00:00:00\", \"actual\": 109.313004, \"position\": 110.745499, \"action\": \"HOLD\"}, {\"date\": \"2022-05-23T00:00:00\", \"actual\": 111.666496, \"position\": 109.313004, \"action\": \"HOLD\"}, {\"date\": \"2022-05-24T00:00:00\", \"actual\": 105.926003, \"position\": 111.666496, \"action\": \"HOLD\"}, {\"date\": \"2022-05-25T00:00:00\", \"actual\": 105.8395, \"position\": 105.926003, \"action\": \"HOLD\"}, {\"date\": \"2022-05-26T00:00:00\", \"actual\": 108.295998, \"position\": 105.8395, \"action\": \"HOLD\"}, {\"date\": \"2022-05-27T00:00:00\", \"actual\": 112.799004, \"position\": 108.295998, \"action\": \"HOLD\"}, {\"date\": \"2022-05-31T00:00:00\", \"actual\": 114.039001, \"position\": 112.799004, \"action\": \"HOLD\"}, {\"date\": \"2022-06-01T00:00:00\", \"actual\": 114.137001, \"position\": 114.039001, \"action\": \"HOLD\"}, {\"date\": \"2022-06-02T00:00:00\", \"actual\": 117.746002, \"position\": 114.137001, \"action\": \"HOLD\"}, {\"date\": \"2022-06-03T00:00:00\", \"actual\": 114.564003, \"position\": 117.746002, \"action\": \"HOLD\"}, {\"date\": \"2022-06-06T00:00:00\", \"actual\": 117.010498, \"position\": 114.564003, \"action\": \"HOLD\"}, {\"date\": \"2022-06-07T00:00:00\", \"actual\": 117.2295, \"position\": 117.010498, \"action\": \"HOLD\"}, {\"date\": \"2022-06-08T00:00:00\", \"actual\": 117.237999, \"position\": 117.2295, \"action\": \"SELL\"}, {\"date\": \"2022-06-09T00:00:00\", \"actual\": 114.917999, \"position\": 117.237999, \"action\": \"HOLD\"}, {\"date\": \"2022-06-10T00:00:00\", \"actual\": 111.427498, \"position\": 114.917999, \"action\": \"HOLD\"}, {\"date\": \"2022-06-13T00:00:00\", \"actual\": 106.876503, \"position\": 111.427498, \"action\": \"HOLD\"}, {\"date\": \"2022-06-14T00:00:00\", \"actual\": 107.194, \"position\": 106.876503, \"action\": \"HOLD\"}, {\"date\": \"2022-06-15T00:00:00\", \"actual\": 110.390503, \"position\": 107.194, \"action\": \"HOLD\"}, {\"date\": \"2022-06-16T00:00:00\", \"actual\": 106.636002, \"position\": 110.390503, \"action\": \"HOLD\"}, {\"date\": \"2022-06-17T00:00:00\", \"actual\": 107.865501, \"position\": 106.636002, \"action\": \"HOLD\"}, {\"date\": \"2022-06-21T00:00:00\", \"actual\": 112.014999, \"position\": 107.865501, \"action\": \"HOLD\"}, {\"date\": \"2022-06-22T00:00:00\", \"actual\": 112.033997, \"position\": 112.014999, \"action\": \"HOLD\"}, {\"date\": \"2022-06-23T00:00:00\", \"actual\": 112.684502, \"position\": 112.033997, \"action\": \"HOLD\"}, {\"date\": \"2022-06-24T00:00:00\", \"actual\": 118.538002, \"position\": 112.684502, \"action\": \"HOLD\"}, {\"date\": \"2022-06-27T00:00:00\", \"actual\": 116.622498, \"position\": 118.538002, \"action\": \"HOLD\"}, {\"date\": \"2022-06-28T00:00:00\", \"actual\": 112.571503, \"position\": 116.622498, \"action\": \"HOLD\"}, {\"date\": \"2022-06-29T00:00:00\", \"actual\": 112.2565, \"position\": 112.571503, \"action\": \"HOLD\"}, {\"date\": \"2022-06-30T00:00:00\", \"actual\": 109.372498, \"position\": 112.2565, \"action\": \"HOLD\"}, {\"date\": \"2022-07-01T00:00:00\", \"actual\": 109.081001, \"position\": 109.372498, \"action\": \"HOLD\"}, {\"date\": \"2022-07-05T00:00:00\", \"actual\": 113.887001, \"position\": 109.081001, \"action\": \"HOLD\"}, {\"date\": \"2022-07-06T00:00:00\", \"actual\": 115.213501, \"position\": 113.887001, \"action\": \"HOLD\"}, {\"date\": \"2022-07-07T00:00:00\", \"actual\": 119.306, \"position\": 115.213501, \"action\": \"HOLD\"}, {\"date\": \"2022-07-08T00:00:00\", \"actual\": 120.168503, \"position\": 119.306, \"action\": \"HOLD\"}, {\"date\": \"2022-07-11T00:00:00\", \"actual\": 116.522499, \"position\": 120.168503, \"action\": \"HOLD\"}, {\"date\": \"2022-07-12T00:00:00\", \"actual\": 114.849503, \"position\": 116.522499, \"action\": \"HOLD\"}, {\"date\": \"2022-07-13T00:00:00\", \"actual\": 112.186996, \"position\": 114.849503, \"action\": \"HOLD\"}, {\"date\": \"2022-07-14T00:00:00\", \"actual\": 111.440002, \"position\": 112.186996, \"action\": \"HOLD\"}, {\"date\": \"2022-07-15T00:00:00\", \"actual\": 112.766998, \"position\": 111.440002, \"action\": \"HOLD\"}, {\"date\": \"2022-07-18T00:00:00\", \"actual\": 109.910004, \"position\": 112.766998, \"action\": \"HOLD\"}, {\"date\": \"2022-07-19T00:00:00\", \"actual\": 114.620003, \"position\": 109.910004, \"action\": \"HOLD\"}, {\"date\": \"2022-07-20T00:00:00\", \"actual\": 114.699997, \"position\": 114.620003, \"action\": \"HOLD\"}, {\"date\": \"2022-07-21T00:00:00\", \"actual\": 115.040001, \"position\": 114.699997, \"action\": \"HOLD\"}, {\"date\": \"2022-07-22T00:00:00\", \"actual\": 108.360001, \"position\": 115.040001, \"action\": \"HOLD\"}, {\"date\": \"2022-07-25T00:00:00\", \"actual\": 108.209999, \"position\": 108.360001, \"action\": \"HOLD\"}, {\"date\": \"2022-07-26T00:00:00\", \"actual\": 105.440002, \"position\": 108.209999, \"action\": \"HOLD\"}, {\"date\": \"2022-07-27T00:00:00\", \"actual\": 113.599998, \"position\": 105.440002, \"action\": \"HOLD\"}, {\"date\": \"2022-07-28T00:00:00\", \"actual\": 114.589996, \"position\": 113.599998, \"action\": \"BUY\"}, {\"date\": \"2022-07-29T00:00:00\", \"actual\": 116.639999, \"position\": 114.589996, \"action\": \"HOLD\"}, {\"date\": \"2022-08-01T00:00:00\", \"actual\": 115.480003, \"position\": 116.639999, \"action\": \"HOLD\"}, {\"date\": \"2022-08-02T00:00:00\", \"actual\": 115.900002, \"position\": 115.480003, \"action\": \"HOLD\"}, {\"date\": \"2022-08-03T00:00:00\", \"actual\": 118.779999, \"position\": 115.900002, \"action\": \"HOLD\"}, {\"date\": \"2022-08-04T00:00:00\", \"actual\": 118.870003, \"position\": 118.779999, \"action\": \"HOLD\"}, {\"date\": \"2022-08-05T00:00:00\", \"actual\": 118.220001, \"position\": 118.870003, \"action\": \"HOLD\"}, {\"date\": \"2022-08-08T00:00:00\", \"actual\": 118.139999, \"position\": 118.220001, \"action\": \"HOLD\"}, {\"date\": \"2022-08-09T00:00:00\", \"actual\": 117.5, \"position\": 118.139999, \"action\": \"HOLD\"}, {\"date\": \"2022-08-10T00:00:00\", \"actual\": 120.650002, \"position\": 117.5, \"action\": \"HOLD\"}, {\"date\": \"2022-08-11T00:00:00\", \"actual\": 119.82, \"position\": 120.650002, \"action\": \"BUY\"}, {\"date\": \"2022-08-12T00:00:00\", \"actual\": 122.650002, \"position\": 119.82, \"action\": \"HOLD\"}, {\"date\": \"2022-08-15T00:00:00\", \"actual\": 122.879997, \"position\": 122.650002, \"action\": \"SELL\"}, {\"date\": \"2022-08-16T00:00:00\", \"actual\": 122.510002, \"position\": 122.879997, \"action\": \"HOLD\"}, {\"date\": \"2022-08-17T00:00:00\", \"actual\": 120.32, \"position\": 122.510002, \"action\": \"HOLD\"}, {\"date\": \"2022-08-18T00:00:00\", \"actual\": 120.860001, \"position\": 120.32, \"action\": \"HOLD\"}, {\"date\": \"2022-08-19T00:00:00\", \"actual\": 118.120003, \"position\": 120.860001, \"action\": \"HOLD\"}, {\"date\": \"2022-08-22T00:00:00\", \"actual\": 115.07, \"position\": 118.120003, \"action\": \"HOLD\"}, {\"date\": \"2022-08-23T00:00:00\", \"actual\": 114.769997, \"position\": 115.07, \"action\": \"HOLD\"}, {\"date\": \"2022-08-24T00:00:00\", \"actual\": 114.699997, \"position\": 114.769997, \"action\": \"HOLD\"}, {\"date\": \"2022-08-25T00:00:00\", \"actual\": 117.699997, \"position\": 114.699997, \"action\": \"BUY\"}, {\"date\": \"2022-08-26T00:00:00\", \"actual\": 111.300003, \"position\": 117.699997, \"action\": \"HOLD\"}, {\"date\": \"2022-08-29T00:00:00\", \"actual\": 110.339996, \"position\": 111.300003, \"action\": \"HOLD\"}, {\"date\": \"2022-08-30T00:00:00\", \"actual\": 109.910004, \"position\": 110.339996, \"action\": \"HOLD\"}, {\"date\": \"2022-08-31T00:00:00\", \"actual\": 109.150002, \"position\": 109.910004, \"action\": \"HOLD\"}, {\"date\": \"2022-09-01T00:00:00\", \"actual\": 110.550003, \"position\": 109.150002, \"action\": \"HOLD\"}, {\"date\": \"2022-09-02T00:00:00\", \"actual\": 108.68, \"position\": 110.550003, \"action\": \"HOLD\"}, {\"date\": \"2022-09-06T00:00:00\", \"actual\": 107.480003, \"position\": 108.68, \"action\": \"HOLD\"}, {\"date\": \"2022-09-07T00:00:00\", \"actual\": 110.480003, \"position\": 107.480003, \"action\": \"HOLD\"}, {\"date\": \"2022-09-08T00:00:00\", \"actual\": 109.419998, \"position\": 110.480003, \"action\": \"HOLD\"}, {\"date\": \"2022-09-09T00:00:00\", \"actual\": 111.779999, \"position\": 109.419998, \"action\": \"HOLD\"}, {\"date\": \"2022-09-12T00:00:00\", \"actual\": 111.870003, \"position\": 111.779999, \"action\": \"HOLD\"}, {\"date\": \"2022-09-13T00:00:00\", \"actual\": 105.309998, \"position\": 111.870003, \"action\": \"HOLD\"}, {\"date\": \"2022-09-14T00:00:00\", \"actual\": 105.870003, \"position\": 105.309998, \"action\": \"HOLD\"}, {\"date\": \"2022-09-15T00:00:00\", \"actual\": 103.900002, \"position\": 105.870003, \"action\": \"HOLD\"}, {\"date\": \"2022-09-16T00:00:00\", \"actual\": 103.629997, \"position\": 103.900002, \"action\": \"HOLD\"}, {\"date\": \"2022-09-19T00:00:00\", \"actual\": 103.849998, \"position\": 103.629997, \"action\": \"HOLD\"}, {\"date\": \"2022-09-20T00:00:00\", \"actual\": 101.830002, \"position\": 103.849998, \"action\": \"HOLD\"}, {\"date\": \"2022-09-21T00:00:00\", \"actual\": 100.010002, \"position\": 101.830002, \"action\": \"HOLD\"}, {\"date\": \"2022-09-22T00:00:00\", \"actual\": 100.57, \"position\": 100.010002, \"action\": \"HOLD\"}, {\"date\": \"2022-09-23T00:00:00\", \"actual\": 99.169998, \"position\": 100.57, \"action\": \"HOLD\"}, {\"date\": \"2022-09-26T00:00:00\", \"actual\": 98.809998, \"position\": 99.169998, \"action\": \"HOLD\"}, {\"date\": \"2022-09-27T00:00:00\", \"actual\": 98.089996, \"position\": 98.809998, \"action\": \"HOLD\"}, {\"date\": \"2022-09-28T00:00:00\", \"actual\": 100.739998, \"position\": 98.089996, \"action\": \"HOLD\"}, {\"date\": \"2022-09-29T00:00:00\", \"actual\": 98.089996, \"position\": 100.739998, \"action\": \"HOLD\"}, {\"date\": \"2022-09-30T00:00:00\", \"actual\": 96.150002, \"position\": 98.089996, \"action\": \"BUY\"}, {\"date\": \"2022-10-03T00:00:00\", \"actual\": 99.300003, \"position\": 96.150002, \"action\": \"HOLD\"}, {\"date\": \"2022-10-04T00:00:00\", \"actual\": 102.410004, \"position\": 99.300003, \"action\": \"HOLD\"}, {\"date\": \"2022-10-05T00:00:00\", \"actual\": 102.220001, \"position\": 102.410004, \"action\": \"HOLD\"}, {\"date\": \"2022-10-06T00:00:00\", \"actual\": 102.239998, \"position\": 102.220001, \"action\": \"HOLD\"}, {\"date\": \"2022-10-07T00:00:00\", \"actual\": 99.57, \"position\": 102.239998, \"action\": \"HOLD\"}, {\"date\": \"2022-10-10T00:00:00\", \"actual\": 98.709999, \"position\": 99.57, \"action\": \"HOLD\"}, {\"date\": \"2022-10-11T00:00:00\", \"actual\": 98.050003, \"position\": 98.709999, \"action\": \"HOLD\"}, {\"date\": \"2022-10-12T00:00:00\", \"actual\": 98.300003, \"position\": 98.050003, \"action\": \"HOLD\"}, {\"date\": \"2022-10-13T00:00:00\", \"actual\": 99.709999, \"position\": 98.300003, \"action\": \"HOLD\"}, {\"date\": \"2022-10-14T00:00:00\", \"actual\": 97.18, \"position\": 99.709999, \"action\": \"HOLD\"}, {\"date\": \"2022-10-17T00:00:00\", \"actual\": 100.779999, \"position\": 97.18, \"action\": \"HOLD\"}, {\"date\": \"2022-10-18T00:00:00\", \"actual\": 101.389999, \"position\": 100.779999, \"action\": \"HOLD\"}, {\"date\": \"2022-10-19T00:00:00\", \"actual\": 100.290001, \"position\": 101.389999, \"action\": \"HOLD\"}, {\"date\": \"2022-10-20T00:00:00\", \"actual\": 100.529999, \"position\": 100.290001, \"action\": \"HOLD\"}, {\"date\": \"2022-10-21T00:00:00\", \"actual\": 101.480003, \"position\": 100.529999, \"action\": \"HOLD\"}, {\"date\": \"2022-10-24T00:00:00\", \"actual\": 102.970001, \"position\": 101.480003, \"action\": \"HOLD\"}, {\"date\": \"2022-10-25T00:00:00\", \"actual\": 104.93, \"position\": 102.970001, \"action\": \"HOLD\"}, {\"date\": \"2022-10-26T00:00:00\", \"actual\": 94.82, \"position\": 104.93, \"action\": \"HOLD\"}, {\"date\": \"2022-10-27T00:00:00\", \"actual\": 92.599998, \"position\": 94.82, \"action\": \"HOLD\"}, {\"date\": \"2022-10-28T00:00:00\", \"actual\": 96.580002, \"position\": 92.599998, \"action\": \"HOLD\"}, {\"date\": \"2022-10-31T00:00:00\", \"actual\": 94.660004, \"position\": 96.580002, \"action\": \"HOLD\"}, {\"date\": \"2022-11-01T00:00:00\", \"actual\": 90.5, \"position\": 94.660004, \"action\": \"HOLD\"}, {\"date\": \"2022-11-02T00:00:00\", \"actual\": 87.07, \"position\": 90.5, \"action\": \"HOLD\"}, {\"date\": \"2022-11-03T00:00:00\", \"actual\": 83.489998, \"position\": 87.07, \"action\": \"HOLD\"}, {\"date\": \"2022-11-04T00:00:00\", \"actual\": 86.699997, \"position\": 83.489998, \"action\": \"HOLD\"}, {\"date\": \"2022-11-07T00:00:00\", \"actual\": 88.650002, \"position\": 86.699997, \"action\": \"HOLD\"}, {\"date\": \"2022-11-08T00:00:00\", \"actual\": 88.910004, \"position\": 88.650002, \"action\": \"HOLD\"}, {\"date\": \"2022-11-09T00:00:00\", \"actual\": 87.400002, \"position\": 88.910004, \"action\": \"HOLD\"}, {\"date\": \"2022-11-10T00:00:00\", \"actual\": 94.169998, \"position\": 87.400002, \"action\": \"HOLD\"}, {\"date\": \"2022-11-11T00:00:00\", \"actual\": 96.730003, \"position\": 94.169998, \"action\": \"HOLD\"}, {\"date\": \"2022-11-14T00:00:00\", \"actual\": 96.029999, \"position\": 96.730003, \"action\": \"HOLD\"}, {\"date\": \"2022-11-15T00:00:00\", \"actual\": 98.720001, \"position\": 96.029999, \"action\": \"HOLD\"}, {\"date\": \"2022-11-16T00:00:00\", \"actual\": 98.989998, \"position\": 98.720001, \"action\": \"HOLD\"}, {\"date\": \"2022-11-17T00:00:00\", \"actual\": 98.5, \"position\": 98.989998, \"action\": \"HOLD\"}, {\"date\": \"2022-11-18T00:00:00\", \"actual\": 97.800003, \"position\": 98.5, \"action\": \"HOLD\"}, {\"date\": \"2022-11-21T00:00:00\", \"actual\": 95.830002, \"position\": 97.800003, \"action\": \"HOLD\"}, {\"date\": \"2022-11-22T00:00:00\", \"actual\": 97.330002, \"position\": 95.830002, \"action\": \"HOLD\"}, {\"date\": \"2022-11-23T00:00:00\", \"actual\": 98.82, \"position\": 97.330002, \"action\": \"HOLD\"}, {\"date\": \"2022-11-25T00:00:00\", \"actual\": 97.599998, \"position\": 98.82, \"action\": \"HOLD\"}, {\"date\": \"2022-11-28T00:00:00\", \"actual\": 96.25, \"position\": 97.599998, \"action\": \"HOLD\"}, {\"date\": \"2022-11-29T00:00:00\", \"actual\": 95.440002, \"position\": 96.25, \"action\": \"HOLD\"}, {\"date\": \"2022-11-30T00:00:00\", \"actual\": 101.449997, \"position\": 95.440002, \"action\": \"HOLD\"}, {\"date\": \"2022-12-01T00:00:00\", \"actual\": 101.279999, \"position\": 101.449997, \"action\": \"HOLD\"}, {\"date\": \"2022-12-02T00:00:00\", \"actual\": 100.830002, \"position\": 101.279999, \"action\": \"HOLD\"}, {\"date\": \"2022-12-05T00:00:00\", \"actual\": 99.870003, \"position\": 100.830002, \"action\": \"HOLD\"}, {\"date\": \"2022-12-06T00:00:00\", \"actual\": 97.309998, \"position\": 99.870003, \"action\": \"HOLD\"}, {\"date\": \"2022-12-07T00:00:00\", \"actual\": 95.150002, \"position\": 97.309998, \"action\": \"HOLD\"}, {\"date\": \"2022-12-08T00:00:00\", \"actual\": 93.949997, \"position\": 95.150002, \"action\": \"HOLD\"}, {\"date\": \"2022-12-09T00:00:00\", \"actual\": 93.07, \"position\": 93.949997, \"action\": \"HOLD\"}, {\"date\": \"2022-12-12T00:00:00\", \"actual\": 93.559998, \"position\": 93.07, \"action\": \"HOLD\"}, {\"date\": \"2022-12-13T00:00:00\", \"actual\": 95.849998, \"position\": 93.559998, \"action\": \"HOLD\"}, {\"date\": \"2022-12-14T00:00:00\", \"actual\": 95.309998, \"position\": 95.849998, \"action\": \"HOLD\"}, {\"date\": \"2022-12-15T00:00:00\", \"actual\": 91.199997, \"position\": 95.309998, \"action\": \"HOLD\"}, {\"date\": \"2022-12-16T00:00:00\", \"actual\": 90.860001, \"position\": 91.199997, \"action\": \"HOLD\"}, {\"date\": \"2022-12-19T00:00:00\", \"actual\": 89.150002, \"position\": 90.860001, \"action\": \"HOLD\"}, {\"date\": \"2022-12-20T00:00:00\", \"actual\": 89.629997, \"position\": 89.150002, \"action\": \"HOLD\"}, {\"date\": \"2022-12-21T00:00:00\", \"actual\": 90.25, \"position\": 89.629997, \"action\": \"HOLD\"}, {\"date\": \"2022-12-22T00:00:00\", \"actual\": 88.260002, \"position\": 90.25, \"action\": \"HOLD\"}, {\"date\": \"2022-12-23T00:00:00\", \"actual\": 89.809998, \"position\": 88.260002, \"action\": \"HOLD\"}, {\"date\": \"2022-12-27T00:00:00\", \"actual\": 87.93, \"position\": 89.809998, \"action\": \"HOLD\"}, {\"date\": \"2022-12-28T00:00:00\", \"actual\": 86.459999, \"position\": 87.93, \"action\": \"HOLD\"}, {\"date\": \"2022-12-29T00:00:00\", \"actual\": 88.949997, \"position\": 86.459999, \"action\": \"HOLD\"}, {\"date\": \"2022-12-30T00:00:00\", \"actual\": 88.730003, \"position\": 88.949997, \"action\": \"HOLD\"}, {\"date\": \"2023-01-03T00:00:00\", \"actual\": 89.699997, \"position\": 88.730003, \"action\": \"HOLD\"}, {\"date\": \"2023-01-04T00:00:00\", \"actual\": 88.709999, \"position\": 89.699997, \"action\": \"HOLD\"}, {\"date\": \"2023-01-05T00:00:00\", \"actual\": 86.769997, \"position\": 88.709999, \"action\": \"HOLD\"}, {\"date\": \"2023-01-06T00:00:00\", \"actual\": 88.160004, \"position\": 86.769997, \"action\": \"HOLD\"}, {\"date\": \"2023-01-09T00:00:00\", \"actual\": 88.800003, \"position\": 88.160004, \"action\": \"HOLD\"}]}}, {\"mode\": \"vega-lite\"});\n",
       "</script>"
      ],
      "text/plain": [
       "alt.LayerChart(...)"
      ]
     },
     "execution_count": 49,
     "metadata": {},
     "output_type": "execute_result"
    }
   ],
   "source": [
    "chart = visualize(df, history, title='GOOGLE Stock +$109.63 (DQN 40 ep)')\n",
    "chart"
   ]
  }
 ],
 "metadata": {
  "kernelspec": {
   "display_name": "Python 3 (ipykernel)",
   "language": "python",
   "name": "python3"
  },
  "language_info": {
   "codemirror_mode": {
    "name": "ipython",
    "version": 3
   },
   "file_extension": ".py",
   "mimetype": "text/x-python",
   "name": "python",
   "nbconvert_exporter": "python",
   "pygments_lexer": "ipython3",
   "version": "3.9.7"
  },
  "vscode": {
   "interpreter": {
    "hash": "43b20931e0d61e1224db4161e737d8b7b6f4c38d78aea0329b1bc87e59d1d3af"
   }
  }
 },
 "nbformat": 4,
 "nbformat_minor": 4
}
