{
 "cells": [
  {
   "cell_type": "code",
   "execution_count": null,
   "metadata": {},
   "outputs": [],
   "source": [
    "# from train import main"
   ]
  },
  {
   "cell_type": "code",
   "execution_count": null,
   "metadata": {},
   "outputs": [],
   "source": [
    "# train_stock = \"data/BTC-USD_Train.csv\"\n",
    "# val_stock = \"data/BTC-USD_Test.csv\"\n",
    "# strategy = \"dqn\"\n",
    "# window_size = 10\n",
    "# batch_size = 32\n",
    "# ep_count = 50\n",
    "# model_name = \"model_dqn_BTC-USD_epidodes_50\"\n",
    "# pretrained = False\n",
    "# debug = False"
   ]
  },
  {
   "cell_type": "code",
   "execution_count": null,
   "metadata": {},
   "outputs": [],
   "source": [
    "# main(train_stock, val_stock, window_size, batch_size,\n",
    "#         ep_count, strategy=strategy, model_name=model_name, \n",
    "#         pretrained=pretrained, debug=debug)"
   ]
  },
  {
   "cell_type": "markdown",
   "metadata": {},
   "source": [
    "# Visualization: Trading Session"
   ]
  },
  {
   "cell_type": "code",
   "execution_count": 4,
   "metadata": {},
   "outputs": [],
   "source": [
    "import pandas as pd\n",
    "import numpy as np\n",
    "\n",
    "import altair as alt\n",
    "import seaborn as sns"
   ]
  },
  {
   "cell_type": "markdown",
   "metadata": {},
   "source": [
    "### 1. Define parameters and Load model"
   ]
  },
  {
   "cell_type": "code",
   "execution_count": 192,
   "metadata": {},
   "outputs": [],
   "source": [
    "from trading_bot.agent import Agent\n",
    "\n",
    "model_name = 'model_debug_10'\n",
    "# model_debug_10: -$45659.86\n",
    "# 100_iter_change_target/model_t_dqn_BTC-USD_epidodes_50_10: -$775382.85\n",
    "# 100_iter_change_target/model_t_dqn_BTC-USD_epidodes_50_20: -$137056.79\n",
    "# 100_iter_change_target/model_t_dqn_BTC-USD_epidodes_50_30: -$509070.37\n",
    "# 100_iter_change_target/model_t_dqn_BTC-USD_epidodes_50_50: -$188900.60\n",
    "# 1000_iter_change_target/model_t_dqn_BTC-USD_epidodes_50_50: -$97524.29\n",
    "# 1000_iter_change_target/model_t_dqn_BTC-USD_epidodes_50_40: -$65223.44\n",
    "# 1000_iter_change_target/model_t_dqn_BTC-USD_epidodes_50_30: -$63157.24\n",
    "# 1000_iter_change_target/model_t_dqn_BTC-USD_epidodes_50_20: -$90719.93\n",
    "model_name = '1000_iter_change_target/model_t_dqn_BTC-USD_epidodes_50_30'\n",
    "test_stock = 'data/BTC-USD_Test.csv'\n",
    "# test_stock = 'data/new_data/ETH-USD_Test.csv'\n",
    "window_size = 10\n",
    "debug = True\n",
    "\n",
    "agent = Agent(window_size, pretrained=True, model_name=model_name)"
   ]
  },
  {
   "cell_type": "markdown",
   "metadata": {},
   "source": [
    "### 2. Load test data"
   ]
  },
  {
   "cell_type": "code",
   "execution_count": 193,
   "metadata": {},
   "outputs": [
    {
     "data": {
      "text/html": [
       "<div>\n",
       "<style scoped>\n",
       "    .dataframe tbody tr th:only-of-type {\n",
       "        vertical-align: middle;\n",
       "    }\n",
       "\n",
       "    .dataframe tbody tr th {\n",
       "        vertical-align: top;\n",
       "    }\n",
       "\n",
       "    .dataframe thead th {\n",
       "        text-align: right;\n",
       "    }\n",
       "</style>\n",
       "<table border=\"1\" class=\"dataframe\">\n",
       "  <thead>\n",
       "    <tr style=\"text-align: right;\">\n",
       "      <th></th>\n",
       "      <th>date</th>\n",
       "      <th>actual</th>\n",
       "    </tr>\n",
       "  </thead>\n",
       "  <tbody>\n",
       "    <tr>\n",
       "      <th>0</th>\n",
       "      <td>2022-01-01</td>\n",
       "      <td>47686.812500</td>\n",
       "    </tr>\n",
       "    <tr>\n",
       "      <th>1</th>\n",
       "      <td>2022-01-02</td>\n",
       "      <td>47345.218750</td>\n",
       "    </tr>\n",
       "    <tr>\n",
       "      <th>2</th>\n",
       "      <td>2022-01-03</td>\n",
       "      <td>46458.117188</td>\n",
       "    </tr>\n",
       "    <tr>\n",
       "      <th>3</th>\n",
       "      <td>2022-01-04</td>\n",
       "      <td>45897.574219</td>\n",
       "    </tr>\n",
       "    <tr>\n",
       "      <th>4</th>\n",
       "      <td>2022-01-05</td>\n",
       "      <td>43569.003906</td>\n",
       "    </tr>\n",
       "  </tbody>\n",
       "</table>\n",
       "</div>"
      ],
      "text/plain": [
       "        date        actual\n",
       "0 2022-01-01  47686.812500\n",
       "1 2022-01-02  47345.218750\n",
       "2 2022-01-03  46458.117188\n",
       "3 2022-01-04  45897.574219\n",
       "4 2022-01-05  43569.003906"
      ]
     },
     "execution_count": 193,
     "metadata": {},
     "output_type": "execute_result"
    }
   ],
   "source": [
    "# read csv into dataframe\n",
    "df = pd.read_csv(test_stock)\n",
    "# filter out the desired features\n",
    "df = df[['Date', 'Adj Close']]\n",
    "# rename feature column names\n",
    "df = df.rename(columns={'Adj Close': 'actual', 'Date': 'date'})\n",
    "# convert dates from object to DateTime type\n",
    "dates = df['date']\n",
    "dates = pd.to_datetime(dates, infer_datetime_format=True)\n",
    "df['date'] = dates\n",
    "\n",
    "df.head()"
   ]
  },
  {
   "cell_type": "markdown",
   "metadata": {},
   "source": [
    "### 3. Running Eval"
   ]
  },
  {
   "cell_type": "code",
   "execution_count": 194,
   "metadata": {},
   "outputs": [
    {
     "name": "stderr",
     "output_type": "stream",
     "text": [
      "\u001b[32m2023-01-16 16:53:00\u001b[0m \u001b[35mDESKTOP-6JVVUQ4\u001b[0m \u001b[34mroot[12052]\u001b[0m \u001b[1;30mDEBUG\u001b[0m \u001b[32mswitching to TensorFlow for CPU\u001b[0m\n",
      "\u001b[32m2023-01-16 16:53:00\u001b[0m \u001b[35mDESKTOP-6JVVUQ4\u001b[0m \u001b[34mroot[12052]\u001b[0m \u001b[1;30mDEBUG\u001b[0m \u001b[32mBuy at: $47686.81\u001b[0m\n"
     ]
    },
    {
     "name": "stdout",
     "output_type": "stream",
     "text": [
      "1/1 [==============================] - 0s 94ms/step\n"
     ]
    },
    {
     "name": "stderr",
     "output_type": "stream",
     "text": [
      "\u001b[32m2023-01-16 16:53:00\u001b[0m \u001b[35mDESKTOP-6JVVUQ4\u001b[0m \u001b[34mroot[12052]\u001b[0m \u001b[1;30mDEBUG\u001b[0m \u001b[32mBuy at: $47345.22\u001b[0m\n"
     ]
    },
    {
     "name": "stdout",
     "output_type": "stream",
     "text": [
      "1/1 [==============================] - 0s 23ms/step\n"
     ]
    },
    {
     "name": "stderr",
     "output_type": "stream",
     "text": [
      "\u001b[32m2023-01-16 16:53:00\u001b[0m \u001b[35mDESKTOP-6JVVUQ4\u001b[0m \u001b[34mroot[12052]\u001b[0m \u001b[1;30mDEBUG\u001b[0m \u001b[32mBuy at: $46458.12\u001b[0m\n"
     ]
    },
    {
     "name": "stdout",
     "output_type": "stream",
     "text": [
      "1/1 [==============================] - 0s 24ms/step\n"
     ]
    },
    {
     "name": "stderr",
     "output_type": "stream",
     "text": [
      "\u001b[32m2023-01-16 16:53:00\u001b[0m \u001b[35mDESKTOP-6JVVUQ4\u001b[0m \u001b[34mroot[12052]\u001b[0m \u001b[1;30mDEBUG\u001b[0m \u001b[32mBuy at: $45897.57\u001b[0m\n"
     ]
    },
    {
     "name": "stdout",
     "output_type": "stream",
     "text": [
      "1/1 [==============================] - 0s 25ms/step\n"
     ]
    },
    {
     "name": "stderr",
     "output_type": "stream",
     "text": [
      "\u001b[32m2023-01-16 16:53:00\u001b[0m \u001b[35mDESKTOP-6JVVUQ4\u001b[0m \u001b[34mroot[12052]\u001b[0m \u001b[1;30mDEBUG\u001b[0m \u001b[32mBuy at: $43569.00\u001b[0m\n"
     ]
    },
    {
     "name": "stdout",
     "output_type": "stream",
     "text": [
      "1/1 [==============================] - 0s 25ms/step\n"
     ]
    },
    {
     "name": "stderr",
     "output_type": "stream",
     "text": [
      "\u001b[32m2023-01-16 16:53:00\u001b[0m \u001b[35mDESKTOP-6JVVUQ4\u001b[0m \u001b[34mroot[12052]\u001b[0m \u001b[1;30mDEBUG\u001b[0m \u001b[32mBuy at: $43160.93\u001b[0m\n"
     ]
    },
    {
     "name": "stdout",
     "output_type": "stream",
     "text": [
      "1/1 [==============================] - 0s 26ms/step\n"
     ]
    },
    {
     "name": "stderr",
     "output_type": "stream",
     "text": [
      "\u001b[32m2023-01-16 16:53:00\u001b[0m \u001b[35mDESKTOP-6JVVUQ4\u001b[0m \u001b[34mroot[12052]\u001b[0m \u001b[1;30mDEBUG\u001b[0m \u001b[32mBuy at: $41557.90\u001b[0m\n"
     ]
    },
    {
     "name": "stdout",
     "output_type": "stream",
     "text": [
      "1/1 [==============================] - 0s 26ms/step\n"
     ]
    },
    {
     "name": "stderr",
     "output_type": "stream",
     "text": [
      "\u001b[32m2023-01-16 16:53:01\u001b[0m \u001b[35mDESKTOP-6JVVUQ4\u001b[0m \u001b[34mroot[12052]\u001b[0m \u001b[1;30mDEBUG\u001b[0m \u001b[32mBuy at: $41733.94\u001b[0m\n"
     ]
    },
    {
     "name": "stdout",
     "output_type": "stream",
     "text": [
      "1/1 [==============================] - 0s 25ms/step\n"
     ]
    },
    {
     "name": "stderr",
     "output_type": "stream",
     "text": [
      "\u001b[32m2023-01-16 16:53:01\u001b[0m \u001b[35mDESKTOP-6JVVUQ4\u001b[0m \u001b[34mroot[12052]\u001b[0m \u001b[1;30mDEBUG\u001b[0m \u001b[32mBuy at: $41911.60\u001b[0m\n"
     ]
    },
    {
     "name": "stdout",
     "output_type": "stream",
     "text": [
      "1/1 [==============================] - 0s 25ms/step\n"
     ]
    },
    {
     "name": "stderr",
     "output_type": "stream",
     "text": [
      "\u001b[32m2023-01-16 16:53:01\u001b[0m \u001b[35mDESKTOP-6JVVUQ4\u001b[0m \u001b[34mroot[12052]\u001b[0m \u001b[1;30mDEBUG\u001b[0m \u001b[32mBuy at: $41821.26\u001b[0m\n"
     ]
    },
    {
     "name": "stdout",
     "output_type": "stream",
     "text": [
      "1/1 [==============================] - 0s 21ms/step\n"
     ]
    },
    {
     "name": "stderr",
     "output_type": "stream",
     "text": [
      "\u001b[32m2023-01-16 16:53:01\u001b[0m \u001b[35mDESKTOP-6JVVUQ4\u001b[0m \u001b[34mroot[12052]\u001b[0m \u001b[1;30mDEBUG\u001b[0m \u001b[32mBuy at: $42735.86\u001b[0m\n"
     ]
    },
    {
     "name": "stdout",
     "output_type": "stream",
     "text": [
      "1/1 [==============================] - 0s 22ms/step\n"
     ]
    },
    {
     "name": "stderr",
     "output_type": "stream",
     "text": [
      "\u001b[32m2023-01-16 16:53:01\u001b[0m \u001b[35mDESKTOP-6JVVUQ4\u001b[0m \u001b[34mroot[12052]\u001b[0m \u001b[1;30mDEBUG\u001b[0m \u001b[32mBuy at: $43949.10\u001b[0m\n"
     ]
    },
    {
     "name": "stdout",
     "output_type": "stream",
     "text": [
      "1/1 [==============================] - 0s 23ms/step\n"
     ]
    },
    {
     "name": "stderr",
     "output_type": "stream",
     "text": [
      "\u001b[32m2023-01-16 16:53:01\u001b[0m \u001b[35mDESKTOP-6JVVUQ4\u001b[0m \u001b[34mroot[12052]\u001b[0m \u001b[1;30mDEBUG\u001b[0m \u001b[32mBuy at: $42591.57\u001b[0m\n"
     ]
    },
    {
     "name": "stdout",
     "output_type": "stream",
     "text": [
      "1/1 [==============================] - 0s 23ms/step\n"
     ]
    },
    {
     "name": "stderr",
     "output_type": "stream",
     "text": [
      "\u001b[32m2023-01-16 16:53:01\u001b[0m \u001b[35mDESKTOP-6JVVUQ4\u001b[0m \u001b[34mroot[12052]\u001b[0m \u001b[1;30mDEBUG\u001b[0m \u001b[32mBuy at: $43099.70\u001b[0m\n"
     ]
    },
    {
     "name": "stdout",
     "output_type": "stream",
     "text": [
      "1/1 [==============================] - 0s 26ms/step\n"
     ]
    },
    {
     "name": "stderr",
     "output_type": "stream",
     "text": [
      "\u001b[32m2023-01-16 16:53:01\u001b[0m \u001b[35mDESKTOP-6JVVUQ4\u001b[0m \u001b[34mroot[12052]\u001b[0m \u001b[1;30mDEBUG\u001b[0m \u001b[32mSell at: $43177.40 | Position: -$4509.41\u001b[0m\n"
     ]
    },
    {
     "name": "stdout",
     "output_type": "stream",
     "text": [
      "1/1 [==============================] - 0s 23ms/step\n"
     ]
    },
    {
     "name": "stderr",
     "output_type": "stream",
     "text": [
      "\u001b[32m2023-01-16 16:53:01\u001b[0m \u001b[35mDESKTOP-6JVVUQ4\u001b[0m \u001b[34mroot[12052]\u001b[0m \u001b[1;30mDEBUG\u001b[0m \u001b[32mBuy at: $43113.88\u001b[0m\n"
     ]
    },
    {
     "name": "stdout",
     "output_type": "stream",
     "text": [
      "1/1 [==============================] - 0s 22ms/step\n"
     ]
    },
    {
     "name": "stderr",
     "output_type": "stream",
     "text": [
      "\u001b[32m2023-01-16 16:53:01\u001b[0m \u001b[35mDESKTOP-6JVVUQ4\u001b[0m \u001b[34mroot[12052]\u001b[0m \u001b[1;30mDEBUG\u001b[0m \u001b[32mBuy at: $42250.55\u001b[0m\n"
     ]
    },
    {
     "name": "stdout",
     "output_type": "stream",
     "text": [
      "1/1 [==============================] - 0s 27ms/step\n"
     ]
    },
    {
     "name": "stderr",
     "output_type": "stream",
     "text": [
      "\u001b[32m2023-01-16 16:53:01\u001b[0m \u001b[35mDESKTOP-6JVVUQ4\u001b[0m \u001b[34mroot[12052]\u001b[0m \u001b[1;30mDEBUG\u001b[0m \u001b[32mBuy at: $42375.63\u001b[0m\n"
     ]
    },
    {
     "name": "stdout",
     "output_type": "stream",
     "text": [
      "1/1 [==============================] - 0s 22ms/step\n"
     ]
    },
    {
     "name": "stderr",
     "output_type": "stream",
     "text": [
      "\u001b[32m2023-01-16 16:53:01\u001b[0m \u001b[35mDESKTOP-6JVVUQ4\u001b[0m \u001b[34mroot[12052]\u001b[0m \u001b[1;30mDEBUG\u001b[0m \u001b[32mBuy at: $41744.33\u001b[0m\n"
     ]
    },
    {
     "name": "stdout",
     "output_type": "stream",
     "text": [
      "1/1 [==============================] - 0s 23ms/step\n"
     ]
    },
    {
     "name": "stderr",
     "output_type": "stream",
     "text": [
      "\u001b[32m2023-01-16 16:53:01\u001b[0m \u001b[35mDESKTOP-6JVVUQ4\u001b[0m \u001b[34mroot[12052]\u001b[0m \u001b[1;30mDEBUG\u001b[0m \u001b[32mBuy at: $40680.42\u001b[0m\n"
     ]
    },
    {
     "name": "stdout",
     "output_type": "stream",
     "text": [
      "1/1 [==============================] - 0s 16ms/step\n"
     ]
    },
    {
     "name": "stderr",
     "output_type": "stream",
     "text": [
      "\u001b[32m2023-01-16 16:53:01\u001b[0m \u001b[35mDESKTOP-6JVVUQ4\u001b[0m \u001b[34mroot[12052]\u001b[0m \u001b[1;30mDEBUG\u001b[0m \u001b[32mBuy at: $36457.32\u001b[0m\n"
     ]
    },
    {
     "name": "stdout",
     "output_type": "stream",
     "text": [
      "1/1 [==============================] - 0s 17ms/step\n"
     ]
    },
    {
     "name": "stderr",
     "output_type": "stream",
     "text": [
      "\u001b[32m2023-01-16 16:53:01\u001b[0m \u001b[35mDESKTOP-6JVVUQ4\u001b[0m \u001b[34mroot[12052]\u001b[0m \u001b[1;30mDEBUG\u001b[0m \u001b[32mBuy at: $35030.25\u001b[0m\n"
     ]
    },
    {
     "name": "stdout",
     "output_type": "stream",
     "text": [
      "1/1 [==============================] - 0s 18ms/step\n"
     ]
    },
    {
     "name": "stderr",
     "output_type": "stream",
     "text": [
      "\u001b[32m2023-01-16 16:53:02\u001b[0m \u001b[35mDESKTOP-6JVVUQ4\u001b[0m \u001b[34mroot[12052]\u001b[0m \u001b[1;30mDEBUG\u001b[0m \u001b[32mBuy at: $36276.80\u001b[0m\n"
     ]
    },
    {
     "name": "stdout",
     "output_type": "stream",
     "text": [
      "1/1 [==============================] - 0s 21ms/step\n"
     ]
    },
    {
     "name": "stderr",
     "output_type": "stream",
     "text": [
      "\u001b[32m2023-01-16 16:53:02\u001b[0m \u001b[35mDESKTOP-6JVVUQ4\u001b[0m \u001b[34mroot[12052]\u001b[0m \u001b[1;30mDEBUG\u001b[0m \u001b[32mBuy at: $36654.33\u001b[0m\n"
     ]
    },
    {
     "name": "stdout",
     "output_type": "stream",
     "text": [
      "1/1 [==============================] - 0s 19ms/step\n"
     ]
    },
    {
     "name": "stderr",
     "output_type": "stream",
     "text": [
      "\u001b[32m2023-01-16 16:53:02\u001b[0m \u001b[35mDESKTOP-6JVVUQ4\u001b[0m \u001b[34mroot[12052]\u001b[0m \u001b[1;30mDEBUG\u001b[0m \u001b[32mBuy at: $36954.00\u001b[0m\n"
     ]
    },
    {
     "name": "stdout",
     "output_type": "stream",
     "text": [
      "1/1 [==============================] - 0s 17ms/step\n"
     ]
    },
    {
     "name": "stderr",
     "output_type": "stream",
     "text": [
      "\u001b[32m2023-01-16 16:53:02\u001b[0m \u001b[35mDESKTOP-6JVVUQ4\u001b[0m \u001b[34mroot[12052]\u001b[0m \u001b[1;30mDEBUG\u001b[0m \u001b[32mBuy at: $36852.12\u001b[0m\n"
     ]
    },
    {
     "name": "stdout",
     "output_type": "stream",
     "text": [
      "1/1 [==============================] - 0s 29ms/step\n"
     ]
    },
    {
     "name": "stderr",
     "output_type": "stream",
     "text": [
      "\u001b[32m2023-01-16 16:53:02\u001b[0m \u001b[35mDESKTOP-6JVVUQ4\u001b[0m \u001b[34mroot[12052]\u001b[0m \u001b[1;30mDEBUG\u001b[0m \u001b[32mBuy at: $37138.23\u001b[0m\n"
     ]
    },
    {
     "name": "stdout",
     "output_type": "stream",
     "text": [
      "1/1 [==============================] - 0s 26ms/step\n"
     ]
    },
    {
     "name": "stderr",
     "output_type": "stream",
     "text": [
      "\u001b[32m2023-01-16 16:53:02\u001b[0m \u001b[35mDESKTOP-6JVVUQ4\u001b[0m \u001b[34mroot[12052]\u001b[0m \u001b[1;30mDEBUG\u001b[0m \u001b[32mBuy at: $37784.33\u001b[0m\n"
     ]
    },
    {
     "name": "stdout",
     "output_type": "stream",
     "text": [
      "1/1 [==============================] - 0s 25ms/step\n"
     ]
    },
    {
     "name": "stderr",
     "output_type": "stream",
     "text": [
      "\u001b[32m2023-01-16 16:53:02\u001b[0m \u001b[35mDESKTOP-6JVVUQ4\u001b[0m \u001b[34mroot[12052]\u001b[0m \u001b[1;30mDEBUG\u001b[0m \u001b[32mBuy at: $38138.18\u001b[0m\n"
     ]
    },
    {
     "name": "stdout",
     "output_type": "stream",
     "text": [
      "1/1 [==============================] - 0s 25ms/step\n"
     ]
    },
    {
     "name": "stderr",
     "output_type": "stream",
     "text": [
      "\u001b[32m2023-01-16 16:53:02\u001b[0m \u001b[35mDESKTOP-6JVVUQ4\u001b[0m \u001b[34mroot[12052]\u001b[0m \u001b[1;30mDEBUG\u001b[0m \u001b[32mBuy at: $37917.60\u001b[0m\n"
     ]
    },
    {
     "name": "stdout",
     "output_type": "stream",
     "text": [
      "1/1 [==============================] - 0s 25ms/step\n"
     ]
    },
    {
     "name": "stderr",
     "output_type": "stream",
     "text": [
      "\u001b[32m2023-01-16 16:53:02\u001b[0m \u001b[35mDESKTOP-6JVVUQ4\u001b[0m \u001b[34mroot[12052]\u001b[0m \u001b[1;30mDEBUG\u001b[0m \u001b[32mBuy at: $38483.12\u001b[0m\n"
     ]
    },
    {
     "name": "stdout",
     "output_type": "stream",
     "text": [
      "1/1 [==============================] - 0s 26ms/step\n"
     ]
    },
    {
     "name": "stderr",
     "output_type": "stream",
     "text": [
      "\u001b[32m2023-01-16 16:53:02\u001b[0m \u001b[35mDESKTOP-6JVVUQ4\u001b[0m \u001b[34mroot[12052]\u001b[0m \u001b[1;30mDEBUG\u001b[0m \u001b[32mBuy at: $38743.27\u001b[0m\n"
     ]
    },
    {
     "name": "stdout",
     "output_type": "stream",
     "text": [
      "1/1 [==============================] - 0s 26ms/step\n"
     ]
    },
    {
     "name": "stderr",
     "output_type": "stream",
     "text": [
      "\u001b[32m2023-01-16 16:53:02\u001b[0m \u001b[35mDESKTOP-6JVVUQ4\u001b[0m \u001b[34mroot[12052]\u001b[0m \u001b[1;30mDEBUG\u001b[0m \u001b[32mBuy at: $36952.98\u001b[0m\n"
     ]
    },
    {
     "name": "stdout",
     "output_type": "stream",
     "text": [
      "1/1 [==============================] - 0s 27ms/step\n"
     ]
    },
    {
     "name": "stderr",
     "output_type": "stream",
     "text": [
      "\u001b[32m2023-01-16 16:53:02\u001b[0m \u001b[35mDESKTOP-6JVVUQ4\u001b[0m \u001b[34mroot[12052]\u001b[0m \u001b[1;30mDEBUG\u001b[0m \u001b[32mBuy at: $37154.60\u001b[0m\n"
     ]
    },
    {
     "name": "stdout",
     "output_type": "stream",
     "text": [
      "1/1 [==============================] - 0s 26ms/step\n"
     ]
    },
    {
     "name": "stderr",
     "output_type": "stream",
     "text": [
      "\u001b[32m2023-01-16 16:53:02\u001b[0m \u001b[35mDESKTOP-6JVVUQ4\u001b[0m \u001b[34mroot[12052]\u001b[0m \u001b[1;30mDEBUG\u001b[0m \u001b[32mSell at: $41500.88 | Position: -$5844.34\u001b[0m\n"
     ]
    },
    {
     "name": "stdout",
     "output_type": "stream",
     "text": [
      "1/1 [==============================] - 0s 26ms/step\n"
     ]
    },
    {
     "name": "stderr",
     "output_type": "stream",
     "text": [
      "\u001b[32m2023-01-16 16:53:02\u001b[0m \u001b[35mDESKTOP-6JVVUQ4\u001b[0m \u001b[34mroot[12052]\u001b[0m \u001b[1;30mDEBUG\u001b[0m \u001b[32mBuy at: $41441.16\u001b[0m\n"
     ]
    },
    {
     "name": "stdout",
     "output_type": "stream",
     "text": [
      "1/1 [==============================] - 0s 26ms/step\n"
     ]
    },
    {
     "name": "stderr",
     "output_type": "stream",
     "text": [
      "\u001b[32m2023-01-16 16:53:03\u001b[0m \u001b[35mDESKTOP-6JVVUQ4\u001b[0m \u001b[34mroot[12052]\u001b[0m \u001b[1;30mDEBUG\u001b[0m \u001b[32mBuy at: $42412.43\u001b[0m\n"
     ]
    },
    {
     "name": "stdout",
     "output_type": "stream",
     "text": [
      "1/1 [==============================] - 0s 26ms/step\n"
     ]
    },
    {
     "name": "stderr",
     "output_type": "stream",
     "text": [
      "\u001b[32m2023-01-16 16:53:03\u001b[0m \u001b[35mDESKTOP-6JVVUQ4\u001b[0m \u001b[34mroot[12052]\u001b[0m \u001b[1;30mDEBUG\u001b[0m \u001b[32mSell at: $43840.29 | Position: -$2617.83\u001b[0m\n"
     ]
    },
    {
     "name": "stdout",
     "output_type": "stream",
     "text": [
      "1/1 [==============================] - 0s 26ms/step\n"
     ]
    },
    {
     "name": "stderr",
     "output_type": "stream",
     "text": [
      "\u001b[32m2023-01-16 16:53:03\u001b[0m \u001b[35mDESKTOP-6JVVUQ4\u001b[0m \u001b[34mroot[12052]\u001b[0m \u001b[1;30mDEBUG\u001b[0m \u001b[32mBuy at: $44118.45\u001b[0m\n"
     ]
    },
    {
     "name": "stdout",
     "output_type": "stream",
     "text": [
      "1/1 [==============================] - 0s 26ms/step\n"
     ]
    },
    {
     "name": "stderr",
     "output_type": "stream",
     "text": [
      "\u001b[32m2023-01-16 16:53:03\u001b[0m \u001b[35mDESKTOP-6JVVUQ4\u001b[0m \u001b[34mroot[12052]\u001b[0m \u001b[1;30mDEBUG\u001b[0m \u001b[32mBuy at: $44338.80\u001b[0m\n"
     ]
    },
    {
     "name": "stdout",
     "output_type": "stream",
     "text": [
      "1/1 [==============================] - 0s 25ms/step\n"
     ]
    },
    {
     "name": "stderr",
     "output_type": "stream",
     "text": [
      "\u001b[32m2023-01-16 16:53:03\u001b[0m \u001b[35mDESKTOP-6JVVUQ4\u001b[0m \u001b[34mroot[12052]\u001b[0m \u001b[1;30mDEBUG\u001b[0m \u001b[32mBuy at: $43565.11\u001b[0m\n"
     ]
    },
    {
     "name": "stdout",
     "output_type": "stream",
     "text": [
      "1/1 [==============================] - 0s 51ms/step\n"
     ]
    },
    {
     "name": "stderr",
     "output_type": "stream",
     "text": [
      "\u001b[32m2023-01-16 16:53:03\u001b[0m \u001b[35mDESKTOP-6JVVUQ4\u001b[0m \u001b[34mroot[12052]\u001b[0m \u001b[1;30mDEBUG\u001b[0m \u001b[32mBuy at: $42407.94\u001b[0m\n"
     ]
    },
    {
     "name": "stdout",
     "output_type": "stream",
     "text": [
      "1/1 [==============================] - 0s 25ms/step\n"
     ]
    },
    {
     "name": "stderr",
     "output_type": "stream",
     "text": [
      "\u001b[32m2023-01-16 16:53:03\u001b[0m \u001b[35mDESKTOP-6JVVUQ4\u001b[0m \u001b[34mroot[12052]\u001b[0m \u001b[1;30mDEBUG\u001b[0m \u001b[32mBuy at: $42244.47\u001b[0m\n"
     ]
    },
    {
     "name": "stdout",
     "output_type": "stream",
     "text": [
      "1/1 [==============================] - 0s 26ms/step\n"
     ]
    },
    {
     "name": "stderr",
     "output_type": "stream",
     "text": [
      "\u001b[32m2023-01-16 16:53:03\u001b[0m \u001b[35mDESKTOP-6JVVUQ4\u001b[0m \u001b[34mroot[12052]\u001b[0m \u001b[1;30mDEBUG\u001b[0m \u001b[32mBuy at: $42197.52\u001b[0m\n"
     ]
    },
    {
     "name": "stdout",
     "output_type": "stream",
     "text": [
      "1/1 [==============================] - 0s 25ms/step\n"
     ]
    },
    {
     "name": "stderr",
     "output_type": "stream",
     "text": [
      "\u001b[32m2023-01-16 16:53:03\u001b[0m \u001b[35mDESKTOP-6JVVUQ4\u001b[0m \u001b[34mroot[12052]\u001b[0m \u001b[1;30mDEBUG\u001b[0m \u001b[32mBuy at: $42586.92\u001b[0m\n"
     ]
    },
    {
     "name": "stdout",
     "output_type": "stream",
     "text": [
      "1/1 [==============================] - 0s 26ms/step\n"
     ]
    },
    {
     "name": "stderr",
     "output_type": "stream",
     "text": [
      "\u001b[32m2023-01-16 16:53:03\u001b[0m \u001b[35mDESKTOP-6JVVUQ4\u001b[0m \u001b[34mroot[12052]\u001b[0m \u001b[1;30mDEBUG\u001b[0m \u001b[32mBuy at: $44575.20\u001b[0m\n"
     ]
    },
    {
     "name": "stdout",
     "output_type": "stream",
     "text": [
      "1/1 [==============================] - 0s 25ms/step\n",
      "1/1 [==============================] - 0s 25ms/step\n"
     ]
    },
    {
     "name": "stderr",
     "output_type": "stream",
     "text": [
      "\u001b[32m2023-01-16 16:53:03\u001b[0m \u001b[35mDESKTOP-6JVVUQ4\u001b[0m \u001b[34mroot[12052]\u001b[0m \u001b[1;30mDEBUG\u001b[0m \u001b[32mBuy at: $40538.01\u001b[0m\n"
     ]
    },
    {
     "name": "stdout",
     "output_type": "stream",
     "text": [
      "1/1 [==============================] - 0s 25ms/step\n"
     ]
    },
    {
     "name": "stderr",
     "output_type": "stream",
     "text": [
      "\u001b[32m2023-01-16 16:53:03\u001b[0m \u001b[35mDESKTOP-6JVVUQ4\u001b[0m \u001b[34mroot[12052]\u001b[0m \u001b[1;30mDEBUG\u001b[0m \u001b[32mBuy at: $40030.98\u001b[0m\n"
     ]
    },
    {
     "name": "stdout",
     "output_type": "stream",
     "text": [
      "1/1 [==============================] - 0s 25ms/step\n"
     ]
    },
    {
     "name": "stderr",
     "output_type": "stream",
     "text": [
      "\u001b[32m2023-01-16 16:53:03\u001b[0m \u001b[35mDESKTOP-6JVVUQ4\u001b[0m \u001b[34mroot[12052]\u001b[0m \u001b[1;30mDEBUG\u001b[0m \u001b[32mBuy at: $40122.16\u001b[0m\n"
     ]
    },
    {
     "name": "stdout",
     "output_type": "stream",
     "text": [
      "1/1 [==============================] - 0s 26ms/step\n"
     ]
    },
    {
     "name": "stderr",
     "output_type": "stream",
     "text": [
      "\u001b[32m2023-01-16 16:53:03\u001b[0m \u001b[35mDESKTOP-6JVVUQ4\u001b[0m \u001b[34mroot[12052]\u001b[0m \u001b[1;30mDEBUG\u001b[0m \u001b[32mBuy at: $38431.38\u001b[0m\n"
     ]
    },
    {
     "name": "stdout",
     "output_type": "stream",
     "text": [
      "1/1 [==============================] - 0s 25ms/step\n"
     ]
    },
    {
     "name": "stderr",
     "output_type": "stream",
     "text": [
      "\u001b[32m2023-01-16 16:53:04\u001b[0m \u001b[35mDESKTOP-6JVVUQ4\u001b[0m \u001b[34mroot[12052]\u001b[0m \u001b[1;30mDEBUG\u001b[0m \u001b[32mBuy at: $37075.28\u001b[0m\n"
     ]
    },
    {
     "name": "stdout",
     "output_type": "stream",
     "text": [
      "1/1 [==============================] - 0s 23ms/step\n"
     ]
    },
    {
     "name": "stderr",
     "output_type": "stream",
     "text": [
      "\u001b[32m2023-01-16 16:53:04\u001b[0m \u001b[35mDESKTOP-6JVVUQ4\u001b[0m \u001b[34mroot[12052]\u001b[0m \u001b[1;30mDEBUG\u001b[0m \u001b[32mBuy at: $38286.03\u001b[0m\n"
     ]
    },
    {
     "name": "stdout",
     "output_type": "stream",
     "text": [
      "1/1 [==============================] - 0s 26ms/step\n"
     ]
    },
    {
     "name": "stderr",
     "output_type": "stream",
     "text": [
      "\u001b[32m2023-01-16 16:53:04\u001b[0m \u001b[35mDESKTOP-6JVVUQ4\u001b[0m \u001b[34mroot[12052]\u001b[0m \u001b[1;30mDEBUG\u001b[0m \u001b[32mBuy at: $37296.57\u001b[0m\n"
     ]
    },
    {
     "name": "stdout",
     "output_type": "stream",
     "text": [
      "1/1 [==============================] - 0s 25ms/step\n"
     ]
    },
    {
     "name": "stderr",
     "output_type": "stream",
     "text": [
      "\u001b[32m2023-01-16 16:53:04\u001b[0m \u001b[35mDESKTOP-6JVVUQ4\u001b[0m \u001b[34mroot[12052]\u001b[0m \u001b[1;30mDEBUG\u001b[0m \u001b[32mBuy at: $38332.61\u001b[0m\n"
     ]
    },
    {
     "name": "stdout",
     "output_type": "stream",
     "text": [
      "1/1 [==============================] - 0s 24ms/step\n"
     ]
    },
    {
     "name": "stderr",
     "output_type": "stream",
     "text": [
      "\u001b[32m2023-01-16 16:53:04\u001b[0m \u001b[35mDESKTOP-6JVVUQ4\u001b[0m \u001b[34mroot[12052]\u001b[0m \u001b[1;30mDEBUG\u001b[0m \u001b[32mBuy at: $39214.22\u001b[0m\n"
     ]
    },
    {
     "name": "stdout",
     "output_type": "stream",
     "text": [
      "1/1 [==============================] - 0s 24ms/step\n"
     ]
    },
    {
     "name": "stderr",
     "output_type": "stream",
     "text": [
      "\u001b[32m2023-01-16 16:53:04\u001b[0m \u001b[35mDESKTOP-6JVVUQ4\u001b[0m \u001b[34mroot[12052]\u001b[0m \u001b[1;30mDEBUG\u001b[0m \u001b[32mSell at: $39105.15 | Position: -$6792.43\u001b[0m\n"
     ]
    },
    {
     "name": "stdout",
     "output_type": "stream",
     "text": [
      "1/1 [==============================] - 0s 26ms/step\n"
     ]
    },
    {
     "name": "stderr",
     "output_type": "stream",
     "text": [
      "\u001b[32m2023-01-16 16:53:04\u001b[0m \u001b[35mDESKTOP-6JVVUQ4\u001b[0m \u001b[34mroot[12052]\u001b[0m \u001b[1;30mDEBUG\u001b[0m \u001b[32mSell at: $37709.79 | Position: -$5859.22\u001b[0m\n"
     ]
    },
    {
     "name": "stdout",
     "output_type": "stream",
     "text": [
      "1/1 [==============================] - 0s 25ms/step\n"
     ]
    },
    {
     "name": "stderr",
     "output_type": "stream",
     "text": [
      "\u001b[32m2023-01-16 16:53:04\u001b[0m \u001b[35mDESKTOP-6JVVUQ4\u001b[0m \u001b[34mroot[12052]\u001b[0m \u001b[1;30mDEBUG\u001b[0m \u001b[32mSell at: $43193.23 | Position: +$32.30\u001b[0m\n"
     ]
    },
    {
     "name": "stdout",
     "output_type": "stream",
     "text": [
      "1/1 [==============================] - 0s 17ms/step\n"
     ]
    },
    {
     "name": "stderr",
     "output_type": "stream",
     "text": [
      "\u001b[32m2023-01-16 16:53:04\u001b[0m \u001b[35mDESKTOP-6JVVUQ4\u001b[0m \u001b[34mroot[12052]\u001b[0m \u001b[1;30mDEBUG\u001b[0m \u001b[32mBuy at: $44354.64\u001b[0m\n"
     ]
    },
    {
     "name": "stdout",
     "output_type": "stream",
     "text": [
      "1/1 [==============================] - 0s 25ms/step\n"
     ]
    },
    {
     "name": "stderr",
     "output_type": "stream",
     "text": [
      "\u001b[32m2023-01-16 16:53:04\u001b[0m \u001b[35mDESKTOP-6JVVUQ4\u001b[0m \u001b[34mroot[12052]\u001b[0m \u001b[1;30mDEBUG\u001b[0m \u001b[32mSell at: $43924.12 | Position: +$2366.21\u001b[0m\n"
     ]
    },
    {
     "name": "stdout",
     "output_type": "stream",
     "text": [
      "1/1 [==============================] - 0s 25ms/step\n"
     ]
    },
    {
     "name": "stderr",
     "output_type": "stream",
     "text": [
      "\u001b[32m2023-01-16 16:53:04\u001b[0m \u001b[35mDESKTOP-6JVVUQ4\u001b[0m \u001b[34mroot[12052]\u001b[0m \u001b[1;30mDEBUG\u001b[0m \u001b[32mBuy at: $42451.79\u001b[0m\n"
     ]
    },
    {
     "name": "stdout",
     "output_type": "stream",
     "text": [
      "1/1 [==============================] - 0s 25ms/step\n"
     ]
    },
    {
     "name": "stderr",
     "output_type": "stream",
     "text": [
      "\u001b[32m2023-01-16 16:53:04\u001b[0m \u001b[35mDESKTOP-6JVVUQ4\u001b[0m \u001b[34mroot[12052]\u001b[0m \u001b[1;30mDEBUG\u001b[0m \u001b[32mBuy at: $39137.61\u001b[0m\n"
     ]
    },
    {
     "name": "stdout",
     "output_type": "stream",
     "text": [
      "1/1 [==============================] - 0s 17ms/step\n"
     ]
    },
    {
     "name": "stderr",
     "output_type": "stream",
     "text": [
      "\u001b[32m2023-01-16 16:53:04\u001b[0m \u001b[35mDESKTOP-6JVVUQ4\u001b[0m \u001b[34mroot[12052]\u001b[0m \u001b[1;30mDEBUG\u001b[0m \u001b[32mBuy at: $39400.59\u001b[0m\n"
     ]
    },
    {
     "name": "stdout",
     "output_type": "stream",
     "text": [
      "1/1 [==============================] - 0s 31ms/step\n"
     ]
    },
    {
     "name": "stderr",
     "output_type": "stream",
     "text": [
      "\u001b[32m2023-01-16 16:53:04\u001b[0m \u001b[35mDESKTOP-6JVVUQ4\u001b[0m \u001b[34mroot[12052]\u001b[0m \u001b[1;30mDEBUG\u001b[0m \u001b[32mBuy at: $38419.98\u001b[0m\n"
     ]
    },
    {
     "name": "stdout",
     "output_type": "stream",
     "text": [
      "1/1 [==============================] - 0s 28ms/step\n"
     ]
    },
    {
     "name": "stderr",
     "output_type": "stream",
     "text": [
      "\u001b[32m2023-01-16 16:53:05\u001b[0m \u001b[35mDESKTOP-6JVVUQ4\u001b[0m \u001b[34mroot[12052]\u001b[0m \u001b[1;30mDEBUG\u001b[0m \u001b[32mBuy at: $38062.04\u001b[0m\n"
     ]
    },
    {
     "name": "stdout",
     "output_type": "stream",
     "text": [
      "1/1 [==============================] - 0s 26ms/step\n"
     ]
    },
    {
     "name": "stderr",
     "output_type": "stream",
     "text": [
      "\u001b[32m2023-01-16 16:53:05\u001b[0m \u001b[35mDESKTOP-6JVVUQ4\u001b[0m \u001b[34mroot[12052]\u001b[0m \u001b[1;30mDEBUG\u001b[0m \u001b[32mBuy at: $38737.27\u001b[0m\n"
     ]
    },
    {
     "name": "stdout",
     "output_type": "stream",
     "text": [
      "1/1 [==============================] - 0s 25ms/step\n"
     ]
    },
    {
     "name": "stderr",
     "output_type": "stream",
     "text": [
      "\u001b[32m2023-01-16 16:53:05\u001b[0m \u001b[35mDESKTOP-6JVVUQ4\u001b[0m \u001b[34mroot[12052]\u001b[0m \u001b[1;30mDEBUG\u001b[0m \u001b[32mBuy at: $41982.93\u001b[0m\n"
     ]
    },
    {
     "name": "stdout",
     "output_type": "stream",
     "text": [
      "1/1 [==============================] - 0s 26ms/step\n"
     ]
    },
    {
     "name": "stderr",
     "output_type": "stream",
     "text": [
      "\u001b[32m2023-01-16 16:53:05\u001b[0m \u001b[35mDESKTOP-6JVVUQ4\u001b[0m \u001b[34mroot[12052]\u001b[0m \u001b[1;30mDEBUG\u001b[0m \u001b[32mBuy at: $39437.46\u001b[0m\n"
     ]
    },
    {
     "name": "stdout",
     "output_type": "stream",
     "text": [
      "1/1 [==============================] - 0s 21ms/step\n"
     ]
    },
    {
     "name": "stderr",
     "output_type": "stream",
     "text": [
      "\u001b[32m2023-01-16 16:53:05\u001b[0m \u001b[35mDESKTOP-6JVVUQ4\u001b[0m \u001b[34mroot[12052]\u001b[0m \u001b[1;30mDEBUG\u001b[0m \u001b[32mBuy at: $38794.97\u001b[0m\n"
     ]
    },
    {
     "name": "stdout",
     "output_type": "stream",
     "text": [
      "1/1 [==============================] - 0s 20ms/step\n"
     ]
    },
    {
     "name": "stderr",
     "output_type": "stream",
     "text": [
      "\u001b[32m2023-01-16 16:53:05\u001b[0m \u001b[35mDESKTOP-6JVVUQ4\u001b[0m \u001b[34mroot[12052]\u001b[0m \u001b[1;30mDEBUG\u001b[0m \u001b[32mBuy at: $38904.01\u001b[0m\n"
     ]
    },
    {
     "name": "stdout",
     "output_type": "stream",
     "text": [
      "1/1 [==============================] - 0s 30ms/step\n"
     ]
    },
    {
     "name": "stderr",
     "output_type": "stream",
     "text": [
      "\u001b[32m2023-01-16 16:53:05\u001b[0m \u001b[35mDESKTOP-6JVVUQ4\u001b[0m \u001b[34mroot[12052]\u001b[0m \u001b[1;30mDEBUG\u001b[0m \u001b[32mBuy at: $37849.66\u001b[0m\n"
     ]
    },
    {
     "name": "stdout",
     "output_type": "stream",
     "text": [
      "1/1 [==============================] - 0s 20ms/step\n"
     ]
    },
    {
     "name": "stderr",
     "output_type": "stream",
     "text": [
      "\u001b[32m2023-01-16 16:53:05\u001b[0m \u001b[35mDESKTOP-6JVVUQ4\u001b[0m \u001b[34mroot[12052]\u001b[0m \u001b[1;30mDEBUG\u001b[0m \u001b[32mBuy at: $39666.75\u001b[0m\n"
     ]
    },
    {
     "name": "stdout",
     "output_type": "stream",
     "text": [
      "1/1 [==============================] - 0s 21ms/step\n"
     ]
    },
    {
     "name": "stderr",
     "output_type": "stream",
     "text": [
      "\u001b[32m2023-01-16 16:53:05\u001b[0m \u001b[35mDESKTOP-6JVVUQ4\u001b[0m \u001b[34mroot[12052]\u001b[0m \u001b[1;30mDEBUG\u001b[0m \u001b[32mSell at: $39338.79 | Position: -$2395.16\u001b[0m\n"
     ]
    },
    {
     "name": "stdout",
     "output_type": "stream",
     "text": [
      "1/1 [==============================] - 0s 26ms/step\n"
     ]
    },
    {
     "name": "stderr",
     "output_type": "stream",
     "text": [
      "\u001b[32m2023-01-16 16:53:05\u001b[0m \u001b[35mDESKTOP-6JVVUQ4\u001b[0m \u001b[34mroot[12052]\u001b[0m \u001b[1;30mDEBUG\u001b[0m \u001b[32mBuy at: $41143.93\u001b[0m\n"
     ]
    },
    {
     "name": "stdout",
     "output_type": "stream",
     "text": [
      "1/1 [==============================] - 0s 23ms/step\n"
     ]
    },
    {
     "name": "stderr",
     "output_type": "stream",
     "text": [
      "\u001b[32m2023-01-16 16:53:05\u001b[0m \u001b[35mDESKTOP-6JVVUQ4\u001b[0m \u001b[34mroot[12052]\u001b[0m \u001b[1;30mDEBUG\u001b[0m \u001b[32mBuy at: $40951.38\u001b[0m\n"
     ]
    },
    {
     "name": "stdout",
     "output_type": "stream",
     "text": [
      "1/1 [==============================] - 0s 21ms/step\n"
     ]
    },
    {
     "name": "stderr",
     "output_type": "stream",
     "text": [
      "\u001b[32m2023-01-16 16:53:05\u001b[0m \u001b[35mDESKTOP-6JVVUQ4\u001b[0m \u001b[34mroot[12052]\u001b[0m \u001b[1;30mDEBUG\u001b[0m \u001b[32mBuy at: $41801.16\u001b[0m\n"
     ]
    },
    {
     "name": "stdout",
     "output_type": "stream",
     "text": [
      "1/1 [==============================] - 0s 22ms/step\n"
     ]
    },
    {
     "name": "stderr",
     "output_type": "stream",
     "text": [
      "\u001b[32m2023-01-16 16:53:05\u001b[0m \u001b[35mDESKTOP-6JVVUQ4\u001b[0m \u001b[34mroot[12052]\u001b[0m \u001b[1;30mDEBUG\u001b[0m \u001b[32mSell at: $42190.65 | Position: +$279.05\u001b[0m\n"
     ]
    },
    {
     "name": "stdout",
     "output_type": "stream",
     "text": [
      "1/1 [==============================] - 0s 14ms/step\n"
     ]
    },
    {
     "name": "stderr",
     "output_type": "stream",
     "text": [
      "\u001b[32m2023-01-16 16:53:05\u001b[0m \u001b[35mDESKTOP-6JVVUQ4\u001b[0m \u001b[34mroot[12052]\u001b[0m \u001b[1;30mDEBUG\u001b[0m \u001b[32mSell at: $41247.82 | Position: -$573.44\u001b[0m\n"
     ]
    },
    {
     "name": "stdout",
     "output_type": "stream",
     "text": [
      "1/1 [==============================] - 0s 25ms/step\n"
     ]
    },
    {
     "name": "stderr",
     "output_type": "stream",
     "text": [
      "\u001b[32m2023-01-16 16:53:05\u001b[0m \u001b[35mDESKTOP-6JVVUQ4\u001b[0m \u001b[34mroot[12052]\u001b[0m \u001b[1;30mDEBUG\u001b[0m \u001b[32mBuy at: $41078.00\u001b[0m\n"
     ]
    },
    {
     "name": "stdout",
     "output_type": "stream",
     "text": [
      "1/1 [==============================] - 0s 26ms/step\n"
     ]
    },
    {
     "name": "stderr",
     "output_type": "stream",
     "text": [
      "\u001b[32m2023-01-16 16:53:06\u001b[0m \u001b[35mDESKTOP-6JVVUQ4\u001b[0m \u001b[34mroot[12052]\u001b[0m \u001b[1;30mDEBUG\u001b[0m \u001b[32mSell at: $42358.81 | Position: -$377.05\u001b[0m\n"
     ]
    },
    {
     "name": "stdout",
     "output_type": "stream",
     "text": [
      "1/1 [==============================] - 0s 26ms/step\n"
     ]
    },
    {
     "name": "stderr",
     "output_type": "stream",
     "text": [
      "\u001b[32m2023-01-16 16:53:06\u001b[0m \u001b[35mDESKTOP-6JVVUQ4\u001b[0m \u001b[34mroot[12052]\u001b[0m \u001b[1;30mDEBUG\u001b[0m \u001b[32mBuy at: $42892.96\u001b[0m\n"
     ]
    },
    {
     "name": "stdout",
     "output_type": "stream",
     "text": [
      "1/1 [==============================] - 0s 25ms/step\n"
     ]
    },
    {
     "name": "stderr",
     "output_type": "stream",
     "text": [
      "\u001b[32m2023-01-16 16:53:06\u001b[0m \u001b[35mDESKTOP-6JVVUQ4\u001b[0m \u001b[34mroot[12052]\u001b[0m \u001b[1;30mDEBUG\u001b[0m \u001b[32mBuy at: $43960.93\u001b[0m\n"
     ]
    },
    {
     "name": "stdout",
     "output_type": "stream",
     "text": [
      "1/1 [==============================] - 0s 25ms/step\n"
     ]
    },
    {
     "name": "stderr",
     "output_type": "stream",
     "text": [
      "\u001b[32m2023-01-16 16:53:06\u001b[0m \u001b[35mDESKTOP-6JVVUQ4\u001b[0m \u001b[34mroot[12052]\u001b[0m \u001b[1;30mDEBUG\u001b[0m \u001b[32mBuy at: $44348.73\u001b[0m\n"
     ]
    },
    {
     "name": "stdout",
     "output_type": "stream",
     "text": [
      "1/1 [==============================] - 0s 25ms/step\n"
     ]
    },
    {
     "name": "stderr",
     "output_type": "stream",
     "text": [
      "\u001b[32m2023-01-16 16:53:06\u001b[0m \u001b[35mDESKTOP-6JVVUQ4\u001b[0m \u001b[34mroot[12052]\u001b[0m \u001b[1;30mDEBUG\u001b[0m \u001b[32mBuy at: $44500.83\u001b[0m\n"
     ]
    },
    {
     "name": "stdout",
     "output_type": "stream",
     "text": [
      "1/1 [==============================] - 0s 26ms/step\n"
     ]
    },
    {
     "name": "stderr",
     "output_type": "stream",
     "text": [
      "\u001b[32m2023-01-16 16:53:06\u001b[0m \u001b[35mDESKTOP-6JVVUQ4\u001b[0m \u001b[34mroot[12052]\u001b[0m \u001b[1;30mDEBUG\u001b[0m \u001b[32mSell at: $46820.49 | Position: +$2871.39\u001b[0m\n"
     ]
    },
    {
     "name": "stdout",
     "output_type": "stream",
     "text": [
      "1/1 [==============================] - 0s 26ms/step\n"
     ]
    },
    {
     "name": "stderr",
     "output_type": "stream",
     "text": [
      "\u001b[32m2023-01-16 16:53:06\u001b[0m \u001b[35mDESKTOP-6JVVUQ4\u001b[0m \u001b[34mroot[12052]\u001b[0m \u001b[1;30mDEBUG\u001b[0m \u001b[32mBuy at: $47128.00\u001b[0m\n"
     ]
    },
    {
     "name": "stdout",
     "output_type": "stream",
     "text": [
      "1/1 [==============================] - 0s 26ms/step\n"
     ]
    },
    {
     "name": "stderr",
     "output_type": "stream",
     "text": [
      "\u001b[32m2023-01-16 16:53:06\u001b[0m \u001b[35mDESKTOP-6JVVUQ4\u001b[0m \u001b[34mroot[12052]\u001b[0m \u001b[1;30mDEBUG\u001b[0m \u001b[32mBuy at: $47465.73\u001b[0m\n"
     ]
    },
    {
     "name": "stdout",
     "output_type": "stream",
     "text": [
      "1/1 [==============================] - 0s 26ms/step\n"
     ]
    },
    {
     "name": "stderr",
     "output_type": "stream",
     "text": [
      "\u001b[32m2023-01-16 16:53:06\u001b[0m \u001b[35mDESKTOP-6JVVUQ4\u001b[0m \u001b[34mroot[12052]\u001b[0m \u001b[1;30mDEBUG\u001b[0m \u001b[32mBuy at: $47062.66\u001b[0m\n"
     ]
    },
    {
     "name": "stdout",
     "output_type": "stream",
     "text": [
      "1/1 [==============================] - 0s 24ms/step\n"
     ]
    },
    {
     "name": "stderr",
     "output_type": "stream",
     "text": [
      "\u001b[32m2023-01-16 16:53:06\u001b[0m \u001b[35mDESKTOP-6JVVUQ4\u001b[0m \u001b[34mroot[12052]\u001b[0m \u001b[1;30mDEBUG\u001b[0m \u001b[32mBuy at: $45538.68\u001b[0m\n"
     ]
    },
    {
     "name": "stdout",
     "output_type": "stream",
     "text": [
      "1/1 [==============================] - 0s 25ms/step\n"
     ]
    },
    {
     "name": "stderr",
     "output_type": "stream",
     "text": [
      "\u001b[32m2023-01-16 16:53:06\u001b[0m \u001b[35mDESKTOP-6JVVUQ4\u001b[0m \u001b[34mroot[12052]\u001b[0m \u001b[1;30mDEBUG\u001b[0m \u001b[32mBuy at: $46281.64\u001b[0m\n"
     ]
    },
    {
     "name": "stdout",
     "output_type": "stream",
     "text": [
      "1/1 [==============================] - 0s 25ms/step\n"
     ]
    },
    {
     "name": "stderr",
     "output_type": "stream",
     "text": [
      "\u001b[32m2023-01-16 16:53:06\u001b[0m \u001b[35mDESKTOP-6JVVUQ4\u001b[0m \u001b[34mroot[12052]\u001b[0m \u001b[1;30mDEBUG\u001b[0m \u001b[32mBuy at: $45868.95\u001b[0m\n"
     ]
    },
    {
     "name": "stdout",
     "output_type": "stream",
     "text": [
      "1/1 [==============================] - 0s 25ms/step\n"
     ]
    },
    {
     "name": "stderr",
     "output_type": "stream",
     "text": [
      "\u001b[32m2023-01-16 16:53:06\u001b[0m \u001b[35mDESKTOP-6JVVUQ4\u001b[0m \u001b[34mroot[12052]\u001b[0m \u001b[1;30mDEBUG\u001b[0m \u001b[32mBuy at: $46453.57\u001b[0m\n"
     ]
    },
    {
     "name": "stdout",
     "output_type": "stream",
     "text": [
      "1/1 [==============================] - 0s 25ms/step\n"
     ]
    },
    {
     "name": "stderr",
     "output_type": "stream",
     "text": [
      "\u001b[32m2023-01-16 16:53:06\u001b[0m \u001b[35mDESKTOP-6JVVUQ4\u001b[0m \u001b[34mroot[12052]\u001b[0m \u001b[1;30mDEBUG\u001b[0m \u001b[32mSell at: $46622.68 | Position: +$4031.11\u001b[0m\n"
     ]
    },
    {
     "name": "stdout",
     "output_type": "stream",
     "text": [
      "1/1 [==============================] - 0s 26ms/step\n"
     ]
    },
    {
     "name": "stderr",
     "output_type": "stream",
     "text": [
      "\u001b[32m2023-01-16 16:53:06\u001b[0m \u001b[35mDESKTOP-6JVVUQ4\u001b[0m \u001b[34mroot[12052]\u001b[0m \u001b[1;30mDEBUG\u001b[0m \u001b[32mSell at: $45555.99 | Position: +$2456.29\u001b[0m\n"
     ]
    },
    {
     "name": "stdout",
     "output_type": "stream",
     "text": [
      "1/1 [==============================] - 0s 25ms/step\n"
     ]
    },
    {
     "name": "stderr",
     "output_type": "stream",
     "text": [
      "\u001b[32m2023-01-16 16:53:07\u001b[0m \u001b[35mDESKTOP-6JVVUQ4\u001b[0m \u001b[34mroot[12052]\u001b[0m \u001b[1;30mDEBUG\u001b[0m \u001b[32mSell at: $43206.74 | Position: +$92.86\u001b[0m\n"
     ]
    },
    {
     "name": "stdout",
     "output_type": "stream",
     "text": [
      "1/1 [==============================] - 0s 27ms/step\n"
     ]
    },
    {
     "name": "stderr",
     "output_type": "stream",
     "text": [
      "\u001b[32m2023-01-16 16:53:07\u001b[0m \u001b[35mDESKTOP-6JVVUQ4\u001b[0m \u001b[34mroot[12052]\u001b[0m \u001b[1;30mDEBUG\u001b[0m \u001b[32mSell at: $43503.85 | Position: +$1253.30\u001b[0m\n"
     ]
    },
    {
     "name": "stdout",
     "output_type": "stream",
     "text": [
      "1/1 [==============================] - 0s 26ms/step\n"
     ]
    },
    {
     "name": "stderr",
     "output_type": "stream",
     "text": [
      "\u001b[32m2023-01-16 16:53:07\u001b[0m \u001b[35mDESKTOP-6JVVUQ4\u001b[0m \u001b[34mroot[12052]\u001b[0m \u001b[1;30mDEBUG\u001b[0m \u001b[32mBuy at: $42287.66\u001b[0m\n"
     ]
    },
    {
     "name": "stdout",
     "output_type": "stream",
     "text": [
      "1/1 [==============================] - 0s 16ms/step\n"
     ]
    },
    {
     "name": "stderr",
     "output_type": "stream",
     "text": [
      "\u001b[32m2023-01-16 16:53:07\u001b[0m \u001b[35mDESKTOP-6JVVUQ4\u001b[0m \u001b[34mroot[12052]\u001b[0m \u001b[1;30mDEBUG\u001b[0m \u001b[32mBuy at: $42782.14\u001b[0m\n"
     ]
    },
    {
     "name": "stdout",
     "output_type": "stream",
     "text": [
      "1/1 [==============================] - 0s 25ms/step\n"
     ]
    },
    {
     "name": "stderr",
     "output_type": "stream",
     "text": [
      "\u001b[32m2023-01-16 16:53:07\u001b[0m \u001b[35mDESKTOP-6JVVUQ4\u001b[0m \u001b[34mroot[12052]\u001b[0m \u001b[1;30mDEBUG\u001b[0m \u001b[32mBuy at: $42207.67\u001b[0m\n"
     ]
    },
    {
     "name": "stdout",
     "output_type": "stream",
     "text": [
      "1/1 [==============================] - 0s 18ms/step\n"
     ]
    },
    {
     "name": "stderr",
     "output_type": "stream",
     "text": [
      "\u001b[32m2023-01-16 16:53:07\u001b[0m \u001b[35mDESKTOP-6JVVUQ4\u001b[0m \u001b[34mroot[12052]\u001b[0m \u001b[1;30mDEBUG\u001b[0m \u001b[32mSell at: $39521.90 | Position: -$2853.73\u001b[0m\n"
     ]
    },
    {
     "name": "stdout",
     "output_type": "stream",
     "text": [
      "1/1 [==============================] - 0s 25ms/step\n"
     ]
    },
    {
     "name": "stderr",
     "output_type": "stream",
     "text": [
      "\u001b[32m2023-01-16 16:53:07\u001b[0m \u001b[35mDESKTOP-6JVVUQ4\u001b[0m \u001b[34mroot[12052]\u001b[0m \u001b[1;30mDEBUG\u001b[0m \u001b[32mSell at: $40127.18 | Position: -$1617.14\u001b[0m\n"
     ]
    },
    {
     "name": "stdout",
     "output_type": "stream",
     "text": [
      "1/1 [==============================] - 0s 19ms/step\n"
     ]
    },
    {
     "name": "stderr",
     "output_type": "stream",
     "text": [
      "\u001b[32m2023-01-16 16:53:07\u001b[0m \u001b[35mDESKTOP-6JVVUQ4\u001b[0m \u001b[34mroot[12052]\u001b[0m \u001b[1;30mDEBUG\u001b[0m \u001b[32mSell at: $41166.73 | Position: +$486.31\u001b[0m\n"
     ]
    },
    {
     "name": "stdout",
     "output_type": "stream",
     "text": [
      "1/1 [==============================] - 0s 25ms/step\n"
     ]
    },
    {
     "name": "stderr",
     "output_type": "stream",
     "text": [
      "\u001b[32m2023-01-16 16:53:07\u001b[0m \u001b[35mDESKTOP-6JVVUQ4\u001b[0m \u001b[34mroot[12052]\u001b[0m \u001b[1;30mDEBUG\u001b[0m \u001b[32mBuy at: $39935.52\u001b[0m\n"
     ]
    },
    {
     "name": "stdout",
     "output_type": "stream",
     "text": [
      "1/1 [==============================] - 0s 27ms/step\n"
     ]
    },
    {
     "name": "stderr",
     "output_type": "stream",
     "text": [
      "\u001b[32m2023-01-16 16:53:07\u001b[0m \u001b[35mDESKTOP-6JVVUQ4\u001b[0m \u001b[34mroot[12052]\u001b[0m \u001b[1;30mDEBUG\u001b[0m \u001b[32mSell at: $40553.46 | Position: +$4096.15\u001b[0m\n"
     ]
    },
    {
     "name": "stdout",
     "output_type": "stream",
     "text": [
      "1/1 [==============================] - 0s 25ms/step\n"
     ]
    },
    {
     "name": "stderr",
     "output_type": "stream",
     "text": [
      "\u001b[32m2023-01-16 16:53:07\u001b[0m \u001b[35mDESKTOP-6JVVUQ4\u001b[0m \u001b[34mroot[12052]\u001b[0m \u001b[1;30mDEBUG\u001b[0m \u001b[32mBuy at: $40424.48\u001b[0m\n"
     ]
    },
    {
     "name": "stdout",
     "output_type": "stream",
     "text": [
      "1/1 [==============================] - 0s 25ms/step\n"
     ]
    },
    {
     "name": "stderr",
     "output_type": "stream",
     "text": [
      "\u001b[32m2023-01-16 16:53:07\u001b[0m \u001b[35mDESKTOP-6JVVUQ4\u001b[0m \u001b[34mroot[12052]\u001b[0m \u001b[1;30mDEBUG\u001b[0m \u001b[32mBuy at: $39716.95\u001b[0m\n"
     ]
    },
    {
     "name": "stdout",
     "output_type": "stream",
     "text": [
      "1/1 [==============================] - 0s 25ms/step\n"
     ]
    },
    {
     "name": "stderr",
     "output_type": "stream",
     "text": [
      "\u001b[32m2023-01-16 16:53:07\u001b[0m \u001b[35mDESKTOP-6JVVUQ4\u001b[0m \u001b[34mroot[12052]\u001b[0m \u001b[1;30mDEBUG\u001b[0m \u001b[32mBuy at: $40826.21\u001b[0m\n"
     ]
    },
    {
     "name": "stdout",
     "output_type": "stream",
     "text": [
      "1/1 [==============================] - 0s 18ms/step\n"
     ]
    },
    {
     "name": "stderr",
     "output_type": "stream",
     "text": [
      "\u001b[32m2023-01-16 16:53:07\u001b[0m \u001b[35mDESKTOP-6JVVUQ4\u001b[0m \u001b[34mroot[12052]\u001b[0m \u001b[1;30mDEBUG\u001b[0m \u001b[32mBuy at: $41502.75\u001b[0m\n"
     ]
    },
    {
     "name": "stdout",
     "output_type": "stream",
     "text": [
      "1/1 [==============================] - 0s 32ms/step\n"
     ]
    },
    {
     "name": "stderr",
     "output_type": "stream",
     "text": [
      "\u001b[32m2023-01-16 16:53:08\u001b[0m \u001b[35mDESKTOP-6JVVUQ4\u001b[0m \u001b[34mroot[12052]\u001b[0m \u001b[1;30mDEBUG\u001b[0m \u001b[32mBuy at: $41374.38\u001b[0m\n"
     ]
    },
    {
     "name": "stdout",
     "output_type": "stream",
     "text": [
      "1/1 [==============================] - 0s 26ms/step\n"
     ]
    },
    {
     "name": "stderr",
     "output_type": "stream",
     "text": [
      "\u001b[32m2023-01-16 16:53:08\u001b[0m \u001b[35mDESKTOP-6JVVUQ4\u001b[0m \u001b[34mroot[12052]\u001b[0m \u001b[1;30mDEBUG\u001b[0m \u001b[32mBuy at: $40527.36\u001b[0m\n"
     ]
    },
    {
     "name": "stdout",
     "output_type": "stream",
     "text": [
      "1/1 [==============================] - 0s 29ms/step\n"
     ]
    },
    {
     "name": "stderr",
     "output_type": "stream",
     "text": [
      "\u001b[32m2023-01-16 16:53:08\u001b[0m \u001b[35mDESKTOP-6JVVUQ4\u001b[0m \u001b[34mroot[12052]\u001b[0m \u001b[1;30mDEBUG\u001b[0m \u001b[32mBuy at: $39740.32\u001b[0m\n"
     ]
    },
    {
     "name": "stdout",
     "output_type": "stream",
     "text": [
      "1/1 [==============================] - 0s 25ms/step\n"
     ]
    },
    {
     "name": "stderr",
     "output_type": "stream",
     "text": [
      "\u001b[32m2023-01-16 16:53:08\u001b[0m \u001b[35mDESKTOP-6JVVUQ4\u001b[0m \u001b[34mroot[12052]\u001b[0m \u001b[1;30mDEBUG\u001b[0m \u001b[32mBuy at: $39486.73\u001b[0m\n"
     ]
    },
    {
     "name": "stdout",
     "output_type": "stream",
     "text": [
      "1/1 [==============================] - 0s 25ms/step\n"
     ]
    },
    {
     "name": "stderr",
     "output_type": "stream",
     "text": [
      "\u001b[32m2023-01-16 16:53:08\u001b[0m \u001b[35mDESKTOP-6JVVUQ4\u001b[0m \u001b[34mroot[12052]\u001b[0m \u001b[1;30mDEBUG\u001b[0m \u001b[32mBuy at: $39469.29\u001b[0m\n"
     ]
    },
    {
     "name": "stdout",
     "output_type": "stream",
     "text": [
      "1/1 [==============================] - 0s 26ms/step\n"
     ]
    },
    {
     "name": "stderr",
     "output_type": "stream",
     "text": [
      "\u001b[32m2023-01-16 16:53:08\u001b[0m \u001b[35mDESKTOP-6JVVUQ4\u001b[0m \u001b[34mroot[12052]\u001b[0m \u001b[1;30mDEBUG\u001b[0m \u001b[32mBuy at: $40458.31\u001b[0m\n"
     ]
    },
    {
     "name": "stdout",
     "output_type": "stream",
     "text": [
      "1/1 [==============================] - 0s 25ms/step\n"
     ]
    },
    {
     "name": "stderr",
     "output_type": "stream",
     "text": [
      "\u001b[32m2023-01-16 16:53:08\u001b[0m \u001b[35mDESKTOP-6JVVUQ4\u001b[0m \u001b[34mroot[12052]\u001b[0m \u001b[1;30mDEBUG\u001b[0m \u001b[32mBuy at: $38117.46\u001b[0m\n"
     ]
    },
    {
     "name": "stdout",
     "output_type": "stream",
     "text": [
      "1/1 [==============================] - 0s 26ms/step\n"
     ]
    },
    {
     "name": "stderr",
     "output_type": "stream",
     "text": [
      "\u001b[32m2023-01-16 16:53:08\u001b[0m \u001b[35mDESKTOP-6JVVUQ4\u001b[0m \u001b[34mroot[12052]\u001b[0m \u001b[1;30mDEBUG\u001b[0m \u001b[32mBuy at: $39241.12\u001b[0m\n"
     ]
    },
    {
     "name": "stdout",
     "output_type": "stream",
     "text": [
      "1/1 [==============================] - 0s 25ms/step\n"
     ]
    },
    {
     "name": "stderr",
     "output_type": "stream",
     "text": [
      "\u001b[32m2023-01-16 16:53:08\u001b[0m \u001b[35mDESKTOP-6JVVUQ4\u001b[0m \u001b[34mroot[12052]\u001b[0m \u001b[1;30mDEBUG\u001b[0m \u001b[32mBuy at: $39773.83\u001b[0m\n"
     ]
    },
    {
     "name": "stdout",
     "output_type": "stream",
     "text": [
      "1/1 [==============================] - 0s 25ms/step\n"
     ]
    },
    {
     "name": "stderr",
     "output_type": "stream",
     "text": [
      "\u001b[32m2023-01-16 16:53:08\u001b[0m \u001b[35mDESKTOP-6JVVUQ4\u001b[0m \u001b[34mroot[12052]\u001b[0m \u001b[1;30mDEBUG\u001b[0m \u001b[32mBuy at: $38609.82\u001b[0m\n"
     ]
    },
    {
     "name": "stdout",
     "output_type": "stream",
     "text": [
      "1/1 [==============================] - 0s 25ms/step\n"
     ]
    },
    {
     "name": "stderr",
     "output_type": "stream",
     "text": [
      "\u001b[32m2023-01-16 16:53:08\u001b[0m \u001b[35mDESKTOP-6JVVUQ4\u001b[0m \u001b[34mroot[12052]\u001b[0m \u001b[1;30mDEBUG\u001b[0m \u001b[32mBuy at: $37714.88\u001b[0m\n"
     ]
    },
    {
     "name": "stdout",
     "output_type": "stream",
     "text": [
      "1/1 [==============================] - 0s 31ms/step\n"
     ]
    },
    {
     "name": "stderr",
     "output_type": "stream",
     "text": [
      "\u001b[32m2023-01-16 16:53:08\u001b[0m \u001b[35mDESKTOP-6JVVUQ4\u001b[0m \u001b[34mroot[12052]\u001b[0m \u001b[1;30mDEBUG\u001b[0m \u001b[32mBuy at: $38469.09\u001b[0m\n"
     ]
    },
    {
     "name": "stdout",
     "output_type": "stream",
     "text": [
      "1/1 [==============================] - 0s 25ms/step\n"
     ]
    },
    {
     "name": "stderr",
     "output_type": "stream",
     "text": [
      "\u001b[32m2023-01-16 16:53:08\u001b[0m \u001b[35mDESKTOP-6JVVUQ4\u001b[0m \u001b[34mroot[12052]\u001b[0m \u001b[1;30mDEBUG\u001b[0m \u001b[32mBuy at: $38529.33\u001b[0m\n"
     ]
    },
    {
     "name": "stdout",
     "output_type": "stream",
     "text": [
      "1/1 [==============================] - 0s 25ms/step\n"
     ]
    },
    {
     "name": "stderr",
     "output_type": "stream",
     "text": [
      "\u001b[32m2023-01-16 16:53:08\u001b[0m \u001b[35mDESKTOP-6JVVUQ4\u001b[0m \u001b[34mroot[12052]\u001b[0m \u001b[1;30mDEBUG\u001b[0m \u001b[32mSell at: $37750.45 | Position: +$2720.20\u001b[0m\n"
     ]
    },
    {
     "name": "stdout",
     "output_type": "stream",
     "text": [
      "1/1 [==============================] - 0s 25ms/step\n"
     ]
    },
    {
     "name": "stderr",
     "output_type": "stream",
     "text": [
      "\u001b[32m2023-01-16 16:53:09\u001b[0m \u001b[35mDESKTOP-6JVVUQ4\u001b[0m \u001b[34mroot[12052]\u001b[0m \u001b[1;30mDEBUG\u001b[0m \u001b[32mBuy at: $39698.37\u001b[0m\n"
     ]
    },
    {
     "name": "stdout",
     "output_type": "stream",
     "text": [
      "1/1 [==============================] - 0s 25ms/step\n",
      "1/1 [==============================] - 0s 26ms/step\n"
     ]
    },
    {
     "name": "stderr",
     "output_type": "stream",
     "text": [
      "\u001b[32m2023-01-16 16:53:09\u001b[0m \u001b[35mDESKTOP-6JVVUQ4\u001b[0m \u001b[34mroot[12052]\u001b[0m \u001b[1;30mDEBUG\u001b[0m \u001b[32mBuy at: $36040.92\u001b[0m\n"
     ]
    },
    {
     "name": "stdout",
     "output_type": "stream",
     "text": [
      "1/1 [==============================] - 0s 26ms/step\n"
     ]
    },
    {
     "name": "stderr",
     "output_type": "stream",
     "text": [
      "\u001b[32m2023-01-16 16:53:09\u001b[0m \u001b[35mDESKTOP-6JVVUQ4\u001b[0m \u001b[34mroot[12052]\u001b[0m \u001b[1;30mDEBUG\u001b[0m \u001b[32mBuy at: $35501.95\u001b[0m\n"
     ]
    },
    {
     "name": "stdout",
     "output_type": "stream",
     "text": [
      "1/1 [==============================] - 0s 21ms/step\n"
     ]
    },
    {
     "name": "stderr",
     "output_type": "stream",
     "text": [
      "\u001b[32m2023-01-16 16:53:09\u001b[0m \u001b[35mDESKTOP-6JVVUQ4\u001b[0m \u001b[34mroot[12052]\u001b[0m \u001b[1;30mDEBUG\u001b[0m \u001b[32mBuy at: $34059.27\u001b[0m\n"
     ]
    },
    {
     "name": "stdout",
     "output_type": "stream",
     "text": [
      "1/1 [==============================] - 0s 22ms/step\n"
     ]
    },
    {
     "name": "stderr",
     "output_type": "stream",
     "text": [
      "\u001b[32m2023-01-16 16:53:09\u001b[0m \u001b[35mDESKTOP-6JVVUQ4\u001b[0m \u001b[34mroot[12052]\u001b[0m \u001b[1;30mDEBUG\u001b[0m \u001b[32mBuy at: $30296.95\u001b[0m\n"
     ]
    },
    {
     "name": "stdout",
     "output_type": "stream",
     "text": [
      "1/1 [==============================] - 0s 25ms/step\n"
     ]
    },
    {
     "name": "stderr",
     "output_type": "stream",
     "text": [
      "\u001b[32m2023-01-16 16:53:09\u001b[0m \u001b[35mDESKTOP-6JVVUQ4\u001b[0m \u001b[34mroot[12052]\u001b[0m \u001b[1;30mDEBUG\u001b[0m \u001b[32mBuy at: $31022.91\u001b[0m\n"
     ]
    },
    {
     "name": "stdout",
     "output_type": "stream",
     "text": [
      "1/1 [==============================] - 0s 20ms/step\n"
     ]
    },
    {
     "name": "stderr",
     "output_type": "stream",
     "text": [
      "\u001b[32m2023-01-16 16:53:09\u001b[0m \u001b[35mDESKTOP-6JVVUQ4\u001b[0m \u001b[34mroot[12052]\u001b[0m \u001b[1;30mDEBUG\u001b[0m \u001b[32mBuy at: $28936.36\u001b[0m\n"
     ]
    },
    {
     "name": "stdout",
     "output_type": "stream",
     "text": [
      "1/1 [==============================] - 0s 25ms/step\n"
     ]
    },
    {
     "name": "stderr",
     "output_type": "stream",
     "text": [
      "\u001b[32m2023-01-16 16:53:09\u001b[0m \u001b[35mDESKTOP-6JVVUQ4\u001b[0m \u001b[34mroot[12052]\u001b[0m \u001b[1;30mDEBUG\u001b[0m \u001b[32mBuy at: $29047.75\u001b[0m\n"
     ]
    },
    {
     "name": "stdout",
     "output_type": "stream",
     "text": [
      "1/1 [==============================] - 0s 21ms/step\n"
     ]
    },
    {
     "name": "stderr",
     "output_type": "stream",
     "text": [
      "\u001b[32m2023-01-16 16:53:09\u001b[0m \u001b[35mDESKTOP-6JVVUQ4\u001b[0m \u001b[34mroot[12052]\u001b[0m \u001b[1;30mDEBUG\u001b[0m \u001b[32mBuy at: $29283.10\u001b[0m\n"
     ]
    },
    {
     "name": "stdout",
     "output_type": "stream",
     "text": [
      "1/1 [==============================] - 0s 22ms/step\n"
     ]
    },
    {
     "name": "stderr",
     "output_type": "stream",
     "text": [
      "\u001b[32m2023-01-16 16:53:09\u001b[0m \u001b[35mDESKTOP-6JVVUQ4\u001b[0m \u001b[34mroot[12052]\u001b[0m \u001b[1;30mDEBUG\u001b[0m \u001b[32mBuy at: $30101.27\u001b[0m\n"
     ]
    },
    {
     "name": "stdout",
     "output_type": "stream",
     "text": [
      "1/1 [==============================] - 0s 22ms/step\n"
     ]
    },
    {
     "name": "stderr",
     "output_type": "stream",
     "text": [
      "\u001b[32m2023-01-16 16:53:09\u001b[0m \u001b[35mDESKTOP-6JVVUQ4\u001b[0m \u001b[34mroot[12052]\u001b[0m \u001b[1;30mDEBUG\u001b[0m \u001b[32mBuy at: $31305.11\u001b[0m\n"
     ]
    },
    {
     "name": "stdout",
     "output_type": "stream",
     "text": [
      "1/1 [==============================] - 0s 26ms/step\n"
     ]
    },
    {
     "name": "stderr",
     "output_type": "stream",
     "text": [
      "\u001b[32m2023-01-16 16:53:09\u001b[0m \u001b[35mDESKTOP-6JVVUQ4\u001b[0m \u001b[34mroot[12052]\u001b[0m \u001b[1;30mDEBUG\u001b[0m \u001b[32mBuy at: $29862.92\u001b[0m\n"
     ]
    },
    {
     "name": "stdout",
     "output_type": "stream",
     "text": [
      "1/1 [==============================] - 0s 20ms/step\n"
     ]
    },
    {
     "name": "stderr",
     "output_type": "stream",
     "text": [
      "\u001b[32m2023-01-16 16:53:09\u001b[0m \u001b[35mDESKTOP-6JVVUQ4\u001b[0m \u001b[34mroot[12052]\u001b[0m \u001b[1;30mDEBUG\u001b[0m \u001b[32mBuy at: $30425.86\u001b[0m\n"
     ]
    },
    {
     "name": "stdout",
     "output_type": "stream",
     "text": [
      "1/1 [==============================] - 0s 13ms/step\n"
     ]
    },
    {
     "name": "stderr",
     "output_type": "stream",
     "text": [
      "\u001b[32m2023-01-16 16:53:09\u001b[0m \u001b[35mDESKTOP-6JVVUQ4\u001b[0m \u001b[34mroot[12052]\u001b[0m \u001b[1;30mDEBUG\u001b[0m \u001b[32mSell at: $28720.27 | Position: -$7556.53\u001b[0m\n"
     ]
    },
    {
     "name": "stdout",
     "output_type": "stream",
     "text": [
      "1/1 [==============================] - 0s 25ms/step\n"
     ]
    },
    {
     "name": "stderr",
     "output_type": "stream",
     "text": [
      "\u001b[32m2023-01-16 16:53:10\u001b[0m \u001b[35mDESKTOP-6JVVUQ4\u001b[0m \u001b[34mroot[12052]\u001b[0m \u001b[1;30mDEBUG\u001b[0m \u001b[32mBuy at: $30314.33\u001b[0m\n"
     ]
    },
    {
     "name": "stdout",
     "output_type": "stream",
     "text": [
      "1/1 [==============================] - 0s 25ms/step\n"
     ]
    },
    {
     "name": "stderr",
     "output_type": "stream",
     "text": [
      "\u001b[32m2023-01-16 16:53:10\u001b[0m \u001b[35mDESKTOP-6JVVUQ4\u001b[0m \u001b[34mroot[12052]\u001b[0m \u001b[1;30mDEBUG\u001b[0m \u001b[32mBuy at: $29200.74\u001b[0m\n"
     ]
    },
    {
     "name": "stdout",
     "output_type": "stream",
     "text": [
      "1/1 [==============================] - 0s 25ms/step\n"
     ]
    },
    {
     "name": "stderr",
     "output_type": "stream",
     "text": [
      "\u001b[32m2023-01-16 16:53:10\u001b[0m \u001b[35mDESKTOP-6JVVUQ4\u001b[0m \u001b[34mroot[12052]\u001b[0m \u001b[1;30mDEBUG\u001b[0m \u001b[32mBuy at: $29432.23\u001b[0m\n"
     ]
    },
    {
     "name": "stdout",
     "output_type": "stream",
     "text": [
      "1/1 [==============================] - 0s 26ms/step\n"
     ]
    },
    {
     "name": "stderr",
     "output_type": "stream",
     "text": [
      "\u001b[32m2023-01-16 16:53:10\u001b[0m \u001b[35mDESKTOP-6JVVUQ4\u001b[0m \u001b[34mroot[12052]\u001b[0m \u001b[1;30mDEBUG\u001b[0m \u001b[32mBuy at: $30323.72\u001b[0m\n"
     ]
    },
    {
     "name": "stdout",
     "output_type": "stream",
     "text": [
      "1/1 [==============================] - 0s 26ms/step\n"
     ]
    },
    {
     "name": "stderr",
     "output_type": "stream",
     "text": [
      "\u001b[32m2023-01-16 16:53:10\u001b[0m \u001b[35mDESKTOP-6JVVUQ4\u001b[0m \u001b[34mroot[12052]\u001b[0m \u001b[1;30mDEBUG\u001b[0m \u001b[32mBuy at: $29098.91\u001b[0m\n"
     ]
    },
    {
     "name": "stdout",
     "output_type": "stream",
     "text": [
      "1/1 [==============================] - 0s 28ms/step\n"
     ]
    },
    {
     "name": "stderr",
     "output_type": "stream",
     "text": [
      "\u001b[32m2023-01-16 16:53:10\u001b[0m \u001b[35mDESKTOP-6JVVUQ4\u001b[0m \u001b[34mroot[12052]\u001b[0m \u001b[1;30mDEBUG\u001b[0m \u001b[32mBuy at: $29655.59\u001b[0m\n"
     ]
    },
    {
     "name": "stdout",
     "output_type": "stream",
     "text": [
      "1/1 [==============================] - 0s 26ms/step\n"
     ]
    },
    {
     "name": "stderr",
     "output_type": "stream",
     "text": [
      "\u001b[32m2023-01-16 16:53:10\u001b[0m \u001b[35mDESKTOP-6JVVUQ4\u001b[0m \u001b[34mroot[12052]\u001b[0m \u001b[1;30mDEBUG\u001b[0m \u001b[32mSell at: $29562.36 | Position: -$7091.97\u001b[0m\n"
     ]
    },
    {
     "name": "stdout",
     "output_type": "stream",
     "text": [
      "1/1 [==============================] - 0s 26ms/step\n"
     ]
    },
    {
     "name": "stderr",
     "output_type": "stream",
     "text": [
      "\u001b[32m2023-01-16 16:53:10\u001b[0m \u001b[35mDESKTOP-6JVVUQ4\u001b[0m \u001b[34mroot[12052]\u001b[0m \u001b[1;30mDEBUG\u001b[0m \u001b[32mBuy at: $29267.22\u001b[0m\n"
     ]
    },
    {
     "name": "stdout",
     "output_type": "stream",
     "text": [
      "1/1 [==============================] - 0s 25ms/step\n"
     ]
    },
    {
     "name": "stderr",
     "output_type": "stream",
     "text": [
      "\u001b[32m2023-01-16 16:53:10\u001b[0m \u001b[35mDESKTOP-6JVVUQ4\u001b[0m \u001b[34mroot[12052]\u001b[0m \u001b[1;30mDEBUG\u001b[0m \u001b[32mBuy at: $28627.57\u001b[0m\n"
     ]
    },
    {
     "name": "stdout",
     "output_type": "stream",
     "text": [
      "1/1 [==============================] - 0s 25ms/step\n"
     ]
    },
    {
     "name": "stderr",
     "output_type": "stream",
     "text": [
      "\u001b[32m2023-01-16 16:53:10\u001b[0m \u001b[35mDESKTOP-6JVVUQ4\u001b[0m \u001b[34mroot[12052]\u001b[0m \u001b[1;30mDEBUG\u001b[0m \u001b[32mBuy at: $28814.90\u001b[0m\n"
     ]
    },
    {
     "name": "stdout",
     "output_type": "stream",
     "text": [
      "1/1 [==============================] - 0s 23ms/step\n"
     ]
    },
    {
     "name": "stderr",
     "output_type": "stream",
     "text": [
      "\u001b[32m2023-01-16 16:53:10\u001b[0m \u001b[35mDESKTOP-6JVVUQ4\u001b[0m \u001b[34mroot[12052]\u001b[0m \u001b[1;30mDEBUG\u001b[0m \u001b[32mBuy at: $29445.96\u001b[0m\n"
     ]
    },
    {
     "name": "stdout",
     "output_type": "stream",
     "text": [
      "1/1 [==============================] - 0s 26ms/step\n"
     ]
    },
    {
     "name": "stderr",
     "output_type": "stream",
     "text": [
      "\u001b[32m2023-01-16 16:53:10\u001b[0m \u001b[35mDESKTOP-6JVVUQ4\u001b[0m \u001b[34mroot[12052]\u001b[0m \u001b[1;30mDEBUG\u001b[0m \u001b[32mBuy at: $31726.39\u001b[0m\n"
     ]
    },
    {
     "name": "stdout",
     "output_type": "stream",
     "text": [
      "1/1 [==============================] - 0s 18ms/step\n"
     ]
    },
    {
     "name": "stderr",
     "output_type": "stream",
     "text": [
      "\u001b[32m2023-01-16 16:53:10\u001b[0m \u001b[35mDESKTOP-6JVVUQ4\u001b[0m \u001b[34mroot[12052]\u001b[0m \u001b[1;30mDEBUG\u001b[0m \u001b[32mBuy at: $31792.31\u001b[0m\n"
     ]
    },
    {
     "name": "stdout",
     "output_type": "stream",
     "text": [
      "1/1 [==============================] - 0s 26ms/step\n"
     ]
    },
    {
     "name": "stderr",
     "output_type": "stream",
     "text": [
      "\u001b[32m2023-01-16 16:53:10\u001b[0m \u001b[35mDESKTOP-6JVVUQ4\u001b[0m \u001b[34mroot[12052]\u001b[0m \u001b[1;30mDEBUG\u001b[0m \u001b[32mBuy at: $29799.08\u001b[0m\n"
     ]
    },
    {
     "name": "stdout",
     "output_type": "stream",
     "text": [
      "1/1 [==============================] - 0s 18ms/step\n"
     ]
    },
    {
     "name": "stderr",
     "output_type": "stream",
     "text": [
      "\u001b[32m2023-01-16 16:53:10\u001b[0m \u001b[35mDESKTOP-6JVVUQ4\u001b[0m \u001b[34mroot[12052]\u001b[0m \u001b[1;30mDEBUG\u001b[0m \u001b[32mBuy at: $30467.49\u001b[0m\n"
     ]
    },
    {
     "name": "stdout",
     "output_type": "stream",
     "text": [
      "1/1 [==============================] - 0s 25ms/step\n"
     ]
    },
    {
     "name": "stderr",
     "output_type": "stream",
     "text": [
      "\u001b[32m2023-01-16 16:53:11\u001b[0m \u001b[35mDESKTOP-6JVVUQ4\u001b[0m \u001b[34mroot[12052]\u001b[0m \u001b[1;30mDEBUG\u001b[0m \u001b[32mBuy at: $29704.39\u001b[0m\n"
     ]
    },
    {
     "name": "stdout",
     "output_type": "stream",
     "text": [
      "1/1 [==============================] - 0s 25ms/step\n"
     ]
    },
    {
     "name": "stderr",
     "output_type": "stream",
     "text": [
      "\u001b[32m2023-01-16 16:53:11\u001b[0m \u001b[35mDESKTOP-6JVVUQ4\u001b[0m \u001b[34mroot[12052]\u001b[0m \u001b[1;30mDEBUG\u001b[0m \u001b[32mBuy at: $29832.91\u001b[0m\n"
     ]
    },
    {
     "name": "stdout",
     "output_type": "stream",
     "text": [
      "1/1 [==============================] - 0s 18ms/step\n"
     ]
    },
    {
     "name": "stderr",
     "output_type": "stream",
     "text": [
      "\u001b[32m2023-01-16 16:53:11\u001b[0m \u001b[35mDESKTOP-6JVVUQ4\u001b[0m \u001b[34mroot[12052]\u001b[0m \u001b[1;30mDEBUG\u001b[0m \u001b[32mBuy at: $29906.66\u001b[0m\n"
     ]
    },
    {
     "name": "stdout",
     "output_type": "stream",
     "text": [
      "1/1 [==============================] - 0s 25ms/step\n"
     ]
    },
    {
     "name": "stderr",
     "output_type": "stream",
     "text": [
      "\u001b[32m2023-01-16 16:53:11\u001b[0m \u001b[35mDESKTOP-6JVVUQ4\u001b[0m \u001b[34mroot[12052]\u001b[0m \u001b[1;30mDEBUG\u001b[0m \u001b[32mBuy at: $31370.67\u001b[0m\n"
     ]
    },
    {
     "name": "stdout",
     "output_type": "stream",
     "text": [
      "1/1 [==============================] - 0s 26ms/step\n"
     ]
    },
    {
     "name": "stderr",
     "output_type": "stream",
     "text": [
      "\u001b[32m2023-01-16 16:53:11\u001b[0m \u001b[35mDESKTOP-6JVVUQ4\u001b[0m \u001b[34mroot[12052]\u001b[0m \u001b[1;30mDEBUG\u001b[0m \u001b[32mBuy at: $31155.48\u001b[0m\n"
     ]
    },
    {
     "name": "stdout",
     "output_type": "stream",
     "text": [
      "1/1 [==============================] - 0s 25ms/step\n"
     ]
    },
    {
     "name": "stderr",
     "output_type": "stream",
     "text": [
      "\u001b[32m2023-01-16 16:53:11\u001b[0m \u001b[35mDESKTOP-6JVVUQ4\u001b[0m \u001b[34mroot[12052]\u001b[0m \u001b[1;30mDEBUG\u001b[0m \u001b[32mBuy at: $30214.36\u001b[0m\n"
     ]
    },
    {
     "name": "stdout",
     "output_type": "stream",
     "text": [
      "1/1 [==============================] - 0s 25ms/step\n"
     ]
    },
    {
     "name": "stderr",
     "output_type": "stream",
     "text": [
      "\u001b[32m2023-01-16 16:53:11\u001b[0m \u001b[35mDESKTOP-6JVVUQ4\u001b[0m \u001b[34mroot[12052]\u001b[0m \u001b[1;30mDEBUG\u001b[0m \u001b[32mBuy at: $30112.00\u001b[0m\n"
     ]
    },
    {
     "name": "stdout",
     "output_type": "stream",
     "text": [
      "1/1 [==============================] - 0s 26ms/step\n"
     ]
    },
    {
     "name": "stderr",
     "output_type": "stream",
     "text": [
      "\u001b[32m2023-01-16 16:53:11\u001b[0m \u001b[35mDESKTOP-6JVVUQ4\u001b[0m \u001b[34mroot[12052]\u001b[0m \u001b[1;30mDEBUG\u001b[0m \u001b[32mBuy at: $29083.80\u001b[0m\n"
     ]
    },
    {
     "name": "stdout",
     "output_type": "stream",
     "text": [
      "1/1 [==============================] - 0s 25ms/step\n"
     ]
    },
    {
     "name": "stderr",
     "output_type": "stream",
     "text": [
      "\u001b[32m2023-01-16 16:53:11\u001b[0m \u001b[35mDESKTOP-6JVVUQ4\u001b[0m \u001b[34mroot[12052]\u001b[0m \u001b[1;30mDEBUG\u001b[0m \u001b[32mBuy at: $28360.81\u001b[0m\n"
     ]
    },
    {
     "name": "stdout",
     "output_type": "stream",
     "text": [
      "1/1 [==============================] - 0s 25ms/step\n"
     ]
    },
    {
     "name": "stderr",
     "output_type": "stream",
     "text": [
      "\u001b[32m2023-01-16 16:53:11\u001b[0m \u001b[35mDESKTOP-6JVVUQ4\u001b[0m \u001b[34mroot[12052]\u001b[0m \u001b[1;30mDEBUG\u001b[0m \u001b[32mBuy at: $26762.65\u001b[0m\n"
     ]
    },
    {
     "name": "stdout",
     "output_type": "stream",
     "text": [
      "1/1 [==============================] - 0s 25ms/step\n"
     ]
    },
    {
     "name": "stderr",
     "output_type": "stream",
     "text": [
      "\u001b[32m2023-01-16 16:53:11\u001b[0m \u001b[35mDESKTOP-6JVVUQ4\u001b[0m \u001b[34mroot[12052]\u001b[0m \u001b[1;30mDEBUG\u001b[0m \u001b[32mBuy at: $22487.39\u001b[0m\n"
     ]
    },
    {
     "name": "stdout",
     "output_type": "stream",
     "text": [
      "1/1 [==============================] - 0s 26ms/step\n"
     ]
    },
    {
     "name": "stderr",
     "output_type": "stream",
     "text": [
      "\u001b[32m2023-01-16 16:53:11\u001b[0m \u001b[35mDESKTOP-6JVVUQ4\u001b[0m \u001b[34mroot[12052]\u001b[0m \u001b[1;30mDEBUG\u001b[0m \u001b[32mBuy at: $22206.79\u001b[0m\n"
     ]
    },
    {
     "name": "stdout",
     "output_type": "stream",
     "text": [
      "1/1 [==============================] - 0s 25ms/step\n"
     ]
    },
    {
     "name": "stderr",
     "output_type": "stream",
     "text": [
      "\u001b[32m2023-01-16 16:53:11\u001b[0m \u001b[35mDESKTOP-6JVVUQ4\u001b[0m \u001b[34mroot[12052]\u001b[0m \u001b[1;30mDEBUG\u001b[0m \u001b[32mBuy at: $22572.84\u001b[0m\n"
     ]
    },
    {
     "name": "stdout",
     "output_type": "stream",
     "text": [
      "1/1 [==============================] - 0s 22ms/step\n"
     ]
    },
    {
     "name": "stderr",
     "output_type": "stream",
     "text": [
      "\u001b[32m2023-01-16 16:53:11\u001b[0m \u001b[35mDESKTOP-6JVVUQ4\u001b[0m \u001b[34mroot[12052]\u001b[0m \u001b[1;30mDEBUG\u001b[0m \u001b[32mBuy at: $20381.65\u001b[0m\n"
     ]
    },
    {
     "name": "stdout",
     "output_type": "stream",
     "text": [
      "1/1 [==============================] - 0s 21ms/step\n"
     ]
    },
    {
     "name": "stderr",
     "output_type": "stream",
     "text": [
      "\u001b[32m2023-01-16 16:53:11\u001b[0m \u001b[35mDESKTOP-6JVVUQ4\u001b[0m \u001b[34mroot[12052]\u001b[0m \u001b[1;30mDEBUG\u001b[0m \u001b[32mBuy at: $20471.48\u001b[0m\n"
     ]
    },
    {
     "name": "stdout",
     "output_type": "stream",
     "text": [
      "1/1 [==============================] - 0s 22ms/step\n"
     ]
    },
    {
     "name": "stderr",
     "output_type": "stream",
     "text": [
      "\u001b[32m2023-01-16 16:53:12\u001b[0m \u001b[35mDESKTOP-6JVVUQ4\u001b[0m \u001b[34mroot[12052]\u001b[0m \u001b[1;30mDEBUG\u001b[0m \u001b[32mBuy at: $19017.64\u001b[0m\n"
     ]
    },
    {
     "name": "stdout",
     "output_type": "stream",
     "text": [
      "1/1 [==============================] - 0s 22ms/step\n"
     ]
    },
    {
     "name": "stderr",
     "output_type": "stream",
     "text": [
      "\u001b[32m2023-01-16 16:53:12\u001b[0m \u001b[35mDESKTOP-6JVVUQ4\u001b[0m \u001b[34mroot[12052]\u001b[0m \u001b[1;30mDEBUG\u001b[0m \u001b[32mBuy at: $20553.27\u001b[0m\n"
     ]
    },
    {
     "name": "stdout",
     "output_type": "stream",
     "text": [
      "1/1 [==============================] - 0s 23ms/step\n"
     ]
    },
    {
     "name": "stderr",
     "output_type": "stream",
     "text": [
      "\u001b[32m2023-01-16 16:53:12\u001b[0m \u001b[35mDESKTOP-6JVVUQ4\u001b[0m \u001b[34mroot[12052]\u001b[0m \u001b[1;30mDEBUG\u001b[0m \u001b[32mBuy at: $20599.54\u001b[0m\n"
     ]
    },
    {
     "name": "stdout",
     "output_type": "stream",
     "text": [
      "1/1 [==============================] - 0s 23ms/step\n"
     ]
    },
    {
     "name": "stderr",
     "output_type": "stream",
     "text": [
      "\u001b[32m2023-01-16 16:53:12\u001b[0m \u001b[35mDESKTOP-6JVVUQ4\u001b[0m \u001b[34mroot[12052]\u001b[0m \u001b[1;30mDEBUG\u001b[0m \u001b[32mBuy at: $20710.60\u001b[0m\n"
     ]
    },
    {
     "name": "stdout",
     "output_type": "stream",
     "text": [
      "1/1 [==============================] - 0s 22ms/step\n"
     ]
    },
    {
     "name": "stderr",
     "output_type": "stream",
     "text": [
      "\u001b[32m2023-01-16 16:53:12\u001b[0m \u001b[35mDESKTOP-6JVVUQ4\u001b[0m \u001b[34mroot[12052]\u001b[0m \u001b[1;30mDEBUG\u001b[0m \u001b[32mBuy at: $19987.03\u001b[0m\n"
     ]
    },
    {
     "name": "stdout",
     "output_type": "stream",
     "text": [
      "1/1 [==============================] - 0s 21ms/step\n"
     ]
    },
    {
     "name": "stderr",
     "output_type": "stream",
     "text": [
      "\u001b[32m2023-01-16 16:53:12\u001b[0m \u001b[35mDESKTOP-6JVVUQ4\u001b[0m \u001b[34mroot[12052]\u001b[0m \u001b[1;30mDEBUG\u001b[0m \u001b[32mBuy at: $21085.88\u001b[0m\n"
     ]
    },
    {
     "name": "stdout",
     "output_type": "stream",
     "text": [
      "1/1 [==============================] - 0s 22ms/step\n"
     ]
    },
    {
     "name": "stderr",
     "output_type": "stream",
     "text": [
      "\u001b[32m2023-01-16 16:53:12\u001b[0m \u001b[35mDESKTOP-6JVVUQ4\u001b[0m \u001b[34mroot[12052]\u001b[0m \u001b[1;30mDEBUG\u001b[0m \u001b[32mBuy at: $21231.66\u001b[0m\n"
     ]
    },
    {
     "name": "stdout",
     "output_type": "stream",
     "text": [
      "1/1 [==============================] - 0s 26ms/step\n"
     ]
    },
    {
     "name": "stderr",
     "output_type": "stream",
     "text": [
      "\u001b[32m2023-01-16 16:53:12\u001b[0m \u001b[35mDESKTOP-6JVVUQ4\u001b[0m \u001b[34mroot[12052]\u001b[0m \u001b[1;30mDEBUG\u001b[0m \u001b[32mBuy at: $21502.34\u001b[0m\n"
     ]
    },
    {
     "name": "stdout",
     "output_type": "stream",
     "text": [
      "1/1 [==============================] - 0s 20ms/step\n"
     ]
    },
    {
     "name": "stderr",
     "output_type": "stream",
     "text": [
      "\u001b[32m2023-01-16 16:53:12\u001b[0m \u001b[35mDESKTOP-6JVVUQ4\u001b[0m \u001b[34mroot[12052]\u001b[0m \u001b[1;30mDEBUG\u001b[0m \u001b[32mBuy at: $21027.29\u001b[0m\n"
     ]
    },
    {
     "name": "stdout",
     "output_type": "stream",
     "text": [
      "1/1 [==============================] - 0s 26ms/step\n"
     ]
    },
    {
     "name": "stderr",
     "output_type": "stream",
     "text": [
      "\u001b[32m2023-01-16 16:53:12\u001b[0m \u001b[35mDESKTOP-6JVVUQ4\u001b[0m \u001b[34mroot[12052]\u001b[0m \u001b[1;30mDEBUG\u001b[0m \u001b[32mBuy at: $20735.48\u001b[0m\n"
     ]
    },
    {
     "name": "stdout",
     "output_type": "stream",
     "text": [
      "1/1 [==============================] - 0s 25ms/step\n"
     ]
    },
    {
     "name": "stderr",
     "output_type": "stream",
     "text": [
      "\u001b[32m2023-01-16 16:53:12\u001b[0m \u001b[35mDESKTOP-6JVVUQ4\u001b[0m \u001b[34mroot[12052]\u001b[0m \u001b[1;30mDEBUG\u001b[0m \u001b[32mBuy at: $20280.63\u001b[0m\n"
     ]
    },
    {
     "name": "stdout",
     "output_type": "stream",
     "text": [
      "1/1 [==============================] - 0s 25ms/step\n"
     ]
    },
    {
     "name": "stderr",
     "output_type": "stream",
     "text": [
      "\u001b[32m2023-01-16 16:53:12\u001b[0m \u001b[35mDESKTOP-6JVVUQ4\u001b[0m \u001b[34mroot[12052]\u001b[0m \u001b[1;30mDEBUG\u001b[0m \u001b[32mBuy at: $20104.02\u001b[0m\n"
     ]
    },
    {
     "name": "stdout",
     "output_type": "stream",
     "text": [
      "1/1 [==============================] - 0s 25ms/step\n"
     ]
    },
    {
     "name": "stderr",
     "output_type": "stream",
     "text": [
      "\u001b[32m2023-01-16 16:53:12\u001b[0m \u001b[35mDESKTOP-6JVVUQ4\u001b[0m \u001b[34mroot[12052]\u001b[0m \u001b[1;30mDEBUG\u001b[0m \u001b[32mBuy at: $19784.73\u001b[0m\n"
     ]
    },
    {
     "name": "stdout",
     "output_type": "stream",
     "text": [
      "1/1 [==============================] - 0s 27ms/step\n"
     ]
    },
    {
     "name": "stderr",
     "output_type": "stream",
     "text": [
      "\u001b[32m2023-01-16 16:53:12\u001b[0m \u001b[35mDESKTOP-6JVVUQ4\u001b[0m \u001b[34mroot[12052]\u001b[0m \u001b[1;30mDEBUG\u001b[0m \u001b[32mBuy at: $19269.37\u001b[0m\n"
     ]
    },
    {
     "name": "stdout",
     "output_type": "stream",
     "text": [
      "1/1 [==============================] - 0s 26ms/step\n"
     ]
    },
    {
     "name": "stderr",
     "output_type": "stream",
     "text": [
      "\u001b[32m2023-01-16 16:53:13\u001b[0m \u001b[35mDESKTOP-6JVVUQ4\u001b[0m \u001b[34mroot[12052]\u001b[0m \u001b[1;30mDEBUG\u001b[0m \u001b[32mBuy at: $19242.26\u001b[0m\n"
     ]
    },
    {
     "name": "stdout",
     "output_type": "stream",
     "text": [
      "1/1 [==============================] - 0s 20ms/step\n"
     ]
    },
    {
     "name": "stderr",
     "output_type": "stream",
     "text": [
      "\u001b[32m2023-01-16 16:53:13\u001b[0m \u001b[35mDESKTOP-6JVVUQ4\u001b[0m \u001b[34mroot[12052]\u001b[0m \u001b[1;30mDEBUG\u001b[0m \u001b[32mBuy at: $19297.08\u001b[0m\n"
     ]
    },
    {
     "name": "stdout",
     "output_type": "stream",
     "text": [
      "1/1 [==============================] - 0s 20ms/step\n"
     ]
    },
    {
     "name": "stderr",
     "output_type": "stream",
     "text": [
      "\u001b[32m2023-01-16 16:53:13\u001b[0m \u001b[35mDESKTOP-6JVVUQ4\u001b[0m \u001b[34mroot[12052]\u001b[0m \u001b[1;30mDEBUG\u001b[0m \u001b[32mBuy at: $20231.26\u001b[0m\n"
     ]
    },
    {
     "name": "stdout",
     "output_type": "stream",
     "text": [
      "1/1 [==============================] - 0s 26ms/step\n"
     ]
    },
    {
     "name": "stderr",
     "output_type": "stream",
     "text": [
      "\u001b[32m2023-01-16 16:53:13\u001b[0m \u001b[35mDESKTOP-6JVVUQ4\u001b[0m \u001b[34mroot[12052]\u001b[0m \u001b[1;30mDEBUG\u001b[0m \u001b[32mBuy at: $20190.12\u001b[0m\n"
     ]
    },
    {
     "name": "stdout",
     "output_type": "stream",
     "text": [
      "1/1 [==============================] - 0s 29ms/step\n"
     ]
    },
    {
     "name": "stderr",
     "output_type": "stream",
     "text": [
      "\u001b[32m2023-01-16 16:53:13\u001b[0m \u001b[35mDESKTOP-6JVVUQ4\u001b[0m \u001b[34mroot[12052]\u001b[0m \u001b[1;30mDEBUG\u001b[0m \u001b[32mBuy at: $20548.25\u001b[0m\n"
     ]
    },
    {
     "name": "stdout",
     "output_type": "stream",
     "text": [
      "1/1 [==============================] - 0s 22ms/step\n"
     ]
    },
    {
     "name": "stderr",
     "output_type": "stream",
     "text": [
      "\u001b[32m2023-01-16 16:53:13\u001b[0m \u001b[35mDESKTOP-6JVVUQ4\u001b[0m \u001b[34mroot[12052]\u001b[0m \u001b[1;30mDEBUG\u001b[0m \u001b[32mBuy at: $21637.59\u001b[0m\n"
     ]
    },
    {
     "name": "stdout",
     "output_type": "stream",
     "text": [
      "1/1 [==============================] - 0s 26ms/step\n"
     ]
    },
    {
     "name": "stderr",
     "output_type": "stream",
     "text": [
      "\u001b[32m2023-01-16 16:53:13\u001b[0m \u001b[35mDESKTOP-6JVVUQ4\u001b[0m \u001b[34mroot[12052]\u001b[0m \u001b[1;30mDEBUG\u001b[0m \u001b[32mBuy at: $21731.12\u001b[0m\n"
     ]
    },
    {
     "name": "stdout",
     "output_type": "stream",
     "text": [
      "1/1 [==============================] - 0s 23ms/step\n"
     ]
    },
    {
     "name": "stderr",
     "output_type": "stream",
     "text": [
      "\u001b[32m2023-01-16 16:53:13\u001b[0m \u001b[35mDESKTOP-6JVVUQ4\u001b[0m \u001b[34mroot[12052]\u001b[0m \u001b[1;30mDEBUG\u001b[0m \u001b[32mBuy at: $21592.21\u001b[0m\n"
     ]
    },
    {
     "name": "stdout",
     "output_type": "stream",
     "text": [
      "1/1 [==============================] - 0s 23ms/step\n"
     ]
    },
    {
     "name": "stderr",
     "output_type": "stream",
     "text": [
      "\u001b[32m2023-01-16 16:53:13\u001b[0m \u001b[35mDESKTOP-6JVVUQ4\u001b[0m \u001b[34mroot[12052]\u001b[0m \u001b[1;30mDEBUG\u001b[0m \u001b[32mBuy at: $20860.45\u001b[0m\n"
     ]
    },
    {
     "name": "stdout",
     "output_type": "stream",
     "text": [
      "1/1 [==============================] - 0s 22ms/step\n"
     ]
    },
    {
     "name": "stderr",
     "output_type": "stream",
     "text": [
      "\u001b[32m2023-01-16 16:53:13\u001b[0m \u001b[35mDESKTOP-6JVVUQ4\u001b[0m \u001b[34mroot[12052]\u001b[0m \u001b[1;30mDEBUG\u001b[0m \u001b[32mBuy at: $19970.56\u001b[0m\n"
     ]
    },
    {
     "name": "stdout",
     "output_type": "stream",
     "text": [
      "1/1 [==============================] - 0s 23ms/step\n"
     ]
    },
    {
     "name": "stderr",
     "output_type": "stream",
     "text": [
      "\u001b[32m2023-01-16 16:53:13\u001b[0m \u001b[35mDESKTOP-6JVVUQ4\u001b[0m \u001b[34mroot[12052]\u001b[0m \u001b[1;30mDEBUG\u001b[0m \u001b[32mBuy at: $19323.91\u001b[0m\n"
     ]
    },
    {
     "name": "stdout",
     "output_type": "stream",
     "text": [
      "1/1 [==============================] - 0s 25ms/step\n"
     ]
    },
    {
     "name": "stderr",
     "output_type": "stream",
     "text": [
      "\u001b[32m2023-01-16 16:53:13\u001b[0m \u001b[35mDESKTOP-6JVVUQ4\u001b[0m \u001b[34mroot[12052]\u001b[0m \u001b[1;30mDEBUG\u001b[0m \u001b[32mBuy at: $20212.07\u001b[0m\n"
     ]
    },
    {
     "name": "stdout",
     "output_type": "stream",
     "text": [
      "1/1 [==============================] - 0s 23ms/step\n"
     ]
    },
    {
     "name": "stderr",
     "output_type": "stream",
     "text": [
      "\u001b[32m2023-01-16 16:53:13\u001b[0m \u001b[35mDESKTOP-6JVVUQ4\u001b[0m \u001b[34mroot[12052]\u001b[0m \u001b[1;30mDEBUG\u001b[0m \u001b[32mBuy at: $20569.92\u001b[0m\n"
     ]
    },
    {
     "name": "stdout",
     "output_type": "stream",
     "text": [
      "1/1 [==============================] - 0s 25ms/step\n"
     ]
    },
    {
     "name": "stderr",
     "output_type": "stream",
     "text": [
      "\u001b[32m2023-01-16 16:53:13\u001b[0m \u001b[35mDESKTOP-6JVVUQ4\u001b[0m \u001b[34mroot[12052]\u001b[0m \u001b[1;30mDEBUG\u001b[0m \u001b[32mBuy at: $20836.33\u001b[0m\n"
     ]
    },
    {
     "name": "stdout",
     "output_type": "stream",
     "text": [
      "1/1 [==============================] - 0s 24ms/step\n"
     ]
    },
    {
     "name": "stderr",
     "output_type": "stream",
     "text": [
      "\u001b[32m2023-01-16 16:53:14\u001b[0m \u001b[35mDESKTOP-6JVVUQ4\u001b[0m \u001b[34mroot[12052]\u001b[0m \u001b[1;30mDEBUG\u001b[0m \u001b[32mBuy at: $21190.32\u001b[0m\n"
     ]
    },
    {
     "name": "stdout",
     "output_type": "stream",
     "text": [
      "1/1 [==============================] - 0s 25ms/step\n"
     ]
    },
    {
     "name": "stderr",
     "output_type": "stream",
     "text": [
      "\u001b[32m2023-01-16 16:53:14\u001b[0m \u001b[35mDESKTOP-6JVVUQ4\u001b[0m \u001b[34mroot[12052]\u001b[0m \u001b[1;30mDEBUG\u001b[0m \u001b[32mBuy at: $20779.34\u001b[0m\n"
     ]
    },
    {
     "name": "stdout",
     "output_type": "stream",
     "text": [
      "1/1 [==============================] - 0s 25ms/step\n"
     ]
    },
    {
     "name": "stderr",
     "output_type": "stream",
     "text": [
      "\u001b[32m2023-01-16 16:53:14\u001b[0m \u001b[35mDESKTOP-6JVVUQ4\u001b[0m \u001b[34mroot[12052]\u001b[0m \u001b[1;30mDEBUG\u001b[0m \u001b[32mBuy at: $22485.69\u001b[0m\n"
     ]
    },
    {
     "name": "stdout",
     "output_type": "stream",
     "text": [
      "1/1 [==============================] - 0s 25ms/step\n"
     ]
    },
    {
     "name": "stderr",
     "output_type": "stream",
     "text": [
      "\u001b[32m2023-01-16 16:53:14\u001b[0m \u001b[35mDESKTOP-6JVVUQ4\u001b[0m \u001b[34mroot[12052]\u001b[0m \u001b[1;30mDEBUG\u001b[0m \u001b[32mBuy at: $23389.43\u001b[0m\n"
     ]
    },
    {
     "name": "stdout",
     "output_type": "stream",
     "text": [
      "1/1 [==============================] - 0s 25ms/step\n"
     ]
    },
    {
     "name": "stderr",
     "output_type": "stream",
     "text": [
      "\u001b[32m2023-01-16 16:53:14\u001b[0m \u001b[35mDESKTOP-6JVVUQ4\u001b[0m \u001b[34mroot[12052]\u001b[0m \u001b[1;30mDEBUG\u001b[0m \u001b[32mBuy at: $23231.73\u001b[0m\n"
     ]
    },
    {
     "name": "stdout",
     "output_type": "stream",
     "text": [
      "1/1 [==============================] - 0s 26ms/step\n"
     ]
    },
    {
     "name": "stderr",
     "output_type": "stream",
     "text": [
      "\u001b[32m2023-01-16 16:53:14\u001b[0m \u001b[35mDESKTOP-6JVVUQ4\u001b[0m \u001b[34mroot[12052]\u001b[0m \u001b[1;30mDEBUG\u001b[0m \u001b[32mBuy at: $23164.63\u001b[0m\n"
     ]
    },
    {
     "name": "stdout",
     "output_type": "stream",
     "text": [
      "1/1 [==============================] - 0s 25ms/step\n"
     ]
    },
    {
     "name": "stderr",
     "output_type": "stream",
     "text": [
      "\u001b[32m2023-01-16 16:53:14\u001b[0m \u001b[35mDESKTOP-6JVVUQ4\u001b[0m \u001b[34mroot[12052]\u001b[0m \u001b[1;30mDEBUG\u001b[0m \u001b[32mBuy at: $22714.98\u001b[0m\n"
     ]
    },
    {
     "name": "stdout",
     "output_type": "stream",
     "text": [
      "1/1 [==============================] - 0s 24ms/step\n"
     ]
    },
    {
     "name": "stderr",
     "output_type": "stream",
     "text": [
      "\u001b[32m2023-01-16 16:53:14\u001b[0m \u001b[35mDESKTOP-6JVVUQ4\u001b[0m \u001b[34mroot[12052]\u001b[0m \u001b[1;30mDEBUG\u001b[0m \u001b[32mBuy at: $22465.48\u001b[0m\n"
     ]
    },
    {
     "name": "stdout",
     "output_type": "stream",
     "text": [
      "1/1 [==============================] - 0s 24ms/step\n"
     ]
    },
    {
     "name": "stderr",
     "output_type": "stream",
     "text": [
      "\u001b[32m2023-01-16 16:53:14\u001b[0m \u001b[35mDESKTOP-6JVVUQ4\u001b[0m \u001b[34mroot[12052]\u001b[0m \u001b[1;30mDEBUG\u001b[0m \u001b[32mBuy at: $22609.16\u001b[0m\n"
     ]
    },
    {
     "name": "stdout",
     "output_type": "stream",
     "text": [
      "1/1 [==============================] - 0s 25ms/step\n"
     ]
    },
    {
     "name": "stderr",
     "output_type": "stream",
     "text": [
      "\u001b[32m2023-01-16 16:53:14\u001b[0m \u001b[35mDESKTOP-6JVVUQ4\u001b[0m \u001b[34mroot[12052]\u001b[0m \u001b[1;30mDEBUG\u001b[0m \u001b[32mBuy at: $21361.70\u001b[0m\n"
     ]
    },
    {
     "name": "stdout",
     "output_type": "stream",
     "text": [
      "1/1 [==============================] - 0s 18ms/step\n"
     ]
    },
    {
     "name": "stderr",
     "output_type": "stream",
     "text": [
      "\u001b[32m2023-01-16 16:53:14\u001b[0m \u001b[35mDESKTOP-6JVVUQ4\u001b[0m \u001b[34mroot[12052]\u001b[0m \u001b[1;30mDEBUG\u001b[0m \u001b[32mBuy at: $21239.75\u001b[0m\n"
     ]
    },
    {
     "name": "stdout",
     "output_type": "stream",
     "text": [
      "1/1 [==============================] - 0s 25ms/step\n"
     ]
    },
    {
     "name": "stderr",
     "output_type": "stream",
     "text": [
      "\u001b[32m2023-01-16 16:53:14\u001b[0m \u001b[35mDESKTOP-6JVVUQ4\u001b[0m \u001b[34mroot[12052]\u001b[0m \u001b[1;30mDEBUG\u001b[0m \u001b[32mBuy at: $22930.55\u001b[0m\n"
     ]
    },
    {
     "name": "stdout",
     "output_type": "stream",
     "text": [
      "1/1 [==============================] - 0s 25ms/step\n"
     ]
    },
    {
     "name": "stderr",
     "output_type": "stream",
     "text": [
      "\u001b[32m2023-01-16 16:53:14\u001b[0m \u001b[35mDESKTOP-6JVVUQ4\u001b[0m \u001b[34mroot[12052]\u001b[0m \u001b[1;30mDEBUG\u001b[0m \u001b[32mBuy at: $23843.89\u001b[0m\n"
     ]
    },
    {
     "name": "stdout",
     "output_type": "stream",
     "text": [
      "1/1 [==============================] - 0s 20ms/step\n"
     ]
    },
    {
     "name": "stderr",
     "output_type": "stream",
     "text": [
      "\u001b[32m2023-01-16 16:53:14\u001b[0m \u001b[35mDESKTOP-6JVVUQ4\u001b[0m \u001b[34mroot[12052]\u001b[0m \u001b[1;30mDEBUG\u001b[0m \u001b[32mBuy at: $23804.63\u001b[0m\n"
     ]
    },
    {
     "name": "stdout",
     "output_type": "stream",
     "text": [
      "1/1 [==============================] - 0s 20ms/step\n"
     ]
    },
    {
     "name": "stderr",
     "output_type": "stream",
     "text": [
      "\u001b[32m2023-01-16 16:53:14\u001b[0m \u001b[35mDESKTOP-6JVVUQ4\u001b[0m \u001b[34mroot[12052]\u001b[0m \u001b[1;30mDEBUG\u001b[0m \u001b[32mBuy at: $23656.21\u001b[0m\n"
     ]
    },
    {
     "name": "stdout",
     "output_type": "stream",
     "text": [
      "1/1 [==============================] - 0s 20ms/step\n"
     ]
    },
    {
     "name": "stderr",
     "output_type": "stream",
     "text": [
      "\u001b[32m2023-01-16 16:53:15\u001b[0m \u001b[35mDESKTOP-6JVVUQ4\u001b[0m \u001b[34mroot[12052]\u001b[0m \u001b[1;30mDEBUG\u001b[0m \u001b[32mBuy at: $23336.90\u001b[0m\n"
     ]
    },
    {
     "name": "stdout",
     "output_type": "stream",
     "text": [
      "1/1 [==============================] - 0s 19ms/step\n"
     ]
    },
    {
     "name": "stderr",
     "output_type": "stream",
     "text": [
      "\u001b[32m2023-01-16 16:53:15\u001b[0m \u001b[35mDESKTOP-6JVVUQ4\u001b[0m \u001b[34mroot[12052]\u001b[0m \u001b[1;30mDEBUG\u001b[0m \u001b[32mBuy at: $23314.20\u001b[0m\n"
     ]
    },
    {
     "name": "stdout",
     "output_type": "stream",
     "text": [
      "1/1 [==============================] - 0s 25ms/step\n"
     ]
    },
    {
     "name": "stderr",
     "output_type": "stream",
     "text": [
      "\u001b[32m2023-01-16 16:53:15\u001b[0m \u001b[35mDESKTOP-6JVVUQ4\u001b[0m \u001b[34mroot[12052]\u001b[0m \u001b[1;30mDEBUG\u001b[0m \u001b[32mBuy at: $22978.12\u001b[0m\n"
     ]
    },
    {
     "name": "stdout",
     "output_type": "stream",
     "text": [
      "1/1 [==============================] - 0s 26ms/step\n"
     ]
    },
    {
     "name": "stderr",
     "output_type": "stream",
     "text": [
      "\u001b[32m2023-01-16 16:53:15\u001b[0m \u001b[35mDESKTOP-6JVVUQ4\u001b[0m \u001b[34mroot[12052]\u001b[0m \u001b[1;30mDEBUG\u001b[0m \u001b[32mBuy at: $22846.51\u001b[0m\n"
     ]
    },
    {
     "name": "stdout",
     "output_type": "stream",
     "text": [
      "1/1 [==============================] - 0s 10ms/step\n"
     ]
    },
    {
     "name": "stderr",
     "output_type": "stream",
     "text": [
      "\u001b[32m2023-01-16 16:53:15\u001b[0m \u001b[35mDESKTOP-6JVVUQ4\u001b[0m \u001b[34mroot[12052]\u001b[0m \u001b[1;30mDEBUG\u001b[0m \u001b[32mBuy at: $22630.96\u001b[0m\n"
     ]
    },
    {
     "name": "stdout",
     "output_type": "stream",
     "text": [
      "1/1 [==============================] - 0s 26ms/step\n"
     ]
    },
    {
     "name": "stderr",
     "output_type": "stream",
     "text": [
      "\u001b[32m2023-01-16 16:53:15\u001b[0m \u001b[35mDESKTOP-6JVVUQ4\u001b[0m \u001b[34mroot[12052]\u001b[0m \u001b[1;30mDEBUG\u001b[0m \u001b[32mBuy at: $23289.31\u001b[0m\n"
     ]
    },
    {
     "name": "stdout",
     "output_type": "stream",
     "text": [
      "1/1 [==============================] - 0s 25ms/step\n"
     ]
    },
    {
     "name": "stderr",
     "output_type": "stream",
     "text": [
      "\u001b[32m2023-01-16 16:53:15\u001b[0m \u001b[35mDESKTOP-6JVVUQ4\u001b[0m \u001b[34mroot[12052]\u001b[0m \u001b[1;30mDEBUG\u001b[0m \u001b[32mBuy at: $22961.28\u001b[0m\n"
     ]
    },
    {
     "name": "stdout",
     "output_type": "stream",
     "text": [
      "1/1 [==============================] - 0s 25ms/step\n"
     ]
    },
    {
     "name": "stderr",
     "output_type": "stream",
     "text": [
      "\u001b[32m2023-01-16 16:53:15\u001b[0m \u001b[35mDESKTOP-6JVVUQ4\u001b[0m \u001b[34mroot[12052]\u001b[0m \u001b[1;30mDEBUG\u001b[0m \u001b[32mBuy at: $23175.89\u001b[0m\n"
     ]
    },
    {
     "name": "stdout",
     "output_type": "stream",
     "text": [
      "1/1 [==============================] - 0s 25ms/step\n"
     ]
    },
    {
     "name": "stderr",
     "output_type": "stream",
     "text": [
      "\u001b[32m2023-01-16 16:53:15\u001b[0m \u001b[35mDESKTOP-6JVVUQ4\u001b[0m \u001b[34mroot[12052]\u001b[0m \u001b[1;30mDEBUG\u001b[0m \u001b[32mBuy at: $23809.49\u001b[0m\n"
     ]
    },
    {
     "name": "stdout",
     "output_type": "stream",
     "text": [
      "1/1 [==============================] - 0s 25ms/step\n"
     ]
    },
    {
     "name": "stderr",
     "output_type": "stream",
     "text": [
      "\u001b[32m2023-01-16 16:53:15\u001b[0m \u001b[35mDESKTOP-6JVVUQ4\u001b[0m \u001b[34mroot[12052]\u001b[0m \u001b[1;30mDEBUG\u001b[0m \u001b[32mBuy at: $23164.32\u001b[0m\n"
     ]
    },
    {
     "name": "stdout",
     "output_type": "stream",
     "text": [
      "1/1 [==============================] - 0s 29ms/step\n"
     ]
    },
    {
     "name": "stderr",
     "output_type": "stream",
     "text": [
      "\u001b[32m2023-01-16 16:53:15\u001b[0m \u001b[35mDESKTOP-6JVVUQ4\u001b[0m \u001b[34mroot[12052]\u001b[0m \u001b[1;30mDEBUG\u001b[0m \u001b[32mBuy at: $23947.64\u001b[0m\n"
     ]
    },
    {
     "name": "stdout",
     "output_type": "stream",
     "text": [
      "1/1 [==============================] - 0s 26ms/step\n"
     ]
    },
    {
     "name": "stderr",
     "output_type": "stream",
     "text": [
      "\u001b[32m2023-01-16 16:53:16\u001b[0m \u001b[35mDESKTOP-6JVVUQ4\u001b[0m \u001b[34mroot[12052]\u001b[0m \u001b[1;30mDEBUG\u001b[0m \u001b[32mBuy at: $23957.53\u001b[0m\n"
     ]
    },
    {
     "name": "stdout",
     "output_type": "stream",
     "text": [
      "1/1 [==============================] - 0s 29ms/step\n"
     ]
    },
    {
     "name": "stderr",
     "output_type": "stream",
     "text": [
      "\u001b[32m2023-01-16 16:53:16\u001b[0m \u001b[35mDESKTOP-6JVVUQ4\u001b[0m \u001b[34mroot[12052]\u001b[0m \u001b[1;30mDEBUG\u001b[0m \u001b[32mBuy at: $24402.82\u001b[0m\n"
     ]
    },
    {
     "name": "stdout",
     "output_type": "stream",
     "text": [
      "1/1 [==============================] - 0s 26ms/step\n"
     ]
    },
    {
     "name": "stderr",
     "output_type": "stream",
     "text": [
      "\u001b[32m2023-01-16 16:53:16\u001b[0m \u001b[35mDESKTOP-6JVVUQ4\u001b[0m \u001b[34mroot[12052]\u001b[0m \u001b[1;30mDEBUG\u001b[0m \u001b[32mBuy at: $24424.07\u001b[0m\n"
     ]
    },
    {
     "name": "stdout",
     "output_type": "stream",
     "text": [
      "1/1 [==============================] - 0s 24ms/step\n"
     ]
    },
    {
     "name": "stderr",
     "output_type": "stream",
     "text": [
      "\u001b[32m2023-01-16 16:53:16\u001b[0m \u001b[35mDESKTOP-6JVVUQ4\u001b[0m \u001b[34mroot[12052]\u001b[0m \u001b[1;30mDEBUG\u001b[0m \u001b[32mBuy at: $24319.33\u001b[0m\n"
     ]
    },
    {
     "name": "stdout",
     "output_type": "stream",
     "text": [
      "1/1 [==============================] - 0s 25ms/step\n"
     ]
    },
    {
     "name": "stderr",
     "output_type": "stream",
     "text": [
      "\u001b[32m2023-01-16 16:53:16\u001b[0m \u001b[35mDESKTOP-6JVVUQ4\u001b[0m \u001b[34mroot[12052]\u001b[0m \u001b[1;30mDEBUG\u001b[0m \u001b[32mBuy at: $24136.97\u001b[0m\n"
     ]
    },
    {
     "name": "stdout",
     "output_type": "stream",
     "text": [
      "1/1 [==============================] - 0s 25ms/step\n"
     ]
    },
    {
     "name": "stderr",
     "output_type": "stream",
     "text": [
      "\u001b[32m2023-01-16 16:53:16\u001b[0m \u001b[35mDESKTOP-6JVVUQ4\u001b[0m \u001b[34mroot[12052]\u001b[0m \u001b[1;30mDEBUG\u001b[0m \u001b[32mBuy at: $23883.29\u001b[0m\n"
     ]
    },
    {
     "name": "stdout",
     "output_type": "stream",
     "text": [
      "1/1 [==============================] - 0s 25ms/step\n"
     ]
    },
    {
     "name": "stderr",
     "output_type": "stream",
     "text": [
      "\u001b[32m2023-01-16 16:53:16\u001b[0m \u001b[35mDESKTOP-6JVVUQ4\u001b[0m \u001b[34mroot[12052]\u001b[0m \u001b[1;30mDEBUG\u001b[0m \u001b[32mBuy at: $23336.00\u001b[0m\n"
     ]
    },
    {
     "name": "stdout",
     "output_type": "stream",
     "text": [
      "1/1 [==============================] - 0s 25ms/step\n"
     ]
    },
    {
     "name": "stderr",
     "output_type": "stream",
     "text": [
      "\u001b[32m2023-01-16 16:53:16\u001b[0m \u001b[35mDESKTOP-6JVVUQ4\u001b[0m \u001b[34mroot[12052]\u001b[0m \u001b[1;30mDEBUG\u001b[0m \u001b[32mBuy at: $23212.74\u001b[0m\n"
     ]
    },
    {
     "name": "stdout",
     "output_type": "stream",
     "text": [
      "1/1 [==============================] - 0s 25ms/step\n"
     ]
    },
    {
     "name": "stderr",
     "output_type": "stream",
     "text": [
      "\u001b[32m2023-01-16 16:53:16\u001b[0m \u001b[35mDESKTOP-6JVVUQ4\u001b[0m \u001b[34mroot[12052]\u001b[0m \u001b[1;30mDEBUG\u001b[0m \u001b[32mBuy at: $20877.55\u001b[0m\n"
     ]
    },
    {
     "name": "stdout",
     "output_type": "stream",
     "text": [
      "1/1 [==============================] - 0s 25ms/step\n"
     ]
    },
    {
     "name": "stderr",
     "output_type": "stream",
     "text": [
      "\u001b[32m2023-01-16 16:53:16\u001b[0m \u001b[35mDESKTOP-6JVVUQ4\u001b[0m \u001b[34mroot[12052]\u001b[0m \u001b[1;30mDEBUG\u001b[0m \u001b[32mBuy at: $21166.06\u001b[0m\n"
     ]
    },
    {
     "name": "stdout",
     "output_type": "stream",
     "text": [
      "1/1 [==============================] - 0s 24ms/step\n"
     ]
    },
    {
     "name": "stderr",
     "output_type": "stream",
     "text": [
      "\u001b[32m2023-01-16 16:53:16\u001b[0m \u001b[35mDESKTOP-6JVVUQ4\u001b[0m \u001b[34mroot[12052]\u001b[0m \u001b[1;30mDEBUG\u001b[0m \u001b[32mBuy at: $21534.12\u001b[0m\n"
     ]
    },
    {
     "name": "stdout",
     "output_type": "stream",
     "text": [
      "1/1 [==============================] - 0s 24ms/step\n"
     ]
    },
    {
     "name": "stderr",
     "output_type": "stream",
     "text": [
      "\u001b[32m2023-01-16 16:53:16\u001b[0m \u001b[35mDESKTOP-6JVVUQ4\u001b[0m \u001b[34mroot[12052]\u001b[0m \u001b[1;30mDEBUG\u001b[0m \u001b[32mBuy at: $21398.91\u001b[0m\n"
     ]
    },
    {
     "name": "stdout",
     "output_type": "stream",
     "text": [
      "1/1 [==============================] - 0s 25ms/step\n"
     ]
    },
    {
     "name": "stderr",
     "output_type": "stream",
     "text": [
      "\u001b[32m2023-01-16 16:53:16\u001b[0m \u001b[35mDESKTOP-6JVVUQ4\u001b[0m \u001b[34mroot[12052]\u001b[0m \u001b[1;30mDEBUG\u001b[0m \u001b[32mBuy at: $21528.09\u001b[0m\n"
     ]
    },
    {
     "name": "stdout",
     "output_type": "stream",
     "text": [
      "1/1 [==============================] - 0s 25ms/step\n"
     ]
    },
    {
     "name": "stderr",
     "output_type": "stream",
     "text": [
      "\u001b[32m2023-01-16 16:53:16\u001b[0m \u001b[35mDESKTOP-6JVVUQ4\u001b[0m \u001b[34mroot[12052]\u001b[0m \u001b[1;30mDEBUG\u001b[0m \u001b[32mBuy at: $21395.02\u001b[0m\n"
     ]
    },
    {
     "name": "stdout",
     "output_type": "stream",
     "text": [
      "1/1 [==============================] - 0s 25ms/step\n"
     ]
    },
    {
     "name": "stderr",
     "output_type": "stream",
     "text": [
      "\u001b[32m2023-01-16 16:53:17\u001b[0m \u001b[35mDESKTOP-6JVVUQ4\u001b[0m \u001b[34mroot[12052]\u001b[0m \u001b[1;30mDEBUG\u001b[0m \u001b[32mBuy at: $21600.90\u001b[0m\n"
     ]
    },
    {
     "name": "stdout",
     "output_type": "stream",
     "text": [
      "1/1 [==============================] - 0s 25ms/step\n"
     ]
    },
    {
     "name": "stderr",
     "output_type": "stream",
     "text": [
      "\u001b[32m2023-01-16 16:53:17\u001b[0m \u001b[35mDESKTOP-6JVVUQ4\u001b[0m \u001b[34mroot[12052]\u001b[0m \u001b[1;30mDEBUG\u001b[0m \u001b[32mBuy at: $20260.02\u001b[0m\n"
     ]
    },
    {
     "name": "stdout",
     "output_type": "stream",
     "text": [
      "1/1 [==============================] - 0s 25ms/step\n"
     ]
    },
    {
     "name": "stderr",
     "output_type": "stream",
     "text": [
      "\u001b[32m2023-01-16 16:53:17\u001b[0m \u001b[35mDESKTOP-6JVVUQ4\u001b[0m \u001b[34mroot[12052]\u001b[0m \u001b[1;30mDEBUG\u001b[0m \u001b[32mBuy at: $20041.74\u001b[0m\n"
     ]
    },
    {
     "name": "stdout",
     "output_type": "stream",
     "text": [
      "1/1 [==============================] - 0s 26ms/step\n"
     ]
    },
    {
     "name": "stderr",
     "output_type": "stream",
     "text": [
      "\u001b[32m2023-01-16 16:53:17\u001b[0m \u001b[35mDESKTOP-6JVVUQ4\u001b[0m \u001b[34mroot[12052]\u001b[0m \u001b[1;30mDEBUG\u001b[0m \u001b[32mBuy at: $19616.81\u001b[0m\n"
     ]
    },
    {
     "name": "stdout",
     "output_type": "stream",
     "text": [
      "1/1 [==============================] - 0s 26ms/step\n"
     ]
    },
    {
     "name": "stderr",
     "output_type": "stream",
     "text": [
      "\u001b[32m2023-01-16 16:53:17\u001b[0m \u001b[35mDESKTOP-6JVVUQ4\u001b[0m \u001b[34mroot[12052]\u001b[0m \u001b[1;30mDEBUG\u001b[0m \u001b[32mBuy at: $20297.99\u001b[0m\n"
     ]
    },
    {
     "name": "stdout",
     "output_type": "stream",
     "text": [
      "1/1 [==============================] - 0s 26ms/step\n"
     ]
    },
    {
     "name": "stderr",
     "output_type": "stream",
     "text": [
      "\u001b[32m2023-01-16 16:53:17\u001b[0m \u001b[35mDESKTOP-6JVVUQ4\u001b[0m \u001b[34mroot[12052]\u001b[0m \u001b[1;30mDEBUG\u001b[0m \u001b[32mBuy at: $19796.81\u001b[0m\n"
     ]
    },
    {
     "name": "stdout",
     "output_type": "stream",
     "text": [
      "1/1 [==============================] - 0s 26ms/step\n"
     ]
    },
    {
     "name": "stderr",
     "output_type": "stream",
     "text": [
      "\u001b[32m2023-01-16 16:53:17\u001b[0m \u001b[35mDESKTOP-6JVVUQ4\u001b[0m \u001b[34mroot[12052]\u001b[0m \u001b[1;30mDEBUG\u001b[0m \u001b[32mBuy at: $20049.76\u001b[0m\n"
     ]
    },
    {
     "name": "stdout",
     "output_type": "stream",
     "text": [
      "1/1 [==============================] - 0s 25ms/step\n"
     ]
    },
    {
     "name": "stderr",
     "output_type": "stream",
     "text": [
      "\u001b[32m2023-01-16 16:53:17\u001b[0m \u001b[35mDESKTOP-6JVVUQ4\u001b[0m \u001b[34mroot[12052]\u001b[0m \u001b[1;30mDEBUG\u001b[0m \u001b[32mBuy at: $20127.14\u001b[0m\n"
     ]
    },
    {
     "name": "stdout",
     "output_type": "stream",
     "text": [
      "1/1 [==============================] - 0s 22ms/step\n"
     ]
    },
    {
     "name": "stderr",
     "output_type": "stream",
     "text": [
      "\u001b[32m2023-01-16 16:53:17\u001b[0m \u001b[35mDESKTOP-6JVVUQ4\u001b[0m \u001b[34mroot[12052]\u001b[0m \u001b[1;30mDEBUG\u001b[0m \u001b[32mBuy at: $19969.77\u001b[0m\n"
     ]
    },
    {
     "name": "stdout",
     "output_type": "stream",
     "text": [
      "1/1 [==============================] - 0s 14ms/step\n"
     ]
    },
    {
     "name": "stderr",
     "output_type": "stream",
     "text": [
      "\u001b[32m2023-01-16 16:53:17\u001b[0m \u001b[35mDESKTOP-6JVVUQ4\u001b[0m \u001b[34mroot[12052]\u001b[0m \u001b[1;30mDEBUG\u001b[0m \u001b[32mBuy at: $19832.09\u001b[0m\n"
     ]
    },
    {
     "name": "stdout",
     "output_type": "stream",
     "text": [
      "1/1 [==============================] - 0s 24ms/step\n"
     ]
    },
    {
     "name": "stderr",
     "output_type": "stream",
     "text": [
      "\u001b[32m2023-01-16 16:53:17\u001b[0m \u001b[35mDESKTOP-6JVVUQ4\u001b[0m \u001b[34mroot[12052]\u001b[0m \u001b[1;30mDEBUG\u001b[0m \u001b[32mBuy at: $19986.71\u001b[0m\n"
     ]
    },
    {
     "name": "stdout",
     "output_type": "stream",
     "text": [
      "1/1 [==============================] - 0s 25ms/step\n"
     ]
    },
    {
     "name": "stderr",
     "output_type": "stream",
     "text": [
      "\u001b[32m2023-01-16 16:53:17\u001b[0m \u001b[35mDESKTOP-6JVVUQ4\u001b[0m \u001b[34mroot[12052]\u001b[0m \u001b[1;30mDEBUG\u001b[0m \u001b[32mBuy at: $19812.37\u001b[0m\n"
     ]
    },
    {
     "name": "stdout",
     "output_type": "stream",
     "text": [
      "1/1 [==============================] - 0s 25ms/step\n"
     ]
    },
    {
     "name": "stderr",
     "output_type": "stream",
     "text": [
      "\u001b[32m2023-01-16 16:53:17\u001b[0m \u001b[35mDESKTOP-6JVVUQ4\u001b[0m \u001b[34mroot[12052]\u001b[0m \u001b[1;30mDEBUG\u001b[0m \u001b[32mBuy at: $18837.67\u001b[0m\n"
     ]
    },
    {
     "name": "stdout",
     "output_type": "stream",
     "text": [
      "1/1 [==============================] - 0s 25ms/step\n"
     ]
    },
    {
     "name": "stderr",
     "output_type": "stream",
     "text": [
      "\u001b[32m2023-01-16 16:53:17\u001b[0m \u001b[35mDESKTOP-6JVVUQ4\u001b[0m \u001b[34mroot[12052]\u001b[0m \u001b[1;30mDEBUG\u001b[0m \u001b[32mBuy at: $19290.32\u001b[0m\n"
     ]
    },
    {
     "name": "stdout",
     "output_type": "stream",
     "text": [
      "1/1 [==============================] - 0s 25ms/step\n"
     ]
    },
    {
     "name": "stderr",
     "output_type": "stream",
     "text": [
      "\u001b[32m2023-01-16 16:53:17\u001b[0m \u001b[35mDESKTOP-6JVVUQ4\u001b[0m \u001b[34mroot[12052]\u001b[0m \u001b[1;30mDEBUG\u001b[0m \u001b[32mBuy at: $19329.83\u001b[0m\n"
     ]
    },
    {
     "name": "stdout",
     "output_type": "stream",
     "text": [
      "1/1 [==============================] - 0s 25ms/step\n"
     ]
    },
    {
     "name": "stderr",
     "output_type": "stream",
     "text": [
      "\u001b[32m2023-01-16 16:53:18\u001b[0m \u001b[35mDESKTOP-6JVVUQ4\u001b[0m \u001b[34mroot[12052]\u001b[0m \u001b[1;30mDEBUG\u001b[0m \u001b[32mBuy at: $21381.15\u001b[0m\n"
     ]
    },
    {
     "name": "stdout",
     "output_type": "stream",
     "text": [
      "1/1 [==============================] - 0s 25ms/step\n"
     ]
    },
    {
     "name": "stderr",
     "output_type": "stream",
     "text": [
      "\u001b[32m2023-01-16 16:53:18\u001b[0m \u001b[35mDESKTOP-6JVVUQ4\u001b[0m \u001b[34mroot[12052]\u001b[0m \u001b[1;30mDEBUG\u001b[0m \u001b[32mBuy at: $21680.54\u001b[0m\n"
     ]
    },
    {
     "name": "stdout",
     "output_type": "stream",
     "text": [
      "1/1 [==============================] - 0s 25ms/step\n"
     ]
    },
    {
     "name": "stderr",
     "output_type": "stream",
     "text": [
      "\u001b[32m2023-01-16 16:53:18\u001b[0m \u001b[35mDESKTOP-6JVVUQ4\u001b[0m \u001b[34mroot[12052]\u001b[0m \u001b[1;30mDEBUG\u001b[0m \u001b[32mBuy at: $21769.26\u001b[0m\n"
     ]
    },
    {
     "name": "stdout",
     "output_type": "stream",
     "text": [
      "1/1 [==============================] - 0s 28ms/step\n"
     ]
    },
    {
     "name": "stderr",
     "output_type": "stream",
     "text": [
      "\u001b[32m2023-01-16 16:53:18\u001b[0m \u001b[35mDESKTOP-6JVVUQ4\u001b[0m \u001b[34mroot[12052]\u001b[0m \u001b[1;30mDEBUG\u001b[0m \u001b[32mBuy at: $22370.45\u001b[0m\n"
     ]
    },
    {
     "name": "stdout",
     "output_type": "stream",
     "text": [
      "1/1 [==============================] - 0s 26ms/step\n"
     ]
    },
    {
     "name": "stderr",
     "output_type": "stream",
     "text": [
      "\u001b[32m2023-01-16 16:53:18\u001b[0m \u001b[35mDESKTOP-6JVVUQ4\u001b[0m \u001b[34mroot[12052]\u001b[0m \u001b[1;30mDEBUG\u001b[0m \u001b[32mBuy at: $20296.71\u001b[0m\n"
     ]
    },
    {
     "name": "stdout",
     "output_type": "stream",
     "text": [
      "1/1 [==============================] - 0s 31ms/step\n"
     ]
    },
    {
     "name": "stderr",
     "output_type": "stream",
     "text": [
      "\u001b[32m2023-01-16 16:53:18\u001b[0m \u001b[35mDESKTOP-6JVVUQ4\u001b[0m \u001b[34mroot[12052]\u001b[0m \u001b[1;30mDEBUG\u001b[0m \u001b[32mBuy at: $20241.09\u001b[0m\n"
     ]
    },
    {
     "name": "stdout",
     "output_type": "stream",
     "text": [
      "1/1 [==============================] - 0s 26ms/step\n"
     ]
    },
    {
     "name": "stderr",
     "output_type": "stream",
     "text": [
      "\u001b[32m2023-01-16 16:53:18\u001b[0m \u001b[35mDESKTOP-6JVVUQ4\u001b[0m \u001b[34mroot[12052]\u001b[0m \u001b[1;30mDEBUG\u001b[0m \u001b[32mBuy at: $19701.21\u001b[0m\n"
     ]
    },
    {
     "name": "stdout",
     "output_type": "stream",
     "text": [
      "1/1 [==============================] - 0s 25ms/step\n"
     ]
    },
    {
     "name": "stderr",
     "output_type": "stream",
     "text": [
      "\u001b[32m2023-01-16 16:53:18\u001b[0m \u001b[35mDESKTOP-6JVVUQ4\u001b[0m \u001b[34mroot[12052]\u001b[0m \u001b[1;30mDEBUG\u001b[0m \u001b[32mBuy at: $19772.58\u001b[0m\n"
     ]
    },
    {
     "name": "stdout",
     "output_type": "stream",
     "text": [
      "1/1 [==============================] - 0s 25ms/step\n"
     ]
    },
    {
     "name": "stderr",
     "output_type": "stream",
     "text": [
      "\u001b[32m2023-01-16 16:53:18\u001b[0m \u001b[35mDESKTOP-6JVVUQ4\u001b[0m \u001b[34mroot[12052]\u001b[0m \u001b[1;30mDEBUG\u001b[0m \u001b[32mBuy at: $20127.58\u001b[0m\n"
     ]
    },
    {
     "name": "stdout",
     "output_type": "stream",
     "text": [
      "1/1 [==============================] - 0s 28ms/step\n"
     ]
    },
    {
     "name": "stderr",
     "output_type": "stream",
     "text": [
      "\u001b[32m2023-01-16 16:53:18\u001b[0m \u001b[35mDESKTOP-6JVVUQ4\u001b[0m \u001b[34mroot[12052]\u001b[0m \u001b[1;30mDEBUG\u001b[0m \u001b[32mBuy at: $19419.51\u001b[0m\n"
     ]
    },
    {
     "name": "stdout",
     "output_type": "stream",
     "text": [
      "1/1 [==============================] - 0s 25ms/step\n"
     ]
    },
    {
     "name": "stderr",
     "output_type": "stream",
     "text": [
      "\u001b[32m2023-01-16 16:53:18\u001b[0m \u001b[35mDESKTOP-6JVVUQ4\u001b[0m \u001b[34mroot[12052]\u001b[0m \u001b[1;30mDEBUG\u001b[0m \u001b[32mBuy at: $19544.13\u001b[0m\n"
     ]
    },
    {
     "name": "stdout",
     "output_type": "stream",
     "text": [
      "1/1 [==============================] - 0s 28ms/step\n"
     ]
    },
    {
     "name": "stderr",
     "output_type": "stream",
     "text": [
      "\u001b[32m2023-01-16 16:53:18\u001b[0m \u001b[35mDESKTOP-6JVVUQ4\u001b[0m \u001b[34mroot[12052]\u001b[0m \u001b[1;30mDEBUG\u001b[0m \u001b[32mBuy at: $18890.79\u001b[0m\n"
     ]
    },
    {
     "name": "stdout",
     "output_type": "stream",
     "text": [
      "1/1 [==============================] - 0s 25ms/step\n"
     ]
    },
    {
     "name": "stderr",
     "output_type": "stream",
     "text": [
      "\u001b[32m2023-01-16 16:53:18\u001b[0m \u001b[35mDESKTOP-6JVVUQ4\u001b[0m \u001b[34mroot[12052]\u001b[0m \u001b[1;30mDEBUG\u001b[0m \u001b[32mBuy at: $18547.40\u001b[0m\n"
     ]
    },
    {
     "name": "stdout",
     "output_type": "stream",
     "text": [
      "1/1 [==============================] - 0s 25ms/step\n"
     ]
    },
    {
     "name": "stderr",
     "output_type": "stream",
     "text": [
      "\u001b[32m2023-01-16 16:53:18\u001b[0m \u001b[35mDESKTOP-6JVVUQ4\u001b[0m \u001b[34mroot[12052]\u001b[0m \u001b[1;30mDEBUG\u001b[0m \u001b[32mBuy at: $19413.55\u001b[0m\n"
     ]
    },
    {
     "name": "stdout",
     "output_type": "stream",
     "text": [
      "1/1 [==============================] - 0s 26ms/step\n"
     ]
    },
    {
     "name": "stderr",
     "output_type": "stream",
     "text": [
      "\u001b[32m2023-01-16 16:53:18\u001b[0m \u001b[35mDESKTOP-6JVVUQ4\u001b[0m \u001b[34mroot[12052]\u001b[0m \u001b[1;30mDEBUG\u001b[0m \u001b[32mBuy at: $19297.64\u001b[0m\n"
     ]
    },
    {
     "name": "stdout",
     "output_type": "stream",
     "text": [
      "1/1 [==============================] - 0s 26ms/step\n"
     ]
    },
    {
     "name": "stderr",
     "output_type": "stream",
     "text": [
      "\u001b[32m2023-01-16 16:53:19\u001b[0m \u001b[35mDESKTOP-6JVVUQ4\u001b[0m \u001b[34mroot[12052]\u001b[0m \u001b[1;30mDEBUG\u001b[0m \u001b[32mBuy at: $18937.01\u001b[0m\n"
     ]
    },
    {
     "name": "stdout",
     "output_type": "stream",
     "text": [
      "1/1 [==============================] - 0s 25ms/step\n"
     ]
    },
    {
     "name": "stderr",
     "output_type": "stream",
     "text": [
      "\u001b[32m2023-01-16 16:53:19\u001b[0m \u001b[35mDESKTOP-6JVVUQ4\u001b[0m \u001b[34mroot[12052]\u001b[0m \u001b[1;30mDEBUG\u001b[0m \u001b[32mBuy at: $18802.10\u001b[0m\n"
     ]
    },
    {
     "name": "stdout",
     "output_type": "stream",
     "text": [
      "1/1 [==============================] - 0s 25ms/step\n"
     ]
    },
    {
     "name": "stderr",
     "output_type": "stream",
     "text": [
      "\u001b[32m2023-01-16 16:53:19\u001b[0m \u001b[35mDESKTOP-6JVVUQ4\u001b[0m \u001b[34mroot[12052]\u001b[0m \u001b[1;30mDEBUG\u001b[0m \u001b[32mBuy at: $19222.67\u001b[0m\n"
     ]
    },
    {
     "name": "stdout",
     "output_type": "stream",
     "text": [
      "1/1 [==============================] - 0s 26ms/step\n"
     ]
    },
    {
     "name": "stderr",
     "output_type": "stream",
     "text": [
      "\u001b[32m2023-01-16 16:53:19\u001b[0m \u001b[35mDESKTOP-6JVVUQ4\u001b[0m \u001b[34mroot[12052]\u001b[0m \u001b[1;30mDEBUG\u001b[0m \u001b[32mBuy at: $19110.55\u001b[0m\n"
     ]
    },
    {
     "name": "stdout",
     "output_type": "stream",
     "text": [
      "1/1 [==============================] - 0s 25ms/step\n"
     ]
    },
    {
     "name": "stderr",
     "output_type": "stream",
     "text": [
      "\u001b[32m2023-01-16 16:53:19\u001b[0m \u001b[35mDESKTOP-6JVVUQ4\u001b[0m \u001b[34mroot[12052]\u001b[0m \u001b[1;30mDEBUG\u001b[0m \u001b[32mBuy at: $19426.72\u001b[0m\n"
     ]
    },
    {
     "name": "stdout",
     "output_type": "stream",
     "text": [
      "1/1 [==============================] - 0s 26ms/step\n"
     ]
    },
    {
     "name": "stderr",
     "output_type": "stream",
     "text": [
      "\u001b[32m2023-01-16 16:53:19\u001b[0m \u001b[35mDESKTOP-6JVVUQ4\u001b[0m \u001b[34mroot[12052]\u001b[0m \u001b[1;30mDEBUG\u001b[0m \u001b[32mBuy at: $19573.05\u001b[0m\n"
     ]
    },
    {
     "name": "stdout",
     "output_type": "stream",
     "text": [
      "1/1 [==============================] - 0s 26ms/step\n"
     ]
    },
    {
     "name": "stderr",
     "output_type": "stream",
     "text": [
      "\u001b[32m2023-01-16 16:53:19\u001b[0m \u001b[35mDESKTOP-6JVVUQ4\u001b[0m \u001b[34mroot[12052]\u001b[0m \u001b[1;30mDEBUG\u001b[0m \u001b[32mBuy at: $19431.79\u001b[0m\n"
     ]
    },
    {
     "name": "stdout",
     "output_type": "stream",
     "text": [
      "1/1 [==============================] - 0s 25ms/step\n"
     ]
    },
    {
     "name": "stderr",
     "output_type": "stream",
     "text": [
      "\u001b[32m2023-01-16 16:53:19\u001b[0m \u001b[35mDESKTOP-6JVVUQ4\u001b[0m \u001b[34mroot[12052]\u001b[0m \u001b[1;30mDEBUG\u001b[0m \u001b[32mBuy at: $19312.10\u001b[0m\n"
     ]
    },
    {
     "name": "stdout",
     "output_type": "stream",
     "text": [
      "1/1 [==============================] - 0s 33ms/step\n"
     ]
    },
    {
     "name": "stderr",
     "output_type": "stream",
     "text": [
      "\u001b[32m2023-01-16 16:53:19\u001b[0m \u001b[35mDESKTOP-6JVVUQ4\u001b[0m \u001b[34mroot[12052]\u001b[0m \u001b[1;30mDEBUG\u001b[0m \u001b[32mBuy at: $19044.11\u001b[0m\n"
     ]
    },
    {
     "name": "stdout",
     "output_type": "stream",
     "text": [
      "1/1 [==============================] - 0s 25ms/step\n"
     ]
    },
    {
     "name": "stderr",
     "output_type": "stream",
     "text": [
      "\u001b[32m2023-01-16 16:53:19\u001b[0m \u001b[35mDESKTOP-6JVVUQ4\u001b[0m \u001b[34mroot[12052]\u001b[0m \u001b[1;30mDEBUG\u001b[0m \u001b[32mBuy at: $19623.58\u001b[0m\n"
     ]
    },
    {
     "name": "stdout",
     "output_type": "stream",
     "text": [
      "1/1 [==============================] - 0s 25ms/step\n"
     ]
    },
    {
     "name": "stderr",
     "output_type": "stream",
     "text": [
      "\u001b[32m2023-01-16 16:53:19\u001b[0m \u001b[35mDESKTOP-6JVVUQ4\u001b[0m \u001b[34mroot[12052]\u001b[0m \u001b[1;30mDEBUG\u001b[0m \u001b[32mBuy at: $20336.84\u001b[0m\n"
     ]
    },
    {
     "name": "stdout",
     "output_type": "stream",
     "text": [
      "1/1 [==============================] - 0s 26ms/step\n"
     ]
    },
    {
     "name": "stderr",
     "output_type": "stream",
     "text": [
      "\u001b[32m2023-01-16 16:53:19\u001b[0m \u001b[35mDESKTOP-6JVVUQ4\u001b[0m \u001b[34mroot[12052]\u001b[0m \u001b[1;30mDEBUG\u001b[0m \u001b[32mBuy at: $20160.72\u001b[0m\n"
     ]
    },
    {
     "name": "stdout",
     "output_type": "stream",
     "text": [
      "1/1 [==============================] - 0s 25ms/step\n"
     ]
    },
    {
     "name": "stderr",
     "output_type": "stream",
     "text": [
      "\u001b[32m2023-01-16 16:53:19\u001b[0m \u001b[35mDESKTOP-6JVVUQ4\u001b[0m \u001b[34mroot[12052]\u001b[0m \u001b[1;30mDEBUG\u001b[0m \u001b[32mBuy at: $19955.44\u001b[0m\n"
     ]
    },
    {
     "name": "stdout",
     "output_type": "stream",
     "text": [
      "1/1 [==============================] - 0s 25ms/step\n"
     ]
    },
    {
     "name": "stderr",
     "output_type": "stream",
     "text": [
      "\u001b[32m2023-01-16 16:53:19\u001b[0m \u001b[35mDESKTOP-6JVVUQ4\u001b[0m \u001b[34mroot[12052]\u001b[0m \u001b[1;30mDEBUG\u001b[0m \u001b[32mBuy at: $19546.85\u001b[0m\n"
     ]
    },
    {
     "name": "stdout",
     "output_type": "stream",
     "text": [
      "1/1 [==============================] - 0s 25ms/step\n"
     ]
    },
    {
     "name": "stderr",
     "output_type": "stream",
     "text": [
      "\u001b[32m2023-01-16 16:53:20\u001b[0m \u001b[35mDESKTOP-6JVVUQ4\u001b[0m \u001b[34mroot[12052]\u001b[0m \u001b[1;30mDEBUG\u001b[0m \u001b[32mBuy at: $19416.57\u001b[0m\n"
     ]
    },
    {
     "name": "stdout",
     "output_type": "stream",
     "text": [
      "1/1 [==============================] - 0s 25ms/step\n"
     ]
    },
    {
     "name": "stderr",
     "output_type": "stream",
     "text": [
      "\u001b[32m2023-01-16 16:53:20\u001b[0m \u001b[35mDESKTOP-6JVVUQ4\u001b[0m \u001b[34mroot[12052]\u001b[0m \u001b[1;30mDEBUG\u001b[0m \u001b[32mBuy at: $19446.43\u001b[0m\n"
     ]
    },
    {
     "name": "stdout",
     "output_type": "stream",
     "text": [
      "1/1 [==============================] - 0s 25ms/step\n"
     ]
    },
    {
     "name": "stderr",
     "output_type": "stream",
     "text": [
      "\u001b[32m2023-01-16 16:53:20\u001b[0m \u001b[35mDESKTOP-6JVVUQ4\u001b[0m \u001b[34mroot[12052]\u001b[0m \u001b[1;30mDEBUG\u001b[0m \u001b[32mBuy at: $19141.48\u001b[0m\n"
     ]
    },
    {
     "name": "stdout",
     "output_type": "stream",
     "text": [
      "1/1 [==============================] - 0s 25ms/step\n"
     ]
    },
    {
     "name": "stderr",
     "output_type": "stream",
     "text": [
      "\u001b[32m2023-01-16 16:53:20\u001b[0m \u001b[35mDESKTOP-6JVVUQ4\u001b[0m \u001b[34mroot[12052]\u001b[0m \u001b[1;30mDEBUG\u001b[0m \u001b[32mBuy at: $19051.42\u001b[0m\n"
     ]
    },
    {
     "name": "stdout",
     "output_type": "stream",
     "text": [
      "1/1 [==============================] - 0s 26ms/step\n"
     ]
    },
    {
     "name": "stderr",
     "output_type": "stream",
     "text": [
      "\u001b[32m2023-01-16 16:53:20\u001b[0m \u001b[35mDESKTOP-6JVVUQ4\u001b[0m \u001b[34mroot[12052]\u001b[0m \u001b[1;30mDEBUG\u001b[0m \u001b[32mBuy at: $19157.45\u001b[0m\n"
     ]
    },
    {
     "name": "stdout",
     "output_type": "stream",
     "text": [
      "1/1 [==============================] - 0s 25ms/step\n"
     ]
    },
    {
     "name": "stderr",
     "output_type": "stream",
     "text": [
      "\u001b[32m2023-01-16 16:53:20\u001b[0m \u001b[35mDESKTOP-6JVVUQ4\u001b[0m \u001b[34mroot[12052]\u001b[0m \u001b[1;30mDEBUG\u001b[0m \u001b[32mBuy at: $19382.90\u001b[0m\n"
     ]
    },
    {
     "name": "stdout",
     "output_type": "stream",
     "text": [
      "1/1 [==============================] - 0s 25ms/step\n"
     ]
    },
    {
     "name": "stderr",
     "output_type": "stream",
     "text": [
      "\u001b[32m2023-01-16 16:53:20\u001b[0m \u001b[35mDESKTOP-6JVVUQ4\u001b[0m \u001b[34mroot[12052]\u001b[0m \u001b[1;30mDEBUG\u001b[0m \u001b[32mBuy at: $19185.66\u001b[0m\n"
     ]
    },
    {
     "name": "stdout",
     "output_type": "stream",
     "text": [
      "1/1 [==============================] - 0s 26ms/step\n"
     ]
    },
    {
     "name": "stderr",
     "output_type": "stream",
     "text": [
      "\u001b[32m2023-01-16 16:53:20\u001b[0m \u001b[35mDESKTOP-6JVVUQ4\u001b[0m \u001b[34mroot[12052]\u001b[0m \u001b[1;30mDEBUG\u001b[0m \u001b[32mBuy at: $19067.63\u001b[0m\n"
     ]
    },
    {
     "name": "stdout",
     "output_type": "stream",
     "text": [
      "1/1 [==============================] - 0s 25ms/step\n"
     ]
    },
    {
     "name": "stderr",
     "output_type": "stream",
     "text": [
      "\u001b[32m2023-01-16 16:53:20\u001b[0m \u001b[35mDESKTOP-6JVVUQ4\u001b[0m \u001b[34mroot[12052]\u001b[0m \u001b[1;30mDEBUG\u001b[0m \u001b[32mBuy at: $19268.09\u001b[0m\n"
     ]
    },
    {
     "name": "stdout",
     "output_type": "stream",
     "text": [
      "1/1 [==============================] - 0s 25ms/step\n"
     ]
    },
    {
     "name": "stderr",
     "output_type": "stream",
     "text": [
      "\u001b[32m2023-01-16 16:53:20\u001b[0m \u001b[35mDESKTOP-6JVVUQ4\u001b[0m \u001b[34mroot[12052]\u001b[0m \u001b[1;30mDEBUG\u001b[0m \u001b[32mBuy at: $19550.76\u001b[0m\n"
     ]
    },
    {
     "name": "stdout",
     "output_type": "stream",
     "text": [
      "1/1 [==============================] - 0s 25ms/step\n"
     ]
    },
    {
     "name": "stderr",
     "output_type": "stream",
     "text": [
      "\u001b[32m2023-01-16 16:53:20\u001b[0m \u001b[35mDESKTOP-6JVVUQ4\u001b[0m \u001b[34mroot[12052]\u001b[0m \u001b[1;30mDEBUG\u001b[0m \u001b[32mBuy at: $19334.42\u001b[0m\n"
     ]
    },
    {
     "name": "stdout",
     "output_type": "stream",
     "text": [
      "1/1 [==============================] - 0s 26ms/step\n"
     ]
    },
    {
     "name": "stderr",
     "output_type": "stream",
     "text": [
      "\u001b[32m2023-01-16 16:53:20\u001b[0m \u001b[35mDESKTOP-6JVVUQ4\u001b[0m \u001b[34mroot[12052]\u001b[0m \u001b[1;30mDEBUG\u001b[0m \u001b[32mBuy at: $19139.54\u001b[0m\n"
     ]
    },
    {
     "name": "stdout",
     "output_type": "stream",
     "text": [
      "1/1 [==============================] - 0s 25ms/step\n"
     ]
    },
    {
     "name": "stderr",
     "output_type": "stream",
     "text": [
      "\u001b[32m2023-01-16 16:53:20\u001b[0m \u001b[35mDESKTOP-6JVVUQ4\u001b[0m \u001b[34mroot[12052]\u001b[0m \u001b[1;30mDEBUG\u001b[0m \u001b[32mBuy at: $19053.74\u001b[0m\n"
     ]
    },
    {
     "name": "stdout",
     "output_type": "stream",
     "text": [
      "1/1 [==============================] - 0s 29ms/step\n"
     ]
    },
    {
     "name": "stderr",
     "output_type": "stream",
     "text": [
      "\u001b[32m2023-01-16 16:53:20\u001b[0m \u001b[35mDESKTOP-6JVVUQ4\u001b[0m \u001b[34mroot[12052]\u001b[0m \u001b[1;30mDEBUG\u001b[0m \u001b[32mBuy at: $19172.47\u001b[0m\n"
     ]
    },
    {
     "name": "stdout",
     "output_type": "stream",
     "text": [
      "1/1 [==============================] - 0s 29ms/step\n"
     ]
    },
    {
     "name": "stderr",
     "output_type": "stream",
     "text": [
      "\u001b[32m2023-01-16 16:53:20\u001b[0m \u001b[35mDESKTOP-6JVVUQ4\u001b[0m \u001b[34mroot[12052]\u001b[0m \u001b[1;30mDEBUG\u001b[0m \u001b[32mBuy at: $19208.19\u001b[0m\n"
     ]
    },
    {
     "name": "stdout",
     "output_type": "stream",
     "text": [
      "1/1 [==============================] - 0s 25ms/step\n"
     ]
    },
    {
     "name": "stderr",
     "output_type": "stream",
     "text": [
      "\u001b[32m2023-01-16 16:53:21\u001b[0m \u001b[35mDESKTOP-6JVVUQ4\u001b[0m \u001b[34mroot[12052]\u001b[0m \u001b[1;30mDEBUG\u001b[0m \u001b[32mBuy at: $19567.01\u001b[0m\n"
     ]
    },
    {
     "name": "stdout",
     "output_type": "stream",
     "text": [
      "1/1 [==============================] - 0s 25ms/step\n",
      "1/1 [==============================] - 0s 25ms/step\n"
     ]
    },
    {
     "name": "stderr",
     "output_type": "stream",
     "text": [
      "\u001b[32m2023-01-16 16:53:21\u001b[0m \u001b[35mDESKTOP-6JVVUQ4\u001b[0m \u001b[34mroot[12052]\u001b[0m \u001b[1;30mDEBUG\u001b[0m \u001b[32mBuy at: $20095.86\u001b[0m\n"
     ]
    },
    {
     "name": "stdout",
     "output_type": "stream",
     "text": [
      "1/1 [==============================] - 0s 26ms/step\n"
     ]
    },
    {
     "name": "stderr",
     "output_type": "stream",
     "text": [
      "\u001b[32m2023-01-16 16:53:21\u001b[0m \u001b[35mDESKTOP-6JVVUQ4\u001b[0m \u001b[34mroot[12052]\u001b[0m \u001b[1;30mDEBUG\u001b[0m \u001b[32mBuy at: $20770.44\u001b[0m\n"
     ]
    },
    {
     "name": "stdout",
     "output_type": "stream",
     "text": [
      "1/1 [==============================] - 0s 26ms/step\n"
     ]
    },
    {
     "name": "stderr",
     "output_type": "stream",
     "text": [
      "\u001b[32m2023-01-16 16:53:21\u001b[0m \u001b[35mDESKTOP-6JVVUQ4\u001b[0m \u001b[34mroot[12052]\u001b[0m \u001b[1;30mDEBUG\u001b[0m \u001b[32mBuy at: $20285.84\u001b[0m\n"
     ]
    },
    {
     "name": "stdout",
     "output_type": "stream",
     "text": [
      "1/1 [==============================] - 0s 28ms/step\n"
     ]
    },
    {
     "name": "stderr",
     "output_type": "stream",
     "text": [
      "\u001b[32m2023-01-16 16:53:21\u001b[0m \u001b[35mDESKTOP-6JVVUQ4\u001b[0m \u001b[34mroot[12052]\u001b[0m \u001b[1;30mDEBUG\u001b[0m \u001b[32mBuy at: $20595.35\u001b[0m\n"
     ]
    },
    {
     "name": "stdout",
     "output_type": "stream",
     "text": [
      "1/1 [==============================] - 0s 27ms/step\n"
     ]
    },
    {
     "name": "stderr",
     "output_type": "stream",
     "text": [
      "\u001b[32m2023-01-16 16:53:21\u001b[0m \u001b[35mDESKTOP-6JVVUQ4\u001b[0m \u001b[34mroot[12052]\u001b[0m \u001b[1;30mDEBUG\u001b[0m \u001b[32mSell at: $20818.48 | Position: -$16135.53\u001b[0m\n"
     ]
    },
    {
     "name": "stdout",
     "output_type": "stream",
     "text": [
      "1/1 [==============================] - 0s 25ms/step\n"
     ]
    },
    {
     "name": "stderr",
     "output_type": "stream",
     "text": [
      "\u001b[32m2023-01-16 16:53:21\u001b[0m \u001b[35mDESKTOP-6JVVUQ4\u001b[0m \u001b[34mroot[12052]\u001b[0m \u001b[1;30mDEBUG\u001b[0m \u001b[32mBuy at: $20635.60\u001b[0m\n"
     ]
    },
    {
     "name": "stdout",
     "output_type": "stream",
     "text": [
      "1/1 [==============================] - 0s 25ms/step\n"
     ]
    },
    {
     "name": "stderr",
     "output_type": "stream",
     "text": [
      "\u001b[32m2023-01-16 16:53:21\u001b[0m \u001b[35mDESKTOP-6JVVUQ4\u001b[0m \u001b[34mroot[12052]\u001b[0m \u001b[1;30mDEBUG\u001b[0m \u001b[32mBuy at: $20495.77\u001b[0m\n"
     ]
    },
    {
     "name": "stdout",
     "output_type": "stream",
     "text": [
      "1/1 [==============================] - 0s 25ms/step\n"
     ]
    },
    {
     "name": "stderr",
     "output_type": "stream",
     "text": [
      "\u001b[32m2023-01-16 16:53:21\u001b[0m \u001b[35mDESKTOP-6JVVUQ4\u001b[0m \u001b[34mroot[12052]\u001b[0m \u001b[1;30mDEBUG\u001b[0m \u001b[32mBuy at: $20485.27\u001b[0m\n"
     ]
    },
    {
     "name": "stdout",
     "output_type": "stream",
     "text": [
      "1/1 [==============================] - 0s 25ms/step\n"
     ]
    },
    {
     "name": "stderr",
     "output_type": "stream",
     "text": [
      "\u001b[32m2023-01-16 16:53:21\u001b[0m \u001b[35mDESKTOP-6JVVUQ4\u001b[0m \u001b[34mroot[12052]\u001b[0m \u001b[1;30mDEBUG\u001b[0m \u001b[32mBuy at: $20159.50\u001b[0m\n"
     ]
    },
    {
     "name": "stdout",
     "output_type": "stream",
     "text": [
      "1/1 [==============================] - 0s 26ms/step\n"
     ]
    },
    {
     "name": "stderr",
     "output_type": "stream",
     "text": [
      "\u001b[32m2023-01-16 16:53:21\u001b[0m \u001b[35mDESKTOP-6JVVUQ4\u001b[0m \u001b[34mroot[12052]\u001b[0m \u001b[1;30mDEBUG\u001b[0m \u001b[32mBuy at: $20209.99\u001b[0m\n"
     ]
    },
    {
     "name": "stdout",
     "output_type": "stream",
     "text": [
      "1/1 [==============================] - 0s 25ms/step\n"
     ]
    },
    {
     "name": "stderr",
     "output_type": "stream",
     "text": [
      "\u001b[32m2023-01-16 16:53:21\u001b[0m \u001b[35mDESKTOP-6JVVUQ4\u001b[0m \u001b[34mroot[12052]\u001b[0m \u001b[1;30mDEBUG\u001b[0m \u001b[32mBuy at: $21147.23\u001b[0m\n"
     ]
    },
    {
     "name": "stdout",
     "output_type": "stream",
     "text": [
      "1/1 [==============================] - 0s 25ms/step\n"
     ]
    },
    {
     "name": "stderr",
     "output_type": "stream",
     "text": [
      "\u001b[32m2023-01-16 16:53:21\u001b[0m \u001b[35mDESKTOP-6JVVUQ4\u001b[0m \u001b[34mroot[12052]\u001b[0m \u001b[1;30mDEBUG\u001b[0m \u001b[32mBuy at: $21282.69\u001b[0m\n"
     ]
    },
    {
     "name": "stdout",
     "output_type": "stream",
     "text": [
      "1/1 [==============================] - 0s 25ms/step\n"
     ]
    },
    {
     "name": "stderr",
     "output_type": "stream",
     "text": [
      "\u001b[32m2023-01-16 16:53:22\u001b[0m \u001b[35mDESKTOP-6JVVUQ4\u001b[0m \u001b[34mroot[12052]\u001b[0m \u001b[1;30mDEBUG\u001b[0m \u001b[32mBuy at: $20926.49\u001b[0m\n"
     ]
    },
    {
     "name": "stdout",
     "output_type": "stream",
     "text": [
      "1/1 [==============================] - 0s 26ms/step\n"
     ]
    },
    {
     "name": "stderr",
     "output_type": "stream",
     "text": [
      "\u001b[32m2023-01-16 16:53:22\u001b[0m \u001b[35mDESKTOP-6JVVUQ4\u001b[0m \u001b[34mroot[12052]\u001b[0m \u001b[1;30mDEBUG\u001b[0m \u001b[32mBuy at: $20602.82\u001b[0m\n"
     ]
    },
    {
     "name": "stdout",
     "output_type": "stream",
     "text": [
      "1/1 [==============================] - 0s 25ms/step\n"
     ]
    },
    {
     "name": "stderr",
     "output_type": "stream",
     "text": [
      "\u001b[32m2023-01-16 16:53:22\u001b[0m \u001b[35mDESKTOP-6JVVUQ4\u001b[0m \u001b[34mroot[12052]\u001b[0m \u001b[1;30mDEBUG\u001b[0m \u001b[32mBuy at: $18541.27\u001b[0m\n"
     ]
    },
    {
     "name": "stdout",
     "output_type": "stream",
     "text": [
      "1/1 [==============================] - 0s 25ms/step\n"
     ]
    },
    {
     "name": "stderr",
     "output_type": "stream",
     "text": [
      "\u001b[32m2023-01-16 16:53:22\u001b[0m \u001b[35mDESKTOP-6JVVUQ4\u001b[0m \u001b[34mroot[12052]\u001b[0m \u001b[1;30mDEBUG\u001b[0m \u001b[32mBuy at: $15880.78\u001b[0m\n"
     ]
    },
    {
     "name": "stdout",
     "output_type": "stream",
     "text": [
      "1/1 [==============================] - 0s 25ms/step\n"
     ]
    },
    {
     "name": "stderr",
     "output_type": "stream",
     "text": [
      "\u001b[32m2023-01-16 16:53:22\u001b[0m \u001b[35mDESKTOP-6JVVUQ4\u001b[0m \u001b[34mroot[12052]\u001b[0m \u001b[1;30mDEBUG\u001b[0m \u001b[32mBuy at: $17586.77\u001b[0m\n"
     ]
    },
    {
     "name": "stdout",
     "output_type": "stream",
     "text": [
      "1/1 [==============================] - 0s 25ms/step\n"
     ]
    },
    {
     "name": "stderr",
     "output_type": "stream",
     "text": [
      "\u001b[32m2023-01-16 16:53:22\u001b[0m \u001b[35mDESKTOP-6JVVUQ4\u001b[0m \u001b[34mroot[12052]\u001b[0m \u001b[1;30mDEBUG\u001b[0m \u001b[32mBuy at: $17034.29\u001b[0m\n"
     ]
    },
    {
     "name": "stdout",
     "output_type": "stream",
     "text": [
      "1/1 [==============================] - 0s 25ms/step\n"
     ]
    },
    {
     "name": "stderr",
     "output_type": "stream",
     "text": [
      "\u001b[32m2023-01-16 16:53:22\u001b[0m \u001b[35mDESKTOP-6JVVUQ4\u001b[0m \u001b[34mroot[12052]\u001b[0m \u001b[1;30mDEBUG\u001b[0m \u001b[32mBuy at: $16799.19\u001b[0m\n"
     ]
    },
    {
     "name": "stdout",
     "output_type": "stream",
     "text": [
      "1/1 [==============================] - 0s 26ms/step\n"
     ]
    },
    {
     "name": "stderr",
     "output_type": "stream",
     "text": [
      "\u001b[32m2023-01-16 16:53:22\u001b[0m \u001b[35mDESKTOP-6JVVUQ4\u001b[0m \u001b[34mroot[12052]\u001b[0m \u001b[1;30mDEBUG\u001b[0m \u001b[32mBuy at: $16353.37\u001b[0m\n"
     ]
    },
    {
     "name": "stdout",
     "output_type": "stream",
     "text": [
      "1/1 [==============================] - 0s 25ms/step\n"
     ]
    },
    {
     "name": "stderr",
     "output_type": "stream",
     "text": [
      "\u001b[32m2023-01-16 16:53:22\u001b[0m \u001b[35mDESKTOP-6JVVUQ4\u001b[0m \u001b[34mroot[12052]\u001b[0m \u001b[1;30mDEBUG\u001b[0m \u001b[32mBuy at: $16618.20\u001b[0m\n"
     ]
    },
    {
     "name": "stdout",
     "output_type": "stream",
     "text": [
      "1/1 [==============================] - 0s 26ms/step\n"
     ]
    },
    {
     "name": "stderr",
     "output_type": "stream",
     "text": [
      "\u001b[32m2023-01-16 16:53:22\u001b[0m \u001b[35mDESKTOP-6JVVUQ4\u001b[0m \u001b[34mroot[12052]\u001b[0m \u001b[1;30mDEBUG\u001b[0m \u001b[32mBuy at: $16884.61\u001b[0m\n"
     ]
    },
    {
     "name": "stdout",
     "output_type": "stream",
     "text": [
      "1/1 [==============================] - 0s 25ms/step\n"
     ]
    },
    {
     "name": "stderr",
     "output_type": "stream",
     "text": [
      "\u001b[32m2023-01-16 16:53:22\u001b[0m \u001b[35mDESKTOP-6JVVUQ4\u001b[0m \u001b[34mroot[12052]\u001b[0m \u001b[1;30mDEBUG\u001b[0m \u001b[32mBuy at: $16669.44\u001b[0m\n"
     ]
    },
    {
     "name": "stdout",
     "output_type": "stream",
     "text": [
      "1/1 [==============================] - 0s 26ms/step\n",
      "1/1 [==============================] - 0s 24ms/step\n"
     ]
    },
    {
     "name": "stderr",
     "output_type": "stream",
     "text": [
      "\u001b[32m2023-01-16 16:53:22\u001b[0m \u001b[35mDESKTOP-6JVVUQ4\u001b[0m \u001b[34mroot[12052]\u001b[0m \u001b[1;30mDEBUG\u001b[0m \u001b[32mBuy at: $16697.78\u001b[0m\n"
     ]
    },
    {
     "name": "stdout",
     "output_type": "stream",
     "text": [
      "1/1 [==============================] - 0s 26ms/step\n"
     ]
    },
    {
     "name": "stderr",
     "output_type": "stream",
     "text": [
      "\u001b[32m2023-01-16 16:53:22\u001b[0m \u001b[35mDESKTOP-6JVVUQ4\u001b[0m \u001b[34mroot[12052]\u001b[0m \u001b[1;30mDEBUG\u001b[0m \u001b[32mBuy at: $16711.55\u001b[0m\n"
     ]
    },
    {
     "name": "stdout",
     "output_type": "stream",
     "text": [
      "1/1 [==============================] - 0s 26ms/step\n"
     ]
    },
    {
     "name": "stderr",
     "output_type": "stream",
     "text": [
      "\u001b[32m2023-01-16 16:53:22\u001b[0m \u001b[35mDESKTOP-6JVVUQ4\u001b[0m \u001b[34mroot[12052]\u001b[0m \u001b[1;30mDEBUG\u001b[0m \u001b[32mBuy at: $16291.83\u001b[0m\n"
     ]
    },
    {
     "name": "stdout",
     "output_type": "stream",
     "text": [
      "1/1 [==============================] - 0s 25ms/step\n"
     ]
    },
    {
     "name": "stderr",
     "output_type": "stream",
     "text": [
      "\u001b[32m2023-01-16 16:53:23\u001b[0m \u001b[35mDESKTOP-6JVVUQ4\u001b[0m \u001b[34mroot[12052]\u001b[0m \u001b[1;30mDEBUG\u001b[0m \u001b[32mBuy at: $15787.28\u001b[0m\n"
     ]
    },
    {
     "name": "stdout",
     "output_type": "stream",
     "text": [
      "1/1 [==============================] - 0s 26ms/step\n"
     ]
    },
    {
     "name": "stderr",
     "output_type": "stream",
     "text": [
      "\u001b[32m2023-01-16 16:53:23\u001b[0m \u001b[35mDESKTOP-6JVVUQ4\u001b[0m \u001b[34mroot[12052]\u001b[0m \u001b[1;30mDEBUG\u001b[0m \u001b[32mBuy at: $16189.77\u001b[0m\n"
     ]
    },
    {
     "name": "stdout",
     "output_type": "stream",
     "text": [
      "1/1 [==============================] - 0s 25ms/step\n"
     ]
    },
    {
     "name": "stderr",
     "output_type": "stream",
     "text": [
      "\u001b[32m2023-01-16 16:53:23\u001b[0m \u001b[35mDESKTOP-6JVVUQ4\u001b[0m \u001b[34mroot[12052]\u001b[0m \u001b[1;30mDEBUG\u001b[0m \u001b[32mBuy at: $16610.71\u001b[0m\n"
     ]
    },
    {
     "name": "stdout",
     "output_type": "stream",
     "text": [
      "1/1 [==============================] - 0s 25ms/step\n"
     ]
    },
    {
     "name": "stderr",
     "output_type": "stream",
     "text": [
      "\u001b[32m2023-01-16 16:53:23\u001b[0m \u001b[35mDESKTOP-6JVVUQ4\u001b[0m \u001b[34mroot[12052]\u001b[0m \u001b[1;30mDEBUG\u001b[0m \u001b[32mBuy at: $16604.46\u001b[0m\n"
     ]
    },
    {
     "name": "stdout",
     "output_type": "stream",
     "text": [
      "1/1 [==============================] - 0s 25ms/step\n"
     ]
    },
    {
     "name": "stderr",
     "output_type": "stream",
     "text": [
      "\u001b[32m2023-01-16 16:53:23\u001b[0m \u001b[35mDESKTOP-6JVVUQ4\u001b[0m \u001b[34mroot[12052]\u001b[0m \u001b[1;30mDEBUG\u001b[0m \u001b[32mBuy at: $16521.84\u001b[0m\n"
     ]
    },
    {
     "name": "stdout",
     "output_type": "stream",
     "text": [
      "1/1 [==============================] - 0s 25ms/step\n"
     ]
    },
    {
     "name": "stderr",
     "output_type": "stream",
     "text": [
      "\u001b[32m2023-01-16 16:53:23\u001b[0m \u001b[35mDESKTOP-6JVVUQ4\u001b[0m \u001b[34mroot[12052]\u001b[0m \u001b[1;30mDEBUG\u001b[0m \u001b[32mBuy at: $16464.28\u001b[0m\n"
     ]
    },
    {
     "name": "stdout",
     "output_type": "stream",
     "text": [
      "1/1 [==============================] - 0s 25ms/step\n"
     ]
    },
    {
     "name": "stderr",
     "output_type": "stream",
     "text": [
      "\u001b[32m2023-01-16 16:53:23\u001b[0m \u001b[35mDESKTOP-6JVVUQ4\u001b[0m \u001b[34mroot[12052]\u001b[0m \u001b[1;30mDEBUG\u001b[0m \u001b[32mBuy at: $16444.63\u001b[0m\n"
     ]
    },
    {
     "name": "stdout",
     "output_type": "stream",
     "text": [
      "1/1 [==============================] - 0s 26ms/step\n"
     ]
    },
    {
     "name": "stderr",
     "output_type": "stream",
     "text": [
      "\u001b[32m2023-01-16 16:53:23\u001b[0m \u001b[35mDESKTOP-6JVVUQ4\u001b[0m \u001b[34mroot[12052]\u001b[0m \u001b[1;30mDEBUG\u001b[0m \u001b[32mBuy at: $16217.32\u001b[0m\n"
     ]
    },
    {
     "name": "stdout",
     "output_type": "stream",
     "text": [
      "1/1 [==============================] - 0s 26ms/step\n"
     ]
    },
    {
     "name": "stderr",
     "output_type": "stream",
     "text": [
      "\u001b[32m2023-01-16 16:53:23\u001b[0m \u001b[35mDESKTOP-6JVVUQ4\u001b[0m \u001b[34mroot[12052]\u001b[0m \u001b[1;30mDEBUG\u001b[0m \u001b[32mBuy at: $16444.98\u001b[0m\n"
     ]
    },
    {
     "name": "stdout",
     "output_type": "stream",
     "text": [
      "1/1 [==============================] - 0s 27ms/step\n"
     ]
    },
    {
     "name": "stderr",
     "output_type": "stream",
     "text": [
      "\u001b[32m2023-01-16 16:53:23\u001b[0m \u001b[35mDESKTOP-6JVVUQ4\u001b[0m \u001b[34mroot[12052]\u001b[0m \u001b[1;30mDEBUG\u001b[0m \u001b[32mBuy at: $17168.57\u001b[0m\n"
     ]
    },
    {
     "name": "stdout",
     "output_type": "stream",
     "text": [
      "1/1 [==============================] - 0s 27ms/step\n"
     ]
    },
    {
     "name": "stderr",
     "output_type": "stream",
     "text": [
      "\u001b[32m2023-01-16 16:53:23\u001b[0m \u001b[35mDESKTOP-6JVVUQ4\u001b[0m \u001b[34mroot[12052]\u001b[0m \u001b[1;30mDEBUG\u001b[0m \u001b[32mBuy at: $16967.13\u001b[0m\n"
     ]
    },
    {
     "name": "stdout",
     "output_type": "stream",
     "text": [
      "1/1 [==============================] - 0s 25ms/step\n"
     ]
    },
    {
     "name": "stderr",
     "output_type": "stream",
     "text": [
      "\u001b[32m2023-01-16 16:53:23\u001b[0m \u001b[35mDESKTOP-6JVVUQ4\u001b[0m \u001b[34mroot[12052]\u001b[0m \u001b[1;30mDEBUG\u001b[0m \u001b[32mBuy at: $17088.66\u001b[0m\n"
     ]
    },
    {
     "name": "stdout",
     "output_type": "stream",
     "text": [
      "1/1 [==============================] - 0s 25ms/step\n"
     ]
    },
    {
     "name": "stderr",
     "output_type": "stream",
     "text": [
      "\u001b[32m2023-01-16 16:53:23\u001b[0m \u001b[35mDESKTOP-6JVVUQ4\u001b[0m \u001b[34mroot[12052]\u001b[0m \u001b[1;30mDEBUG\u001b[0m \u001b[32mBuy at: $16908.24\u001b[0m\n"
     ]
    },
    {
     "name": "stdout",
     "output_type": "stream",
     "text": [
      "1/1 [==============================] - 0s 25ms/step\n"
     ]
    },
    {
     "name": "stderr",
     "output_type": "stream",
     "text": [
      "\u001b[32m2023-01-16 16:53:23\u001b[0m \u001b[35mDESKTOP-6JVVUQ4\u001b[0m \u001b[34mroot[12052]\u001b[0m \u001b[1;30mDEBUG\u001b[0m \u001b[32mBuy at: $17130.49\u001b[0m\n"
     ]
    },
    {
     "name": "stdout",
     "output_type": "stream",
     "text": [
      "1/1 [==============================] - 0s 26ms/step\n"
     ]
    },
    {
     "name": "stderr",
     "output_type": "stream",
     "text": [
      "\u001b[32m2023-01-16 16:53:23\u001b[0m \u001b[35mDESKTOP-6JVVUQ4\u001b[0m \u001b[34mroot[12052]\u001b[0m \u001b[1;30mDEBUG\u001b[0m \u001b[32mBuy at: $16974.83\u001b[0m\n"
     ]
    },
    {
     "name": "stdout",
     "output_type": "stream",
     "text": [
      "1/1 [==============================] - 0s 26ms/step\n"
     ]
    },
    {
     "name": "stderr",
     "output_type": "stream",
     "text": [
      "\u001b[32m2023-01-16 16:53:24\u001b[0m \u001b[35mDESKTOP-6JVVUQ4\u001b[0m \u001b[34mroot[12052]\u001b[0m \u001b[1;30mDEBUG\u001b[0m \u001b[32mBuy at: $17089.50\u001b[0m\n"
     ]
    },
    {
     "name": "stdout",
     "output_type": "stream",
     "text": [
      "1/1 [==============================] - 0s 26ms/step\n"
     ]
    },
    {
     "name": "stderr",
     "output_type": "stream",
     "text": [
      "\u001b[32m2023-01-16 16:53:24\u001b[0m \u001b[35mDESKTOP-6JVVUQ4\u001b[0m \u001b[34mroot[12052]\u001b[0m \u001b[1;30mDEBUG\u001b[0m \u001b[32mBuy at: $16848.13\u001b[0m\n"
     ]
    },
    {
     "name": "stdout",
     "output_type": "stream",
     "text": [
      "1/1 [==============================] - 0s 25ms/step\n"
     ]
    },
    {
     "name": "stderr",
     "output_type": "stream",
     "text": [
      "\u001b[32m2023-01-16 16:53:24\u001b[0m \u001b[35mDESKTOP-6JVVUQ4\u001b[0m \u001b[34mroot[12052]\u001b[0m \u001b[1;30mDEBUG\u001b[0m \u001b[32mSell at: $17233.47 | Position: -$19618.65\u001b[0m\n"
     ]
    },
    {
     "name": "stdout",
     "output_type": "stream",
     "text": [
      "1/1 [==============================] - 0s 25ms/step\n"
     ]
    },
    {
     "name": "stderr",
     "output_type": "stream",
     "text": [
      "\u001b[32m2023-01-16 16:53:24\u001b[0m \u001b[35mDESKTOP-6JVVUQ4\u001b[0m \u001b[34mroot[12052]\u001b[0m \u001b[1;30mDEBUG\u001b[0m \u001b[32mBuy at: $17133.15\u001b[0m\n"
     ]
    },
    {
     "name": "stdout",
     "output_type": "stream",
     "text": [
      "1/1 [==============================] - 0s 26ms/step\n"
     ]
    },
    {
     "name": "stderr",
     "output_type": "stream",
     "text": [
      "\u001b[32m2023-01-16 16:53:24\u001b[0m \u001b[35mDESKTOP-6JVVUQ4\u001b[0m \u001b[34mroot[12052]\u001b[0m \u001b[1;30mDEBUG\u001b[0m \u001b[32mBuy at: $17128.72\u001b[0m\n"
     ]
    },
    {
     "name": "stdout",
     "output_type": "stream",
     "text": [
      "1/1 [==============================] - 0s 25ms/step\n"
     ]
    },
    {
     "name": "stderr",
     "output_type": "stream",
     "text": [
      "\u001b[32m2023-01-16 16:53:24\u001b[0m \u001b[35mDESKTOP-6JVVUQ4\u001b[0m \u001b[34mroot[12052]\u001b[0m \u001b[1;30mDEBUG\u001b[0m \u001b[32mBuy at: $17104.19\u001b[0m\n"
     ]
    },
    {
     "name": "stdout",
     "output_type": "stream",
     "text": [
      "1/1 [==============================] - 0s 26ms/step\n"
     ]
    },
    {
     "name": "stderr",
     "output_type": "stream",
     "text": [
      "\u001b[32m2023-01-16 16:53:24\u001b[0m \u001b[35mDESKTOP-6JVVUQ4\u001b[0m \u001b[34mroot[12052]\u001b[0m \u001b[1;30mDEBUG\u001b[0m \u001b[32mBuy at: $17206.44\u001b[0m\n"
     ]
    },
    {
     "name": "stdout",
     "output_type": "stream",
     "text": [
      "1/1 [==============================] - 0s 25ms/step\n"
     ]
    },
    {
     "name": "stderr",
     "output_type": "stream",
     "text": [
      "\u001b[32m2023-01-16 16:53:24\u001b[0m \u001b[35mDESKTOP-6JVVUQ4\u001b[0m \u001b[34mroot[12052]\u001b[0m \u001b[1;30mDEBUG\u001b[0m \u001b[32mBuy at: $17781.32\u001b[0m\n"
     ]
    },
    {
     "name": "stdout",
     "output_type": "stream",
     "text": [
      "1/1 [==============================] - 0s 26ms/step\n"
     ]
    },
    {
     "name": "stderr",
     "output_type": "stream",
     "text": [
      "\u001b[32m2023-01-16 16:53:24\u001b[0m \u001b[35mDESKTOP-6JVVUQ4\u001b[0m \u001b[34mroot[12052]\u001b[0m \u001b[1;30mDEBUG\u001b[0m \u001b[32mBuy at: $17815.65\u001b[0m\n"
     ]
    },
    {
     "name": "stdout",
     "output_type": "stream",
     "text": [
      "1/1 [==============================] - 0s 25ms/step\n",
      "1/1 [==============================] - 0s 25ms/step\n"
     ]
    },
    {
     "name": "stderr",
     "output_type": "stream",
     "text": [
      "\u001b[32m2023-01-16 16:53:24\u001b[0m \u001b[35mDESKTOP-6JVVUQ4\u001b[0m \u001b[34mroot[12052]\u001b[0m \u001b[1;30mDEBUG\u001b[0m \u001b[32mBuy at: $16647.48\u001b[0m\n"
     ]
    },
    {
     "name": "stdout",
     "output_type": "stream",
     "text": [
      "1/1 [==============================] - 0s 25ms/step\n"
     ]
    },
    {
     "name": "stderr",
     "output_type": "stream",
     "text": [
      "\u001b[32m2023-01-16 16:53:24\u001b[0m \u001b[35mDESKTOP-6JVVUQ4\u001b[0m \u001b[34mroot[12052]\u001b[0m \u001b[1;30mDEBUG\u001b[0m \u001b[32mBuy at: $16795.09\u001b[0m\n"
     ]
    },
    {
     "name": "stdout",
     "output_type": "stream",
     "text": [
      "1/1 [==============================] - 0s 25ms/step\n"
     ]
    },
    {
     "name": "stderr",
     "output_type": "stream",
     "text": [
      "\u001b[32m2023-01-16 16:53:24\u001b[0m \u001b[35mDESKTOP-6JVVUQ4\u001b[0m \u001b[34mroot[12052]\u001b[0m \u001b[1;30mDEBUG\u001b[0m \u001b[32mBuy at: $16757.98\u001b[0m\n"
     ]
    },
    {
     "name": "stdout",
     "output_type": "stream",
     "text": [
      "1/1 [==============================] - 0s 25ms/step\n"
     ]
    },
    {
     "name": "stderr",
     "output_type": "stream",
     "text": [
      "\u001b[32m2023-01-16 16:53:24\u001b[0m \u001b[35mDESKTOP-6JVVUQ4\u001b[0m \u001b[34mroot[12052]\u001b[0m \u001b[1;30mDEBUG\u001b[0m \u001b[32mBuy at: $16439.68\u001b[0m\n"
     ]
    },
    {
     "name": "stdout",
     "output_type": "stream",
     "text": [
      "1/1 [==============================] - 0s 25ms/step\n"
     ]
    },
    {
     "name": "stderr",
     "output_type": "stream",
     "text": [
      "\u001b[32m2023-01-16 16:53:25\u001b[0m \u001b[35mDESKTOP-6JVVUQ4\u001b[0m \u001b[34mroot[12052]\u001b[0m \u001b[1;30mDEBUG\u001b[0m \u001b[32mBuy at: $16906.30\u001b[0m\n"
     ]
    },
    {
     "name": "stdout",
     "output_type": "stream",
     "text": [
      "1/1 [==============================] - 0s 25ms/step\n"
     ]
    },
    {
     "name": "stderr",
     "output_type": "stream",
     "text": [
      "\u001b[32m2023-01-16 16:53:25\u001b[0m \u001b[35mDESKTOP-6JVVUQ4\u001b[0m \u001b[34mroot[12052]\u001b[0m \u001b[1;30mDEBUG\u001b[0m \u001b[32mBuy at: $16817.54\u001b[0m\n"
     ]
    },
    {
     "name": "stdout",
     "output_type": "stream",
     "text": [
      "1/1 [==============================] - 0s 25ms/step\n"
     ]
    },
    {
     "name": "stderr",
     "output_type": "stream",
     "text": [
      "\u001b[32m2023-01-16 16:53:25\u001b[0m \u001b[35mDESKTOP-6JVVUQ4\u001b[0m \u001b[34mroot[12052]\u001b[0m \u001b[1;30mDEBUG\u001b[0m \u001b[32mBuy at: $16830.34\u001b[0m\n"
     ]
    },
    {
     "name": "stdout",
     "output_type": "stream",
     "text": [
      "1/1 [==============================] - 0s 25ms/step\n"
     ]
    },
    {
     "name": "stderr",
     "output_type": "stream",
     "text": [
      "\u001b[32m2023-01-16 16:53:25\u001b[0m \u001b[35mDESKTOP-6JVVUQ4\u001b[0m \u001b[34mroot[12052]\u001b[0m \u001b[1;30mDEBUG\u001b[0m \u001b[32mBuy at: $16796.95\u001b[0m\n"
     ]
    },
    {
     "name": "stdout",
     "output_type": "stream",
     "text": [
      "1/1 [==============================] - 0s 26ms/step\n"
     ]
    },
    {
     "name": "stderr",
     "output_type": "stream",
     "text": [
      "\u001b[32m2023-01-16 16:53:25\u001b[0m \u001b[35mDESKTOP-6JVVUQ4\u001b[0m \u001b[34mroot[12052]\u001b[0m \u001b[1;30mDEBUG\u001b[0m \u001b[32mBuy at: $16847.76\u001b[0m\n"
     ]
    },
    {
     "name": "stdout",
     "output_type": "stream",
     "text": [
      "1/1 [==============================] - 0s 25ms/step\n"
     ]
    },
    {
     "name": "stderr",
     "output_type": "stream",
     "text": [
      "\u001b[32m2023-01-16 16:53:25\u001b[0m \u001b[35mDESKTOP-6JVVUQ4\u001b[0m \u001b[34mroot[12052]\u001b[0m \u001b[1;30mDEBUG\u001b[0m \u001b[32mBuy at: $16841.99\u001b[0m\n"
     ]
    },
    {
     "name": "stdout",
     "output_type": "stream",
     "text": [
      "1/1 [==============================] - 0s 25ms/step\n"
     ]
    },
    {
     "name": "stderr",
     "output_type": "stream",
     "text": [
      "\u001b[32m2023-01-16 16:53:25\u001b[0m \u001b[35mDESKTOP-6JVVUQ4\u001b[0m \u001b[34mroot[12052]\u001b[0m \u001b[1;30mDEBUG\u001b[0m \u001b[32mBuy at: $16919.80\u001b[0m\n"
     ]
    },
    {
     "name": "stdout",
     "output_type": "stream",
     "text": [
      "1/1 [==============================] - 0s 26ms/step\n"
     ]
    },
    {
     "name": "stderr",
     "output_type": "stream",
     "text": [
      "\u001b[32m2023-01-16 16:53:25\u001b[0m \u001b[35mDESKTOP-6JVVUQ4\u001b[0m \u001b[34mroot[12052]\u001b[0m \u001b[1;30mDEBUG\u001b[0m \u001b[32mBuy at: $16717.17\u001b[0m\n"
     ]
    },
    {
     "name": "stdout",
     "output_type": "stream",
     "text": [
      "1/1 [==============================] - 0s 25ms/step\n"
     ]
    },
    {
     "name": "stderr",
     "output_type": "stream",
     "text": [
      "\u001b[32m2023-01-16 16:53:25\u001b[0m \u001b[35mDESKTOP-6JVVUQ4\u001b[0m \u001b[34mroot[12052]\u001b[0m \u001b[1;30mDEBUG\u001b[0m \u001b[32mBuy at: $16552.57\u001b[0m\n"
     ]
    },
    {
     "name": "stdout",
     "output_type": "stream",
     "text": [
      "1/1 [==============================] - 0s 26ms/step\n"
     ]
    },
    {
     "name": "stderr",
     "output_type": "stream",
     "text": [
      "\u001b[32m2023-01-16 16:53:25\u001b[0m \u001b[35mDESKTOP-6JVVUQ4\u001b[0m \u001b[34mroot[12052]\u001b[0m \u001b[1;30mDEBUG\u001b[0m \u001b[32mBuy at: $16642.34\u001b[0m\n"
     ]
    },
    {
     "name": "stdout",
     "output_type": "stream",
     "text": [
      "1/1 [==============================] - 0s 25ms/step\n"
     ]
    },
    {
     "name": "stderr",
     "output_type": "stream",
     "text": [
      "\u001b[32m2023-01-16 16:53:25\u001b[0m \u001b[35mDESKTOP-6JVVUQ4\u001b[0m \u001b[34mroot[12052]\u001b[0m \u001b[1;30mDEBUG\u001b[0m \u001b[32mBuy at: $16602.59\u001b[0m\n"
     ]
    },
    {
     "name": "stdout",
     "output_type": "stream",
     "text": [
      "1/1 [==============================] - 0s 25ms/step\n"
     ]
    },
    {
     "name": "stderr",
     "output_type": "stream",
     "text": [
      "\u001b[32m2023-01-16 16:53:25\u001b[0m \u001b[35mDESKTOP-6JVVUQ4\u001b[0m \u001b[34mroot[12052]\u001b[0m \u001b[1;30mDEBUG\u001b[0m \u001b[32mBuy at: $16547.50\u001b[0m\n"
     ]
    },
    {
     "name": "stdout",
     "output_type": "stream",
     "text": [
      "1/1 [==============================] - 0s 26ms/step\n"
     ]
    },
    {
     "name": "stderr",
     "output_type": "stream",
     "text": [
      "\u001b[32m2023-01-16 16:53:25\u001b[0m \u001b[35mDESKTOP-6JVVUQ4\u001b[0m \u001b[34mroot[12052]\u001b[0m \u001b[1;30mDEBUG\u001b[0m \u001b[32mBuy at: $16625.08\u001b[0m\n"
     ]
    },
    {
     "name": "stdout",
     "output_type": "stream",
     "text": [
      "1/1 [==============================] - 0s 25ms/step\n"
     ]
    },
    {
     "name": "stderr",
     "output_type": "stream",
     "text": [
      "\u001b[32m2023-01-16 16:53:25\u001b[0m \u001b[35mDESKTOP-6JVVUQ4\u001b[0m \u001b[34mroot[12052]\u001b[0m \u001b[1;30mDEBUG\u001b[0m \u001b[32mBuy at: $16688.47\u001b[0m\n"
     ]
    },
    {
     "name": "stdout",
     "output_type": "stream",
     "text": [
      "1/1 [==============================] - 0s 25ms/step\n"
     ]
    },
    {
     "name": "stderr",
     "output_type": "stream",
     "text": [
      "\u001b[32m2023-01-16 16:53:25\u001b[0m \u001b[35mDESKTOP-6JVVUQ4\u001b[0m \u001b[34mroot[12052]\u001b[0m \u001b[1;30mDEBUG\u001b[0m \u001b[32mBuy at: $16679.86\u001b[0m\n"
     ]
    },
    {
     "name": "stdout",
     "output_type": "stream",
     "text": [
      "1/1 [==============================] - 0s 25ms/step\n"
     ]
    },
    {
     "name": "stderr",
     "output_type": "stream",
     "text": [
      "\u001b[32m2023-01-16 16:53:26\u001b[0m \u001b[35mDESKTOP-6JVVUQ4\u001b[0m \u001b[34mroot[12052]\u001b[0m \u001b[1;30mDEBUG\u001b[0m \u001b[32mBuy at: $16863.24\u001b[0m\n"
     ]
    },
    {
     "name": "stdout",
     "output_type": "stream",
     "text": [
      "1/1 [==============================] - 0s 25ms/step\n"
     ]
    },
    {
     "name": "stderr",
     "output_type": "stream",
     "text": [
      "\u001b[32m2023-01-16 16:53:26\u001b[0m \u001b[35mDESKTOP-6JVVUQ4\u001b[0m \u001b[34mroot[12052]\u001b[0m \u001b[1;30mDEBUG\u001b[0m \u001b[32mBuy at: $16836.74\u001b[0m\n"
     ]
    },
    {
     "name": "stdout",
     "output_type": "stream",
     "text": [
      "1/1 [==============================] - 0s 26ms/step\n"
     ]
    },
    {
     "name": "stderr",
     "output_type": "stream",
     "text": [
      "\u001b[32m2023-01-16 16:53:26\u001b[0m \u001b[35mDESKTOP-6JVVUQ4\u001b[0m \u001b[34mroot[12052]\u001b[0m \u001b[1;30mDEBUG\u001b[0m \u001b[32mBuy at: $16951.97\u001b[0m\n"
     ]
    },
    {
     "name": "stdout",
     "output_type": "stream",
     "text": [
      "1/1 [==============================] - 0s 28ms/step\n"
     ]
    },
    {
     "name": "stderr",
     "output_type": "stream",
     "text": [
      "\u001b[32m2023-01-16 16:53:26\u001b[0m \u001b[35mDESKTOP-6JVVUQ4\u001b[0m \u001b[34mroot[12052]\u001b[0m \u001b[1;30mDEBUG\u001b[0m \u001b[32mBuy at: $16955.08\u001b[0m\n"
     ]
    },
    {
     "name": "stdout",
     "output_type": "stream",
     "text": [
      "1/1 [==============================] - 0s 26ms/step\n"
     ]
    },
    {
     "name": "stderr",
     "output_type": "stream",
     "text": [
      "\u001b[32m2023-01-16 16:53:26\u001b[0m \u001b[35mDESKTOP-6JVVUQ4\u001b[0m \u001b[34mroot[12052]\u001b[0m \u001b[1;30mDEBUG\u001b[0m \u001b[32mBuy at: $17091.14\u001b[0m\n"
     ]
    },
    {
     "name": "stdout",
     "output_type": "stream",
     "text": [
      "1/1 [==============================] - 0s 25ms/step\n"
     ]
    },
    {
     "name": "stderr",
     "output_type": "stream",
     "text": [
      "\u001b[32m2023-01-16 16:53:26\u001b[0m \u001b[35mDESKTOP-6JVVUQ4\u001b[0m \u001b[34mroot[12052]\u001b[0m \u001b[1;30mDEBUG\u001b[0m \u001b[32mBuy at: $17196.55\u001b[0m\n",
      "\u001b[32m2023-01-16 16:53:26\u001b[0m \u001b[35mDESKTOP-6JVVUQ4\u001b[0m \u001b[34mroot[12052]\u001b[0m \u001b[1;30mINFO\u001b[0m 1000_iter_change_target/model_t_dqn_BTC-USD_epidodes_50_30: -$63157.24\n",
      "\n"
     ]
    }
   ],
   "source": [
    "import logging\n",
    "import coloredlogs\n",
    "\n",
    "from trading_bot.utils import show_eval_result, switch_k_backend_device, get_stock_data\n",
    "from trading_bot.methods import evaluate_model\n",
    "\n",
    "coloredlogs.install(level='DEBUG')\n",
    "switch_k_backend_device()\n",
    "\n",
    "test_data = get_stock_data(test_stock)\n",
    "initial_offset = test_data[1] - test_data[0]\n",
    "\n",
    "test_result, history = evaluate_model(agent, test_data, window_size, debug)\n",
    "show_eval_result(model_name, test_result, initial_offset)"
   ]
  },
  {
   "cell_type": "markdown",
   "metadata": {},
   "source": [
    "### 4. Visualize"
   ]
  },
  {
   "cell_type": "code",
   "execution_count": 195,
   "metadata": {},
   "outputs": [],
   "source": [
    "def visualize(df, history, title=\"trading session\"):\n",
    "    # add history to dataframe\n",
    "    position = [history[0][0]] + [x[0] for x in history]\n",
    "    actions = ['HOLD'] + [x[1] for x in history]\n",
    "    df['position'] = position\n",
    "    df['action'] = actions\n",
    "    \n",
    "    # specify y-axis scale for stock prices\n",
    "    scale = alt.Scale(domain=(min(min(df['actual']), min(df['position'])) - 50, max(max(df['actual']), max(df['position'])) + 50), clamp=True)\n",
    "    \n",
    "    # plot a line chart for stock positions\n",
    "    actual = alt.Chart(df).mark_line(\n",
    "        color='green',\n",
    "        opacity=0.5\n",
    "    ).encode(\n",
    "        x='date:T',\n",
    "        y=alt.Y('position', axis=alt.Axis(format='$.2f', title='Price'), scale=scale)\n",
    "    ).interactive(\n",
    "        bind_y=False\n",
    "    )\n",
    "    \n",
    "    points = alt.Chart(df).mark_point(\n",
    "        filled=True\n",
    "    ).encode(\n",
    "        x=alt.X('date:T', axis=alt.Axis(title='Date')),\n",
    "        y=alt.Y('position', axis=alt.Axis(format='$.2f', title='Price'), scale=scale),\n",
    "        color='action'\n",
    "    ).interactive(bind_y=False)\n",
    "\n",
    "    # merge the two charts\n",
    "    chart = alt.layer(actual, points, title=title).properties(height=300, width=1000)\n",
    "    \n",
    "    return chart"
   ]
  },
  {
   "cell_type": "code",
   "execution_count": 197,
   "metadata": {},
   "outputs": [
    {
     "data": {
      "text/html": [
       "\n",
       "<div id=\"altair-viz-f58798ddb15e4115806da1bfc0abf138\"></div>\n",
       "<script type=\"text/javascript\">\n",
       "  var VEGA_DEBUG = (typeof VEGA_DEBUG == \"undefined\") ? {} : VEGA_DEBUG;\n",
       "  (function(spec, embedOpt){\n",
       "    let outputDiv = document.currentScript.previousElementSibling;\n",
       "    if (outputDiv.id !== \"altair-viz-f58798ddb15e4115806da1bfc0abf138\") {\n",
       "      outputDiv = document.getElementById(\"altair-viz-f58798ddb15e4115806da1bfc0abf138\");\n",
       "    }\n",
       "    const paths = {\n",
       "      \"vega\": \"https://cdn.jsdelivr.net/npm//vega@5?noext\",\n",
       "      \"vega-lib\": \"https://cdn.jsdelivr.net/npm//vega-lib?noext\",\n",
       "      \"vega-lite\": \"https://cdn.jsdelivr.net/npm//vega-lite@4.17.0?noext\",\n",
       "      \"vega-embed\": \"https://cdn.jsdelivr.net/npm//vega-embed@6?noext\",\n",
       "    };\n",
       "\n",
       "    function maybeLoadScript(lib, version) {\n",
       "      var key = `${lib.replace(\"-\", \"\")}_version`;\n",
       "      return (VEGA_DEBUG[key] == version) ?\n",
       "        Promise.resolve(paths[lib]) :\n",
       "        new Promise(function(resolve, reject) {\n",
       "          var s = document.createElement('script');\n",
       "          document.getElementsByTagName(\"head\")[0].appendChild(s);\n",
       "          s.async = true;\n",
       "          s.onload = () => {\n",
       "            VEGA_DEBUG[key] = version;\n",
       "            return resolve(paths[lib]);\n",
       "          };\n",
       "          s.onerror = () => reject(`Error loading script: ${paths[lib]}`);\n",
       "          s.src = paths[lib];\n",
       "        });\n",
       "    }\n",
       "\n",
       "    function showError(err) {\n",
       "      outputDiv.innerHTML = `<div class=\"error\" style=\"color:red;\">${err}</div>`;\n",
       "      throw err;\n",
       "    }\n",
       "\n",
       "    function displayChart(vegaEmbed) {\n",
       "      vegaEmbed(outputDiv, spec, embedOpt)\n",
       "        .catch(err => showError(`Javascript Error: ${err.message}<br>This usually means there's a typo in your chart specification. See the javascript console for the full traceback.`));\n",
       "    }\n",
       "\n",
       "    if(typeof define === \"function\" && define.amd) {\n",
       "      requirejs.config({paths});\n",
       "      require([\"vega-embed\"], displayChart, err => showError(`Error loading script: ${err.message}`));\n",
       "    } else {\n",
       "      maybeLoadScript(\"vega\", \"5\")\n",
       "        .then(() => maybeLoadScript(\"vega-lite\", \"4.17.0\"))\n",
       "        .then(() => maybeLoadScript(\"vega-embed\", \"6\"))\n",
       "        .catch(showError)\n",
       "        .then(() => displayChart(vegaEmbed));\n",
       "    }\n",
       "  })({\"config\": {\"view\": {\"continuousWidth\": 400, \"continuousHeight\": 300}}, \"layer\": [{\"mark\": {\"type\": \"line\", \"color\": \"green\", \"opacity\": 0.5}, \"encoding\": {\"x\": {\"field\": \"date\", \"type\": \"temporal\"}, \"y\": {\"axis\": {\"format\": \"$.2f\", \"title\": \"Price\"}, \"field\": \"position\", \"scale\": {\"clamp\": true, \"domain\": [15737.28418, 47736.8125]}, \"type\": \"quantitative\"}}, \"selection\": {\"selector055\": {\"type\": \"interval\", \"bind\": \"scales\", \"encodings\": [\"x\"]}}}, {\"mark\": {\"type\": \"point\", \"filled\": true}, \"encoding\": {\"color\": {\"field\": \"action\", \"type\": \"nominal\"}, \"x\": {\"axis\": {\"title\": \"Date\"}, \"field\": \"date\", \"type\": \"temporal\"}, \"y\": {\"axis\": {\"format\": \"$.2f\", \"title\": \"Price\"}, \"field\": \"position\", \"scale\": {\"clamp\": true, \"domain\": [15737.28418, 47736.8125]}, \"type\": \"quantitative\"}}, \"selection\": {\"selector056\": {\"type\": \"interval\", \"bind\": \"scales\", \"encodings\": [\"x\"]}}}], \"data\": {\"name\": \"data-6aca254a02de3547cf4c95dda62df0a1\"}, \"height\": 300, \"title\": \"BITCOIN Currency -$63157.24 (T-DQN 30 ep & 1000 iter to update T-Net)\", \"width\": 1000, \"$schema\": \"https://vega.github.io/schema/vega-lite/v4.17.0.json\", \"datasets\": {\"data-6aca254a02de3547cf4c95dda62df0a1\": [{\"date\": \"2022-01-01T00:00:00\", \"actual\": 47686.8125, \"position\": 47686.8125, \"action\": \"HOLD\"}, {\"date\": \"2022-01-02T00:00:00\", \"actual\": 47345.21875, \"position\": 47686.8125, \"action\": \"BUY\"}, {\"date\": \"2022-01-03T00:00:00\", \"actual\": 46458.117188, \"position\": 47345.21875, \"action\": \"BUY\"}, {\"date\": \"2022-01-04T00:00:00\", \"actual\": 45897.574219, \"position\": 46458.117188, \"action\": \"BUY\"}, {\"date\": \"2022-01-05T00:00:00\", \"actual\": 43569.003906, \"position\": 45897.574219, \"action\": \"BUY\"}, {\"date\": \"2022-01-06T00:00:00\", \"actual\": 43160.929688, \"position\": 43569.003906, \"action\": \"BUY\"}, {\"date\": \"2022-01-07T00:00:00\", \"actual\": 41557.902344, \"position\": 43160.929688, \"action\": \"BUY\"}, {\"date\": \"2022-01-08T00:00:00\", \"actual\": 41733.941406, \"position\": 41557.902344, \"action\": \"BUY\"}, {\"date\": \"2022-01-09T00:00:00\", \"actual\": 41911.601563, \"position\": 41733.941406, \"action\": \"BUY\"}, {\"date\": \"2022-01-10T00:00:00\", \"actual\": 41821.261719, \"position\": 41911.601563, \"action\": \"BUY\"}, {\"date\": \"2022-01-11T00:00:00\", \"actual\": 42735.855469, \"position\": 41821.261719, \"action\": \"BUY\"}, {\"date\": \"2022-01-12T00:00:00\", \"actual\": 43949.101563, \"position\": 42735.855469, \"action\": \"BUY\"}, {\"date\": \"2022-01-13T00:00:00\", \"actual\": 42591.570313, \"position\": 43949.101563, \"action\": \"BUY\"}, {\"date\": \"2022-01-14T00:00:00\", \"actual\": 43099.699219, \"position\": 42591.570313, \"action\": \"BUY\"}, {\"date\": \"2022-01-15T00:00:00\", \"actual\": 43177.398438, \"position\": 43099.699219, \"action\": \"BUY\"}, {\"date\": \"2022-01-16T00:00:00\", \"actual\": 43113.878906, \"position\": 43177.398438, \"action\": \"SELL\"}, {\"date\": \"2022-01-17T00:00:00\", \"actual\": 42250.550781, \"position\": 43113.878906, \"action\": \"BUY\"}, {\"date\": \"2022-01-18T00:00:00\", \"actual\": 42375.632813, \"position\": 42250.550781, \"action\": \"BUY\"}, {\"date\": \"2022-01-19T00:00:00\", \"actual\": 41744.328125, \"position\": 42375.632813, \"action\": \"BUY\"}, {\"date\": \"2022-01-20T00:00:00\", \"actual\": 40680.417969, \"position\": 41744.328125, \"action\": \"BUY\"}, {\"date\": \"2022-01-21T00:00:00\", \"actual\": 36457.316406, \"position\": 40680.417969, \"action\": \"BUY\"}, {\"date\": \"2022-01-22T00:00:00\", \"actual\": 35030.25, \"position\": 36457.316406, \"action\": \"BUY\"}, {\"date\": \"2022-01-23T00:00:00\", \"actual\": 36276.804688, \"position\": 35030.25, \"action\": \"BUY\"}, {\"date\": \"2022-01-24T00:00:00\", \"actual\": 36654.328125, \"position\": 36276.804688, \"action\": \"BUY\"}, {\"date\": \"2022-01-25T00:00:00\", \"actual\": 36954.003906, \"position\": 36654.328125, \"action\": \"BUY\"}, {\"date\": \"2022-01-26T00:00:00\", \"actual\": 36852.121094, \"position\": 36954.003906, \"action\": \"BUY\"}, {\"date\": \"2022-01-27T00:00:00\", \"actual\": 37138.234375, \"position\": 36852.121094, \"action\": \"BUY\"}, {\"date\": \"2022-01-28T00:00:00\", \"actual\": 37784.332031, \"position\": 37138.234375, \"action\": \"BUY\"}, {\"date\": \"2022-01-29T00:00:00\", \"actual\": 38138.179688, \"position\": 37784.332031, \"action\": \"BUY\"}, {\"date\": \"2022-01-30T00:00:00\", \"actual\": 37917.601563, \"position\": 38138.179688, \"action\": \"BUY\"}, {\"date\": \"2022-01-31T00:00:00\", \"actual\": 38483.125, \"position\": 37917.601563, \"action\": \"BUY\"}, {\"date\": \"2022-02-01T00:00:00\", \"actual\": 38743.273438, \"position\": 38483.125, \"action\": \"BUY\"}, {\"date\": \"2022-02-02T00:00:00\", \"actual\": 36952.984375, \"position\": 38743.273438, \"action\": \"BUY\"}, {\"date\": \"2022-02-03T00:00:00\", \"actual\": 37154.601563, \"position\": 36952.984375, \"action\": \"BUY\"}, {\"date\": \"2022-02-04T00:00:00\", \"actual\": 41500.875, \"position\": 37154.601563, \"action\": \"BUY\"}, {\"date\": \"2022-02-05T00:00:00\", \"actual\": 41441.164063, \"position\": 41500.875, \"action\": \"SELL\"}, {\"date\": \"2022-02-06T00:00:00\", \"actual\": 42412.433594, \"position\": 41441.164063, \"action\": \"BUY\"}, {\"date\": \"2022-02-07T00:00:00\", \"actual\": 43840.285156, \"position\": 42412.433594, \"action\": \"BUY\"}, {\"date\": \"2022-02-08T00:00:00\", \"actual\": 44118.445313, \"position\": 43840.285156, \"action\": \"SELL\"}, {\"date\": \"2022-02-09T00:00:00\", \"actual\": 44338.796875, \"position\": 44118.445313, \"action\": \"BUY\"}, {\"date\": \"2022-02-10T00:00:00\", \"actual\": 43565.113281, \"position\": 44338.796875, \"action\": \"BUY\"}, {\"date\": \"2022-02-11T00:00:00\", \"actual\": 42407.9375, \"position\": 43565.113281, \"action\": \"BUY\"}, {\"date\": \"2022-02-12T00:00:00\", \"actual\": 42244.46875, \"position\": 42407.9375, \"action\": \"BUY\"}, {\"date\": \"2022-02-13T00:00:00\", \"actual\": 42197.515625, \"position\": 42244.46875, \"action\": \"BUY\"}, {\"date\": \"2022-02-14T00:00:00\", \"actual\": 42586.917969, \"position\": 42197.515625, \"action\": \"BUY\"}, {\"date\": \"2022-02-15T00:00:00\", \"actual\": 44575.203125, \"position\": 42586.917969, \"action\": \"BUY\"}, {\"date\": \"2022-02-16T00:00:00\", \"actual\": 43961.859375, \"position\": 44575.203125, \"action\": \"BUY\"}, {\"date\": \"2022-02-17T00:00:00\", \"actual\": 40538.011719, \"position\": 43961.859375, \"action\": \"HOLD\"}, {\"date\": \"2022-02-18T00:00:00\", \"actual\": 40030.976563, \"position\": 40538.011719, \"action\": \"BUY\"}, {\"date\": \"2022-02-19T00:00:00\", \"actual\": 40122.15625, \"position\": 40030.976563, \"action\": \"BUY\"}, {\"date\": \"2022-02-20T00:00:00\", \"actual\": 38431.378906, \"position\": 40122.15625, \"action\": \"BUY\"}, {\"date\": \"2022-02-21T00:00:00\", \"actual\": 37075.28125, \"position\": 38431.378906, \"action\": \"BUY\"}, {\"date\": \"2022-02-22T00:00:00\", \"actual\": 38286.027344, \"position\": 37075.28125, \"action\": \"BUY\"}, {\"date\": \"2022-02-23T00:00:00\", \"actual\": 37296.570313, \"position\": 38286.027344, \"action\": \"BUY\"}, {\"date\": \"2022-02-24T00:00:00\", \"actual\": 38332.609375, \"position\": 37296.570313, \"action\": \"BUY\"}, {\"date\": \"2022-02-25T00:00:00\", \"actual\": 39214.21875, \"position\": 38332.609375, \"action\": \"BUY\"}, {\"date\": \"2022-02-26T00:00:00\", \"actual\": 39105.148438, \"position\": 39214.21875, \"action\": \"BUY\"}, {\"date\": \"2022-02-27T00:00:00\", \"actual\": 37709.785156, \"position\": 39105.148438, \"action\": \"SELL\"}, {\"date\": \"2022-02-28T00:00:00\", \"actual\": 43193.234375, \"position\": 37709.785156, \"action\": \"SELL\"}, {\"date\": \"2022-03-01T00:00:00\", \"actual\": 44354.636719, \"position\": 43193.234375, \"action\": \"SELL\"}, {\"date\": \"2022-03-02T00:00:00\", \"actual\": 43924.117188, \"position\": 44354.636719, \"action\": \"BUY\"}, {\"date\": \"2022-03-03T00:00:00\", \"actual\": 42451.789063, \"position\": 43924.117188, \"action\": \"SELL\"}, {\"date\": \"2022-03-04T00:00:00\", \"actual\": 39137.605469, \"position\": 42451.789063, \"action\": \"BUY\"}, {\"date\": \"2022-03-05T00:00:00\", \"actual\": 39400.585938, \"position\": 39137.605469, \"action\": \"BUY\"}, {\"date\": \"2022-03-06T00:00:00\", \"actual\": 38419.984375, \"position\": 39400.585938, \"action\": \"BUY\"}, {\"date\": \"2022-03-07T00:00:00\", \"actual\": 38062.039063, \"position\": 38419.984375, \"action\": \"BUY\"}, {\"date\": \"2022-03-08T00:00:00\", \"actual\": 38737.269531, \"position\": 38062.039063, \"action\": \"BUY\"}, {\"date\": \"2022-03-09T00:00:00\", \"actual\": 41982.925781, \"position\": 38737.269531, \"action\": \"BUY\"}, {\"date\": \"2022-03-10T00:00:00\", \"actual\": 39437.460938, \"position\": 41982.925781, \"action\": \"BUY\"}, {\"date\": \"2022-03-11T00:00:00\", \"actual\": 38794.972656, \"position\": 39437.460938, \"action\": \"BUY\"}, {\"date\": \"2022-03-12T00:00:00\", \"actual\": 38904.011719, \"position\": 38794.972656, \"action\": \"BUY\"}, {\"date\": \"2022-03-13T00:00:00\", \"actual\": 37849.664063, \"position\": 38904.011719, \"action\": \"BUY\"}, {\"date\": \"2022-03-14T00:00:00\", \"actual\": 39666.753906, \"position\": 37849.664063, \"action\": \"BUY\"}, {\"date\": \"2022-03-15T00:00:00\", \"actual\": 39338.785156, \"position\": 39666.753906, \"action\": \"BUY\"}, {\"date\": \"2022-03-16T00:00:00\", \"actual\": 41143.929688, \"position\": 39338.785156, \"action\": \"SELL\"}, {\"date\": \"2022-03-17T00:00:00\", \"actual\": 40951.378906, \"position\": 41143.929688, \"action\": \"BUY\"}, {\"date\": \"2022-03-18T00:00:00\", \"actual\": 41801.15625, \"position\": 40951.378906, \"action\": \"BUY\"}, {\"date\": \"2022-03-19T00:00:00\", \"actual\": 42190.652344, \"position\": 41801.15625, \"action\": \"BUY\"}, {\"date\": \"2022-03-20T00:00:00\", \"actual\": 41247.824219, \"position\": 42190.652344, \"action\": \"SELL\"}, {\"date\": \"2022-03-21T00:00:00\", \"actual\": 41077.996094, \"position\": 41247.824219, \"action\": \"SELL\"}, {\"date\": \"2022-03-22T00:00:00\", \"actual\": 42358.808594, \"position\": 41077.996094, \"action\": \"BUY\"}, {\"date\": \"2022-03-23T00:00:00\", \"actual\": 42892.957031, \"position\": 42358.808594, \"action\": \"SELL\"}, {\"date\": \"2022-03-24T00:00:00\", \"actual\": 43960.933594, \"position\": 42892.957031, \"action\": \"BUY\"}, {\"date\": \"2022-03-25T00:00:00\", \"actual\": 44348.730469, \"position\": 43960.933594, \"action\": \"BUY\"}, {\"date\": \"2022-03-26T00:00:00\", \"actual\": 44500.828125, \"position\": 44348.730469, \"action\": \"BUY\"}, {\"date\": \"2022-03-27T00:00:00\", \"actual\": 46820.492188, \"position\": 44500.828125, \"action\": \"BUY\"}, {\"date\": \"2022-03-28T00:00:00\", \"actual\": 47128.003906, \"position\": 46820.492188, \"action\": \"SELL\"}, {\"date\": \"2022-03-29T00:00:00\", \"actual\": 47465.730469, \"position\": 47128.003906, \"action\": \"BUY\"}, {\"date\": \"2022-03-30T00:00:00\", \"actual\": 47062.664063, \"position\": 47465.730469, \"action\": \"BUY\"}, {\"date\": \"2022-03-31T00:00:00\", \"actual\": 45538.675781, \"position\": 47062.664063, \"action\": \"BUY\"}, {\"date\": \"2022-04-01T00:00:00\", \"actual\": 46281.644531, \"position\": 45538.675781, \"action\": \"BUY\"}, {\"date\": \"2022-04-02T00:00:00\", \"actual\": 45868.949219, \"position\": 46281.644531, \"action\": \"BUY\"}, {\"date\": \"2022-04-03T00:00:00\", \"actual\": 46453.566406, \"position\": 45868.949219, \"action\": \"BUY\"}, {\"date\": \"2022-04-04T00:00:00\", \"actual\": 46622.675781, \"position\": 46453.566406, \"action\": \"BUY\"}, {\"date\": \"2022-04-05T00:00:00\", \"actual\": 45555.992188, \"position\": 46622.675781, \"action\": \"SELL\"}, {\"date\": \"2022-04-06T00:00:00\", \"actual\": 43206.738281, \"position\": 45555.992188, \"action\": \"SELL\"}, {\"date\": \"2022-04-07T00:00:00\", \"actual\": 43503.847656, \"position\": 43206.738281, \"action\": \"SELL\"}, {\"date\": \"2022-04-08T00:00:00\", \"actual\": 42287.664063, \"position\": 43503.847656, \"action\": \"SELL\"}, {\"date\": \"2022-04-09T00:00:00\", \"actual\": 42782.136719, \"position\": 42287.664063, \"action\": \"BUY\"}, {\"date\": \"2022-04-10T00:00:00\", \"actual\": 42207.671875, \"position\": 42782.136719, \"action\": \"BUY\"}, {\"date\": \"2022-04-11T00:00:00\", \"actual\": 39521.902344, \"position\": 42207.671875, \"action\": \"BUY\"}, {\"date\": \"2022-04-12T00:00:00\", \"actual\": 40127.183594, \"position\": 39521.902344, \"action\": \"SELL\"}, {\"date\": \"2022-04-13T00:00:00\", \"actual\": 41166.730469, \"position\": 40127.183594, \"action\": \"SELL\"}, {\"date\": \"2022-04-14T00:00:00\", \"actual\": 39935.515625, \"position\": 41166.730469, \"action\": \"SELL\"}, {\"date\": \"2022-04-15T00:00:00\", \"actual\": 40553.464844, \"position\": 39935.515625, \"action\": \"BUY\"}, {\"date\": \"2022-04-16T00:00:00\", \"actual\": 40424.484375, \"position\": 40553.464844, \"action\": \"SELL\"}, {\"date\": \"2022-04-17T00:00:00\", \"actual\": 39716.953125, \"position\": 40424.484375, \"action\": \"BUY\"}, {\"date\": \"2022-04-18T00:00:00\", \"actual\": 40826.214844, \"position\": 39716.953125, \"action\": \"BUY\"}, {\"date\": \"2022-04-19T00:00:00\", \"actual\": 41502.75, \"position\": 40826.214844, \"action\": \"BUY\"}, {\"date\": \"2022-04-20T00:00:00\", \"actual\": 41374.378906, \"position\": 41502.75, \"action\": \"BUY\"}, {\"date\": \"2022-04-21T00:00:00\", \"actual\": 40527.363281, \"position\": 41374.378906, \"action\": \"BUY\"}, {\"date\": \"2022-04-22T00:00:00\", \"actual\": 39740.320313, \"position\": 40527.363281, \"action\": \"BUY\"}, {\"date\": \"2022-04-23T00:00:00\", \"actual\": 39486.730469, \"position\": 39740.320313, \"action\": \"BUY\"}, {\"date\": \"2022-04-24T00:00:00\", \"actual\": 39469.292969, \"position\": 39486.730469, \"action\": \"BUY\"}, {\"date\": \"2022-04-25T00:00:00\", \"actual\": 40458.308594, \"position\": 39469.292969, \"action\": \"BUY\"}, {\"date\": \"2022-04-26T00:00:00\", \"actual\": 38117.460938, \"position\": 40458.308594, \"action\": \"BUY\"}, {\"date\": \"2022-04-27T00:00:00\", \"actual\": 39241.121094, \"position\": 38117.460938, \"action\": \"BUY\"}, {\"date\": \"2022-04-28T00:00:00\", \"actual\": 39773.828125, \"position\": 39241.121094, \"action\": \"BUY\"}, {\"date\": \"2022-04-29T00:00:00\", \"actual\": 38609.824219, \"position\": 39773.828125, \"action\": \"BUY\"}, {\"date\": \"2022-04-30T00:00:00\", \"actual\": 37714.875, \"position\": 38609.824219, \"action\": \"BUY\"}, {\"date\": \"2022-05-01T00:00:00\", \"actual\": 38469.09375, \"position\": 37714.875, \"action\": \"BUY\"}, {\"date\": \"2022-05-02T00:00:00\", \"actual\": 38529.328125, \"position\": 38469.09375, \"action\": \"BUY\"}, {\"date\": \"2022-05-03T00:00:00\", \"actual\": 37750.453125, \"position\": 38529.328125, \"action\": \"BUY\"}, {\"date\": \"2022-05-04T00:00:00\", \"actual\": 39698.371094, \"position\": 37750.453125, \"action\": \"SELL\"}, {\"date\": \"2022-05-05T00:00:00\", \"actual\": 36575.140625, \"position\": 39698.371094, \"action\": \"BUY\"}, {\"date\": \"2022-05-06T00:00:00\", \"actual\": 36040.921875, \"position\": 36575.140625, \"action\": \"HOLD\"}, {\"date\": \"2022-05-07T00:00:00\", \"actual\": 35501.953125, \"position\": 36040.921875, \"action\": \"BUY\"}, {\"date\": \"2022-05-08T00:00:00\", \"actual\": 34059.265625, \"position\": 35501.953125, \"action\": \"BUY\"}, {\"date\": \"2022-05-09T00:00:00\", \"actual\": 30296.953125, \"position\": 34059.265625, \"action\": \"BUY\"}, {\"date\": \"2022-05-10T00:00:00\", \"actual\": 31022.90625, \"position\": 30296.953125, \"action\": \"BUY\"}, {\"date\": \"2022-05-11T00:00:00\", \"actual\": 28936.355469, \"position\": 31022.90625, \"action\": \"BUY\"}, {\"date\": \"2022-05-12T00:00:00\", \"actual\": 29047.751953, \"position\": 28936.355469, \"action\": \"BUY\"}, {\"date\": \"2022-05-13T00:00:00\", \"actual\": 29283.103516, \"position\": 29047.751953, \"action\": \"BUY\"}, {\"date\": \"2022-05-14T00:00:00\", \"actual\": 30101.265625, \"position\": 29283.103516, \"action\": \"BUY\"}, {\"date\": \"2022-05-15T00:00:00\", \"actual\": 31305.113281, \"position\": 30101.265625, \"action\": \"BUY\"}, {\"date\": \"2022-05-16T00:00:00\", \"actual\": 29862.917969, \"position\": 31305.113281, \"action\": \"BUY\"}, {\"date\": \"2022-05-17T00:00:00\", \"actual\": 30425.857422, \"position\": 29862.917969, \"action\": \"BUY\"}, {\"date\": \"2022-05-18T00:00:00\", \"actual\": 28720.271484, \"position\": 30425.857422, \"action\": \"BUY\"}, {\"date\": \"2022-05-19T00:00:00\", \"actual\": 30314.333984, \"position\": 28720.271484, \"action\": \"SELL\"}, {\"date\": \"2022-05-20T00:00:00\", \"actual\": 29200.740234, \"position\": 30314.333984, \"action\": \"BUY\"}, {\"date\": \"2022-05-21T00:00:00\", \"actual\": 29432.226563, \"position\": 29200.740234, \"action\": \"BUY\"}, {\"date\": \"2022-05-22T00:00:00\", \"actual\": 30323.722656, \"position\": 29432.226563, \"action\": \"BUY\"}, {\"date\": \"2022-05-23T00:00:00\", \"actual\": 29098.910156, \"position\": 30323.722656, \"action\": \"BUY\"}, {\"date\": \"2022-05-24T00:00:00\", \"actual\": 29655.585938, \"position\": 29098.910156, \"action\": \"BUY\"}, {\"date\": \"2022-05-25T00:00:00\", \"actual\": 29562.361328, \"position\": 29655.585938, \"action\": \"BUY\"}, {\"date\": \"2022-05-26T00:00:00\", \"actual\": 29267.224609, \"position\": 29562.361328, \"action\": \"SELL\"}, {\"date\": \"2022-05-27T00:00:00\", \"actual\": 28627.574219, \"position\": 29267.224609, \"action\": \"BUY\"}, {\"date\": \"2022-05-28T00:00:00\", \"actual\": 28814.900391, \"position\": 28627.574219, \"action\": \"BUY\"}, {\"date\": \"2022-05-29T00:00:00\", \"actual\": 29445.957031, \"position\": 28814.900391, \"action\": \"BUY\"}, {\"date\": \"2022-05-30T00:00:00\", \"actual\": 31726.390625, \"position\": 29445.957031, \"action\": \"BUY\"}, {\"date\": \"2022-05-31T00:00:00\", \"actual\": 31792.310547, \"position\": 31726.390625, \"action\": \"BUY\"}, {\"date\": \"2022-06-01T00:00:00\", \"actual\": 29799.080078, \"position\": 31792.310547, \"action\": \"BUY\"}, {\"date\": \"2022-06-02T00:00:00\", \"actual\": 30467.488281, \"position\": 29799.080078, \"action\": \"BUY\"}, {\"date\": \"2022-06-03T00:00:00\", \"actual\": 29704.390625, \"position\": 30467.488281, \"action\": \"BUY\"}, {\"date\": \"2022-06-04T00:00:00\", \"actual\": 29832.914063, \"position\": 29704.390625, \"action\": \"BUY\"}, {\"date\": \"2022-06-05T00:00:00\", \"actual\": 29906.662109, \"position\": 29832.914063, \"action\": \"BUY\"}, {\"date\": \"2022-06-06T00:00:00\", \"actual\": 31370.671875, \"position\": 29906.662109, \"action\": \"BUY\"}, {\"date\": \"2022-06-07T00:00:00\", \"actual\": 31155.478516, \"position\": 31370.671875, \"action\": \"BUY\"}, {\"date\": \"2022-06-08T00:00:00\", \"actual\": 30214.355469, \"position\": 31155.478516, \"action\": \"BUY\"}, {\"date\": \"2022-06-09T00:00:00\", \"actual\": 30111.998047, \"position\": 30214.355469, \"action\": \"BUY\"}, {\"date\": \"2022-06-10T00:00:00\", \"actual\": 29083.804688, \"position\": 30111.998047, \"action\": \"BUY\"}, {\"date\": \"2022-06-11T00:00:00\", \"actual\": 28360.810547, \"position\": 29083.804688, \"action\": \"BUY\"}, {\"date\": \"2022-06-12T00:00:00\", \"actual\": 26762.648438, \"position\": 28360.810547, \"action\": \"BUY\"}, {\"date\": \"2022-06-13T00:00:00\", \"actual\": 22487.388672, \"position\": 26762.648438, \"action\": \"BUY\"}, {\"date\": \"2022-06-14T00:00:00\", \"actual\": 22206.792969, \"position\": 22487.388672, \"action\": \"BUY\"}, {\"date\": \"2022-06-15T00:00:00\", \"actual\": 22572.839844, \"position\": 22206.792969, \"action\": \"BUY\"}, {\"date\": \"2022-06-16T00:00:00\", \"actual\": 20381.650391, \"position\": 22572.839844, \"action\": \"BUY\"}, {\"date\": \"2022-06-17T00:00:00\", \"actual\": 20471.482422, \"position\": 20381.650391, \"action\": \"BUY\"}, {\"date\": \"2022-06-18T00:00:00\", \"actual\": 19017.642578, \"position\": 20471.482422, \"action\": \"BUY\"}, {\"date\": \"2022-06-19T00:00:00\", \"actual\": 20553.271484, \"position\": 19017.642578, \"action\": \"BUY\"}, {\"date\": \"2022-06-20T00:00:00\", \"actual\": 20599.537109, \"position\": 20553.271484, \"action\": \"BUY\"}, {\"date\": \"2022-06-21T00:00:00\", \"actual\": 20710.597656, \"position\": 20599.537109, \"action\": \"BUY\"}, {\"date\": \"2022-06-22T00:00:00\", \"actual\": 19987.029297, \"position\": 20710.597656, \"action\": \"BUY\"}, {\"date\": \"2022-06-23T00:00:00\", \"actual\": 21085.876953, \"position\": 19987.029297, \"action\": \"BUY\"}, {\"date\": \"2022-06-24T00:00:00\", \"actual\": 21231.65625, \"position\": 21085.876953, \"action\": \"BUY\"}, {\"date\": \"2022-06-25T00:00:00\", \"actual\": 21502.337891, \"position\": 21231.65625, \"action\": \"BUY\"}, {\"date\": \"2022-06-26T00:00:00\", \"actual\": 21027.294922, \"position\": 21502.337891, \"action\": \"BUY\"}, {\"date\": \"2022-06-27T00:00:00\", \"actual\": 20735.478516, \"position\": 21027.294922, \"action\": \"BUY\"}, {\"date\": \"2022-06-28T00:00:00\", \"actual\": 20280.634766, \"position\": 20735.478516, \"action\": \"BUY\"}, {\"date\": \"2022-06-29T00:00:00\", \"actual\": 20104.023438, \"position\": 20280.634766, \"action\": \"BUY\"}, {\"date\": \"2022-06-30T00:00:00\", \"actual\": 19784.726563, \"position\": 20104.023438, \"action\": \"BUY\"}, {\"date\": \"2022-07-01T00:00:00\", \"actual\": 19269.367188, \"position\": 19784.726563, \"action\": \"BUY\"}, {\"date\": \"2022-07-02T00:00:00\", \"actual\": 19242.255859, \"position\": 19269.367188, \"action\": \"BUY\"}, {\"date\": \"2022-07-03T00:00:00\", \"actual\": 19297.076172, \"position\": 19242.255859, \"action\": \"BUY\"}, {\"date\": \"2022-07-04T00:00:00\", \"actual\": 20231.261719, \"position\": 19297.076172, \"action\": \"BUY\"}, {\"date\": \"2022-07-05T00:00:00\", \"actual\": 20190.115234, \"position\": 20231.261719, \"action\": \"BUY\"}, {\"date\": \"2022-07-06T00:00:00\", \"actual\": 20548.246094, \"position\": 20190.115234, \"action\": \"BUY\"}, {\"date\": \"2022-07-07T00:00:00\", \"actual\": 21637.587891, \"position\": 20548.246094, \"action\": \"BUY\"}, {\"date\": \"2022-07-08T00:00:00\", \"actual\": 21731.117188, \"position\": 21637.587891, \"action\": \"BUY\"}, {\"date\": \"2022-07-09T00:00:00\", \"actual\": 21592.207031, \"position\": 21731.117188, \"action\": \"BUY\"}, {\"date\": \"2022-07-10T00:00:00\", \"actual\": 20860.449219, \"position\": 21592.207031, \"action\": \"BUY\"}, {\"date\": \"2022-07-11T00:00:00\", \"actual\": 19970.556641, \"position\": 20860.449219, \"action\": \"BUY\"}, {\"date\": \"2022-07-12T00:00:00\", \"actual\": 19323.914063, \"position\": 19970.556641, \"action\": \"BUY\"}, {\"date\": \"2022-07-13T00:00:00\", \"actual\": 20212.074219, \"position\": 19323.914063, \"action\": \"BUY\"}, {\"date\": \"2022-07-14T00:00:00\", \"actual\": 20569.919922, \"position\": 20212.074219, \"action\": \"BUY\"}, {\"date\": \"2022-07-15T00:00:00\", \"actual\": 20836.328125, \"position\": 20569.919922, \"action\": \"BUY\"}, {\"date\": \"2022-07-16T00:00:00\", \"actual\": 21190.316406, \"position\": 20836.328125, \"action\": \"BUY\"}, {\"date\": \"2022-07-17T00:00:00\", \"actual\": 20779.34375, \"position\": 21190.316406, \"action\": \"BUY\"}, {\"date\": \"2022-07-18T00:00:00\", \"actual\": 22485.689453, \"position\": 20779.34375, \"action\": \"BUY\"}, {\"date\": \"2022-07-19T00:00:00\", \"actual\": 23389.433594, \"position\": 22485.689453, \"action\": \"BUY\"}, {\"date\": \"2022-07-20T00:00:00\", \"actual\": 23231.732422, \"position\": 23389.433594, \"action\": \"BUY\"}, {\"date\": \"2022-07-21T00:00:00\", \"actual\": 23164.628906, \"position\": 23231.732422, \"action\": \"BUY\"}, {\"date\": \"2022-07-22T00:00:00\", \"actual\": 22714.978516, \"position\": 23164.628906, \"action\": \"BUY\"}, {\"date\": \"2022-07-23T00:00:00\", \"actual\": 22465.478516, \"position\": 22714.978516, \"action\": \"BUY\"}, {\"date\": \"2022-07-24T00:00:00\", \"actual\": 22609.164063, \"position\": 22465.478516, \"action\": \"BUY\"}, {\"date\": \"2022-07-25T00:00:00\", \"actual\": 21361.701172, \"position\": 22609.164063, \"action\": \"BUY\"}, {\"date\": \"2022-07-26T00:00:00\", \"actual\": 21239.753906, \"position\": 21361.701172, \"action\": \"BUY\"}, {\"date\": \"2022-07-27T00:00:00\", \"actual\": 22930.548828, \"position\": 21239.753906, \"action\": \"BUY\"}, {\"date\": \"2022-07-28T00:00:00\", \"actual\": 23843.886719, \"position\": 22930.548828, \"action\": \"BUY\"}, {\"date\": \"2022-07-29T00:00:00\", \"actual\": 23804.632813, \"position\": 23843.886719, \"action\": \"BUY\"}, {\"date\": \"2022-07-30T00:00:00\", \"actual\": 23656.207031, \"position\": 23804.632813, \"action\": \"BUY\"}, {\"date\": \"2022-07-31T00:00:00\", \"actual\": 23336.896484, \"position\": 23656.207031, \"action\": \"BUY\"}, {\"date\": \"2022-08-01T00:00:00\", \"actual\": 23314.199219, \"position\": 23336.896484, \"action\": \"BUY\"}, {\"date\": \"2022-08-02T00:00:00\", \"actual\": 22978.117188, \"position\": 23314.199219, \"action\": \"BUY\"}, {\"date\": \"2022-08-03T00:00:00\", \"actual\": 22846.507813, \"position\": 22978.117188, \"action\": \"BUY\"}, {\"date\": \"2022-08-04T00:00:00\", \"actual\": 22630.957031, \"position\": 22846.507813, \"action\": \"BUY\"}, {\"date\": \"2022-08-05T00:00:00\", \"actual\": 23289.314453, \"position\": 22630.957031, \"action\": \"BUY\"}, {\"date\": \"2022-08-06T00:00:00\", \"actual\": 22961.279297, \"position\": 23289.314453, \"action\": \"BUY\"}, {\"date\": \"2022-08-07T00:00:00\", \"actual\": 23175.890625, \"position\": 22961.279297, \"action\": \"BUY\"}, {\"date\": \"2022-08-08T00:00:00\", \"actual\": 23809.486328, \"position\": 23175.890625, \"action\": \"BUY\"}, {\"date\": \"2022-08-09T00:00:00\", \"actual\": 23164.318359, \"position\": 23809.486328, \"action\": \"BUY\"}, {\"date\": \"2022-08-10T00:00:00\", \"actual\": 23947.642578, \"position\": 23164.318359, \"action\": \"BUY\"}, {\"date\": \"2022-08-11T00:00:00\", \"actual\": 23957.529297, \"position\": 23947.642578, \"action\": \"BUY\"}, {\"date\": \"2022-08-12T00:00:00\", \"actual\": 24402.818359, \"position\": 23957.529297, \"action\": \"BUY\"}, {\"date\": \"2022-08-13T00:00:00\", \"actual\": 24424.068359, \"position\": 24402.818359, \"action\": \"BUY\"}, {\"date\": \"2022-08-14T00:00:00\", \"actual\": 24319.333984, \"position\": 24424.068359, \"action\": \"BUY\"}, {\"date\": \"2022-08-15T00:00:00\", \"actual\": 24136.972656, \"position\": 24319.333984, \"action\": \"BUY\"}, {\"date\": \"2022-08-16T00:00:00\", \"actual\": 23883.291016, \"position\": 24136.972656, \"action\": \"BUY\"}, {\"date\": \"2022-08-17T00:00:00\", \"actual\": 23335.998047, \"position\": 23883.291016, \"action\": \"BUY\"}, {\"date\": \"2022-08-18T00:00:00\", \"actual\": 23212.738281, \"position\": 23335.998047, \"action\": \"BUY\"}, {\"date\": \"2022-08-19T00:00:00\", \"actual\": 20877.552734, \"position\": 23212.738281, \"action\": \"BUY\"}, {\"date\": \"2022-08-20T00:00:00\", \"actual\": 21166.060547, \"position\": 20877.552734, \"action\": \"BUY\"}, {\"date\": \"2022-08-21T00:00:00\", \"actual\": 21534.121094, \"position\": 21166.060547, \"action\": \"BUY\"}, {\"date\": \"2022-08-22T00:00:00\", \"actual\": 21398.908203, \"position\": 21534.121094, \"action\": \"BUY\"}, {\"date\": \"2022-08-23T00:00:00\", \"actual\": 21528.087891, \"position\": 21398.908203, \"action\": \"BUY\"}, {\"date\": \"2022-08-24T00:00:00\", \"actual\": 21395.019531, \"position\": 21528.087891, \"action\": \"BUY\"}, {\"date\": \"2022-08-25T00:00:00\", \"actual\": 21600.904297, \"position\": 21395.019531, \"action\": \"BUY\"}, {\"date\": \"2022-08-26T00:00:00\", \"actual\": 20260.019531, \"position\": 21600.904297, \"action\": \"BUY\"}, {\"date\": \"2022-08-27T00:00:00\", \"actual\": 20041.738281, \"position\": 20260.019531, \"action\": \"BUY\"}, {\"date\": \"2022-08-28T00:00:00\", \"actual\": 19616.814453, \"position\": 20041.738281, \"action\": \"BUY\"}, {\"date\": \"2022-08-29T00:00:00\", \"actual\": 20297.994141, \"position\": 19616.814453, \"action\": \"BUY\"}, {\"date\": \"2022-08-30T00:00:00\", \"actual\": 19796.808594, \"position\": 20297.994141, \"action\": \"BUY\"}, {\"date\": \"2022-08-31T00:00:00\", \"actual\": 20049.763672, \"position\": 19796.808594, \"action\": \"BUY\"}, {\"date\": \"2022-09-01T00:00:00\", \"actual\": 20127.140625, \"position\": 20049.763672, \"action\": \"BUY\"}, {\"date\": \"2022-09-02T00:00:00\", \"actual\": 19969.771484, \"position\": 20127.140625, \"action\": \"BUY\"}, {\"date\": \"2022-09-03T00:00:00\", \"actual\": 19832.087891, \"position\": 19969.771484, \"action\": \"BUY\"}, {\"date\": \"2022-09-04T00:00:00\", \"actual\": 19986.712891, \"position\": 19832.087891, \"action\": \"BUY\"}, {\"date\": \"2022-09-05T00:00:00\", \"actual\": 19812.371094, \"position\": 19986.712891, \"action\": \"BUY\"}, {\"date\": \"2022-09-06T00:00:00\", \"actual\": 18837.667969, \"position\": 19812.371094, \"action\": \"BUY\"}, {\"date\": \"2022-09-07T00:00:00\", \"actual\": 19290.324219, \"position\": 18837.667969, \"action\": \"BUY\"}, {\"date\": \"2022-09-08T00:00:00\", \"actual\": 19329.833984, \"position\": 19290.324219, \"action\": \"BUY\"}, {\"date\": \"2022-09-09T00:00:00\", \"actual\": 21381.152344, \"position\": 19329.833984, \"action\": \"BUY\"}, {\"date\": \"2022-09-10T00:00:00\", \"actual\": 21680.539063, \"position\": 21381.152344, \"action\": \"BUY\"}, {\"date\": \"2022-09-11T00:00:00\", \"actual\": 21769.255859, \"position\": 21680.539063, \"action\": \"BUY\"}, {\"date\": \"2022-09-12T00:00:00\", \"actual\": 22370.449219, \"position\": 21769.255859, \"action\": \"BUY\"}, {\"date\": \"2022-09-13T00:00:00\", \"actual\": 20296.707031, \"position\": 22370.449219, \"action\": \"BUY\"}, {\"date\": \"2022-09-14T00:00:00\", \"actual\": 20241.089844, \"position\": 20296.707031, \"action\": \"BUY\"}, {\"date\": \"2022-09-15T00:00:00\", \"actual\": 19701.210938, \"position\": 20241.089844, \"action\": \"BUY\"}, {\"date\": \"2022-09-16T00:00:00\", \"actual\": 19772.583984, \"position\": 19701.210938, \"action\": \"BUY\"}, {\"date\": \"2022-09-17T00:00:00\", \"actual\": 20127.576172, \"position\": 19772.583984, \"action\": \"BUY\"}, {\"date\": \"2022-09-18T00:00:00\", \"actual\": 19419.505859, \"position\": 20127.576172, \"action\": \"BUY\"}, {\"date\": \"2022-09-19T00:00:00\", \"actual\": 19544.128906, \"position\": 19419.505859, \"action\": \"BUY\"}, {\"date\": \"2022-09-20T00:00:00\", \"actual\": 18890.789063, \"position\": 19544.128906, \"action\": \"BUY\"}, {\"date\": \"2022-09-21T00:00:00\", \"actual\": 18547.400391, \"position\": 18890.789063, \"action\": \"BUY\"}, {\"date\": \"2022-09-22T00:00:00\", \"actual\": 19413.550781, \"position\": 18547.400391, \"action\": \"BUY\"}, {\"date\": \"2022-09-23T00:00:00\", \"actual\": 19297.638672, \"position\": 19413.550781, \"action\": \"BUY\"}, {\"date\": \"2022-09-24T00:00:00\", \"actual\": 18937.011719, \"position\": 19297.638672, \"action\": \"BUY\"}, {\"date\": \"2022-09-25T00:00:00\", \"actual\": 18802.097656, \"position\": 18937.011719, \"action\": \"BUY\"}, {\"date\": \"2022-09-26T00:00:00\", \"actual\": 19222.671875, \"position\": 18802.097656, \"action\": \"BUY\"}, {\"date\": \"2022-09-27T00:00:00\", \"actual\": 19110.546875, \"position\": 19222.671875, \"action\": \"BUY\"}, {\"date\": \"2022-09-28T00:00:00\", \"actual\": 19426.720703, \"position\": 19110.546875, \"action\": \"BUY\"}, {\"date\": \"2022-09-29T00:00:00\", \"actual\": 19573.050781, \"position\": 19426.720703, \"action\": \"BUY\"}, {\"date\": \"2022-09-30T00:00:00\", \"actual\": 19431.789063, \"position\": 19573.050781, \"action\": \"BUY\"}, {\"date\": \"2022-10-01T00:00:00\", \"actual\": 19312.095703, \"position\": 19431.789063, \"action\": \"BUY\"}, {\"date\": \"2022-10-02T00:00:00\", \"actual\": 19044.107422, \"position\": 19312.095703, \"action\": \"BUY\"}, {\"date\": \"2022-10-03T00:00:00\", \"actual\": 19623.580078, \"position\": 19044.107422, \"action\": \"BUY\"}, {\"date\": \"2022-10-04T00:00:00\", \"actual\": 20336.84375, \"position\": 19623.580078, \"action\": \"BUY\"}, {\"date\": \"2022-10-05T00:00:00\", \"actual\": 20160.716797, \"position\": 20336.84375, \"action\": \"BUY\"}, {\"date\": \"2022-10-06T00:00:00\", \"actual\": 19955.443359, \"position\": 20160.716797, \"action\": \"BUY\"}, {\"date\": \"2022-10-07T00:00:00\", \"actual\": 19546.849609, \"position\": 19955.443359, \"action\": \"BUY\"}, {\"date\": \"2022-10-08T00:00:00\", \"actual\": 19416.568359, \"position\": 19546.849609, \"action\": \"BUY\"}, {\"date\": \"2022-10-09T00:00:00\", \"actual\": 19446.425781, \"position\": 19416.568359, \"action\": \"BUY\"}, {\"date\": \"2022-10-10T00:00:00\", \"actual\": 19141.484375, \"position\": 19446.425781, \"action\": \"BUY\"}, {\"date\": \"2022-10-11T00:00:00\", \"actual\": 19051.417969, \"position\": 19141.484375, \"action\": \"BUY\"}, {\"date\": \"2022-10-12T00:00:00\", \"actual\": 19157.445313, \"position\": 19051.417969, \"action\": \"BUY\"}, {\"date\": \"2022-10-13T00:00:00\", \"actual\": 19382.904297, \"position\": 19157.445313, \"action\": \"BUY\"}, {\"date\": \"2022-10-14T00:00:00\", \"actual\": 19185.65625, \"position\": 19382.904297, \"action\": \"BUY\"}, {\"date\": \"2022-10-15T00:00:00\", \"actual\": 19067.634766, \"position\": 19185.65625, \"action\": \"BUY\"}, {\"date\": \"2022-10-16T00:00:00\", \"actual\": 19268.09375, \"position\": 19067.634766, \"action\": \"BUY\"}, {\"date\": \"2022-10-17T00:00:00\", \"actual\": 19550.757813, \"position\": 19268.09375, \"action\": \"BUY\"}, {\"date\": \"2022-10-18T00:00:00\", \"actual\": 19334.416016, \"position\": 19550.757813, \"action\": \"BUY\"}, {\"date\": \"2022-10-19T00:00:00\", \"actual\": 19139.535156, \"position\": 19334.416016, \"action\": \"BUY\"}, {\"date\": \"2022-10-20T00:00:00\", \"actual\": 19053.740234, \"position\": 19139.535156, \"action\": \"BUY\"}, {\"date\": \"2022-10-21T00:00:00\", \"actual\": 19172.46875, \"position\": 19053.740234, \"action\": \"BUY\"}, {\"date\": \"2022-10-22T00:00:00\", \"actual\": 19208.189453, \"position\": 19172.46875, \"action\": \"BUY\"}, {\"date\": \"2022-10-23T00:00:00\", \"actual\": 19567.007813, \"position\": 19208.189453, \"action\": \"BUY\"}, {\"date\": \"2022-10-24T00:00:00\", \"actual\": 19345.572266, \"position\": 19567.007813, \"action\": \"BUY\"}, {\"date\": \"2022-10-25T00:00:00\", \"actual\": 20095.857422, \"position\": 19345.572266, \"action\": \"HOLD\"}, {\"date\": \"2022-10-26T00:00:00\", \"actual\": 20770.441406, \"position\": 20095.857422, \"action\": \"BUY\"}, {\"date\": \"2022-10-27T00:00:00\", \"actual\": 20285.835938, \"position\": 20770.441406, \"action\": \"BUY\"}, {\"date\": \"2022-10-28T00:00:00\", \"actual\": 20595.351563, \"position\": 20285.835938, \"action\": \"BUY\"}, {\"date\": \"2022-10-29T00:00:00\", \"actual\": 20818.476563, \"position\": 20595.351563, \"action\": \"BUY\"}, {\"date\": \"2022-10-30T00:00:00\", \"actual\": 20635.603516, \"position\": 20818.476563, \"action\": \"SELL\"}, {\"date\": \"2022-10-31T00:00:00\", \"actual\": 20495.773438, \"position\": 20635.603516, \"action\": \"BUY\"}, {\"date\": \"2022-11-01T00:00:00\", \"actual\": 20485.273438, \"position\": 20495.773438, \"action\": \"BUY\"}, {\"date\": \"2022-11-02T00:00:00\", \"actual\": 20159.503906, \"position\": 20485.273438, \"action\": \"BUY\"}, {\"date\": \"2022-11-03T00:00:00\", \"actual\": 20209.988281, \"position\": 20159.503906, \"action\": \"BUY\"}, {\"date\": \"2022-11-04T00:00:00\", \"actual\": 21147.230469, \"position\": 20209.988281, \"action\": \"BUY\"}, {\"date\": \"2022-11-05T00:00:00\", \"actual\": 21282.691406, \"position\": 21147.230469, \"action\": \"BUY\"}, {\"date\": \"2022-11-06T00:00:00\", \"actual\": 20926.486328, \"position\": 21282.691406, \"action\": \"BUY\"}, {\"date\": \"2022-11-07T00:00:00\", \"actual\": 20602.816406, \"position\": 20926.486328, \"action\": \"BUY\"}, {\"date\": \"2022-11-08T00:00:00\", \"actual\": 18541.271484, \"position\": 20602.816406, \"action\": \"BUY\"}, {\"date\": \"2022-11-09T00:00:00\", \"actual\": 15880.780273, \"position\": 18541.271484, \"action\": \"BUY\"}, {\"date\": \"2022-11-10T00:00:00\", \"actual\": 17586.771484, \"position\": 15880.780273, \"action\": \"BUY\"}, {\"date\": \"2022-11-11T00:00:00\", \"actual\": 17034.292969, \"position\": 17586.771484, \"action\": \"BUY\"}, {\"date\": \"2022-11-12T00:00:00\", \"actual\": 16799.185547, \"position\": 17034.292969, \"action\": \"BUY\"}, {\"date\": \"2022-11-13T00:00:00\", \"actual\": 16353.365234, \"position\": 16799.185547, \"action\": \"BUY\"}, {\"date\": \"2022-11-14T00:00:00\", \"actual\": 16618.199219, \"position\": 16353.365234, \"action\": \"BUY\"}, {\"date\": \"2022-11-15T00:00:00\", \"actual\": 16884.613281, \"position\": 16618.199219, \"action\": \"BUY\"}, {\"date\": \"2022-11-16T00:00:00\", \"actual\": 16669.439453, \"position\": 16884.613281, \"action\": \"BUY\"}, {\"date\": \"2022-11-17T00:00:00\", \"actual\": 16687.517578, \"position\": 16669.439453, \"action\": \"BUY\"}, {\"date\": \"2022-11-18T00:00:00\", \"actual\": 16697.777344, \"position\": 16687.517578, \"action\": \"HOLD\"}, {\"date\": \"2022-11-19T00:00:00\", \"actual\": 16711.546875, \"position\": 16697.777344, \"action\": \"BUY\"}, {\"date\": \"2022-11-20T00:00:00\", \"actual\": 16291.832031, \"position\": 16711.546875, \"action\": \"BUY\"}, {\"date\": \"2022-11-21T00:00:00\", \"actual\": 15787.28418, \"position\": 16291.832031, \"action\": \"BUY\"}, {\"date\": \"2022-11-22T00:00:00\", \"actual\": 16189.769531, \"position\": 15787.28418, \"action\": \"BUY\"}, {\"date\": \"2022-11-23T00:00:00\", \"actual\": 16610.707031, \"position\": 16189.769531, \"action\": \"BUY\"}, {\"date\": \"2022-11-24T00:00:00\", \"actual\": 16604.464844, \"position\": 16610.707031, \"action\": \"BUY\"}, {\"date\": \"2022-11-25T00:00:00\", \"actual\": 16521.841797, \"position\": 16604.464844, \"action\": \"BUY\"}, {\"date\": \"2022-11-26T00:00:00\", \"actual\": 16464.28125, \"position\": 16521.841797, \"action\": \"BUY\"}, {\"date\": \"2022-11-27T00:00:00\", \"actual\": 16444.626953, \"position\": 16464.28125, \"action\": \"BUY\"}, {\"date\": \"2022-11-28T00:00:00\", \"actual\": 16217.322266, \"position\": 16444.626953, \"action\": \"BUY\"}, {\"date\": \"2022-11-29T00:00:00\", \"actual\": 16444.982422, \"position\": 16217.322266, \"action\": \"BUY\"}, {\"date\": \"2022-11-30T00:00:00\", \"actual\": 17168.566406, \"position\": 16444.982422, \"action\": \"BUY\"}, {\"date\": \"2022-12-01T00:00:00\", \"actual\": 16967.132813, \"position\": 17168.566406, \"action\": \"BUY\"}, {\"date\": \"2022-12-02T00:00:00\", \"actual\": 17088.660156, \"position\": 16967.132813, \"action\": \"BUY\"}, {\"date\": \"2022-12-03T00:00:00\", \"actual\": 16908.236328, \"position\": 17088.660156, \"action\": \"BUY\"}, {\"date\": \"2022-12-04T00:00:00\", \"actual\": 17130.486328, \"position\": 16908.236328, \"action\": \"BUY\"}, {\"date\": \"2022-12-05T00:00:00\", \"actual\": 16974.826172, \"position\": 17130.486328, \"action\": \"BUY\"}, {\"date\": \"2022-12-06T00:00:00\", \"actual\": 17089.503906, \"position\": 16974.826172, \"action\": \"BUY\"}, {\"date\": \"2022-12-07T00:00:00\", \"actual\": 16848.126953, \"position\": 17089.503906, \"action\": \"BUY\"}, {\"date\": \"2022-12-08T00:00:00\", \"actual\": 17233.474609, \"position\": 16848.126953, \"action\": \"BUY\"}, {\"date\": \"2022-12-09T00:00:00\", \"actual\": 17133.152344, \"position\": 17233.474609, \"action\": \"SELL\"}, {\"date\": \"2022-12-10T00:00:00\", \"actual\": 17128.724609, \"position\": 17133.152344, \"action\": \"BUY\"}, {\"date\": \"2022-12-11T00:00:00\", \"actual\": 17104.193359, \"position\": 17128.724609, \"action\": \"BUY\"}, {\"date\": \"2022-12-12T00:00:00\", \"actual\": 17206.4375, \"position\": 17104.193359, \"action\": \"BUY\"}, {\"date\": \"2022-12-13T00:00:00\", \"actual\": 17781.318359, \"position\": 17206.4375, \"action\": \"BUY\"}, {\"date\": \"2022-12-14T00:00:00\", \"actual\": 17815.650391, \"position\": 17781.318359, \"action\": \"BUY\"}, {\"date\": \"2022-12-15T00:00:00\", \"actual\": 17364.865234, \"position\": 17815.650391, \"action\": \"BUY\"}, {\"date\": \"2022-12-16T00:00:00\", \"actual\": 16647.484375, \"position\": 17364.865234, \"action\": \"HOLD\"}, {\"date\": \"2022-12-17T00:00:00\", \"actual\": 16795.091797, \"position\": 16647.484375, \"action\": \"BUY\"}, {\"date\": \"2022-12-18T00:00:00\", \"actual\": 16757.976563, \"position\": 16795.091797, \"action\": \"BUY\"}, {\"date\": \"2022-12-19T00:00:00\", \"actual\": 16439.679688, \"position\": 16757.976563, \"action\": \"BUY\"}, {\"date\": \"2022-12-20T00:00:00\", \"actual\": 16906.304688, \"position\": 16439.679688, \"action\": \"BUY\"}, {\"date\": \"2022-12-21T00:00:00\", \"actual\": 16817.535156, \"position\": 16906.304688, \"action\": \"BUY\"}, {\"date\": \"2022-12-22T00:00:00\", \"actual\": 16830.341797, \"position\": 16817.535156, \"action\": \"BUY\"}, {\"date\": \"2022-12-23T00:00:00\", \"actual\": 16796.953125, \"position\": 16830.341797, \"action\": \"BUY\"}, {\"date\": \"2022-12-24T00:00:00\", \"actual\": 16847.755859, \"position\": 16796.953125, \"action\": \"BUY\"}, {\"date\": \"2022-12-25T00:00:00\", \"actual\": 16841.986328, \"position\": 16847.755859, \"action\": \"BUY\"}, {\"date\": \"2022-12-26T00:00:00\", \"actual\": 16919.804688, \"position\": 16841.986328, \"action\": \"BUY\"}, {\"date\": \"2022-12-27T00:00:00\", \"actual\": 16717.173828, \"position\": 16919.804688, \"action\": \"BUY\"}, {\"date\": \"2022-12-28T00:00:00\", \"actual\": 16552.572266, \"position\": 16717.173828, \"action\": \"BUY\"}, {\"date\": \"2022-12-29T00:00:00\", \"actual\": 16642.341797, \"position\": 16552.572266, \"action\": \"BUY\"}, {\"date\": \"2022-12-30T00:00:00\", \"actual\": 16602.585938, \"position\": 16642.341797, \"action\": \"BUY\"}, {\"date\": \"2022-12-31T00:00:00\", \"actual\": 16547.496094, \"position\": 16602.585938, \"action\": \"BUY\"}, {\"date\": \"2023-01-01T00:00:00\", \"actual\": 16625.080078, \"position\": 16547.496094, \"action\": \"BUY\"}, {\"date\": \"2023-01-02T00:00:00\", \"actual\": 16688.470703, \"position\": 16625.080078, \"action\": \"BUY\"}, {\"date\": \"2023-01-03T00:00:00\", \"actual\": 16679.857422, \"position\": 16688.470703, \"action\": \"BUY\"}, {\"date\": \"2023-01-04T00:00:00\", \"actual\": 16863.238281, \"position\": 16679.857422, \"action\": \"BUY\"}, {\"date\": \"2023-01-05T00:00:00\", \"actual\": 16836.736328, \"position\": 16863.238281, \"action\": \"BUY\"}, {\"date\": \"2023-01-06T00:00:00\", \"actual\": 16951.96875, \"position\": 16836.736328, \"action\": \"BUY\"}, {\"date\": \"2023-01-07T00:00:00\", \"actual\": 16955.078125, \"position\": 16951.96875, \"action\": \"BUY\"}, {\"date\": \"2023-01-08T00:00:00\", \"actual\": 17091.144531, \"position\": 16955.078125, \"action\": \"BUY\"}, {\"date\": \"2023-01-09T00:00:00\", \"actual\": 17196.554688, \"position\": 17091.144531, \"action\": \"BUY\"}, {\"date\": \"2023-01-10T00:00:00\", \"actual\": 17245.998047, \"position\": 17196.554688, \"action\": \"BUY\"}]}}, {\"mode\": \"vega-lite\"});\n",
       "</script>"
      ],
      "text/plain": [
       "alt.LayerChart(...)"
      ]
     },
     "execution_count": 197,
     "metadata": {},
     "output_type": "execute_result"
    }
   ],
   "source": [
    "chart = visualize(df, history, title='BITCOIN Currency -$63157.24 (T-DQN 30 ep & 1000 iter to update T-Net)')\n",
    "chart"
   ]
  }
 ],
 "metadata": {
  "kernelspec": {
   "display_name": "Python 3 (ipykernel)",
   "language": "python",
   "name": "python3"
  },
  "language_info": {
   "codemirror_mode": {
    "name": "ipython",
    "version": 3
   },
   "file_extension": ".py",
   "mimetype": "text/x-python",
   "name": "python",
   "nbconvert_exporter": "python",
   "pygments_lexer": "ipython3",
   "version": "3.9.7"
  },
  "vscode": {
   "interpreter": {
    "hash": "43b20931e0d61e1224db4161e737d8b7b6f4c38d78aea0329b1bc87e59d1d3af"
   }
  }
 },
 "nbformat": 4,
 "nbformat_minor": 4
}
