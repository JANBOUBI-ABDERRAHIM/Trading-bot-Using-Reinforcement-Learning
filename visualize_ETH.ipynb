{
 "cells": [
  {
   "cell_type": "code",
   "execution_count": null,
   "metadata": {},
   "outputs": [],
   "source": [
    "# from train import main"
   ]
  },
  {
   "cell_type": "code",
   "execution_count": null,
   "metadata": {},
   "outputs": [],
   "source": [
    "# train_stock = \"data/ETH-USD_Train.csv\"\n",
    "# val_stock = \"data/ETH-USD_Test.csv\"\n",
    "# strategy = \"dqn\"\n",
    "# window_size = 10\n",
    "# batch_size = 32\n",
    "# ep_count = 50\n",
    "# model_name = \"model_dqn_ETH-USD_epidodes_50\"\n",
    "# pretrained = False\n",
    "# debug = False"
   ]
  },
  {
   "cell_type": "code",
   "execution_count": null,
   "metadata": {},
   "outputs": [],
   "source": [
    "# main(train_stock, val_stock, window_size, batch_size,\n",
    "#         ep_count, strategy=strategy, model_name=model_name, \n",
    "#         pretrained=pretrained, debug=debug)"
   ]
  },
  {
   "cell_type": "markdown",
   "metadata": {},
   "source": [
    "# Visualization: Trading Session"
   ]
  },
  {
   "cell_type": "code",
   "execution_count": 4,
   "metadata": {},
   "outputs": [],
   "source": [
    "import pandas as pd\n",
    "import numpy as np\n",
    "\n",
    "import altair as alt\n",
    "import seaborn as sns"
   ]
  },
  {
   "cell_type": "markdown",
   "metadata": {},
   "source": [
    "### 1. Define parameters and Load model"
   ]
  },
  {
   "cell_type": "code",
   "execution_count": 60,
   "metadata": {},
   "outputs": [],
   "source": [
    "from trading_bot.agent import Agent\n",
    "\n",
    "model_name = '100_iter_change_target/model_t_dqn_ETH-USD_epidodes_50_20'\n",
    "# 50 ep = +$23.71 DQN\n",
    "# 10 ep = +$534.42 TDQN 100iter_change_target\n",
    "# 20 ep = +$1267.51 TDQN 100iter_change_target\n",
    "test_stock = 'data/ETH-USD_Test.csv'\n",
    "window_size = 10\n",
    "debug = True\n",
    "\n",
    "agent = Agent(window_size, pretrained=True, model_name=model_name)"
   ]
  },
  {
   "cell_type": "markdown",
   "metadata": {},
   "source": [
    "### 2. Load test data"
   ]
  },
  {
   "cell_type": "code",
   "execution_count": 61,
   "metadata": {},
   "outputs": [
    {
     "data": {
      "text/html": [
       "<div>\n",
       "<style scoped>\n",
       "    .dataframe tbody tr th:only-of-type {\n",
       "        vertical-align: middle;\n",
       "    }\n",
       "\n",
       "    .dataframe tbody tr th {\n",
       "        vertical-align: top;\n",
       "    }\n",
       "\n",
       "    .dataframe thead th {\n",
       "        text-align: right;\n",
       "    }\n",
       "</style>\n",
       "<table border=\"1\" class=\"dataframe\">\n",
       "  <thead>\n",
       "    <tr style=\"text-align: right;\">\n",
       "      <th></th>\n",
       "      <th>date</th>\n",
       "      <th>actual</th>\n",
       "    </tr>\n",
       "  </thead>\n",
       "  <tbody>\n",
       "    <tr>\n",
       "      <th>0</th>\n",
       "      <td>2022-01-01</td>\n",
       "      <td>3769.697021</td>\n",
       "    </tr>\n",
       "    <tr>\n",
       "      <th>1</th>\n",
       "      <td>2022-01-02</td>\n",
       "      <td>3829.564941</td>\n",
       "    </tr>\n",
       "    <tr>\n",
       "      <th>2</th>\n",
       "      <td>2022-01-03</td>\n",
       "      <td>3761.380371</td>\n",
       "    </tr>\n",
       "    <tr>\n",
       "      <th>3</th>\n",
       "      <td>2022-01-04</td>\n",
       "      <td>3794.056641</td>\n",
       "    </tr>\n",
       "    <tr>\n",
       "      <th>4</th>\n",
       "      <td>2022-01-05</td>\n",
       "      <td>3550.386963</td>\n",
       "    </tr>\n",
       "  </tbody>\n",
       "</table>\n",
       "</div>"
      ],
      "text/plain": [
       "        date       actual\n",
       "0 2022-01-01  3769.697021\n",
       "1 2022-01-02  3829.564941\n",
       "2 2022-01-03  3761.380371\n",
       "3 2022-01-04  3794.056641\n",
       "4 2022-01-05  3550.386963"
      ]
     },
     "execution_count": 61,
     "metadata": {},
     "output_type": "execute_result"
    }
   ],
   "source": [
    "# read csv into dataframe\n",
    "df = pd.read_csv(test_stock)\n",
    "# filter out the desired features\n",
    "df = df[['Date', 'Adj Close']]\n",
    "# rename feature column names\n",
    "df = df.rename(columns={'Adj Close': 'actual', 'Date': 'date'})\n",
    "# convert dates from object to DateTime type\n",
    "dates = df['date']\n",
    "dates = pd.to_datetime(dates, infer_datetime_format=True)\n",
    "df['date'] = dates\n",
    "\n",
    "df.head()"
   ]
  },
  {
   "cell_type": "markdown",
   "metadata": {},
   "source": [
    "### 3. Running Eval"
   ]
  },
  {
   "cell_type": "code",
   "execution_count": 62,
   "metadata": {},
   "outputs": [
    {
     "name": "stderr",
     "output_type": "stream",
     "text": [
      "\u001b[32m2023-01-16 16:38:01\u001b[0m \u001b[35mDESKTOP-6JVVUQ4\u001b[0m \u001b[34mroot[12120]\u001b[0m \u001b[1;30mDEBUG\u001b[0m \u001b[32mswitching to TensorFlow for CPU\u001b[0m\n",
      "\u001b[32m2023-01-16 16:38:01\u001b[0m \u001b[35mDESKTOP-6JVVUQ4\u001b[0m \u001b[34mroot[12120]\u001b[0m \u001b[1;30mDEBUG\u001b[0m \u001b[32mBuy at: $3769.70\u001b[0m\n"
     ]
    },
    {
     "name": "stdout",
     "output_type": "stream",
     "text": [
      "1/1 [==============================] - 0s 91ms/step\n"
     ]
    },
    {
     "name": "stderr",
     "output_type": "stream",
     "text": [
      "\u001b[32m2023-01-16 16:38:01\u001b[0m \u001b[35mDESKTOP-6JVVUQ4\u001b[0m \u001b[34mroot[12120]\u001b[0m \u001b[1;30mDEBUG\u001b[0m \u001b[32mSell at: $3829.56 | Position: +$59.87\u001b[0m\n"
     ]
    },
    {
     "name": "stdout",
     "output_type": "stream",
     "text": [
      "1/1 [==============================] - 0s 25ms/step\n",
      "1/1 [==============================] - 0s 26ms/step\n",
      "1/1 [==============================] - 0s 25ms/step\n",
      "1/1 [==============================] - 0s 25ms/step\n",
      "1/1 [==============================] - 0s 18ms/step\n",
      "1/1 [==============================] - 0s 26ms/step\n",
      "1/1 [==============================] - 0s 16ms/step\n",
      "1/1 [==============================] - 0s 25ms/step\n",
      "1/1 [==============================] - 0s 26ms/step\n",
      "1/1 [==============================] - 0s 20ms/step\n",
      "1/1 [==============================] - 0s 15ms/step\n",
      "1/1 [==============================] - 0s 17ms/step\n",
      "1/1 [==============================] - 0s 20ms/step\n",
      "1/1 [==============================] - 0s 22ms/step\n",
      "1/1 [==============================] - 0s 24ms/step\n",
      "1/1 [==============================] - 0s 26ms/step\n",
      "1/1 [==============================] - 0s 25ms/step\n",
      "1/1 [==============================] - 0s 21ms/step\n",
      "1/1 [==============================] - 0s 23ms/step\n",
      "1/1 [==============================] - 0s 25ms/step\n"
     ]
    },
    {
     "name": "stderr",
     "output_type": "stream",
     "text": [
      "\u001b[32m2023-01-16 16:38:03\u001b[0m \u001b[35mDESKTOP-6JVVUQ4\u001b[0m \u001b[34mroot[12120]\u001b[0m \u001b[1;30mDEBUG\u001b[0m \u001b[32mBuy at: $2405.18\u001b[0m\n"
     ]
    },
    {
     "name": "stdout",
     "output_type": "stream",
     "text": [
      "1/1 [==============================] - 0s 26ms/step\n"
     ]
    },
    {
     "name": "stderr",
     "output_type": "stream",
     "text": [
      "\u001b[32m2023-01-16 16:38:03\u001b[0m \u001b[35mDESKTOP-6JVVUQ4\u001b[0m \u001b[34mroot[12120]\u001b[0m \u001b[1;30mDEBUG\u001b[0m \u001b[32mSell at: $2535.04 | Position: +$129.86\u001b[0m\n"
     ]
    },
    {
     "name": "stdout",
     "output_type": "stream",
     "text": [
      "1/1 [==============================] - 0s 25ms/step\n",
      "1/1 [==============================] - 0s 26ms/step\n"
     ]
    },
    {
     "name": "stderr",
     "output_type": "stream",
     "text": [
      "\u001b[32m2023-01-16 16:38:03\u001b[0m \u001b[35mDESKTOP-6JVVUQ4\u001b[0m \u001b[34mroot[12120]\u001b[0m \u001b[1;30mDEBUG\u001b[0m \u001b[32mBuy at: $2455.94\u001b[0m\n"
     ]
    },
    {
     "name": "stdout",
     "output_type": "stream",
     "text": [
      "1/1 [==============================] - 0s 26ms/step\n",
      "1/1 [==============================] - 0s 25ms/step\n",
      "1/1 [==============================] - 0s 25ms/step\n",
      "1/1 [==============================] - 0s 25ms/step\n"
     ]
    },
    {
     "name": "stderr",
     "output_type": "stream",
     "text": [
      "\u001b[32m2023-01-16 16:38:03\u001b[0m \u001b[35mDESKTOP-6JVVUQ4\u001b[0m \u001b[34mroot[12120]\u001b[0m \u001b[1;30mDEBUG\u001b[0m \u001b[32mSell at: $2597.08 | Position: +$141.15\u001b[0m\n"
     ]
    },
    {
     "name": "stdout",
     "output_type": "stream",
     "text": [
      "1/1 [==============================] - 0s 25ms/step\n",
      "1/1 [==============================] - 0s 25ms/step\n",
      "1/1 [==============================] - 0s 26ms/step\n",
      "1/1 [==============================] - 0s 16ms/step\n",
      "1/1 [==============================] - 0s 26ms/step\n",
      "1/1 [==============================] - 0s 26ms/step\n",
      "1/1 [==============================] - 0s 26ms/step\n",
      "1/1 [==============================] - 0s 26ms/step\n",
      "1/1 [==============================] - 0s 25ms/step\n",
      "1/1 [==============================] - 0s 26ms/step\n",
      "1/1 [==============================] - 0s 25ms/step\n",
      "1/1 [==============================] - 0s 25ms/step\n",
      "1/1 [==============================] - 0s 25ms/step\n",
      "1/1 [==============================] - 0s 26ms/step\n",
      "1/1 [==============================] - 0s 25ms/step\n"
     ]
    },
    {
     "name": "stderr",
     "output_type": "stream",
     "text": [
      "\u001b[32m2023-01-16 16:38:04\u001b[0m \u001b[35mDESKTOP-6JVVUQ4\u001b[0m \u001b[34mroot[12120]\u001b[0m \u001b[1;30mDEBUG\u001b[0m \u001b[32mBuy at: $2883.46\u001b[0m\n"
     ]
    },
    {
     "name": "stdout",
     "output_type": "stream",
     "text": [
      "1/1 [==============================] - 0s 24ms/step\n",
      "1/1 [==============================] - 0s 26ms/step\n"
     ]
    },
    {
     "name": "stderr",
     "output_type": "stream",
     "text": [
      "\u001b[32m2023-01-16 16:38:04\u001b[0m \u001b[35mDESKTOP-6JVVUQ4\u001b[0m \u001b[34mroot[12120]\u001b[0m \u001b[1;30mDEBUG\u001b[0m \u001b[32mSell at: $3179.88 | Position: +$296.41\u001b[0m\n"
     ]
    },
    {
     "name": "stdout",
     "output_type": "stream",
     "text": [
      "1/1 [==============================] - 0s 26ms/step\n",
      "1/1 [==============================] - 0s 25ms/step\n",
      "1/1 [==============================] - 0s 26ms/step\n",
      "1/1 [==============================] - 0s 26ms/step\n"
     ]
    },
    {
     "name": "stderr",
     "output_type": "stream",
     "text": [
      "\u001b[32m2023-01-16 16:38:05\u001b[0m \u001b[35mDESKTOP-6JVVUQ4\u001b[0m \u001b[34mroot[12120]\u001b[0m \u001b[1;30mDEBUG\u001b[0m \u001b[32mBuy at: $2763.70\u001b[0m\n"
     ]
    },
    {
     "name": "stdout",
     "output_type": "stream",
     "text": [
      "1/1 [==============================] - 0s 23ms/step\n",
      "1/1 [==============================] - 0s 25ms/step\n",
      "1/1 [==============================] - 0s 25ms/step\n",
      "1/1 [==============================] - 0s 25ms/step\n",
      "1/1 [==============================] - 0s 26ms/step\n"
     ]
    },
    {
     "name": "stderr",
     "output_type": "stream",
     "text": [
      "\u001b[32m2023-01-16 16:38:05\u001b[0m \u001b[35mDESKTOP-6JVVUQ4\u001b[0m \u001b[34mroot[12120]\u001b[0m \u001b[1;30mDEBUG\u001b[0m \u001b[32mBuy at: $2598.07\u001b[0m\n"
     ]
    },
    {
     "name": "stdout",
     "output_type": "stream",
     "text": [
      "1/1 [==============================] - 0s 25ms/step\n",
      "1/1 [==============================] - 0s 25ms/step\n"
     ]
    },
    {
     "name": "stderr",
     "output_type": "stream",
     "text": [
      "\u001b[32m2023-01-16 16:38:05\u001b[0m \u001b[35mDESKTOP-6JVVUQ4\u001b[0m \u001b[34mroot[12120]\u001b[0m \u001b[1;30mDEBUG\u001b[0m \u001b[32mBuy at: $2781.11\u001b[0m\n"
     ]
    },
    {
     "name": "stdout",
     "output_type": "stream",
     "text": [
      "1/1 [==============================] - 0s 26ms/step\n",
      "1/1 [==============================] - 0s 23ms/step\n"
     ]
    },
    {
     "name": "stderr",
     "output_type": "stream",
     "text": [
      "\u001b[32m2023-01-16 16:38:05\u001b[0m \u001b[35mDESKTOP-6JVVUQ4\u001b[0m \u001b[34mroot[12120]\u001b[0m \u001b[1;30mDEBUG\u001b[0m \u001b[32mBuy at: $2919.20\u001b[0m\n"
     ]
    },
    {
     "name": "stdout",
     "output_type": "stream",
     "text": [
      "1/1 [==============================] - 0s 23ms/step\n"
     ]
    },
    {
     "name": "stderr",
     "output_type": "stream",
     "text": [
      "\u001b[32m2023-01-16 16:38:05\u001b[0m \u001b[35mDESKTOP-6JVVUQ4\u001b[0m \u001b[34mroot[12120]\u001b[0m \u001b[1;30mDEBUG\u001b[0m \u001b[32mSell at: $2972.49 | Position: +$208.78\u001b[0m\n"
     ]
    },
    {
     "name": "stdout",
     "output_type": "stream",
     "text": [
      "1/1 [==============================] - 0s 23ms/step\n",
      "1/1 [==============================] - 0s 26ms/step\n",
      "1/1 [==============================] - 0s 25ms/step\n",
      "1/1 [==============================] - 0s 25ms/step\n",
      "1/1 [==============================] - 0s 25ms/step\n"
     ]
    },
    {
     "name": "stderr",
     "output_type": "stream",
     "text": [
      "\u001b[32m2023-01-16 16:38:06\u001b[0m \u001b[35mDESKTOP-6JVVUQ4\u001b[0m \u001b[34mroot[12120]\u001b[0m \u001b[1;30mDEBUG\u001b[0m \u001b[32mBuy at: $2555.04\u001b[0m\n"
     ]
    },
    {
     "name": "stdout",
     "output_type": "stream",
     "text": [
      "1/1 [==============================] - 0s 25ms/step\n",
      "1/1 [==============================] - 0s 25ms/step\n",
      "1/1 [==============================] - 0s 21ms/step\n"
     ]
    },
    {
     "name": "stderr",
     "output_type": "stream",
     "text": [
      "\u001b[32m2023-01-16 16:38:06\u001b[0m \u001b[35mDESKTOP-6JVVUQ4\u001b[0m \u001b[34mroot[12120]\u001b[0m \u001b[1;30mDEBUG\u001b[0m \u001b[32mSell at: $2729.78 | Position: +$131.72\u001b[0m\n"
     ]
    },
    {
     "name": "stdout",
     "output_type": "stream",
     "text": [
      "1/1 [==============================] - 0s 26ms/step\n",
      "1/1 [==============================] - 0s 22ms/step\n",
      "1/1 [==============================] - 0s 24ms/step\n"
     ]
    },
    {
     "name": "stderr",
     "output_type": "stream",
     "text": [
      "\u001b[32m2023-01-16 16:38:06\u001b[0m \u001b[35mDESKTOP-6JVVUQ4\u001b[0m \u001b[34mroot[12120]\u001b[0m \u001b[1;30mDEBUG\u001b[0m \u001b[32mBuy at: $2574.75\u001b[0m\n"
     ]
    },
    {
     "name": "stdout",
     "output_type": "stream",
     "text": [
      "1/1 [==============================] - 0s 26ms/step\n",
      "1/1 [==============================] - 0s 27ms/step\n",
      "1/1 [==============================] - 0s 27ms/step\n"
     ]
    },
    {
     "name": "stderr",
     "output_type": "stream",
     "text": [
      "\u001b[32m2023-01-16 16:38:06\u001b[0m \u001b[35mDESKTOP-6JVVUQ4\u001b[0m \u001b[34mroot[12120]\u001b[0m \u001b[1;30mDEBUG\u001b[0m \u001b[32mSell at: $2620.15 | Position: -$160.96\u001b[0m\n"
     ]
    },
    {
     "name": "stdout",
     "output_type": "stream",
     "text": [
      "1/1 [==============================] - 0s 27ms/step\n"
     ]
    },
    {
     "name": "stderr",
     "output_type": "stream",
     "text": [
      "\u001b[32m2023-01-16 16:38:06\u001b[0m \u001b[35mDESKTOP-6JVVUQ4\u001b[0m \u001b[34mroot[12120]\u001b[0m \u001b[1;30mDEBUG\u001b[0m \u001b[32mSell at: $2772.06 | Position: -$147.15\u001b[0m\n"
     ]
    },
    {
     "name": "stdout",
     "output_type": "stream",
     "text": [
      "1/1 [==============================] - 0s 26ms/step\n"
     ]
    },
    {
     "name": "stderr",
     "output_type": "stream",
     "text": [
      "\u001b[32m2023-01-16 16:38:06\u001b[0m \u001b[35mDESKTOP-6JVVUQ4\u001b[0m \u001b[34mroot[12120]\u001b[0m \u001b[1;30mDEBUG\u001b[0m \u001b[32mSell at: $2814.85 | Position: +$259.82\u001b[0m\n"
     ]
    },
    {
     "name": "stdout",
     "output_type": "stream",
     "text": [
      "1/1 [==============================] - 0s 26ms/step\n"
     ]
    },
    {
     "name": "stderr",
     "output_type": "stream",
     "text": [
      "\u001b[32m2023-01-16 16:38:06\u001b[0m \u001b[35mDESKTOP-6JVVUQ4\u001b[0m \u001b[34mroot[12120]\u001b[0m \u001b[1;30mDEBUG\u001b[0m \u001b[32mSell at: $2945.34 | Position: +$370.59\u001b[0m\n"
     ]
    },
    {
     "name": "stdout",
     "output_type": "stream",
     "text": [
      "1/1 [==============================] - 0s 26ms/step\n",
      "1/1 [==============================] - 0s 26ms/step\n",
      "1/1 [==============================] - 0s 26ms/step\n",
      "1/1 [==============================] - 0s 26ms/step\n",
      "1/1 [==============================] - 0s 26ms/step\n",
      "1/1 [==============================] - 0s 25ms/step\n",
      "1/1 [==============================] - 0s 25ms/step\n",
      "1/1 [==============================] - 0s 25ms/step\n",
      "1/1 [==============================] - 0s 11ms/step\n",
      "1/1 [==============================] - 0s 25ms/step\n",
      "1/1 [==============================] - 0s 17ms/step\n",
      "1/1 [==============================] - 0s 25ms/step\n",
      "1/1 [==============================] - 0s 19ms/step\n",
      "1/1 [==============================] - 0s 21ms/step\n",
      "1/1 [==============================] - 0s 25ms/step\n",
      "1/1 [==============================] - 0s 25ms/step\n",
      "1/1 [==============================] - 0s 25ms/step\n",
      "1/1 [==============================] - 0s 26ms/step\n",
      "1/1 [==============================] - 0s 23ms/step\n",
      "1/1 [==============================] - 0s 25ms/step\n"
     ]
    },
    {
     "name": "stderr",
     "output_type": "stream",
     "text": [
      "\u001b[32m2023-01-16 16:38:08\u001b[0m \u001b[35mDESKTOP-6JVVUQ4\u001b[0m \u001b[34mroot[12120]\u001b[0m \u001b[1;30mDEBUG\u001b[0m \u001b[32mBuy at: $3233.27\u001b[0m\n"
     ]
    },
    {
     "name": "stdout",
     "output_type": "stream",
     "text": [
      "1/1 [==============================] - 0s 25ms/step\n",
      "1/1 [==============================] - 0s 25ms/step\n",
      "1/1 [==============================] - 0s 17ms/step\n",
      "1/1 [==============================] - 0s 19ms/step\n",
      "1/1 [==============================] - 0s 22ms/step\n",
      "1/1 [==============================] - 0s 25ms/step\n"
     ]
    },
    {
     "name": "stderr",
     "output_type": "stream",
     "text": [
      "\u001b[32m2023-01-16 16:38:08\u001b[0m \u001b[35mDESKTOP-6JVVUQ4\u001b[0m \u001b[34mroot[12120]\u001b[0m \u001b[1;30mDEBUG\u001b[0m \u001b[32mBuy at: $3118.34\u001b[0m\n"
     ]
    },
    {
     "name": "stdout",
     "output_type": "stream",
     "text": [
      "1/1 [==============================] - 0s 25ms/step\n",
      "1/1 [==============================] - 0s 26ms/step\n",
      "1/1 [==============================] - 0s 25ms/step\n"
     ]
    },
    {
     "name": "stderr",
     "output_type": "stream",
     "text": [
      "\u001b[32m2023-01-16 16:38:08\u001b[0m \u001b[35mDESKTOP-6JVVUQ4\u001b[0m \u001b[34mroot[12120]\u001b[0m \u001b[1;30mDEBUG\u001b[0m \u001b[32mSell at: $3062.31 | Position: -$170.96\u001b[0m\n"
     ]
    },
    {
     "name": "stdout",
     "output_type": "stream",
     "text": [
      "1/1 [==============================] - 0s 22ms/step\n",
      "1/1 [==============================] - 0s 24ms/step\n",
      "1/1 [==============================] - 0s 24ms/step\n"
     ]
    },
    {
     "name": "stderr",
     "output_type": "stream",
     "text": [
      "\u001b[32m2023-01-16 16:38:08\u001b[0m \u001b[35mDESKTOP-6JVVUQ4\u001b[0m \u001b[34mroot[12120]\u001b[0m \u001b[1;30mDEBUG\u001b[0m \u001b[32mSell at: $3104.11 | Position: -$14.24\u001b[0m\n"
     ]
    },
    {
     "name": "stdout",
     "output_type": "stream",
     "text": [
      "1/1 [==============================] - 0s 25ms/step\n",
      "1/1 [==============================] - 0s 25ms/step\n",
      "1/1 [==============================] - 0s 26ms/step\n",
      "1/1 [==============================] - 0s 26ms/step\n",
      "1/1 [==============================] - 0s 17ms/step\n",
      "1/1 [==============================] - 0s 19ms/step\n",
      "1/1 [==============================] - 0s 14ms/step\n",
      "1/1 [==============================] - 0s 26ms/step\n",
      "1/1 [==============================] - 0s 25ms/step\n",
      "1/1 [==============================] - 0s 19ms/step\n",
      "1/1 [==============================] - 0s 25ms/step\n",
      "1/1 [==============================] - 0s 25ms/step\n",
      "1/1 [==============================] - 0s 25ms/step\n",
      "1/1 [==============================] - 0s 26ms/step\n",
      "1/1 [==============================] - 0s 25ms/step\n",
      "1/1 [==============================] - 0s 23ms/step\n",
      "1/1 [==============================] - 0s 25ms/step\n"
     ]
    },
    {
     "name": "stderr",
     "output_type": "stream",
     "text": [
      "\u001b[32m2023-01-16 16:38:10\u001b[0m \u001b[35mDESKTOP-6JVVUQ4\u001b[0m \u001b[34mroot[12120]\u001b[0m \u001b[1;30mDEBUG\u001b[0m \u001b[32mBuy at: $2694.98\u001b[0m\n"
     ]
    },
    {
     "name": "stdout",
     "output_type": "stream",
     "text": [
      "1/1 [==============================] - 0s 25ms/step\n",
      "1/1 [==============================] - 0s 25ms/step\n",
      "1/1 [==============================] - 0s 25ms/step\n",
      "1/1 [==============================] - 0s 26ms/step\n",
      "1/1 [==============================] - 0s 26ms/step\n",
      "1/1 [==============================] - 0s 26ms/step\n",
      "1/1 [==============================] - 0s 25ms/step\n"
     ]
    },
    {
     "name": "stderr",
     "output_type": "stream",
     "text": [
      "\u001b[32m2023-01-16 16:38:10\u001b[0m \u001b[35mDESKTOP-6JVVUQ4\u001b[0m \u001b[34mroot[12120]\u001b[0m \u001b[1;30mDEBUG\u001b[0m \u001b[32mBuy at: $2014.42\u001b[0m\n"
     ]
    },
    {
     "name": "stdout",
     "output_type": "stream",
     "text": [
      "1/1 [==============================] - 0s 24ms/step\n"
     ]
    },
    {
     "name": "stderr",
     "output_type": "stream",
     "text": [
      "\u001b[32m2023-01-16 16:38:10\u001b[0m \u001b[35mDESKTOP-6JVVUQ4\u001b[0m \u001b[34mroot[12120]\u001b[0m \u001b[1;30mDEBUG\u001b[0m \u001b[32mBuy at: $2056.27\u001b[0m\n"
     ]
    },
    {
     "name": "stdout",
     "output_type": "stream",
     "text": [
      "1/1 [==============================] - 0s 25ms/step\n",
      "1/1 [==============================] - 0s 25ms/step\n",
      "1/1 [==============================] - 0s 25ms/step\n"
     ]
    },
    {
     "name": "stderr",
     "output_type": "stream",
     "text": [
      "\u001b[32m2023-01-16 16:38:10\u001b[0m \u001b[35mDESKTOP-6JVVUQ4\u001b[0m \u001b[34mroot[12120]\u001b[0m \u001b[1;30mDEBUG\u001b[0m \u001b[32mBuy at: $2090.41\u001b[0m\n"
     ]
    },
    {
     "name": "stdout",
     "output_type": "stream",
     "text": [
      "1/1 [==============================] - 0s 25ms/step\n",
      "1/1 [==============================] - 0s 21ms/step\n",
      "1/1 [==============================] - 0s 24ms/step\n"
     ]
    },
    {
     "name": "stderr",
     "output_type": "stream",
     "text": [
      "\u001b[32m2023-01-16 16:38:10\u001b[0m \u001b[35mDESKTOP-6JVVUQ4\u001b[0m \u001b[34mroot[12120]\u001b[0m \u001b[1;30mDEBUG\u001b[0m \u001b[32mBuy at: $1961.32\u001b[0m\n"
     ]
    },
    {
     "name": "stdout",
     "output_type": "stream",
     "text": [
      "1/1 [==============================] - 0s 23ms/step\n",
      "1/1 [==============================] - 0s 26ms/step\n"
     ]
    },
    {
     "name": "stderr",
     "output_type": "stream",
     "text": [
      "\u001b[32m2023-01-16 16:38:11\u001b[0m \u001b[35mDESKTOP-6JVVUQ4\u001b[0m \u001b[34mroot[12120]\u001b[0m \u001b[1;30mDEBUG\u001b[0m \u001b[32mSell at: $2043.17 | Position: -$651.81\u001b[0m\n"
     ]
    },
    {
     "name": "stdout",
     "output_type": "stream",
     "text": [
      "1/1 [==============================] - 0s 25ms/step\n",
      "1/1 [==============================] - 0s 26ms/step\n",
      "1/1 [==============================] - 0s 23ms/step\n",
      "1/1 [==============================] - 0s 25ms/step\n",
      "1/1 [==============================] - 0s 25ms/step\n"
     ]
    },
    {
     "name": "stderr",
     "output_type": "stream",
     "text": [
      "\u001b[32m2023-01-16 16:38:11\u001b[0m \u001b[35mDESKTOP-6JVVUQ4\u001b[0m \u001b[34mroot[12120]\u001b[0m \u001b[1;30mDEBUG\u001b[0m \u001b[32mSell at: $1724.92 | Position: -$289.50\u001b[0m\n"
     ]
    },
    {
     "name": "stdout",
     "output_type": "stream",
     "text": [
      "1/1 [==============================] - 0s 26ms/step\n"
     ]
    },
    {
     "name": "stderr",
     "output_type": "stream",
     "text": [
      "\u001b[32m2023-01-16 16:38:11\u001b[0m \u001b[35mDESKTOP-6JVVUQ4\u001b[0m \u001b[34mroot[12120]\u001b[0m \u001b[1;30mDEBUG\u001b[0m \u001b[32mSell at: $1757.94 | Position: -$298.33\u001b[0m\n"
     ]
    },
    {
     "name": "stdout",
     "output_type": "stream",
     "text": [
      "1/1 [==============================] - 0s 25ms/step\n",
      "1/1 [==============================] - 0s 25ms/step\n",
      "1/1 [==============================] - 0s 25ms/step\n",
      "1/1 [==============================] - 0s 25ms/step\n"
     ]
    },
    {
     "name": "stderr",
     "output_type": "stream",
     "text": [
      "\u001b[32m2023-01-16 16:38:11\u001b[0m \u001b[35mDESKTOP-6JVVUQ4\u001b[0m \u001b[34mroot[12120]\u001b[0m \u001b[1;30mDEBUG\u001b[0m \u001b[32mBuy at: $1823.57\u001b[0m\n"
     ]
    },
    {
     "name": "stdout",
     "output_type": "stream",
     "text": [
      "1/1 [==============================] - 0s 26ms/step\n",
      "1/1 [==============================] - 0s 26ms/step\n",
      "1/1 [==============================] - 0s 11ms/step\n",
      "1/1 [==============================] - 0s 25ms/step\n"
     ]
    },
    {
     "name": "stderr",
     "output_type": "stream",
     "text": [
      "\u001b[32m2023-01-16 16:38:12\u001b[0m \u001b[35mDESKTOP-6JVVUQ4\u001b[0m \u001b[34mroot[12120]\u001b[0m \u001b[1;30mDEBUG\u001b[0m \u001b[32mSell at: $1805.20 | Position: -$285.20\u001b[0m\n"
     ]
    },
    {
     "name": "stdout",
     "output_type": "stream",
     "text": [
      "1/1 [==============================] - 0s 25ms/step\n"
     ]
    },
    {
     "name": "stderr",
     "output_type": "stream",
     "text": [
      "\u001b[32m2023-01-16 16:38:12\u001b[0m \u001b[35mDESKTOP-6JVVUQ4\u001b[0m \u001b[34mroot[12120]\u001b[0m \u001b[1;30mDEBUG\u001b[0m \u001b[32mSell at: $1859.29 | Position: -$102.03\u001b[0m\n"
     ]
    },
    {
     "name": "stdout",
     "output_type": "stream",
     "text": [
      "1/1 [==============================] - 0s 26ms/step\n",
      "1/1 [==============================] - 0s 25ms/step\n"
     ]
    },
    {
     "name": "stderr",
     "output_type": "stream",
     "text": [
      "\u001b[32m2023-01-16 16:38:12\u001b[0m \u001b[35mDESKTOP-6JVVUQ4\u001b[0m \u001b[34mroot[12120]\u001b[0m \u001b[1;30mDEBUG\u001b[0m \u001b[32mSell at: $1793.57 | Position: -$30.00\u001b[0m\n"
     ]
    },
    {
     "name": "stdout",
     "output_type": "stream",
     "text": [
      "1/1 [==============================] - 0s 25ms/step\n",
      "1/1 [==============================] - 0s 17ms/step\n"
     ]
    },
    {
     "name": "stderr",
     "output_type": "stream",
     "text": [
      "\u001b[32m2023-01-16 16:38:12\u001b[0m \u001b[35mDESKTOP-6JVVUQ4\u001b[0m \u001b[34mroot[12120]\u001b[0m \u001b[1;30mDEBUG\u001b[0m \u001b[32mBuy at: $1665.04\u001b[0m\n"
     ]
    },
    {
     "name": "stdout",
     "output_type": "stream",
     "text": [
      "1/1 [==============================] - 0s 26ms/step\n",
      "1/1 [==============================] - 0s 18ms/step\n"
     ]
    },
    {
     "name": "stderr",
     "output_type": "stream",
     "text": [
      "\u001b[32m2023-01-16 16:38:12\u001b[0m \u001b[35mDESKTOP-6JVVUQ4\u001b[0m \u001b[34mroot[12120]\u001b[0m \u001b[1;30mDEBUG\u001b[0m \u001b[32mBuy at: $1445.22\u001b[0m\n"
     ]
    },
    {
     "name": "stdout",
     "output_type": "stream",
     "text": [
      "1/1 [==============================] - 0s 26ms/step\n",
      "1/1 [==============================] - 0s 26ms/step\n",
      "1/1 [==============================] - 0s 25ms/step\n",
      "1/1 [==============================] - 0s 25ms/step\n",
      "1/1 [==============================] - 0s 16ms/step\n",
      "1/1 [==============================] - 0s 16ms/step\n",
      "1/1 [==============================] - 0s 25ms/step\n"
     ]
    },
    {
     "name": "stderr",
     "output_type": "stream",
     "text": [
      "\u001b[32m2023-01-16 16:38:13\u001b[0m \u001b[35mDESKTOP-6JVVUQ4\u001b[0m \u001b[34mroot[12120]\u001b[0m \u001b[1;30mDEBUG\u001b[0m \u001b[32mBuy at: $1127.66\u001b[0m\n"
     ]
    },
    {
     "name": "stdout",
     "output_type": "stream",
     "text": [
      "1/1 [==============================] - 0s 18ms/step\n",
      "1/1 [==============================] - 0s 19ms/step\n"
     ]
    },
    {
     "name": "stderr",
     "output_type": "stream",
     "text": [
      "\u001b[32m2023-01-16 16:38:13\u001b[0m \u001b[35mDESKTOP-6JVVUQ4\u001b[0m \u001b[34mroot[12120]\u001b[0m \u001b[1;30mDEBUG\u001b[0m \u001b[32mBuy at: $1124.82\u001b[0m\n"
     ]
    },
    {
     "name": "stdout",
     "output_type": "stream",
     "text": [
      "1/1 [==============================] - 0s 21ms/step\n",
      "1/1 [==============================] - 0s 15ms/step\n"
     ]
    },
    {
     "name": "stderr",
     "output_type": "stream",
     "text": [
      "\u001b[32m2023-01-16 16:38:13\u001b[0m \u001b[35mDESKTOP-6JVVUQ4\u001b[0m \u001b[34mroot[12120]\u001b[0m \u001b[1;30mDEBUG\u001b[0m \u001b[32mSell at: $1143.39 | Position: -$521.66\u001b[0m\n"
     ]
    },
    {
     "name": "stdout",
     "output_type": "stream",
     "text": [
      "1/1 [==============================] - 0s 26ms/step\n"
     ]
    },
    {
     "name": "stderr",
     "output_type": "stream",
     "text": [
      "\u001b[32m2023-01-16 16:38:13\u001b[0m \u001b[35mDESKTOP-6JVVUQ4\u001b[0m \u001b[34mroot[12120]\u001b[0m \u001b[1;30mDEBUG\u001b[0m \u001b[32mSell at: $1226.84 | Position: -$218.37\u001b[0m\n"
     ]
    },
    {
     "name": "stdout",
     "output_type": "stream",
     "text": [
      "1/1 [==============================] - 0s 25ms/step\n",
      "1/1 [==============================] - 0s 19ms/step\n",
      "1/1 [==============================] - 0s 20ms/step\n"
     ]
    },
    {
     "name": "stderr",
     "output_type": "stream",
     "text": [
      "\u001b[32m2023-01-16 16:38:13\u001b[0m \u001b[35mDESKTOP-6JVVUQ4\u001b[0m \u001b[34mroot[12120]\u001b[0m \u001b[1;30mDEBUG\u001b[0m \u001b[32mBuy at: $1193.68\u001b[0m\n"
     ]
    },
    {
     "name": "stdout",
     "output_type": "stream",
     "text": [
      "1/1 [==============================] - 0s 22ms/step\n",
      "1/1 [==============================] - 0s 26ms/step\n",
      "1/1 [==============================] - 0s 24ms/step\n",
      "1/1 [==============================] - 0s 26ms/step\n"
     ]
    },
    {
     "name": "stderr",
     "output_type": "stream",
     "text": [
      "\u001b[32m2023-01-16 16:38:13\u001b[0m \u001b[35mDESKTOP-6JVVUQ4\u001b[0m \u001b[34mroot[12120]\u001b[0m \u001b[1;30mDEBUG\u001b[0m \u001b[32mBuy at: $1059.77\u001b[0m\n"
     ]
    },
    {
     "name": "stdout",
     "output_type": "stream",
     "text": [
      "1/1 [==============================] - 0s 25ms/step\n"
     ]
    },
    {
     "name": "stderr",
     "output_type": "stream",
     "text": [
      "\u001b[32m2023-01-16 16:38:13\u001b[0m \u001b[35mDESKTOP-6JVVUQ4\u001b[0m \u001b[34mroot[12120]\u001b[0m \u001b[1;30mDEBUG\u001b[0m \u001b[32mSell at: $1066.51 | Position: -$61.14\u001b[0m\n"
     ]
    },
    {
     "name": "stdout",
     "output_type": "stream",
     "text": [
      "1/1 [==============================] - 0s 25ms/step\n",
      "1/1 [==============================] - 0s 25ms/step\n"
     ]
    },
    {
     "name": "stderr",
     "output_type": "stream",
     "text": [
      "\u001b[32m2023-01-16 16:38:14\u001b[0m \u001b[35mDESKTOP-6JVVUQ4\u001b[0m \u001b[34mroot[12120]\u001b[0m \u001b[1;30mDEBUG\u001b[0m \u001b[32mSell at: $1151.06 | Position: +$26.23\u001b[0m\n"
     ]
    },
    {
     "name": "stdout",
     "output_type": "stream",
     "text": [
      "1/1 [==============================] - 0s 25ms/step\n",
      "1/1 [==============================] - 0s 26ms/step\n"
     ]
    },
    {
     "name": "stderr",
     "output_type": "stream",
     "text": [
      "\u001b[32m2023-01-16 16:38:14\u001b[0m \u001b[35mDESKTOP-6JVVUQ4\u001b[0m \u001b[34mroot[12120]\u001b[0m \u001b[1;30mDEBUG\u001b[0m \u001b[32mBuy at: $1186.97\u001b[0m\n"
     ]
    },
    {
     "name": "stdout",
     "output_type": "stream",
     "text": [
      "1/1 [==============================] - 0s 19ms/step\n",
      "1/1 [==============================] - 0s 21ms/step\n",
      "1/1 [==============================] - 0s 22ms/step\n",
      "1/1 [==============================] - 0s 25ms/step\n",
      "1/1 [==============================] - 0s 24ms/step\n",
      "1/1 [==============================] - 0s 25ms/step\n",
      "1/1 [==============================] - 0s 24ms/step\n",
      "1/1 [==============================] - 0s 25ms/step\n",
      "1/1 [==============================] - 0s 24ms/step\n"
     ]
    },
    {
     "name": "stderr",
     "output_type": "stream",
     "text": [
      "\u001b[32m2023-01-16 16:38:14\u001b[0m \u001b[35mDESKTOP-6JVVUQ4\u001b[0m \u001b[34mroot[12120]\u001b[0m \u001b[1;30mDEBUG\u001b[0m \u001b[32mSell at: $1233.13 | Position: +$39.45\u001b[0m\n"
     ]
    },
    {
     "name": "stdout",
     "output_type": "stream",
     "text": [
      "1/1 [==============================] - 0s 25ms/step\n",
      "1/1 [==============================] - 0s 17ms/step\n"
     ]
    },
    {
     "name": "stderr",
     "output_type": "stream",
     "text": [
      "\u001b[32m2023-01-16 16:38:14\u001b[0m \u001b[35mDESKTOP-6JVVUQ4\u001b[0m \u001b[34mroot[12120]\u001b[0m \u001b[1;30mDEBUG\u001b[0m \u001b[32mSell at: $1338.64 | Position: +$278.87\u001b[0m\n"
     ]
    },
    {
     "name": "stdout",
     "output_type": "stream",
     "text": [
      "1/1 [==============================] - 0s 26ms/step\n",
      "1/1 [==============================] - 0s 21ms/step\n",
      "1/1 [==============================] - 0s 21ms/step\n",
      "1/1 [==============================] - 0s 24ms/step\n",
      "1/1 [==============================] - 0s 25ms/step\n",
      "1/1 [==============================] - 0s 20ms/step\n",
      "1/1 [==============================] - 0s 22ms/step\n"
     ]
    },
    {
     "name": "stderr",
     "output_type": "stream",
     "text": [
      "\u001b[32m2023-01-16 16:38:15\u001b[0m \u001b[35mDESKTOP-6JVVUQ4\u001b[0m \u001b[34mroot[12120]\u001b[0m \u001b[1;30mDEBUG\u001b[0m \u001b[32mBuy at: $1599.48\u001b[0m\n"
     ]
    },
    {
     "name": "stdout",
     "output_type": "stream",
     "text": [
      "1/1 [==============================] - 0s 23ms/step\n"
     ]
    },
    {
     "name": "stderr",
     "output_type": "stream",
     "text": [
      "\u001b[32m2023-01-16 16:38:15\u001b[0m \u001b[35mDESKTOP-6JVVUQ4\u001b[0m \u001b[34mroot[12120]\u001b[0m \u001b[1;30mDEBUG\u001b[0m \u001b[32mBuy at: $1445.38\u001b[0m\n"
     ]
    },
    {
     "name": "stdout",
     "output_type": "stream",
     "text": [
      "1/1 [==============================] - 0s 23ms/step\n",
      "1/1 [==============================] - 0s 25ms/step\n"
     ]
    },
    {
     "name": "stderr",
     "output_type": "stream",
     "text": [
      "\u001b[32m2023-01-16 16:38:15\u001b[0m \u001b[35mDESKTOP-6JVVUQ4\u001b[0m \u001b[34mroot[12120]\u001b[0m \u001b[1;30mDEBUG\u001b[0m \u001b[32mBuy at: $1636.23\u001b[0m\n"
     ]
    },
    {
     "name": "stdout",
     "output_type": "stream",
     "text": [
      "1/1 [==============================] - 0s 25ms/step\n",
      "1/1 [==============================] - 0s 25ms/step\n",
      "1/1 [==============================] - 0s 25ms/step\n",
      "1/1 [==============================] - 0s 25ms/step\n"
     ]
    },
    {
     "name": "stderr",
     "output_type": "stream",
     "text": [
      "\u001b[32m2023-01-16 16:38:15\u001b[0m \u001b[35mDESKTOP-6JVVUQ4\u001b[0m \u001b[34mroot[12120]\u001b[0m \u001b[1;30mDEBUG\u001b[0m \u001b[32mSell at: $1681.52 | Position: +$494.54\u001b[0m\n"
     ]
    },
    {
     "name": "stdout",
     "output_type": "stream",
     "text": [
      "1/1 [==============================] - 0s 26ms/step\n"
     ]
    },
    {
     "name": "stderr",
     "output_type": "stream",
     "text": [
      "\u001b[32m2023-01-16 16:38:15\u001b[0m \u001b[35mDESKTOP-6JVVUQ4\u001b[0m \u001b[34mroot[12120]\u001b[0m \u001b[1;30mDEBUG\u001b[0m \u001b[32mSell at: $1635.20 | Position: +$35.72\u001b[0m\n"
     ]
    },
    {
     "name": "stdout",
     "output_type": "stream",
     "text": [
      "1/1 [==============================] - 0s 25ms/step\n",
      "1/1 [==============================] - 0s 25ms/step\n",
      "1/1 [==============================] - 0s 25ms/step\n"
     ]
    },
    {
     "name": "stderr",
     "output_type": "stream",
     "text": [
      "\u001b[32m2023-01-16 16:38:16\u001b[0m \u001b[35mDESKTOP-6JVVUQ4\u001b[0m \u001b[34mroot[12120]\u001b[0m \u001b[1;30mDEBUG\u001b[0m \u001b[32mBuy at: $1608.21\u001b[0m\n"
     ]
    },
    {
     "name": "stdout",
     "output_type": "stream",
     "text": [
      "1/1 [==============================] - 0s 25ms/step\n"
     ]
    },
    {
     "name": "stderr",
     "output_type": "stream",
     "text": [
      "\u001b[32m2023-01-16 16:38:16\u001b[0m \u001b[35mDESKTOP-6JVVUQ4\u001b[0m \u001b[34mroot[12120]\u001b[0m \u001b[1;30mDEBUG\u001b[0m \u001b[32mSell at: $1732.25 | Position: +$286.87\u001b[0m\n"
     ]
    },
    {
     "name": "stdout",
     "output_type": "stream",
     "text": [
      "1/1 [==============================] - 0s 26ms/step\n",
      "1/1 [==============================] - 0s 25ms/step\n",
      "1/1 [==============================] - 0s 17ms/step\n",
      "1/1 [==============================] - 0s 25ms/step\n",
      "1/1 [==============================] - 0s 25ms/step\n",
      "1/1 [==============================] - 0s 25ms/step\n"
     ]
    },
    {
     "name": "stderr",
     "output_type": "stream",
     "text": [
      "\u001b[32m2023-01-16 16:38:16\u001b[0m \u001b[35mDESKTOP-6JVVUQ4\u001b[0m \u001b[34mroot[12120]\u001b[0m \u001b[1;30mDEBUG\u001b[0m \u001b[32mSell at: $1881.22 | Position: +$244.99\u001b[0m\n"
     ]
    },
    {
     "name": "stdout",
     "output_type": "stream",
     "text": [
      "1/1 [==============================] - 0s 26ms/step\n"
     ]
    },
    {
     "name": "stderr",
     "output_type": "stream",
     "text": [
      "\u001b[32m2023-01-16 16:38:16\u001b[0m \u001b[35mDESKTOP-6JVVUQ4\u001b[0m \u001b[34mroot[12120]\u001b[0m \u001b[1;30mDEBUG\u001b[0m \u001b[32mSell at: $1957.25 | Position: +$349.04\u001b[0m\n"
     ]
    },
    {
     "name": "stdout",
     "output_type": "stream",
     "text": [
      "1/1 [==============================] - 0s 25ms/step\n",
      "1/1 [==============================] - 0s 25ms/step\n",
      "1/1 [==============================] - 0s 25ms/step\n",
      "1/1 [==============================] - 0s 26ms/step\n",
      "1/1 [==============================] - 0s 25ms/step\n",
      "1/1 [==============================] - 0s 24ms/step\n",
      "1/1 [==============================] - 0s 25ms/step\n"
     ]
    },
    {
     "name": "stderr",
     "output_type": "stream",
     "text": [
      "\u001b[32m2023-01-16 16:38:17\u001b[0m \u001b[35mDESKTOP-6JVVUQ4\u001b[0m \u001b[34mroot[12120]\u001b[0m \u001b[1;30mDEBUG\u001b[0m \u001b[32mBuy at: $1612.99\u001b[0m\n"
     ]
    },
    {
     "name": "stdout",
     "output_type": "stream",
     "text": [
      "1/1 [==============================] - 0s 25ms/step\n",
      "1/1 [==============================] - 0s 25ms/step\n",
      "1/1 [==============================] - 0s 25ms/step\n"
     ]
    },
    {
     "name": "stderr",
     "output_type": "stream",
     "text": [
      "\u001b[32m2023-01-16 16:38:17\u001b[0m \u001b[35mDESKTOP-6JVVUQ4\u001b[0m \u001b[34mroot[12120]\u001b[0m \u001b[1;30mDEBUG\u001b[0m \u001b[32mBuy at: $1622.51\u001b[0m\n"
     ]
    },
    {
     "name": "stdout",
     "output_type": "stream",
     "text": [
      "1/1 [==============================] - 0s 26ms/step\n",
      "1/1 [==============================] - 0s 26ms/step\n",
      "1/1 [==============================] - 0s 27ms/step\n"
     ]
    },
    {
     "name": "stderr",
     "output_type": "stream",
     "text": [
      "\u001b[32m2023-01-16 16:38:17\u001b[0m \u001b[35mDESKTOP-6JVVUQ4\u001b[0m \u001b[34mroot[12120]\u001b[0m \u001b[1;30mDEBUG\u001b[0m \u001b[32mBuy at: $1696.46\u001b[0m\n"
     ]
    },
    {
     "name": "stdout",
     "output_type": "stream",
     "text": [
      "1/1 [==============================] - 0s 26ms/step\n",
      "1/1 [==============================] - 0s 26ms/step\n",
      "1/1 [==============================] - 0s 26ms/step\n",
      "1/1 [==============================] - 0s 26ms/step\n"
     ]
    },
    {
     "name": "stderr",
     "output_type": "stream",
     "text": [
      "\u001b[32m2023-01-16 16:38:17\u001b[0m \u001b[35mDESKTOP-6JVVUQ4\u001b[0m \u001b[34mroot[12120]\u001b[0m \u001b[1;30mDEBUG\u001b[0m \u001b[32mSell at: $1553.04 | Position: -$59.95\u001b[0m\n"
     ]
    },
    {
     "name": "stdout",
     "output_type": "stream",
     "text": [
      "1/1 [==============================] - 0s 26ms/step\n",
      "1/1 [==============================] - 0s 25ms/step\n",
      "1/1 [==============================] - 0s 25ms/step\n",
      "1/1 [==============================] - 0s 17ms/step\n"
     ]
    },
    {
     "name": "stderr",
     "output_type": "stream",
     "text": [
      "\u001b[32m2023-01-16 16:38:17\u001b[0m \u001b[35mDESKTOP-6JVVUQ4\u001b[0m \u001b[34mroot[12120]\u001b[0m \u001b[1;30mDEBUG\u001b[0m \u001b[32mBuy at: $1577.22\u001b[0m\n"
     ]
    },
    {
     "name": "stdout",
     "output_type": "stream",
     "text": [
      "1/1 [==============================] - 0s 25ms/step\n",
      "1/1 [==============================] - 0s 26ms/step\n",
      "1/1 [==============================] - 0s 26ms/step\n",
      "1/1 [==============================] - 0s 26ms/step\n",
      "1/1 [==============================] - 0s 26ms/step\n",
      "1/1 [==============================] - 0s 25ms/step\n",
      "1/1 [==============================] - 0s 25ms/step\n",
      "1/1 [==============================] - 0s 24ms/step\n",
      "1/1 [==============================] - 0s 26ms/step\n"
     ]
    },
    {
     "name": "stderr",
     "output_type": "stream",
     "text": [
      "\u001b[32m2023-01-16 16:38:18\u001b[0m \u001b[35mDESKTOP-6JVVUQ4\u001b[0m \u001b[34mroot[12120]\u001b[0m \u001b[1;30mDEBUG\u001b[0m \u001b[32mSell at: $1761.80 | Position: +$139.29\u001b[0m\n"
     ]
    },
    {
     "name": "stdout",
     "output_type": "stream",
     "text": [
      "1/1 [==============================] - 0s 27ms/step\n",
      "1/1 [==============================] - 0s 26ms/step\n"
     ]
    },
    {
     "name": "stderr",
     "output_type": "stream",
     "text": [
      "\u001b[32m2023-01-16 16:38:18\u001b[0m \u001b[35mDESKTOP-6JVVUQ4\u001b[0m \u001b[34mroot[12120]\u001b[0m \u001b[1;30mDEBUG\u001b[0m \u001b[32mSell at: $1580.79 | Position: -$115.67\u001b[0m\n"
     ]
    },
    {
     "name": "stdout",
     "output_type": "stream",
     "text": [
      "1/1 [==============================] - 0s 26ms/step\n"
     ]
    },
    {
     "name": "stderr",
     "output_type": "stream",
     "text": [
      "\u001b[32m2023-01-16 16:38:18\u001b[0m \u001b[35mDESKTOP-6JVVUQ4\u001b[0m \u001b[34mroot[12120]\u001b[0m \u001b[1;30mDEBUG\u001b[0m \u001b[32mSell at: $1634.76 | Position: +$57.53\u001b[0m\n"
     ]
    },
    {
     "name": "stdout",
     "output_type": "stream",
     "text": [
      "1/1 [==============================] - 0s 26ms/step\n",
      "1/1 [==============================] - 0s 25ms/step\n"
     ]
    },
    {
     "name": "stderr",
     "output_type": "stream",
     "text": [
      "\u001b[32m2023-01-16 16:38:18\u001b[0m \u001b[35mDESKTOP-6JVVUQ4\u001b[0m \u001b[34mroot[12120]\u001b[0m \u001b[1;30mDEBUG\u001b[0m \u001b[32mBuy at: $1432.45\u001b[0m\n"
     ]
    },
    {
     "name": "stdout",
     "output_type": "stream",
     "text": [
      "1/1 [==============================] - 0s 25ms/step\n",
      "1/1 [==============================] - 0s 25ms/step\n",
      "1/1 [==============================] - 0s 25ms/step\n",
      "1/1 [==============================] - 0s 26ms/step\n",
      "1/1 [==============================] - 0s 24ms/step\n",
      "1/1 [==============================] - 0s 25ms/step\n"
     ]
    },
    {
     "name": "stderr",
     "output_type": "stream",
     "text": [
      "\u001b[32m2023-01-16 16:38:19\u001b[0m \u001b[35mDESKTOP-6JVVUQ4\u001b[0m \u001b[34mroot[12120]\u001b[0m \u001b[1;30mDEBUG\u001b[0m \u001b[32mSell at: $1327.68 | Position: -$104.77\u001b[0m\n"
     ]
    },
    {
     "name": "stdout",
     "output_type": "stream",
     "text": [
      "1/1 [==============================] - 0s 25ms/step\n"
     ]
    },
    {
     "name": "stderr",
     "output_type": "stream",
     "text": [
      "\u001b[32m2023-01-16 16:38:19\u001b[0m \u001b[35mDESKTOP-6JVVUQ4\u001b[0m \u001b[34mroot[12120]\u001b[0m \u001b[1;30mDEBUG\u001b[0m \u001b[32mBuy at: $1328.26\u001b[0m\n"
     ]
    },
    {
     "name": "stdout",
     "output_type": "stream",
     "text": [
      "1/1 [==============================] - 0s 25ms/step\n",
      "1/1 [==============================] - 0s 26ms/step\n"
     ]
    },
    {
     "name": "stderr",
     "output_type": "stream",
     "text": [
      "\u001b[32m2023-01-16 16:38:19\u001b[0m \u001b[35mDESKTOP-6JVVUQ4\u001b[0m \u001b[34mroot[12120]\u001b[0m \u001b[1;30mDEBUG\u001b[0m \u001b[32mBuy at: $1294.22\u001b[0m\n"
     ]
    },
    {
     "name": "stdout",
     "output_type": "stream",
     "text": [
      "1/1 [==============================] - 0s 25ms/step\n"
     ]
    },
    {
     "name": "stderr",
     "output_type": "stream",
     "text": [
      "\u001b[32m2023-01-16 16:38:19\u001b[0m \u001b[35mDESKTOP-6JVVUQ4\u001b[0m \u001b[34mroot[12120]\u001b[0m \u001b[1;30mDEBUG\u001b[0m \u001b[32mSell at: $1335.32 | Position: +$7.06\u001b[0m\n"
     ]
    },
    {
     "name": "stdout",
     "output_type": "stream",
     "text": [
      "1/1 [==============================] - 0s 25ms/step\n",
      "1/1 [==============================] - 0s 26ms/step\n",
      "1/1 [==============================] - 0s 26ms/step\n",
      "1/1 [==============================] - 0s 26ms/step\n",
      "1/1 [==============================] - 0s 26ms/step\n",
      "1/1 [==============================] - 0s 26ms/step\n",
      "1/1 [==============================] - 0s 25ms/step\n",
      "1/1 [==============================] - 0s 25ms/step\n",
      "1/1 [==============================] - 0s 26ms/step\n",
      "1/1 [==============================] - 0s 26ms/step\n",
      "1/1 [==============================] - 0s 25ms/step\n",
      "1/1 [==============================] - 0s 26ms/step\n"
     ]
    },
    {
     "name": "stderr",
     "output_type": "stream",
     "text": [
      "\u001b[32m2023-01-16 16:38:20\u001b[0m \u001b[35mDESKTOP-6JVVUQ4\u001b[0m \u001b[34mroot[12120]\u001b[0m \u001b[1;30mDEBUG\u001b[0m \u001b[32mBuy at: $1315.50\u001b[0m\n"
     ]
    },
    {
     "name": "stdout",
     "output_type": "stream",
     "text": [
      "1/1 [==============================] - 0s 27ms/step\n",
      "1/1 [==============================] - 0s 25ms/step\n",
      "1/1 [==============================] - 0s 18ms/step\n",
      "1/1 [==============================] - 0s 20ms/step\n",
      "1/1 [==============================] - 0s 22ms/step\n",
      "1/1 [==============================] - 0s 27ms/step\n",
      "1/1 [==============================] - 0s 26ms/step\n",
      "1/1 [==============================] - 0s 26ms/step\n"
     ]
    },
    {
     "name": "stderr",
     "output_type": "stream",
     "text": [
      "\u001b[32m2023-01-16 16:38:20\u001b[0m \u001b[35mDESKTOP-6JVVUQ4\u001b[0m \u001b[34mroot[12120]\u001b[0m \u001b[1;30mDEBUG\u001b[0m \u001b[32mBuy at: $1306.30\u001b[0m\n"
     ]
    },
    {
     "name": "stdout",
     "output_type": "stream",
     "text": [
      "1/1 [==============================] - 0s 27ms/step\n"
     ]
    },
    {
     "name": "stderr",
     "output_type": "stream",
     "text": [
      "\u001b[32m2023-01-16 16:38:21\u001b[0m \u001b[35mDESKTOP-6JVVUQ4\u001b[0m \u001b[34mroot[12120]\u001b[0m \u001b[1;30mDEBUG\u001b[0m \u001b[32mSell at: $1331.71 | Position: +$37.50\u001b[0m\n"
     ]
    },
    {
     "name": "stdout",
     "output_type": "stream",
     "text": [
      "1/1 [==============================] - 0s 25ms/step\n",
      "1/1 [==============================] - 0s 25ms/step\n"
     ]
    },
    {
     "name": "stderr",
     "output_type": "stream",
     "text": [
      "\u001b[32m2023-01-16 16:38:21\u001b[0m \u001b[35mDESKTOP-6JVVUQ4\u001b[0m \u001b[34mroot[12120]\u001b[0m \u001b[1;30mDEBUG\u001b[0m \u001b[32mBuy at: $1285.74\u001b[0m\n"
     ]
    },
    {
     "name": "stdout",
     "output_type": "stream",
     "text": [
      "1/1 [==============================] - 0s 25ms/step\n"
     ]
    },
    {
     "name": "stderr",
     "output_type": "stream",
     "text": [
      "\u001b[32m2023-01-16 16:38:21\u001b[0m \u001b[35mDESKTOP-6JVVUQ4\u001b[0m \u001b[34mroot[12120]\u001b[0m \u001b[1;30mDEBUG\u001b[0m \u001b[32mBuy at: $1283.20\u001b[0m\n"
     ]
    },
    {
     "name": "stdout",
     "output_type": "stream",
     "text": [
      "1/1 [==============================] - 0s 26ms/step\n",
      "1/1 [==============================] - 0s 25ms/step\n"
     ]
    },
    {
     "name": "stderr",
     "output_type": "stream",
     "text": [
      "\u001b[32m2023-01-16 16:38:21\u001b[0m \u001b[35mDESKTOP-6JVVUQ4\u001b[0m \u001b[34mroot[12120]\u001b[0m \u001b[1;30mDEBUG\u001b[0m \u001b[32mSell at: $1314.30 | Position: -$1.20\u001b[0m\n"
     ]
    },
    {
     "name": "stdout",
     "output_type": "stream",
     "text": [
      "1/1 [==============================] - 0s 26ms/step\n"
     ]
    },
    {
     "name": "stderr",
     "output_type": "stream",
     "text": [
      "\u001b[32m2023-01-16 16:38:21\u001b[0m \u001b[35mDESKTOP-6JVVUQ4\u001b[0m \u001b[34mroot[12120]\u001b[0m \u001b[1;30mDEBUG\u001b[0m \u001b[32mSell at: $1363.45 | Position: +$57.15\u001b[0m\n"
     ]
    },
    {
     "name": "stdout",
     "output_type": "stream",
     "text": [
      "1/1 [==============================] - 0s 25ms/step\n",
      "1/1 [==============================] - 0s 26ms/step\n"
     ]
    },
    {
     "name": "stderr",
     "output_type": "stream",
     "text": [
      "\u001b[32m2023-01-16 16:38:21\u001b[0m \u001b[35mDESKTOP-6JVVUQ4\u001b[0m \u001b[34mroot[12120]\u001b[0m \u001b[1;30mDEBUG\u001b[0m \u001b[32mBuy at: $1461.67\u001b[0m\n"
     ]
    },
    {
     "name": "stdout",
     "output_type": "stream",
     "text": [
      "1/1 [==============================] - 0s 25ms/step\n"
     ]
    },
    {
     "name": "stderr",
     "output_type": "stream",
     "text": [
      "\u001b[32m2023-01-16 16:38:21\u001b[0m \u001b[35mDESKTOP-6JVVUQ4\u001b[0m \u001b[34mroot[12120]\u001b[0m \u001b[1;30mDEBUG\u001b[0m \u001b[32mSell at: $1566.57 | Position: +$280.82\u001b[0m\n"
     ]
    },
    {
     "name": "stdout",
     "output_type": "stream",
     "text": [
      "1/1 [==============================] - 0s 25ms/step\n",
      "1/1 [==============================] - 0s 25ms/step\n",
      "1/1 [==============================] - 0s 25ms/step\n"
     ]
    },
    {
     "name": "stderr",
     "output_type": "stream",
     "text": [
      "\u001b[32m2023-01-16 16:38:21\u001b[0m \u001b[35mDESKTOP-6JVVUQ4\u001b[0m \u001b[34mroot[12120]\u001b[0m \u001b[1;30mDEBUG\u001b[0m \u001b[32mSell at: $1619.70 | Position: +$336.50\u001b[0m\n"
     ]
    },
    {
     "name": "stdout",
     "output_type": "stream",
     "text": [
      "1/1 [==============================] - 0s 22ms/step\n",
      "1/1 [==============================] - 0s 25ms/step\n"
     ]
    },
    {
     "name": "stderr",
     "output_type": "stream",
     "text": [
      "\u001b[32m2023-01-16 16:38:21\u001b[0m \u001b[35mDESKTOP-6JVVUQ4\u001b[0m \u001b[34mroot[12120]\u001b[0m \u001b[1;30mDEBUG\u001b[0m \u001b[32mSell at: $1572.71 | Position: +$111.05\u001b[0m\n"
     ]
    },
    {
     "name": "stdout",
     "output_type": "stream",
     "text": [
      "1/1 [==============================] - 0s 25ms/step\n",
      "1/1 [==============================] - 0s 25ms/step\n",
      "1/1 [==============================] - 0s 25ms/step\n",
      "1/1 [==============================] - 0s 25ms/step\n",
      "1/1 [==============================] - 0s 25ms/step\n",
      "1/1 [==============================] - 0s 18ms/step\n",
      "1/1 [==============================] - 0s 10ms/step\n",
      "1/1 [==============================] - 0s 25ms/step\n",
      "1/1 [==============================] - 0s 25ms/step\n",
      "1/1 [==============================] - 0s 26ms/step\n",
      "1/1 [==============================] - 0s 25ms/step\n",
      "1/1 [==============================] - 0s 21ms/step\n",
      "1/1 [==============================] - 0s 21ms/step\n"
     ]
    },
    {
     "name": "stderr",
     "output_type": "stream",
     "text": [
      "\u001b[32m2023-01-16 16:38:22\u001b[0m \u001b[35mDESKTOP-6JVVUQ4\u001b[0m \u001b[34mroot[12120]\u001b[0m \u001b[1;30mDEBUG\u001b[0m \u001b[32mBuy at: $1221.82\u001b[0m\n"
     ]
    },
    {
     "name": "stdout",
     "output_type": "stream",
     "text": [
      "1/1 [==============================] - 0s 22ms/step\n"
     ]
    },
    {
     "name": "stderr",
     "output_type": "stream",
     "text": [
      "\u001b[32m2023-01-16 16:38:22\u001b[0m \u001b[35mDESKTOP-6JVVUQ4\u001b[0m \u001b[34mroot[12120]\u001b[0m \u001b[1;30mDEBUG\u001b[0m \u001b[32mBuy at: $1241.60\u001b[0m\n"
     ]
    },
    {
     "name": "stdout",
     "output_type": "stream",
     "text": [
      "1/1 [==============================] - 0s 21ms/step\n",
      "1/1 [==============================] - 0s 26ms/step\n",
      "1/1 [==============================] - 0s 18ms/step\n"
     ]
    },
    {
     "name": "stderr",
     "output_type": "stream",
     "text": [
      "\u001b[32m2023-01-16 16:38:23\u001b[0m \u001b[35mDESKTOP-6JVVUQ4\u001b[0m \u001b[34mroot[12120]\u001b[0m \u001b[1;30mDEBUG\u001b[0m \u001b[32mBuy at: $1200.81\u001b[0m\n"
     ]
    },
    {
     "name": "stdout",
     "output_type": "stream",
     "text": [
      "1/1 [==============================] - 0s 25ms/step\n"
     ]
    },
    {
     "name": "stderr",
     "output_type": "stream",
     "text": [
      "\u001b[32m2023-01-16 16:38:23\u001b[0m \u001b[35mDESKTOP-6JVVUQ4\u001b[0m \u001b[34mroot[12120]\u001b[0m \u001b[1;30mDEBUG\u001b[0m \u001b[32mBuy at: $1212.30\u001b[0m\n"
     ]
    },
    {
     "name": "stdout",
     "output_type": "stream",
     "text": [
      "1/1 [==============================] - 0s 25ms/step\n",
      "1/1 [==============================] - 0s 26ms/step\n",
      "1/1 [==============================] - 0s 25ms/step\n",
      "1/1 [==============================] - 0s 26ms/step\n"
     ]
    },
    {
     "name": "stderr",
     "output_type": "stream",
     "text": [
      "\u001b[32m2023-01-16 16:38:23\u001b[0m \u001b[35mDESKTOP-6JVVUQ4\u001b[0m \u001b[34mroot[12120]\u001b[0m \u001b[1;30mDEBUG\u001b[0m \u001b[32mBuy at: $1135.17\u001b[0m\n"
     ]
    },
    {
     "name": "stdout",
     "output_type": "stream",
     "text": [
      "1/1 [==============================] - 0s 25ms/step\n",
      "1/1 [==============================] - 0s 25ms/step\n",
      "1/1 [==============================] - 0s 25ms/step\n",
      "1/1 [==============================] - 0s 25ms/step\n"
     ]
    },
    {
     "name": "stderr",
     "output_type": "stream",
     "text": [
      "\u001b[32m2023-01-16 16:38:23\u001b[0m \u001b[35mDESKTOP-6JVVUQ4\u001b[0m \u001b[34mroot[12120]\u001b[0m \u001b[1;30mDEBUG\u001b[0m \u001b[32mBuy at: $1205.90\u001b[0m\n"
     ]
    },
    {
     "name": "stdout",
     "output_type": "stream",
     "text": [
      "1/1 [==============================] - 0s 25ms/step\n",
      "1/1 [==============================] - 0s 26ms/step\n",
      "1/1 [==============================] - 0s 26ms/step\n",
      "1/1 [==============================] - 0s 26ms/step\n"
     ]
    },
    {
     "name": "stderr",
     "output_type": "stream",
     "text": [
      "\u001b[32m2023-01-16 16:38:23\u001b[0m \u001b[35mDESKTOP-6JVVUQ4\u001b[0m \u001b[34mroot[12120]\u001b[0m \u001b[1;30mDEBUG\u001b[0m \u001b[32mSell at: $1295.69 | Position: +$73.87\u001b[0m\n"
     ]
    },
    {
     "name": "stdout",
     "output_type": "stream",
     "text": [
      "1/1 [==============================] - 0s 25ms/step\n",
      "1/1 [==============================] - 0s 27ms/step\n"
     ]
    },
    {
     "name": "stderr",
     "output_type": "stream",
     "text": [
      "\u001b[32m2023-01-16 16:38:24\u001b[0m \u001b[35mDESKTOP-6JVVUQ4\u001b[0m \u001b[34mroot[12120]\u001b[0m \u001b[1;30mDEBUG\u001b[0m \u001b[32mBuy at: $1294.30\u001b[0m\n"
     ]
    },
    {
     "name": "stdout",
     "output_type": "stream",
     "text": [
      "1/1 [==============================] - 0s 27ms/step\n",
      "1/1 [==============================] - 0s 27ms/step\n",
      "1/1 [==============================] - 0s 19ms/step\n",
      "1/1 [==============================] - 0s 20ms/step\n"
     ]
    },
    {
     "name": "stderr",
     "output_type": "stream",
     "text": [
      "\u001b[32m2023-01-16 16:38:24\u001b[0m \u001b[35mDESKTOP-6JVVUQ4\u001b[0m \u001b[34mroot[12120]\u001b[0m \u001b[1;30mDEBUG\u001b[0m \u001b[32mBuy at: $1271.65\u001b[0m\n"
     ]
    },
    {
     "name": "stdout",
     "output_type": "stream",
     "text": [
      "1/1 [==============================] - 0s 26ms/step\n",
      "1/1 [==============================] - 0s 26ms/step\n"
     ]
    },
    {
     "name": "stderr",
     "output_type": "stream",
     "text": [
      "\u001b[32m2023-01-16 16:38:24\u001b[0m \u001b[35mDESKTOP-6JVVUQ4\u001b[0m \u001b[34mroot[12120]\u001b[0m \u001b[1;30mDEBUG\u001b[0m \u001b[32mBuy at: $1281.12\u001b[0m\n"
     ]
    },
    {
     "name": "stdout",
     "output_type": "stream",
     "text": [
      "1/1 [==============================] - 0s 26ms/step\n",
      "1/1 [==============================] - 0s 26ms/step\n"
     ]
    },
    {
     "name": "stderr",
     "output_type": "stream",
     "text": [
      "\u001b[32m2023-01-16 16:38:24\u001b[0m \u001b[35mDESKTOP-6JVVUQ4\u001b[0m \u001b[34mroot[12120]\u001b[0m \u001b[1;30mDEBUG\u001b[0m \u001b[32mBuy at: $1266.38\u001b[0m\n"
     ]
    },
    {
     "name": "stdout",
     "output_type": "stream",
     "text": [
      "1/1 [==============================] - 0s 25ms/step\n",
      "1/1 [==============================] - 0s 25ms/step\n"
     ]
    },
    {
     "name": "stderr",
     "output_type": "stream",
     "text": [
      "\u001b[32m2023-01-16 16:38:24\u001b[0m \u001b[35mDESKTOP-6JVVUQ4\u001b[0m \u001b[34mroot[12120]\u001b[0m \u001b[1;30mDEBUG\u001b[0m \u001b[32mBuy at: $1274.62\u001b[0m\n"
     ]
    },
    {
     "name": "stdout",
     "output_type": "stream",
     "text": [
      "1/1 [==============================] - 0s 25ms/step\n",
      "1/1 [==============================] - 0s 26ms/step\n",
      "1/1 [==============================] - 0s 26ms/step\n",
      "1/1 [==============================] - 0s 26ms/step\n"
     ]
    },
    {
     "name": "stderr",
     "output_type": "stream",
     "text": [
      "\u001b[32m2023-01-16 16:38:25\u001b[0m \u001b[35mDESKTOP-6JVVUQ4\u001b[0m \u001b[34mroot[12120]\u001b[0m \u001b[1;30mDEBUG\u001b[0m \u001b[32mBuy at: $1168.26\u001b[0m\n"
     ]
    },
    {
     "name": "stdout",
     "output_type": "stream",
     "text": [
      "1/1 [==============================] - 0s 26ms/step\n",
      "1/1 [==============================] - 0s 26ms/step\n",
      "1/1 [==============================] - 0s 26ms/step\n",
      "1/1 [==============================] - 0s 25ms/step\n",
      "1/1 [==============================] - 0s 26ms/step\n",
      "1/1 [==============================] - 0s 26ms/step\n",
      "1/1 [==============================] - 0s 25ms/step\n",
      "1/1 [==============================] - 0s 25ms/step\n"
     ]
    },
    {
     "name": "stderr",
     "output_type": "stream",
     "text": [
      "\u001b[32m2023-01-16 16:38:25\u001b[0m \u001b[35mDESKTOP-6JVVUQ4\u001b[0m \u001b[34mroot[12120]\u001b[0m \u001b[1;30mDEBUG\u001b[0m \u001b[32mBuy at: $1221.15\u001b[0m\n"
     ]
    },
    {
     "name": "stdout",
     "output_type": "stream",
     "text": [
      "1/1 [==============================] - 0s 25ms/step\n",
      "1/1 [==============================] - 0s 25ms/step\n"
     ]
    },
    {
     "name": "stderr",
     "output_type": "stream",
     "text": [
      "\u001b[32m2023-01-16 16:38:25\u001b[0m \u001b[35mDESKTOP-6JVVUQ4\u001b[0m \u001b[34mroot[12120]\u001b[0m \u001b[1;30mDEBUG\u001b[0m \u001b[32mBuy at: $1226.97\u001b[0m\n"
     ]
    },
    {
     "name": "stdout",
     "output_type": "stream",
     "text": [
      "1/1 [==============================] - 0s 25ms/step\n",
      "1/1 [==============================] - 0s 26ms/step\n",
      "1/1 [==============================] - 0s 25ms/step\n",
      "1/1 [==============================] - 0s 25ms/step\n",
      "1/1 [==============================] - 0s 26ms/step\n",
      "1/1 [==============================] - 0s 26ms/step\n"
     ]
    },
    {
     "name": "stderr",
     "output_type": "stream",
     "text": [
      "\u001b[32m2023-01-16 16:38:26\u001b[0m \u001b[35mDESKTOP-6JVVUQ4\u001b[0m \u001b[34mroot[12120]\u001b[0m \u001b[1;30mDEBUG\u001b[0m \u001b[32mBuy at: $1200.96\u001b[0m\n"
     ]
    },
    {
     "name": "stdout",
     "output_type": "stream",
     "text": [
      "1/1 [==============================] - 0s 26ms/step\n"
     ]
    },
    {
     "name": "stderr",
     "output_type": "stream",
     "text": [
      "\u001b[32m2023-01-16 16:38:26\u001b[0m \u001b[35mDESKTOP-6JVVUQ4\u001b[0m \u001b[34mroot[12120]\u001b[0m \u001b[1;30mDEBUG\u001b[0m \u001b[32mBuy at: $1214.66\u001b[0m\n"
     ]
    },
    {
     "name": "stdout",
     "output_type": "stream",
     "text": [
      "1/1 [==============================] - 0s 25ms/step\n",
      "1/1 [==============================] - 0s 26ms/step\n",
      "1/1 [==============================] - 0s 26ms/step\n",
      "1/1 [==============================] - 0s 25ms/step\n"
     ]
    },
    {
     "name": "stderr",
     "output_type": "stream",
     "text": [
      "\u001b[32m2023-01-16 16:38:26\u001b[0m \u001b[35mDESKTOP-6JVVUQ4\u001b[0m \u001b[34mroot[12120]\u001b[0m \u001b[1;30mDEBUG\u001b[0m \u001b[32mBuy at: $1269.38\u001b[0m\n"
     ]
    },
    {
     "name": "stdout",
     "output_type": "stream",
     "text": [
      "1/1 [==============================] - 0s 26ms/step\n",
      "1/1 [==============================] - 0s 26ms/step\n"
     ]
    },
    {
     "name": "stderr",
     "output_type": "stream",
     "text": [
      "\u001b[32m2023-01-16 16:38:26\u001b[0m \u001b[35mDESKTOP-6JVVUQ4\u001b[0m \u001b[34mroot[12120]\u001b[0m \u001b[1;30mDEBUG\u001b[0m \u001b[32mSell at: $1287.36 | Position: +$45.76\u001b[0m\n"
     ]
    },
    {
     "name": "stdout",
     "output_type": "stream",
     "text": [
      "1/1 [==============================] - 0s 25ms/step\n"
     ]
    },
    {
     "name": "stderr",
     "output_type": "stream",
     "text": [
      "\u001b[32m2023-01-16 16:38:26\u001b[0m \u001b[35mDESKTOP-6JVVUQ4\u001b[0m \u001b[34mroot[12120]\u001b[0m \u001b[1;30mINFO\u001b[0m 100_iter_change_target/model_t_dqn_ETH-USD_epidodes_50_20: +$1267.51\n",
      "\n"
     ]
    }
   ],
   "source": [
    "import logging\n",
    "import coloredlogs\n",
    "\n",
    "from trading_bot.utils import show_eval_result, switch_k_backend_device, get_stock_data\n",
    "from trading_bot.methods import evaluate_model\n",
    "\n",
    "coloredlogs.install(level='DEBUG')\n",
    "switch_k_backend_device()\n",
    "\n",
    "test_data = get_stock_data(test_stock)\n",
    "initial_offset = test_data[1] - test_data[0]\n",
    "\n",
    "test_result, history = evaluate_model(agent, test_data, window_size, debug)\n",
    "show_eval_result(model_name, test_result, initial_offset)"
   ]
  },
  {
   "cell_type": "markdown",
   "metadata": {},
   "source": [
    "### 4. Visualize"
   ]
  },
  {
   "cell_type": "code",
   "execution_count": 66,
   "metadata": {},
   "outputs": [],
   "source": [
    "def visualize(df, history, title=\"trading session\"):\n",
    "    # add history to dataframe\n",
    "    position = [history[0][0]] + [x[0] for x in history]\n",
    "    actions = ['HOLD'] + [x[1] for x in history]\n",
    "    df['position'] = position\n",
    "    df['action'] = actions\n",
    "    \n",
    "    # specify y-axis scale for stock prices\n",
    "    scale = alt.Scale(domain=(min(min(df['actual']), min(df['position'])) - 50, max(max(df['actual']), max(df['position'])) + 50), clamp=True)\n",
    "    \n",
    "    # plot a line chart for stock positions\n",
    "    actual = alt.Chart(df).mark_line(\n",
    "        color='green',\n",
    "        opacity=0.5\n",
    "    ).encode(\n",
    "        x='date:T',\n",
    "        y=alt.Y('position', axis=alt.Axis(format='$.2f', title='Price'), scale=scale)\n",
    "    ).interactive(\n",
    "        bind_y=False\n",
    "    )\n",
    "    \n",
    "    points = alt.Chart(df).mark_point(\n",
    "        filled=True\n",
    "    ).encode(\n",
    "        x=alt.X('date:T', axis=alt.Axis(title='Date')),\n",
    "        y=alt.Y('position', axis=alt.Axis(format='$.2f', title='Price'), scale=scale),\n",
    "        color='action'\n",
    "    ).interactive(bind_y=False)\n",
    "\n",
    "    # merge the two charts\n",
    "    chart = alt.layer(actual, points, title=title).properties(height=300, width=1000)\n",
    "    \n",
    "    return chart"
   ]
  },
  {
   "cell_type": "code",
   "execution_count": 67,
   "metadata": {},
   "outputs": [
    {
     "data": {
      "text/html": [
       "\n",
       "<div id=\"altair-viz-f1a94305465a4a8e8a9584c1e461d714\"></div>\n",
       "<script type=\"text/javascript\">\n",
       "  var VEGA_DEBUG = (typeof VEGA_DEBUG == \"undefined\") ? {} : VEGA_DEBUG;\n",
       "  (function(spec, embedOpt){\n",
       "    let outputDiv = document.currentScript.previousElementSibling;\n",
       "    if (outputDiv.id !== \"altair-viz-f1a94305465a4a8e8a9584c1e461d714\") {\n",
       "      outputDiv = document.getElementById(\"altair-viz-f1a94305465a4a8e8a9584c1e461d714\");\n",
       "    }\n",
       "    const paths = {\n",
       "      \"vega\": \"https://cdn.jsdelivr.net/npm//vega@5?noext\",\n",
       "      \"vega-lib\": \"https://cdn.jsdelivr.net/npm//vega-lib?noext\",\n",
       "      \"vega-lite\": \"https://cdn.jsdelivr.net/npm//vega-lite@4.17.0?noext\",\n",
       "      \"vega-embed\": \"https://cdn.jsdelivr.net/npm//vega-embed@6?noext\",\n",
       "    };\n",
       "\n",
       "    function maybeLoadScript(lib, version) {\n",
       "      var key = `${lib.replace(\"-\", \"\")}_version`;\n",
       "      return (VEGA_DEBUG[key] == version) ?\n",
       "        Promise.resolve(paths[lib]) :\n",
       "        new Promise(function(resolve, reject) {\n",
       "          var s = document.createElement('script');\n",
       "          document.getElementsByTagName(\"head\")[0].appendChild(s);\n",
       "          s.async = true;\n",
       "          s.onload = () => {\n",
       "            VEGA_DEBUG[key] = version;\n",
       "            return resolve(paths[lib]);\n",
       "          };\n",
       "          s.onerror = () => reject(`Error loading script: ${paths[lib]}`);\n",
       "          s.src = paths[lib];\n",
       "        });\n",
       "    }\n",
       "\n",
       "    function showError(err) {\n",
       "      outputDiv.innerHTML = `<div class=\"error\" style=\"color:red;\">${err}</div>`;\n",
       "      throw err;\n",
       "    }\n",
       "\n",
       "    function displayChart(vegaEmbed) {\n",
       "      vegaEmbed(outputDiv, spec, embedOpt)\n",
       "        .catch(err => showError(`Javascript Error: ${err.message}<br>This usually means there's a typo in your chart specification. See the javascript console for the full traceback.`));\n",
       "    }\n",
       "\n",
       "    if(typeof define === \"function\" && define.amd) {\n",
       "      requirejs.config({paths});\n",
       "      require([\"vega-embed\"], displayChart, err => showError(`Error loading script: ${err.message}`));\n",
       "    } else {\n",
       "      maybeLoadScript(\"vega\", \"5\")\n",
       "        .then(() => maybeLoadScript(\"vega-lite\", \"4.17.0\"))\n",
       "        .then(() => maybeLoadScript(\"vega-embed\", \"6\"))\n",
       "        .catch(showError)\n",
       "        .then(() => displayChart(vegaEmbed));\n",
       "    }\n",
       "  })({\"config\": {\"view\": {\"continuousWidth\": 400, \"continuousHeight\": 300}}, \"layer\": [{\"mark\": {\"type\": \"line\", \"color\": \"green\", \"opacity\": 0.5}, \"encoding\": {\"x\": {\"field\": \"date\", \"type\": \"temporal\"}, \"y\": {\"axis\": {\"format\": \"$.2f\", \"title\": \"Price\"}, \"field\": \"position\", \"scale\": {\"clamp\": true, \"domain\": [943.63678, 3879.564941]}, \"type\": \"quantitative\"}}, \"selection\": {\"selector015\": {\"type\": \"interval\", \"bind\": \"scales\", \"encodings\": [\"x\"]}}}, {\"mark\": {\"type\": \"point\", \"filled\": true}, \"encoding\": {\"color\": {\"field\": \"action\", \"type\": \"nominal\"}, \"x\": {\"axis\": {\"title\": \"Date\"}, \"field\": \"date\", \"type\": \"temporal\"}, \"y\": {\"axis\": {\"format\": \"$.2f\", \"title\": \"Price\"}, \"field\": \"position\", \"scale\": {\"clamp\": true, \"domain\": [943.63678, 3879.564941]}, \"type\": \"quantitative\"}}, \"selection\": {\"selector016\": {\"type\": \"interval\", \"bind\": \"scales\", \"encodings\": [\"x\"]}}}], \"data\": {\"name\": \"data-e99166213ab2c43592643d8b536510c2\"}, \"height\": 300, \"title\": \"ETHERIUM Currency +$1267.51 (T-DQN 20 ep & 100 iter to update T-Net)\", \"width\": 1000, \"$schema\": \"https://vega.github.io/schema/vega-lite/v4.17.0.json\", \"datasets\": {\"data-e99166213ab2c43592643d8b536510c2\": [{\"date\": \"2022-01-01T00:00:00\", \"actual\": 3769.697021, \"position\": 3769.697021, \"action\": \"HOLD\"}, {\"date\": \"2022-01-02T00:00:00\", \"actual\": 3829.564941, \"position\": 3769.697021, \"action\": \"BUY\"}, {\"date\": \"2022-01-03T00:00:00\", \"actual\": 3761.380371, \"position\": 3829.564941, \"action\": \"SELL\"}, {\"date\": \"2022-01-04T00:00:00\", \"actual\": 3794.056641, \"position\": 3761.380371, \"action\": \"HOLD\"}, {\"date\": \"2022-01-05T00:00:00\", \"actual\": 3550.386963, \"position\": 3794.056641, \"action\": \"HOLD\"}, {\"date\": \"2022-01-06T00:00:00\", \"actual\": 3418.408203, \"position\": 3550.386963, \"action\": \"HOLD\"}, {\"date\": \"2022-01-07T00:00:00\", \"actual\": 3193.210449, \"position\": 3418.408203, \"action\": \"HOLD\"}, {\"date\": \"2022-01-08T00:00:00\", \"actual\": 3091.972656, \"position\": 3193.210449, \"action\": \"HOLD\"}, {\"date\": \"2022-01-09T00:00:00\", \"actual\": 3157.751465, \"position\": 3091.972656, \"action\": \"HOLD\"}, {\"date\": \"2022-01-10T00:00:00\", \"actual\": 3083.0979, \"position\": 3157.751465, \"action\": \"HOLD\"}, {\"date\": \"2022-01-11T00:00:00\", \"actual\": 3238.111572, \"position\": 3083.0979, \"action\": \"HOLD\"}, {\"date\": \"2022-01-12T00:00:00\", \"actual\": 3372.258301, \"position\": 3238.111572, \"action\": \"HOLD\"}, {\"date\": \"2022-01-13T00:00:00\", \"actual\": 3248.288574, \"position\": 3372.258301, \"action\": \"HOLD\"}, {\"date\": \"2022-01-14T00:00:00\", \"actual\": 3310.001465, \"position\": 3248.288574, \"action\": \"HOLD\"}, {\"date\": \"2022-01-15T00:00:00\", \"actual\": 3330.530762, \"position\": 3310.001465, \"action\": \"HOLD\"}, {\"date\": \"2022-01-16T00:00:00\", \"actual\": 3350.921875, \"position\": 3330.530762, \"action\": \"HOLD\"}, {\"date\": \"2022-01-17T00:00:00\", \"actual\": 3212.304932, \"position\": 3350.921875, \"action\": \"HOLD\"}, {\"date\": \"2022-01-18T00:00:00\", \"actual\": 3164.025146, \"position\": 3212.304932, \"action\": \"HOLD\"}, {\"date\": \"2022-01-19T00:00:00\", \"actual\": 3095.825928, \"position\": 3164.025146, \"action\": \"HOLD\"}, {\"date\": \"2022-01-20T00:00:00\", \"actual\": 3001.120117, \"position\": 3095.825928, \"action\": \"HOLD\"}, {\"date\": \"2022-01-21T00:00:00\", \"actual\": 2557.931641, \"position\": 3001.120117, \"action\": \"HOLD\"}, {\"date\": \"2022-01-22T00:00:00\", \"actual\": 2405.181152, \"position\": 2557.931641, \"action\": \"HOLD\"}, {\"date\": \"2022-01-23T00:00:00\", \"actual\": 2535.039063, \"position\": 2405.181152, \"action\": \"BUY\"}, {\"date\": \"2022-01-24T00:00:00\", \"actual\": 2440.352295, \"position\": 2535.039063, \"action\": \"SELL\"}, {\"date\": \"2022-01-25T00:00:00\", \"actual\": 2455.935059, \"position\": 2440.352295, \"action\": \"HOLD\"}, {\"date\": \"2022-01-26T00:00:00\", \"actual\": 2468.030273, \"position\": 2455.935059, \"action\": \"BUY\"}, {\"date\": \"2022-01-27T00:00:00\", \"actual\": 2423.001221, \"position\": 2468.030273, \"action\": \"HOLD\"}, {\"date\": \"2022-01-28T00:00:00\", \"actual\": 2547.092041, \"position\": 2423.001221, \"action\": \"HOLD\"}, {\"date\": \"2022-01-29T00:00:00\", \"actual\": 2597.084717, \"position\": 2547.092041, \"action\": \"HOLD\"}, {\"date\": \"2022-01-30T00:00:00\", \"actual\": 2603.466553, \"position\": 2597.084717, \"action\": \"SELL\"}, {\"date\": \"2022-01-31T00:00:00\", \"actual\": 2688.278809, \"position\": 2603.466553, \"action\": \"HOLD\"}, {\"date\": \"2022-02-01T00:00:00\", \"actual\": 2792.117188, \"position\": 2688.278809, \"action\": \"HOLD\"}, {\"date\": \"2022-02-02T00:00:00\", \"actual\": 2682.854004, \"position\": 2792.117188, \"action\": \"HOLD\"}, {\"date\": \"2022-02-03T00:00:00\", \"actual\": 2679.162598, \"position\": 2682.854004, \"action\": \"HOLD\"}, {\"date\": \"2022-02-04T00:00:00\", \"actual\": 2983.586914, \"position\": 2679.162598, \"action\": \"HOLD\"}, {\"date\": \"2022-02-05T00:00:00\", \"actual\": 3014.648193, \"position\": 2983.586914, \"action\": \"HOLD\"}, {\"date\": \"2022-02-06T00:00:00\", \"actual\": 3057.476074, \"position\": 3014.648193, \"action\": \"HOLD\"}, {\"date\": \"2022-02-07T00:00:00\", \"actual\": 3142.470703, \"position\": 3057.476074, \"action\": \"HOLD\"}, {\"date\": \"2022-02-08T00:00:00\", \"actual\": 3122.608643, \"position\": 3142.470703, \"action\": \"HOLD\"}, {\"date\": \"2022-02-09T00:00:00\", \"actual\": 3239.457031, \"position\": 3122.608643, \"action\": \"HOLD\"}, {\"date\": \"2022-02-10T00:00:00\", \"actual\": 3077.482178, \"position\": 3239.457031, \"action\": \"HOLD\"}, {\"date\": \"2022-02-11T00:00:00\", \"actual\": 2927.383545, \"position\": 3077.482178, \"action\": \"HOLD\"}, {\"date\": \"2022-02-12T00:00:00\", \"actual\": 2917.362793, \"position\": 2927.383545, \"action\": \"HOLD\"}, {\"date\": \"2022-02-13T00:00:00\", \"actual\": 2883.463379, \"position\": 2917.362793, \"action\": \"HOLD\"}, {\"date\": \"2022-02-14T00:00:00\", \"actual\": 2933.479004, \"position\": 2883.463379, \"action\": \"BUY\"}, {\"date\": \"2022-02-15T00:00:00\", \"actual\": 3179.877197, \"position\": 2933.479004, \"action\": \"HOLD\"}, {\"date\": \"2022-02-16T00:00:00\", \"actual\": 3127.830078, \"position\": 3179.877197, \"action\": \"SELL\"}, {\"date\": \"2022-02-17T00:00:00\", \"actual\": 2881.481934, \"position\": 3127.830078, \"action\": \"HOLD\"}, {\"date\": \"2022-02-18T00:00:00\", \"actual\": 2785.727539, \"position\": 2881.481934, \"action\": \"HOLD\"}, {\"date\": \"2022-02-19T00:00:00\", \"actual\": 2763.701172, \"position\": 2785.727539, \"action\": \"HOLD\"}, {\"date\": \"2022-02-20T00:00:00\", \"actual\": 2628.648438, \"position\": 2763.701172, \"action\": \"BUY\"}, {\"date\": \"2022-02-21T00:00:00\", \"actual\": 2573.816162, \"position\": 2628.648438, \"action\": \"HOLD\"}, {\"date\": \"2022-02-22T00:00:00\", \"actual\": 2639.299316, \"position\": 2573.816162, \"action\": \"HOLD\"}, {\"date\": \"2022-02-23T00:00:00\", \"actual\": 2590.359619, \"position\": 2639.299316, \"action\": \"HOLD\"}, {\"date\": \"2022-02-24T00:00:00\", \"actual\": 2598.067139, \"position\": 2590.359619, \"action\": \"HOLD\"}, {\"date\": \"2022-02-25T00:00:00\", \"actual\": 2764.535645, \"position\": 2598.067139, \"action\": \"BUY\"}, {\"date\": \"2022-02-26T00:00:00\", \"actual\": 2781.111816, \"position\": 2764.535645, \"action\": \"HOLD\"}, {\"date\": \"2022-02-27T00:00:00\", \"actual\": 2621.801758, \"position\": 2781.111816, \"action\": \"BUY\"}, {\"date\": \"2022-02-28T00:00:00\", \"actual\": 2919.201172, \"position\": 2621.801758, \"action\": \"HOLD\"}, {\"date\": \"2022-03-01T00:00:00\", \"actual\": 2972.485107, \"position\": 2919.201172, \"action\": \"BUY\"}, {\"date\": \"2022-03-02T00:00:00\", \"actual\": 2950.118408, \"position\": 2972.485107, \"action\": \"SELL\"}, {\"date\": \"2022-03-03T00:00:00\", \"actual\": 2834.468994, \"position\": 2950.118408, \"action\": \"HOLD\"}, {\"date\": \"2022-03-04T00:00:00\", \"actual\": 2617.156006, \"position\": 2834.468994, \"action\": \"HOLD\"}, {\"date\": \"2022-03-05T00:00:00\", \"actual\": 2664.831055, \"position\": 2617.156006, \"action\": \"HOLD\"}, {\"date\": \"2022-03-06T00:00:00\", \"actual\": 2555.037354, \"position\": 2664.831055, \"action\": \"HOLD\"}, {\"date\": \"2022-03-07T00:00:00\", \"actual\": 2497.77124, \"position\": 2555.037354, \"action\": \"BUY\"}, {\"date\": \"2022-03-08T00:00:00\", \"actual\": 2576.747559, \"position\": 2497.77124, \"action\": \"HOLD\"}, {\"date\": \"2022-03-09T00:00:00\", \"actual\": 2729.783447, \"position\": 2576.747559, \"action\": \"HOLD\"}, {\"date\": \"2022-03-10T00:00:00\", \"actual\": 2608.048584, \"position\": 2729.783447, \"action\": \"SELL\"}, {\"date\": \"2022-03-11T00:00:00\", \"actual\": 2559.562988, \"position\": 2608.048584, \"action\": \"HOLD\"}, {\"date\": \"2022-03-12T00:00:00\", \"actual\": 2574.75415, \"position\": 2559.562988, \"action\": \"HOLD\"}, {\"date\": \"2022-03-13T00:00:00\", \"actual\": 2518.94458, \"position\": 2574.75415, \"action\": \"BUY\"}, {\"date\": \"2022-03-14T00:00:00\", \"actual\": 2590.696045, \"position\": 2518.94458, \"action\": \"HOLD\"}, {\"date\": \"2022-03-15T00:00:00\", \"actual\": 2620.149658, \"position\": 2590.696045, \"action\": \"HOLD\"}, {\"date\": \"2022-03-16T00:00:00\", \"actual\": 2772.055664, \"position\": 2620.149658, \"action\": \"SELL\"}, {\"date\": \"2022-03-17T00:00:00\", \"actual\": 2814.854492, \"position\": 2772.055664, \"action\": \"SELL\"}, {\"date\": \"2022-03-18T00:00:00\", \"actual\": 2945.343018, \"position\": 2814.854492, \"action\": \"SELL\"}, {\"date\": \"2022-03-19T00:00:00\", \"actual\": 2946.25708, \"position\": 2945.343018, \"action\": \"SELL\"}, {\"date\": \"2022-03-20T00:00:00\", \"actual\": 2860.459229, \"position\": 2946.25708, \"action\": \"HOLD\"}, {\"date\": \"2022-03-21T00:00:00\", \"actual\": 2897.976563, \"position\": 2860.459229, \"action\": \"HOLD\"}, {\"date\": \"2022-03-22T00:00:00\", \"actual\": 2973.131104, \"position\": 2897.976563, \"action\": \"HOLD\"}, {\"date\": \"2022-03-23T00:00:00\", \"actual\": 3031.067139, \"position\": 2973.131104, \"action\": \"HOLD\"}, {\"date\": \"2022-03-24T00:00:00\", \"actual\": 3108.062012, \"position\": 3031.067139, \"action\": \"HOLD\"}, {\"date\": \"2022-03-25T00:00:00\", \"actual\": 3106.671387, \"position\": 3108.062012, \"action\": \"HOLD\"}, {\"date\": \"2022-03-26T00:00:00\", \"actual\": 3143.178955, \"position\": 3106.671387, \"action\": \"HOLD\"}, {\"date\": \"2022-03-27T00:00:00\", \"actual\": 3291.577637, \"position\": 3143.178955, \"action\": \"HOLD\"}, {\"date\": \"2022-03-28T00:00:00\", \"actual\": 3336.634521, \"position\": 3291.577637, \"action\": \"HOLD\"}, {\"date\": \"2022-03-29T00:00:00\", \"actual\": 3401.987793, \"position\": 3336.634521, \"action\": \"HOLD\"}, {\"date\": \"2022-03-30T00:00:00\", \"actual\": 3385.157959, \"position\": 3401.987793, \"action\": \"HOLD\"}, {\"date\": \"2022-03-31T00:00:00\", \"actual\": 3281.642822, \"position\": 3385.157959, \"action\": \"HOLD\"}, {\"date\": \"2022-04-01T00:00:00\", \"actual\": 3449.552246, \"position\": 3281.642822, \"action\": \"HOLD\"}, {\"date\": \"2022-04-02T00:00:00\", \"actual\": 3445.059326, \"position\": 3449.552246, \"action\": \"HOLD\"}, {\"date\": \"2022-04-03T00:00:00\", \"actual\": 3522.833496, \"position\": 3445.059326, \"action\": \"HOLD\"}, {\"date\": \"2022-04-04T00:00:00\", \"actual\": 3521.241211, \"position\": 3522.833496, \"action\": \"HOLD\"}, {\"date\": \"2022-04-05T00:00:00\", \"actual\": 3411.79248, \"position\": 3521.241211, \"action\": \"HOLD\"}, {\"date\": \"2022-04-06T00:00:00\", \"actual\": 3171.691895, \"position\": 3411.79248, \"action\": \"HOLD\"}, {\"date\": \"2022-04-07T00:00:00\", \"actual\": 3233.274658, \"position\": 3171.691895, \"action\": \"HOLD\"}, {\"date\": \"2022-04-08T00:00:00\", \"actual\": 3192.073975, \"position\": 3233.274658, \"action\": \"BUY\"}, {\"date\": \"2022-04-09T00:00:00\", \"actual\": 3261.91626, \"position\": 3192.073975, \"action\": \"HOLD\"}, {\"date\": \"2022-04-10T00:00:00\", \"actual\": 3211.866943, \"position\": 3261.91626, \"action\": \"HOLD\"}, {\"date\": \"2022-04-11T00:00:00\", \"actual\": 2981.052246, \"position\": 3211.866943, \"action\": \"HOLD\"}, {\"date\": \"2022-04-12T00:00:00\", \"actual\": 3030.376465, \"position\": 2981.052246, \"action\": \"HOLD\"}, {\"date\": \"2022-04-13T00:00:00\", \"actual\": 3118.344238, \"position\": 3030.376465, \"action\": \"HOLD\"}, {\"date\": \"2022-04-14T00:00:00\", \"actual\": 3019.909424, \"position\": 3118.344238, \"action\": \"BUY\"}, {\"date\": \"2022-04-15T00:00:00\", \"actual\": 3040.916504, \"position\": 3019.909424, \"action\": \"HOLD\"}, {\"date\": \"2022-04-16T00:00:00\", \"actual\": 3062.310303, \"position\": 3040.916504, \"action\": \"HOLD\"}, {\"date\": \"2022-04-17T00:00:00\", \"actual\": 2993.40332, \"position\": 3062.310303, \"action\": \"SELL\"}, {\"date\": \"2022-04-18T00:00:00\", \"actual\": 3057.606689, \"position\": 2993.40332, \"action\": \"HOLD\"}, {\"date\": \"2022-04-19T00:00:00\", \"actual\": 3104.106445, \"position\": 3057.606689, \"action\": \"HOLD\"}, {\"date\": \"2022-04-20T00:00:00\", \"actual\": 3077.74585, \"position\": 3104.106445, \"action\": \"SELL\"}, {\"date\": \"2022-04-21T00:00:00\", \"actual\": 2987.480713, \"position\": 3077.74585, \"action\": \"HOLD\"}, {\"date\": \"2022-04-22T00:00:00\", \"actual\": 2964.835693, \"position\": 2987.480713, \"action\": \"HOLD\"}, {\"date\": \"2022-04-23T00:00:00\", \"actual\": 2938.114014, \"position\": 2964.835693, \"action\": \"HOLD\"}, {\"date\": \"2022-04-24T00:00:00\", \"actual\": 2922.732666, \"position\": 2938.114014, \"action\": \"HOLD\"}, {\"date\": \"2022-04-25T00:00:00\", \"actual\": 3009.393555, \"position\": 2922.732666, \"action\": \"HOLD\"}, {\"date\": \"2022-04-26T00:00:00\", \"actual\": 2808.29834, \"position\": 3009.393555, \"action\": \"HOLD\"}, {\"date\": \"2022-04-27T00:00:00\", \"actual\": 2888.929688, \"position\": 2808.29834, \"action\": \"HOLD\"}, {\"date\": \"2022-04-28T00:00:00\", \"actual\": 2936.940918, \"position\": 2888.929688, \"action\": \"HOLD\"}, {\"date\": \"2022-04-29T00:00:00\", \"actual\": 2815.601807, \"position\": 2936.940918, \"action\": \"HOLD\"}, {\"date\": \"2022-04-30T00:00:00\", \"actual\": 2730.186768, \"position\": 2815.601807, \"action\": \"HOLD\"}, {\"date\": \"2022-05-01T00:00:00\", \"actual\": 2827.756104, \"position\": 2730.186768, \"action\": \"HOLD\"}, {\"date\": \"2022-05-02T00:00:00\", \"actual\": 2857.4104, \"position\": 2827.756104, \"action\": \"HOLD\"}, {\"date\": \"2022-05-03T00:00:00\", \"actual\": 2783.476318, \"position\": 2857.4104, \"action\": \"HOLD\"}, {\"date\": \"2022-05-04T00:00:00\", \"actual\": 2940.644775, \"position\": 2783.476318, \"action\": \"HOLD\"}, {\"date\": \"2022-05-05T00:00:00\", \"actual\": 2749.213135, \"position\": 2940.644775, \"action\": \"HOLD\"}, {\"date\": \"2022-05-06T00:00:00\", \"actual\": 2694.979736, \"position\": 2749.213135, \"action\": \"HOLD\"}, {\"date\": \"2022-05-07T00:00:00\", \"actual\": 2636.093018, \"position\": 2694.979736, \"action\": \"BUY\"}, {\"date\": \"2022-05-08T00:00:00\", \"actual\": 2517.459961, \"position\": 2636.093018, \"action\": \"HOLD\"}, {\"date\": \"2022-05-09T00:00:00\", \"actual\": 2245.43042, \"position\": 2517.459961, \"action\": \"HOLD\"}, {\"date\": \"2022-05-10T00:00:00\", \"actual\": 2343.510986, \"position\": 2245.43042, \"action\": \"HOLD\"}, {\"date\": \"2022-05-11T00:00:00\", \"actual\": 2072.108643, \"position\": 2343.510986, \"action\": \"HOLD\"}, {\"date\": \"2022-05-12T00:00:00\", \"actual\": 1961.701538, \"position\": 2072.108643, \"action\": \"HOLD\"}, {\"date\": \"2022-05-13T00:00:00\", \"actual\": 2014.418213, \"position\": 1961.701538, \"action\": \"HOLD\"}, {\"date\": \"2022-05-14T00:00:00\", \"actual\": 2056.273926, \"position\": 2014.418213, \"action\": \"BUY\"}, {\"date\": \"2022-05-15T00:00:00\", \"actual\": 2145.706787, \"position\": 2056.273926, \"action\": \"BUY\"}, {\"date\": \"2022-05-16T00:00:00\", \"actual\": 2022.725952, \"position\": 2145.706787, \"action\": \"HOLD\"}, {\"date\": \"2022-05-17T00:00:00\", \"actual\": 2090.40918, \"position\": 2022.725952, \"action\": \"HOLD\"}, {\"date\": \"2022-05-18T00:00:00\", \"actual\": 1916.656128, \"position\": 2090.40918, \"action\": \"BUY\"}, {\"date\": \"2022-05-19T00:00:00\", \"actual\": 2018.336182, \"position\": 1916.656128, \"action\": \"HOLD\"}, {\"date\": \"2022-05-20T00:00:00\", \"actual\": 1961.315674, \"position\": 2018.336182, \"action\": \"HOLD\"}, {\"date\": \"2022-05-21T00:00:00\", \"actual\": 1974.518311, \"position\": 1961.315674, \"action\": \"BUY\"}, {\"date\": \"2022-05-22T00:00:00\", \"actual\": 2043.170166, \"position\": 1974.518311, \"action\": \"HOLD\"}, {\"date\": \"2022-05-23T00:00:00\", \"actual\": 1972.181885, \"position\": 2043.170166, \"action\": \"SELL\"}, {\"date\": \"2022-05-24T00:00:00\", \"actual\": 1978.982788, \"position\": 1972.181885, \"action\": \"HOLD\"}, {\"date\": \"2022-05-25T00:00:00\", \"actual\": 1944.827881, \"position\": 1978.982788, \"action\": \"HOLD\"}, {\"date\": \"2022-05-26T00:00:00\", \"actual\": 1803.91333, \"position\": 1944.827881, \"action\": \"HOLD\"}, {\"date\": \"2022-05-27T00:00:00\", \"actual\": 1724.922852, \"position\": 1803.91333, \"action\": \"HOLD\"}, {\"date\": \"2022-05-28T00:00:00\", \"actual\": 1757.941772, \"position\": 1724.922852, \"action\": \"SELL\"}, {\"date\": \"2022-05-29T00:00:00\", \"actual\": 1812.031006, \"position\": 1757.941772, \"action\": \"SELL\"}, {\"date\": \"2022-05-30T00:00:00\", \"actual\": 1996.441284, \"position\": 1812.031006, \"action\": \"HOLD\"}, {\"date\": \"2022-05-31T00:00:00\", \"actual\": 1942.328003, \"position\": 1996.441284, \"action\": \"HOLD\"}, {\"date\": \"2022-06-01T00:00:00\", \"actual\": 1823.569336, \"position\": 1942.328003, \"action\": \"HOLD\"}, {\"date\": \"2022-06-02T00:00:00\", \"actual\": 1834.150513, \"position\": 1823.569336, \"action\": \"BUY\"}, {\"date\": \"2022-06-03T00:00:00\", \"actual\": 1775.078613, \"position\": 1834.150513, \"action\": \"HOLD\"}, {\"date\": \"2022-06-04T00:00:00\", \"actual\": 1801.609497, \"position\": 1775.078613, \"action\": \"HOLD\"}, {\"date\": \"2022-06-05T00:00:00\", \"actual\": 1805.204956, \"position\": 1801.609497, \"action\": \"HOLD\"}, {\"date\": \"2022-06-06T00:00:00\", \"actual\": 1859.289673, \"position\": 1805.204956, \"action\": \"SELL\"}, {\"date\": \"2022-06-07T00:00:00\", \"actual\": 1814.04834, \"position\": 1859.289673, \"action\": \"SELL\"}, {\"date\": \"2022-06-08T00:00:00\", \"actual\": 1793.572266, \"position\": 1814.04834, \"action\": \"HOLD\"}, {\"date\": \"2022-06-09T00:00:00\", \"actual\": 1789.82605, \"position\": 1793.572266, \"action\": \"SELL\"}, {\"date\": \"2022-06-10T00:00:00\", \"actual\": 1665.042236, \"position\": 1789.82605, \"action\": \"HOLD\"}, {\"date\": \"2022-06-11T00:00:00\", \"actual\": 1529.663452, \"position\": 1665.042236, \"action\": \"BUY\"}, {\"date\": \"2022-06-12T00:00:00\", \"actual\": 1445.216553, \"position\": 1529.663452, \"action\": \"HOLD\"}, {\"date\": \"2022-06-13T00:00:00\", \"actual\": 1204.582764, \"position\": 1445.216553, \"action\": \"BUY\"}, {\"date\": \"2022-06-14T00:00:00\", \"actual\": 1211.662842, \"position\": 1204.582764, \"action\": \"HOLD\"}, {\"date\": \"2022-06-15T00:00:00\", \"actual\": 1233.206421, \"position\": 1211.662842, \"action\": \"HOLD\"}, {\"date\": \"2022-06-16T00:00:00\", \"actual\": 1067.730713, \"position\": 1233.206421, \"action\": \"HOLD\"}, {\"date\": \"2022-06-17T00:00:00\", \"actual\": 1086.519287, \"position\": 1067.730713, \"action\": \"HOLD\"}, {\"date\": \"2022-06-18T00:00:00\", \"actual\": 993.63678, \"position\": 1086.519287, \"action\": \"HOLD\"}, {\"date\": \"2022-06-19T00:00:00\", \"actual\": 1127.656494, \"position\": 993.63678, \"action\": \"HOLD\"}, {\"date\": \"2022-06-20T00:00:00\", \"actual\": 1127.642456, \"position\": 1127.656494, \"action\": \"BUY\"}, {\"date\": \"2022-06-21T00:00:00\", \"actual\": 1124.824585, \"position\": 1127.642456, \"action\": \"HOLD\"}, {\"date\": \"2022-06-22T00:00:00\", \"actual\": 1051.421875, \"position\": 1124.824585, \"action\": \"BUY\"}, {\"date\": \"2022-06-23T00:00:00\", \"actual\": 1143.386719, \"position\": 1051.421875, \"action\": \"HOLD\"}, {\"date\": \"2022-06-24T00:00:00\", \"actual\": 1226.844727, \"position\": 1143.386719, \"action\": \"SELL\"}, {\"date\": \"2022-06-25T00:00:00\", \"actual\": 1243.446899, \"position\": 1226.844727, \"action\": \"SELL\"}, {\"date\": \"2022-06-26T00:00:00\", \"actual\": 1199.831665, \"position\": 1243.446899, \"action\": \"HOLD\"}, {\"date\": \"2022-06-27T00:00:00\", \"actual\": 1193.680664, \"position\": 1199.831665, \"action\": \"HOLD\"}, {\"date\": \"2022-06-28T00:00:00\", \"actual\": 1144.579224, \"position\": 1193.680664, \"action\": \"BUY\"}, {\"date\": \"2022-06-29T00:00:00\", \"actual\": 1098.943848, \"position\": 1144.579224, \"action\": \"HOLD\"}, {\"date\": \"2022-06-30T00:00:00\", \"actual\": 1067.298828, \"position\": 1098.943848, \"action\": \"HOLD\"}, {\"date\": \"2022-07-01T00:00:00\", \"actual\": 1059.767334, \"position\": 1067.298828, \"action\": \"HOLD\"}, {\"date\": \"2022-07-02T00:00:00\", \"actual\": 1066.512817, \"position\": 1059.767334, \"action\": \"BUY\"}, {\"date\": \"2022-07-03T00:00:00\", \"actual\": 1073.766968, \"position\": 1066.512817, \"action\": \"SELL\"}, {\"date\": \"2022-07-04T00:00:00\", \"actual\": 1151.059082, \"position\": 1073.766968, \"action\": \"HOLD\"}, {\"date\": \"2022-07-05T00:00:00\", \"actual\": 1134.541016, \"position\": 1151.059082, \"action\": \"SELL\"}, {\"date\": \"2022-07-06T00:00:00\", \"actual\": 1186.973999, \"position\": 1134.541016, \"action\": \"HOLD\"}, {\"date\": \"2022-07-07T00:00:00\", \"actual\": 1237.593384, \"position\": 1186.973999, \"action\": \"BUY\"}, {\"date\": \"2022-07-08T00:00:00\", \"actual\": 1222.506226, \"position\": 1237.593384, \"action\": \"HOLD\"}, {\"date\": \"2022-07-09T00:00:00\", \"actual\": 1216.978271, \"position\": 1222.506226, \"action\": \"HOLD\"}, {\"date\": \"2022-07-10T00:00:00\", \"actual\": 1168.401611, \"position\": 1216.978271, \"action\": \"HOLD\"}, {\"date\": \"2022-07-11T00:00:00\", \"actual\": 1097.236572, \"position\": 1168.401611, \"action\": \"HOLD\"}, {\"date\": \"2022-07-12T00:00:00\", \"actual\": 1038.19165, \"position\": 1097.236572, \"action\": \"HOLD\"}, {\"date\": \"2022-07-13T00:00:00\", \"actual\": 1113.587158, \"position\": 1038.19165, \"action\": \"HOLD\"}, {\"date\": \"2022-07-14T00:00:00\", \"actual\": 1191.526245, \"position\": 1113.587158, \"action\": \"HOLD\"}, {\"date\": \"2022-07-15T00:00:00\", \"actual\": 1233.12915, \"position\": 1191.526245, \"action\": \"HOLD\"}, {\"date\": \"2022-07-16T00:00:00\", \"actual\": 1352.626465, \"position\": 1233.12915, \"action\": \"SELL\"}, {\"date\": \"2022-07-17T00:00:00\", \"actual\": 1338.635742, \"position\": 1352.626465, \"action\": \"HOLD\"}, {\"date\": \"2022-07-18T00:00:00\", \"actual\": 1578.717896, \"position\": 1338.635742, \"action\": \"SELL\"}, {\"date\": \"2022-07-19T00:00:00\", \"actual\": 1542.97522, \"position\": 1578.717896, \"action\": \"HOLD\"}, {\"date\": \"2022-07-20T00:00:00\", \"actual\": 1520.200684, \"position\": 1542.97522, \"action\": \"HOLD\"}, {\"date\": \"2022-07-21T00:00:00\", \"actual\": 1576.749512, \"position\": 1520.200684, \"action\": \"HOLD\"}, {\"date\": \"2022-07-22T00:00:00\", \"actual\": 1537.405151, \"position\": 1576.749512, \"action\": \"HOLD\"}, {\"date\": \"2022-07-23T00:00:00\", \"actual\": 1549.297485, \"position\": 1537.405151, \"action\": \"HOLD\"}, {\"date\": \"2022-07-24T00:00:00\", \"actual\": 1599.476685, \"position\": 1549.297485, \"action\": \"HOLD\"}, {\"date\": \"2022-07-25T00:00:00\", \"actual\": 1445.383423, \"position\": 1599.476685, \"action\": \"BUY\"}, {\"date\": \"2022-07-26T00:00:00\", \"actual\": 1441.806763, \"position\": 1445.383423, \"action\": \"BUY\"}, {\"date\": \"2022-07-27T00:00:00\", \"actual\": 1636.232666, \"position\": 1441.806763, \"action\": \"HOLD\"}, {\"date\": \"2022-07-28T00:00:00\", \"actual\": 1725.46814, \"position\": 1636.232666, \"action\": \"BUY\"}, {\"date\": \"2022-07-29T00:00:00\", \"actual\": 1727.406982, \"position\": 1725.46814, \"action\": \"HOLD\"}, {\"date\": \"2022-07-30T00:00:00\", \"actual\": 1695.969482, \"position\": 1727.406982, \"action\": \"HOLD\"}, {\"date\": \"2022-07-31T00:00:00\", \"actual\": 1681.517334, \"position\": 1695.969482, \"action\": \"HOLD\"}, {\"date\": \"2022-08-01T00:00:00\", \"actual\": 1635.195801, \"position\": 1681.517334, \"action\": \"SELL\"}, {\"date\": \"2022-08-02T00:00:00\", \"actual\": 1632.945435, \"position\": 1635.195801, \"action\": \"SELL\"}, {\"date\": \"2022-08-03T00:00:00\", \"actual\": 1618.874512, \"position\": 1632.945435, \"action\": \"HOLD\"}, {\"date\": \"2022-08-04T00:00:00\", \"actual\": 1608.205811, \"position\": 1618.874512, \"action\": \"HOLD\"}, {\"date\": \"2022-08-05T00:00:00\", \"actual\": 1732.254639, \"position\": 1608.205811, \"action\": \"BUY\"}, {\"date\": \"2022-08-06T00:00:00\", \"actual\": 1691.658081, \"position\": 1732.254639, \"action\": \"SELL\"}, {\"date\": \"2022-08-07T00:00:00\", \"actual\": 1699.35083, \"position\": 1691.658081, \"action\": \"HOLD\"}, {\"date\": \"2022-08-08T00:00:00\", \"actual\": 1775.516113, \"position\": 1699.35083, \"action\": \"HOLD\"}, {\"date\": \"2022-08-09T00:00:00\", \"actual\": 1703.025024, \"position\": 1775.516113, \"action\": \"HOLD\"}, {\"date\": \"2022-08-10T00:00:00\", \"actual\": 1851.742676, \"position\": 1703.025024, \"action\": \"HOLD\"}, {\"date\": \"2022-08-11T00:00:00\", \"actual\": 1881.224121, \"position\": 1851.742676, \"action\": \"HOLD\"}, {\"date\": \"2022-08-12T00:00:00\", \"actual\": 1957.24646, \"position\": 1881.224121, \"action\": \"SELL\"}, {\"date\": \"2022-08-13T00:00:00\", \"actual\": 1981.336548, \"position\": 1957.24646, \"action\": \"SELL\"}, {\"date\": \"2022-08-14T00:00:00\", \"actual\": 1936.802002, \"position\": 1981.336548, \"action\": \"HOLD\"}, {\"date\": \"2022-08-15T00:00:00\", \"actual\": 1904.228149, \"position\": 1936.802002, \"action\": \"HOLD\"}, {\"date\": \"2022-08-16T00:00:00\", \"actual\": 1878.139404, \"position\": 1904.228149, \"action\": \"HOLD\"}, {\"date\": \"2022-08-17T00:00:00\", \"actual\": 1832.999634, \"position\": 1878.139404, \"action\": \"HOLD\"}, {\"date\": \"2022-08-18T00:00:00\", \"actual\": 1847.007813, \"position\": 1832.999634, \"action\": \"HOLD\"}, {\"date\": \"2022-08-19T00:00:00\", \"actual\": 1612.987305, \"position\": 1847.007813, \"action\": \"HOLD\"}, {\"date\": \"2022-08-20T00:00:00\", \"actual\": 1577.003784, \"position\": 1612.987305, \"action\": \"BUY\"}, {\"date\": \"2022-08-21T00:00:00\", \"actual\": 1619.31897, \"position\": 1577.003784, \"action\": \"HOLD\"}, {\"date\": \"2022-08-22T00:00:00\", \"actual\": 1622.505859, \"position\": 1619.31897, \"action\": \"HOLD\"}, {\"date\": \"2022-08-23T00:00:00\", \"actual\": 1662.769897, \"position\": 1622.505859, \"action\": \"BUY\"}, {\"date\": \"2022-08-24T00:00:00\", \"actual\": 1657.059204, \"position\": 1662.769897, \"action\": \"HOLD\"}, {\"date\": \"2022-08-25T00:00:00\", \"actual\": 1696.457031, \"position\": 1657.059204, \"action\": \"HOLD\"}, {\"date\": \"2022-08-26T00:00:00\", \"actual\": 1507.782837, \"position\": 1696.457031, \"action\": \"BUY\"}, {\"date\": \"2022-08-27T00:00:00\", \"actual\": 1491.39502, \"position\": 1507.782837, \"action\": \"HOLD\"}, {\"date\": \"2022-08-28T00:00:00\", \"actual\": 1430.547363, \"position\": 1491.39502, \"action\": \"HOLD\"}, {\"date\": \"2022-08-29T00:00:00\", \"actual\": 1553.037354, \"position\": 1430.547363, \"action\": \"HOLD\"}, {\"date\": \"2022-08-30T00:00:00\", \"actual\": 1523.838867, \"position\": 1553.037354, \"action\": \"SELL\"}, {\"date\": \"2022-08-31T00:00:00\", \"actual\": 1553.684937, \"position\": 1523.838867, \"action\": \"HOLD\"}, {\"date\": \"2022-09-01T00:00:00\", \"actual\": 1586.176758, \"position\": 1553.684937, \"action\": \"HOLD\"}, {\"date\": \"2022-09-02T00:00:00\", \"actual\": 1577.220459, \"position\": 1586.176758, \"action\": \"HOLD\"}, {\"date\": \"2022-09-03T00:00:00\", \"actual\": 1556.872681, \"position\": 1577.220459, \"action\": \"BUY\"}, {\"date\": \"2022-09-04T00:00:00\", \"actual\": 1577.641602, \"position\": 1556.872681, \"action\": \"HOLD\"}, {\"date\": \"2022-09-05T00:00:00\", \"actual\": 1617.183228, \"position\": 1577.641602, \"action\": \"HOLD\"}, {\"date\": \"2022-09-06T00:00:00\", \"actual\": 1561.748535, \"position\": 1617.183228, \"action\": \"HOLD\"}, {\"date\": \"2022-09-07T00:00:00\", \"actual\": 1629.906372, \"position\": 1561.748535, \"action\": \"HOLD\"}, {\"date\": \"2022-09-08T00:00:00\", \"actual\": 1635.347656, \"position\": 1629.906372, \"action\": \"HOLD\"}, {\"date\": \"2022-09-09T00:00:00\", \"actual\": 1719.085449, \"position\": 1635.347656, \"action\": \"HOLD\"}, {\"date\": \"2022-09-10T00:00:00\", \"actual\": 1776.203735, \"position\": 1719.085449, \"action\": \"HOLD\"}, {\"date\": \"2022-09-11T00:00:00\", \"actual\": 1761.800049, \"position\": 1776.203735, \"action\": \"HOLD\"}, {\"date\": \"2022-09-12T00:00:00\", \"actual\": 1713.765259, \"position\": 1761.800049, \"action\": \"SELL\"}, {\"date\": \"2022-09-13T00:00:00\", \"actual\": 1580.787964, \"position\": 1713.765259, \"action\": \"HOLD\"}, {\"date\": \"2022-09-14T00:00:00\", \"actual\": 1634.755005, \"position\": 1580.787964, \"action\": \"SELL\"}, {\"date\": \"2022-09-15T00:00:00\", \"actual\": 1471.693481, \"position\": 1634.755005, \"action\": \"SELL\"}, {\"date\": \"2022-09-16T00:00:00\", \"actual\": 1432.447754, \"position\": 1471.693481, \"action\": \"HOLD\"}, {\"date\": \"2022-09-17T00:00:00\", \"actual\": 1469.741699, \"position\": 1432.447754, \"action\": \"BUY\"}, {\"date\": \"2022-09-18T00:00:00\", \"actual\": 1335.329102, \"position\": 1469.741699, \"action\": \"HOLD\"}, {\"date\": \"2022-09-19T00:00:00\", \"actual\": 1377.541382, \"position\": 1335.329102, \"action\": \"HOLD\"}, {\"date\": \"2022-09-20T00:00:00\", \"actual\": 1324.388184, \"position\": 1377.541382, \"action\": \"HOLD\"}, {\"date\": \"2022-09-21T00:00:00\", \"actual\": 1252.607788, \"position\": 1324.388184, \"action\": \"HOLD\"}, {\"date\": \"2022-09-22T00:00:00\", \"actual\": 1327.680176, \"position\": 1252.607788, \"action\": \"HOLD\"}, {\"date\": \"2022-09-23T00:00:00\", \"actual\": 1328.259521, \"position\": 1327.680176, \"action\": \"SELL\"}, {\"date\": \"2022-09-24T00:00:00\", \"actual\": 1317.993286, \"position\": 1328.259521, \"action\": \"BUY\"}, {\"date\": \"2022-09-25T00:00:00\", \"actual\": 1294.216797, \"position\": 1317.993286, \"action\": \"HOLD\"}, {\"date\": \"2022-09-26T00:00:00\", \"actual\": 1335.32019, \"position\": 1294.216797, \"action\": \"BUY\"}, {\"date\": \"2022-09-27T00:00:00\", \"actual\": 1330.127686, \"position\": 1335.32019, \"action\": \"SELL\"}, {\"date\": \"2022-09-28T00:00:00\", \"actual\": 1337.410889, \"position\": 1330.127686, \"action\": \"HOLD\"}, {\"date\": \"2022-09-29T00:00:00\", \"actual\": 1335.652344, \"position\": 1337.410889, \"action\": \"HOLD\"}, {\"date\": \"2022-09-30T00:00:00\", \"actual\": 1327.978638, \"position\": 1335.652344, \"action\": \"HOLD\"}, {\"date\": \"2022-10-01T00:00:00\", \"actual\": 1311.644409, \"position\": 1327.978638, \"action\": \"HOLD\"}, {\"date\": \"2022-10-02T00:00:00\", \"actual\": 1276.093506, \"position\": 1311.644409, \"action\": \"HOLD\"}, {\"date\": \"2022-10-03T00:00:00\", \"actual\": 1323.439209, \"position\": 1276.093506, \"action\": \"HOLD\"}, {\"date\": \"2022-10-04T00:00:00\", \"actual\": 1362.126587, \"position\": 1323.439209, \"action\": \"HOLD\"}, {\"date\": \"2022-10-05T00:00:00\", \"actual\": 1352.837158, \"position\": 1362.126587, \"action\": \"HOLD\"}, {\"date\": \"2022-10-06T00:00:00\", \"actual\": 1351.709473, \"position\": 1352.837158, \"action\": \"HOLD\"}, {\"date\": \"2022-10-07T00:00:00\", \"actual\": 1332.516968, \"position\": 1351.709473, \"action\": \"HOLD\"}, {\"date\": \"2022-10-08T00:00:00\", \"actual\": 1315.500488, \"position\": 1332.516968, \"action\": \"HOLD\"}, {\"date\": \"2022-10-09T00:00:00\", \"actual\": 1322.604248, \"position\": 1315.500488, \"action\": \"BUY\"}, {\"date\": \"2022-10-10T00:00:00\", \"actual\": 1291.337646, \"position\": 1322.604248, \"action\": \"HOLD\"}, {\"date\": \"2022-10-11T00:00:00\", \"actual\": 1279.575684, \"position\": 1291.337646, \"action\": \"HOLD\"}, {\"date\": \"2022-10-12T00:00:00\", \"actual\": 1294.906372, \"position\": 1279.575684, \"action\": \"HOLD\"}, {\"date\": \"2022-10-13T00:00:00\", \"actual\": 1288.123901, \"position\": 1294.906372, \"action\": \"HOLD\"}, {\"date\": \"2022-10-14T00:00:00\", \"actual\": 1297.422119, \"position\": 1288.123901, \"action\": \"HOLD\"}, {\"date\": \"2022-10-15T00:00:00\", \"actual\": 1274.871704, \"position\": 1297.422119, \"action\": \"HOLD\"}, {\"date\": \"2022-10-16T00:00:00\", \"actual\": 1306.296631, \"position\": 1274.871704, \"action\": \"HOLD\"}, {\"date\": \"2022-10-17T00:00:00\", \"actual\": 1331.713623, \"position\": 1306.296631, \"action\": \"BUY\"}, {\"date\": \"2022-10-18T00:00:00\", \"actual\": 1310.447021, \"position\": 1331.713623, \"action\": \"SELL\"}, {\"date\": \"2022-10-19T00:00:00\", \"actual\": 1285.744263, \"position\": 1310.447021, \"action\": \"HOLD\"}, {\"date\": \"2022-10-20T00:00:00\", \"actual\": 1283.200928, \"position\": 1285.744263, \"action\": \"BUY\"}, {\"date\": \"2022-10-21T00:00:00\", \"actual\": 1299.946411, \"position\": 1283.200928, \"action\": \"BUY\"}, {\"date\": \"2022-10-22T00:00:00\", \"actual\": 1314.299194, \"position\": 1299.946411, \"action\": \"HOLD\"}, {\"date\": \"2022-10-23T00:00:00\", \"actual\": 1363.447021, \"position\": 1314.299194, \"action\": \"SELL\"}, {\"date\": \"2022-10-24T00:00:00\", \"actual\": 1344.998535, \"position\": 1363.447021, \"action\": \"SELL\"}, {\"date\": \"2022-10-25T00:00:00\", \"actual\": 1461.665405, \"position\": 1344.998535, \"action\": \"HOLD\"}, {\"date\": \"2022-10-26T00:00:00\", \"actual\": 1566.56665, \"position\": 1461.665405, \"action\": \"BUY\"}, {\"date\": \"2022-10-27T00:00:00\", \"actual\": 1514.374878, \"position\": 1566.56665, \"action\": \"SELL\"}, {\"date\": \"2022-10-28T00:00:00\", \"actual\": 1555.477905, \"position\": 1514.374878, \"action\": \"HOLD\"}, {\"date\": \"2022-10-29T00:00:00\", \"actual\": 1619.698486, \"position\": 1555.477905, \"action\": \"HOLD\"}, {\"date\": \"2022-10-30T00:00:00\", \"actual\": 1590.783325, \"position\": 1619.698486, \"action\": \"SELL\"}, {\"date\": \"2022-10-31T00:00:00\", \"actual\": 1572.714478, \"position\": 1590.783325, \"action\": \"HOLD\"}, {\"date\": \"2022-11-01T00:00:00\", \"actual\": 1579.70459, \"position\": 1572.714478, \"action\": \"SELL\"}, {\"date\": \"2022-11-02T00:00:00\", \"actual\": 1519.711792, \"position\": 1579.70459, \"action\": \"HOLD\"}, {\"date\": \"2022-11-03T00:00:00\", \"actual\": 1531.541748, \"position\": 1519.711792, \"action\": \"HOLD\"}, {\"date\": \"2022-11-04T00:00:00\", \"actual\": 1645.093384, \"position\": 1531.541748, \"action\": \"HOLD\"}, {\"date\": \"2022-11-05T00:00:00\", \"actual\": 1627.968018, \"position\": 1645.093384, \"action\": \"HOLD\"}, {\"date\": \"2022-11-06T00:00:00\", \"actual\": 1572.234741, \"position\": 1627.968018, \"action\": \"HOLD\"}, {\"date\": \"2022-11-07T00:00:00\", \"actual\": 1568.591309, \"position\": 1572.234741, \"action\": \"HOLD\"}, {\"date\": \"2022-11-08T00:00:00\", \"actual\": 1332.835571, \"position\": 1568.591309, \"action\": \"HOLD\"}, {\"date\": \"2022-11-09T00:00:00\", \"actual\": 1100.1698, \"position\": 1332.835571, \"action\": \"HOLD\"}, {\"date\": \"2022-11-10T00:00:00\", \"actual\": 1299.4646, \"position\": 1100.1698, \"action\": \"HOLD\"}, {\"date\": \"2022-11-11T00:00:00\", \"actual\": 1287.221069, \"position\": 1299.4646, \"action\": \"HOLD\"}, {\"date\": \"2022-11-12T00:00:00\", \"actual\": 1255.268311, \"position\": 1287.221069, \"action\": \"HOLD\"}, {\"date\": \"2022-11-13T00:00:00\", \"actual\": 1221.819214, \"position\": 1255.268311, \"action\": \"HOLD\"}, {\"date\": \"2022-11-14T00:00:00\", \"actual\": 1241.604248, \"position\": 1221.819214, \"action\": \"BUY\"}, {\"date\": \"2022-11-15T00:00:00\", \"actual\": 1251.736206, \"position\": 1241.604248, \"action\": \"BUY\"}, {\"date\": \"2022-11-16T00:00:00\", \"actual\": 1215.602539, \"position\": 1251.736206, \"action\": \"HOLD\"}, {\"date\": \"2022-11-17T00:00:00\", \"actual\": 1200.808594, \"position\": 1215.602539, \"action\": \"HOLD\"}, {\"date\": \"2022-11-18T00:00:00\", \"actual\": 1212.300293, \"position\": 1200.808594, \"action\": \"BUY\"}, {\"date\": \"2022-11-19T00:00:00\", \"actual\": 1218.426758, \"position\": 1212.300293, \"action\": \"BUY\"}, {\"date\": \"2022-11-20T00:00:00\", \"actual\": 1142.466675, \"position\": 1218.426758, \"action\": \"HOLD\"}, {\"date\": \"2022-11-21T00:00:00\", \"actual\": 1108.353027, \"position\": 1142.466675, \"action\": \"HOLD\"}, {\"date\": \"2022-11-22T00:00:00\", \"actual\": 1135.173462, \"position\": 1108.353027, \"action\": \"HOLD\"}, {\"date\": \"2022-11-23T00:00:00\", \"actual\": 1183.199585, \"position\": 1135.173462, \"action\": \"BUY\"}, {\"date\": \"2022-11-24T00:00:00\", \"actual\": 1203.983154, \"position\": 1183.199585, \"action\": \"HOLD\"}, {\"date\": \"2022-11-25T00:00:00\", \"actual\": 1198.925903, \"position\": 1203.983154, \"action\": \"HOLD\"}, {\"date\": \"2022-11-26T00:00:00\", \"actual\": 1205.897949, \"position\": 1198.925903, \"action\": \"HOLD\"}, {\"date\": \"2022-11-27T00:00:00\", \"actual\": 1195.126953, \"position\": 1205.897949, \"action\": \"BUY\"}, {\"date\": \"2022-11-28T00:00:00\", \"actual\": 1170.086182, \"position\": 1195.126953, \"action\": \"HOLD\"}, {\"date\": \"2022-11-29T00:00:00\", \"actual\": 1216.901245, \"position\": 1170.086182, \"action\": \"HOLD\"}, {\"date\": \"2022-11-30T00:00:00\", \"actual\": 1295.688599, \"position\": 1216.901245, \"action\": \"HOLD\"}, {\"date\": \"2022-12-01T00:00:00\", \"actual\": 1276.273926, \"position\": 1295.688599, \"action\": \"SELL\"}, {\"date\": \"2022-12-02T00:00:00\", \"actual\": 1294.303345, \"position\": 1276.273926, \"action\": \"HOLD\"}, {\"date\": \"2022-12-03T00:00:00\", \"actual\": 1243.334839, \"position\": 1294.303345, \"action\": \"BUY\"}, {\"date\": \"2022-12-04T00:00:00\", \"actual\": 1280.256592, \"position\": 1243.334839, \"action\": \"HOLD\"}, {\"date\": \"2022-12-05T00:00:00\", \"actual\": 1259.676758, \"position\": 1280.256592, \"action\": \"HOLD\"}, {\"date\": \"2022-12-06T00:00:00\", \"actual\": 1271.653809, \"position\": 1259.676758, \"action\": \"HOLD\"}, {\"date\": \"2022-12-07T00:00:00\", \"actual\": 1232.4375, \"position\": 1271.653809, \"action\": \"BUY\"}, {\"date\": \"2022-12-08T00:00:00\", \"actual\": 1281.116333, \"position\": 1232.4375, \"action\": \"HOLD\"}, {\"date\": \"2022-12-09T00:00:00\", \"actual\": 1264.28479, \"position\": 1281.116333, \"action\": \"BUY\"}, {\"date\": \"2022-12-10T00:00:00\", \"actual\": 1266.384155, \"position\": 1264.28479, \"action\": \"HOLD\"}, {\"date\": \"2022-12-11T00:00:00\", \"actual\": 1263.86853, \"position\": 1266.384155, \"action\": \"BUY\"}, {\"date\": \"2022-12-12T00:00:00\", \"actual\": 1274.619019, \"position\": 1263.86853, \"action\": \"HOLD\"}, {\"date\": \"2022-12-13T00:00:00\", \"actual\": 1320.549194, \"position\": 1274.619019, \"action\": \"BUY\"}, {\"date\": \"2022-12-14T00:00:00\", \"actual\": 1309.328735, \"position\": 1320.549194, \"action\": \"HOLD\"}, {\"date\": \"2022-12-15T00:00:00\", \"actual\": 1266.353882, \"position\": 1309.328735, \"action\": \"HOLD\"}, {\"date\": \"2022-12-16T00:00:00\", \"actual\": 1168.259399, \"position\": 1266.353882, \"action\": \"HOLD\"}, {\"date\": \"2022-12-17T00:00:00\", \"actual\": 1188.149536, \"position\": 1168.259399, \"action\": \"BUY\"}, {\"date\": \"2022-12-18T00:00:00\", \"actual\": 1184.71521, \"position\": 1188.149536, \"action\": \"HOLD\"}, {\"date\": \"2022-12-19T00:00:00\", \"actual\": 1167.609863, \"position\": 1184.71521, \"action\": \"HOLD\"}, {\"date\": \"2022-12-20T00:00:00\", \"actual\": 1217.703613, \"position\": 1167.609863, \"action\": \"HOLD\"}, {\"date\": \"2022-12-21T00:00:00\", \"actual\": 1213.599976, \"position\": 1217.703613, \"action\": \"HOLD\"}, {\"date\": \"2022-12-22T00:00:00\", \"actual\": 1218.182129, \"position\": 1213.599976, \"action\": \"HOLD\"}, {\"date\": \"2022-12-23T00:00:00\", \"actual\": 1220.159424, \"position\": 1218.182129, \"action\": \"HOLD\"}, {\"date\": \"2022-12-24T00:00:00\", \"actual\": 1221.14856, \"position\": 1220.159424, \"action\": \"HOLD\"}, {\"date\": \"2022-12-25T00:00:00\", \"actual\": 1218.962036, \"position\": 1221.14856, \"action\": \"BUY\"}, {\"date\": \"2022-12-26T00:00:00\", \"actual\": 1226.974365, \"position\": 1218.962036, \"action\": \"HOLD\"}, {\"date\": \"2022-12-27T00:00:00\", \"actual\": 1212.791626, \"position\": 1226.974365, \"action\": \"BUY\"}, {\"date\": \"2022-12-28T00:00:00\", \"actual\": 1189.986084, \"position\": 1212.791626, \"action\": \"HOLD\"}, {\"date\": \"2022-12-29T00:00:00\", \"actual\": 1201.595337, \"position\": 1189.986084, \"action\": \"HOLD\"}, {\"date\": \"2022-12-30T00:00:00\", \"actual\": 1199.232788, \"position\": 1201.595337, \"action\": \"HOLD\"}, {\"date\": \"2022-12-31T00:00:00\", \"actual\": 1196.77124, \"position\": 1199.232788, \"action\": \"HOLD\"}, {\"date\": \"2023-01-01T00:00:00\", \"actual\": 1200.964844, \"position\": 1196.77124, \"action\": \"HOLD\"}, {\"date\": \"2023-01-02T00:00:00\", \"actual\": 1214.656616, \"position\": 1200.964844, \"action\": \"BUY\"}, {\"date\": \"2023-01-03T00:00:00\", \"actual\": 1214.778809, \"position\": 1214.656616, \"action\": \"BUY\"}, {\"date\": \"2023-01-04T00:00:00\", \"actual\": 1256.526611, \"position\": 1214.778809, \"action\": \"HOLD\"}, {\"date\": \"2023-01-05T00:00:00\", \"actual\": 1250.438599, \"position\": 1256.526611, \"action\": \"HOLD\"}, {\"date\": \"2023-01-06T00:00:00\", \"actual\": 1269.379028, \"position\": 1250.438599, \"action\": \"HOLD\"}, {\"date\": \"2023-01-07T00:00:00\", \"actual\": 1264.270386, \"position\": 1269.379028, \"action\": \"BUY\"}, {\"date\": \"2023-01-08T00:00:00\", \"actual\": 1287.359497, \"position\": 1264.270386, \"action\": \"HOLD\"}, {\"date\": \"2023-01-09T00:00:00\", \"actual\": 1321.53894, \"position\": 1287.359497, \"action\": \"SELL\"}, {\"date\": \"2023-01-10T00:00:00\", \"actual\": 1332.18689, \"position\": 1321.53894, \"action\": \"HOLD\"}]}}, {\"mode\": \"vega-lite\"});\n",
       "</script>"
      ],
      "text/plain": [
       "alt.LayerChart(...)"
      ]
     },
     "execution_count": 67,
     "metadata": {},
     "output_type": "execute_result"
    }
   ],
   "source": [
    "chart = visualize(df, history, title='ETHERIUM Currency +$1267.51 (T-DQN 20 ep & 100 iter to update T-Net)')\n",
    "chart"
   ]
  },
  {
   "cell_type": "code",
   "execution_count": null,
   "metadata": {},
   "outputs": [],
   "source": []
  }
 ],
 "metadata": {
  "kernelspec": {
   "display_name": "Python 3 (ipykernel)",
   "language": "python",
   "name": "python3"
  },
  "language_info": {
   "codemirror_mode": {
    "name": "ipython",
    "version": 3
   },
   "file_extension": ".py",
   "mimetype": "text/x-python",
   "name": "python",
   "nbconvert_exporter": "python",
   "pygments_lexer": "ipython3",
   "version": "3.9.7"
  },
  "vscode": {
   "interpreter": {
    "hash": "43b20931e0d61e1224db4161e737d8b7b6f4c38d78aea0329b1bc87e59d1d3af"
   }
  }
 },
 "nbformat": 4,
 "nbformat_minor": 4
}
